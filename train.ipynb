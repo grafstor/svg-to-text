{
 "cells": [
  {
   "cell_type": "markdown",
   "id": "intermediate-depression",
   "metadata": {},
   "source": [
    "<div><img src=\"blob/structure.jpg\" width=400px float=\"left\"/></div>\n",
    "\n",
    "# SVG to Text with CNN and Transformer"
   ]
  },
  {
   "cell_type": "code",
   "execution_count": 1,
   "id": "postal-complement",
   "metadata": {},
   "outputs": [],
   "source": [
    "import io\n",
    "import os\n",
    "import math\n",
    "import numpy as np\n",
    "import random\n",
    "\n",
    "import matplotlib.pyplot as plt\n",
    "from IPython.display import clear_output\n",
    "# from cairosvg import svg2png\n",
    "from IPython.display import SVG, display\n",
    "import svgwrite\n",
    "from PIL import Image\n",
    "\n",
    "import torch\n",
    "import torch.nn as nn\n",
    "import torch.optim as optim\n",
    "import torch.nn.functional as F\n",
    "from torch.utils.data import Dataset, DataLoader\n",
    "\n",
    "from nltk.tokenize import WordPunctTokenizer\n",
    "from subword_nmt.learn_bpe import learn_bpe\n",
    "from subword_nmt.apply_bpe import BPE\n",
    "from nltk.translate.bleu_score import corpus_bleu\n",
    "\n",
    "from sklearn.model_selection import train_test_split\n",
    "\n",
    "from model import *\n",
    "import svg_converter as converter"
   ]
  },
  {
   "cell_type": "code",
   "execution_count": 2,
   "id": "committed-latter",
   "metadata": {},
   "outputs": [
    {
     "data": {
      "text/plain": [
       "'cpu'"
      ]
     },
     "execution_count": 2,
     "metadata": {},
     "output_type": "execute_result"
    }
   ],
   "source": [
    "device = torch.device(\"cuda\" if torch.cuda.is_available() else \"cpu\")\n",
    "device.type"
   ]
  },
  {
   "cell_type": "markdown",
   "id": "ceramic-pizza",
   "metadata": {},
   "source": [
    "### Preprocessing"
   ]
  },
  {
   "cell_type": "code",
   "execution_count": 3,
   "id": "received-apartment",
   "metadata": {},
   "outputs": [],
   "source": [
    "def tokenize(x):\n",
    "    return ' '.join(tokenizer.tokenize(x.lower()))\n",
    "\n",
    "def names_to_file(fn_tok_path, folder_path):\n",
    "    with open(fn_tok_path, 'w') as f:\n",
    "        filenames = []\n",
    "\n",
    "        for root, _, files in os.walk(folder_path):\n",
    "            for file in files:\n",
    "                filename, extension = os.path.splitext(file)\n",
    "                if extension == '.svg':\n",
    "                    filenames.append(filename)\n",
    "\n",
    "        for line in filenames:\n",
    "            filename = line.strip()\n",
    "            f.write(tokenize(filename) + \"\\n\")\n",
    "\n",
    "def get_svg_paths(folders):\n",
    "    svg_paths = []\n",
    "\n",
    "    for i, folder in enumerate(folders):\n",
    "        files = [file for file in os.listdir(folder)]\n",
    "\n",
    "        for file in files:\n",
    "            svg_name = file[:-4] # del \".svg\"\n",
    "            svg_name = svg_name.strip().split('_')\n",
    "\n",
    "            if len(svg_name) > 1:\n",
    "                svg_name = svg_name[1]\n",
    "            else:\n",
    "                svg_name = svg_name[0]\n",
    "                \n",
    "            svg_name = svg_name.replace('-', ' ')\n",
    "            svg_name = tokenize(svg_name)\n",
    "            svg_name = filenames_bpe.process_line(svg_name)\n",
    "\n",
    "            svg_path = os.path.join(folder, file)\n",
    "\n",
    "            svg_paths.append([svg_name, svg_path])\n",
    "\n",
    "    return svg_paths"
   ]
  },
  {
   "cell_type": "code",
   "execution_count": 4,
   "id": "classified-label",
   "metadata": {},
   "outputs": [],
   "source": [
    "dataset_path = 'dataset2k'\n",
    "tokenizer = WordPunctTokenizer()"
   ]
  },
  {
   "cell_type": "code",
   "execution_count": 5,
   "id": "whole-shape",
   "metadata": {},
   "outputs": [
    {
     "name": "stderr",
     "output_type": "stream",
     "text": [
      "100%|██████████| 2000/2000 [00:01<00:00, 1303.77it/s]\n"
     ]
    }
   ],
   "source": [
    "fn_tok_path = 'dataset2k/filenames_tokenized.txt'\n",
    "names_to_file(fn_tok_path, dataset_path)\n",
    "learn_bpe(open(fn_tok_path), open('tmp_bpe_rules.fnt', 'w'),  num_symbols=2000)"
   ]
  },
  {
   "cell_type": "code",
   "execution_count": 6,
   "id": "documented-background",
   "metadata": {},
   "outputs": [],
   "source": [
    "filenames_bpe = BPE(open('tmp_bpe_rules.fnt'))"
   ]
  },
  {
   "cell_type": "code",
   "execution_count": 7,
   "id": "packed-diary",
   "metadata": {},
   "outputs": [
    {
     "name": "stdout",
     "output_type": "stream",
     "text": [
      "2000\n"
     ]
    }
   ],
   "source": [
    "folders = os.listdir(dataset_path)\n",
    "folders = [os.path.join(dataset_path, foldername)\n",
    "           for foldername in folders\n",
    "           if os.path.isdir(os.path.join(dataset_path, foldername))]\n",
    "\n",
    "print(len(folders))\n",
    "\n",
    "all_svg_paths = np.array(get_svg_paths(folders[:2500]))"
   ]
  },
  {
   "cell_type": "code",
   "execution_count": 8,
   "id": "sorted-crisis",
   "metadata": {},
   "outputs": [
    {
     "data": {
      "text/plain": [
       "(134395,\n",
       " array([['offi@@ ces scheme', 'dataset2k/scheme/offices scheme.svg'],\n",
       "        ['blo@@ cks scheme of three shapes',\n",
       "         'dataset2k/scheme/blocks scheme of three shapes.svg'],\n",
       "        ['pyra@@ mi@@ d scheme', 'dataset2k/scheme/pyramid scheme.svg'],\n",
       "        ['block scheme of ba@@ sic geometri@@ cal shapes',\n",
       "         'dataset2k/scheme/block scheme of basic geometrical shapes.svg'],\n",
       "        ['block scheme of four ba@@ sic geometri@@ c black shapes',\n",
       "         'dataset2k/scheme/block scheme of four basic geometric black shapes.svg']],\n",
       "       dtype='<U171'))"
      ]
     },
     "execution_count": 8,
     "metadata": {},
     "output_type": "execute_result"
    }
   ],
   "source": [
    "len(all_svg_paths), all_svg_paths[:5]"
   ]
  },
  {
   "cell_type": "code",
   "execution_count": 9,
   "id": "biological-webcam",
   "metadata": {},
   "outputs": [],
   "source": [
    "train_paths, test_paths = train_test_split(\n",
    "    all_svg_paths,\n",
    "    test_size=0.2,\n",
    "    random_state=42,\n",
    ")"
   ]
  },
  {
   "cell_type": "code",
   "execution_count": 10,
   "id": "distant-technology",
   "metadata": {},
   "outputs": [
    {
     "data": {
      "text/plain": [
       "(107516,\n",
       " 26879,\n",
       " array(['basketball ball with line',\n",
       "        'dataset2k/line/basketball ball with line.svg'], dtype='<U171'))"
      ]
     },
     "execution_count": 10,
     "metadata": {},
     "output_type": "execute_result"
    }
   ],
   "source": [
    "len(train_paths), len(test_paths), train_paths[0]"
   ]
  },
  {
   "cell_type": "code",
   "execution_count": 11,
   "id": "danish-fitness",
   "metadata": {},
   "outputs": [
    {
     "data": {
      "text/plain": [
       "2024"
      ]
     },
     "execution_count": 11,
     "metadata": {},
     "output_type": "execute_result"
    }
   ],
   "source": [
    "voc = Vocab.from_lines(all_svg_paths[:,0])\n",
    "len(voc)"
   ]
  },
  {
   "cell_type": "markdown",
   "id": "competitive-steel",
   "metadata": {},
   "source": [
    "### Train"
   ]
  },
  {
   "cell_type": "code",
   "execution_count": 12,
   "id": "outdoor-interest",
   "metadata": {},
   "outputs": [],
   "source": [
    "batch_size = 16\n",
    "seq_len = 512\n",
    "\n",
    "c = converter.Converter(seq_len)\n",
    "\n",
    "train_dataset = SvgDataset(train_paths, seq_len=seq_len, device=device, transforms=True)\n",
    "test_dataset = SvgDataset(test_paths, seq_len=seq_len, device=device)\n",
    "\n",
    "train_dl = DataLoader(train_dataset, batch_size=batch_size, shuffle = True)\n",
    "test_dl = DataLoader(test_dataset, batch_size=batch_size, shuffle = True)"
   ]
  },
  {
   "cell_type": "code",
   "execution_count": 13,
   "id": "annoying-humanity",
   "metadata": {
    "scrolled": true
   },
   "outputs": [
    {
     "data": {
      "image/svg+xml": [
       "<svg xmlns=\"http://www.w3.org/2000/svg\" xmlns:ev=\"http://www.w3.org/2001/xml-events\" xmlns:xlink=\"http://www.w3.org/1999/xlink\" baseProfile=\"tiny\" fill-rule=\"evenodd\" height=\"150.62384033203125px\" version=\"1.2\" width=\"77.81440734863281px\"><defs/><path d=\"M 40.9448,53.1456 C 45.9298,53.1456 50.0838,57.2996 50.1588,62.0307 C 55.1438,62.0307 59.2979,66.1847 58.3909,73.2464 C 58.3909,81.5544 52.9894,88.2024 45.8879,89.9424 L 44.9829,86.4543 L 45.5173,86.2026 L 46.4865,84.7441 L 45.9368,84.3689 C 48.2221,83.3292 49.885,81.0449 48.8414,77.7947 C 51.1266,76.755 52.7895,74.4707 54.8033,71.6352 C 54.8033,69.8693 53.3472,68.4151 52.2161,68.9156 C 52.2161,67.1497 50.76,65.6955 46.7117,65.3525 C 46.7117,63.5867 45.2556,62.1324 43.0494,62.455 C 43.0494,60.6892 41.5933,59.2349 40.1839,60.4395 C 33.1204,60.4395 27.3034,66.2583 28.1882,72.3403 C 28.1882,78.1591 31.9314,82.7314 37.1592,84.1638 L 37.549,89.2416 C 28.818,87.1641 22.5855,80.0988 21.6442,72.3144 m 0,0 L 6.45721,14.0697 L 66.4671,12.9064 L 66.2957,51.0232 L 66.9213,87.6137 L 69.2411,88.067 L 72.7472,87.081 L 71.9059,9.39332 C 71.9059,4.82285 68.1627,1.08338 64.342,1.11132 L 8.24418,0 C 5.95802,0 4.08921,1.86974 4.11475,5.16939 C 1.82859,5.16939 -0.0402153,7.03912 0.49687,8.9042 L 0,45.7776 L 1.66597,80.0138 L 0.454549,115.938 C 0.454549,120.51 4.19588,124.246 9.50017,124.7 L 14.7855,124.895 L 23.141,124.127 L 14.5913,108.129 L 9.82579,109.329 L 5.6811,110.136 L 5.47234,109.528 m 0,0 m 22.1006,-103.017 L 44.4787,6.47663 C 44.8961,6.47663 45.3078,6.89213 44.9404,7.74208 C 44.9404,8.15757 44.5249,8.57307 45.8987,8.70675 L 27.5101,7.52279 C 27.3014,7.52279 27.0946,7.31504 27.2515,6.80423 C 27.0428,6.80423 26.836,6.59648 26.4744,7.16541 C 26.0589,6.75176 26.4744,6.33441 27.1746,6.25951 m 0,0 m 49.3243,91.7505 L 76.9581,96.1954 C 76.9581,94.9479 75.9184,94.1179 73.6653,95.8094 C 73.6653,94.5619 72.6256,93.7319 72.2929,92.1173 L 72.1409,92.4634 C 69.6479,92.4634 67.986,94.5427 67.5477,98.3847 L 67.5451,98.8532 L 67.885,99.0887 L 67.6502,100.96 L 67.9282,103.233 L 66.1044,101.46 L 64.6995,99.6161 L 66.3492,98.0448 L 65.8839,96.9576 C 65.8839,96.1259 65.1908,95.5726 64.6015,95.2219 C 64.6015,94.3903 63.9084,93.837 62.0622,94.81 C 62.0622,93.9784 61.3691,93.425 61.7896,92.8609 L 60.6822,94.2196 C 58.1893,94.2196 56.531,96.2989 56.8056,96.3386 L 56.8387,102.176 L 54.0272,102.437 L 54.7053,99.3501 L 55.349,97.6078 C 55.349,96.3604 54.3093,95.5303 53.089,95.7948 C 53.089,94.5474 52.0494,93.7173 51.0792,92.4667 L 50.5632,93.419 C 49.3167,93.419 48.4858,94.4587 49.0644,95.1977 C 47.8179,95.1977 46.9869,96.2374 46.6863,99.0553 L 46.4039,100.054 L 46.8299,101.871 L 45.4186,102.592 L 45.5756,103.579 L 45.8521,102.965 L 44.9209,90.938 C 47.8288,90.2461 49.9069,87.6146 51.1301,85.08 C 54.038,84.3881 56.1161,81.7566 56.5791,79.12 C 59.4869,78.4282 61.565,75.7967 60.4402,72.0388 C 60.4402,60.8185 51.2937,51.6776 40.5395,51.8535 C 34.9312,51.8535 30.3608,56.4239 29.2926,61.6362 C 23.6843,61.6362 19.1138,66.2067 19.9204,72.3389 C 19.9204,77.3239 23.4521,81.273 28.0535,81.5104 C 28.0535,86.4954 31.5853,90.4445 35.6169,92.1541 L 35.9227,103.102 L 35.9802,107.033 L 35.1136,117.939 C 30.5431,112.953 28.0501,107.965 26.0206,106.671 C 24.1509,106.257 22.4889,107.708 23.1181,109.972 C 21.2483,109.558 19.5864,111.01 21.7233,114.232 C 24.2163,119.218 36.6775,140.824 37.5729,141.292 C 38.4039,143.369 41.1065,146.279 46.5578,146.676 C 47.3888,148.753 50.0913,151.662 56.1652,150.624 C 62.8131,150.624 62.8131,144.668 62.9642,143.476 C 69.6121,143.476 69.6121,137.52 69.1482,138.84 C 75.7962,138.84 75.7962,132.883 75.8076,131.994 L 75.2617,118.624 L 76.7768,107.627 L 76.2224,107.424 L 77.8144,107.446 L 76.2025,106.579 L 76.2127,103.439 L 76.423,99.5613 L 76.2274,99.0621 L 75.9913,98.9416 L 77.4018,98.624 m 0,0 m -36.8982,-28.1846 L 41.2019,71.6789 C 38.7108,71.6789 37.0469,73.7527 37.567,75.6002 L 35.8207,79.3841 C 34.3674,78.7609 33.3277,77.3076 34.173,76.0235 C 32.7197,75.4002 31.68,73.9469 31.1082,71.6912 C 31.1082,66.7053 34.8477,62.9677 40.4067,63.734 C 45.3927,63.734 49.1303,67.4753 47.7545,72.2172 C 47.7545,75.1238 46.0925,77.6186 45.9694,79.1964 L 45.3688,74.7647 C 45.3762,73.1008 43.2968,71.0252 41.824,70.9095 m 0,0 m -19.9268,2.09473 C 22.1114,68.7049 24.8808,65.9356 28.8578,65.4747 C 28.8578,62.1502 31.6272,59.3808 35.0109,58.4016 C 35.0109,55.077 37.7803,52.3076 40.9448,53.1456 Z\" fill=\"#000\"/></svg>"
      ],
      "text/plain": [
       "<IPython.core.display.SVG object>"
      ]
     },
     "metadata": {},
     "output_type": "display_data"
    },
    {
     "name": "stdout",
     "output_type": "stream",
     "text": [
      "tou@@ ch@@ screen technology\n"
     ]
    }
   ],
   "source": [
    "for vec, tgt in train_dl:\n",
    "    show(c, vec[0])\n",
    "    print(tgt[0])\n",
    "    break"
   ]
  },
  {
   "cell_type": "code",
   "execution_count": 14,
   "id": "front-pound",
   "metadata": {},
   "outputs": [
    {
     "data": {
      "image/svg+xml": [
       "<svg xmlns=\"http://www.w3.org/2000/svg\" xmlns:ev=\"http://www.w3.org/2001/xml-events\" xmlns:xlink=\"http://www.w3.org/1999/xlink\" baseProfile=\"tiny\" fill-rule=\"evenodd\" height=\"149.99998474121094px\" version=\"1.2\" width=\"130.03668212890625px\"><defs/><path d=\"M 130.037,27.9545 m 0,0 C 126.98,14.7752 118.073,5.11789 104.252,0 C 95.0456,-3.4004 72.6229,-6.51158 62.7518,5.09169 C 30.9274,-13.7661 14.1465,-3.49366 2.86178,8.62727 C -22.0455,35.382 -10.6497,62.3347 0,74.0365 C 7.69883,82.5107 9.9256,87.4107 11.1726,93.0074 C 11.4534,94.2387 12.0884,97.8759 12.1199,98.6545 C 14.0878,145.26 29.979,149.254 33.7787,149.535 C 34.8863,149.854 35.9772,150 37.0324,150 C 38.9689,150 40.8037,149.483 42.4688,148.463 C 50.3615,143.626 52.7937,128.568 54.9314,115.308 C 55.7089,110.509 56.434,105.979 57.2818,103.344 C 58.752,98.7813 59.9675,97.7407 59.956,97.5825 C 61.0154,98.0541 62.8021,101.468 62.9991,102.814 C 63.2925,104.823 63.5031,107.426 63.7389,110.344 C 64.9576,125.313 66.7757,147.887 82.6962,149.522 C 83.8258,149.764 86.5126,150.014 89.8114,148.023 C 97.3153,143.466 102.872,130.417 106.311,109.233 L 106.828,105.845 C 108.067,97.353 109.782,85.7141 116.796,78.338 C 124.9,69.8763 134.681,47.9933 130.037,27.9545 m 0,0 m -17.943,45.8902 C 103.646,82.7276 101.68,96.0756 100.392,104.919 L 99.8942,108.199 C 95.9311,132.567 90.0356,139.923 86.8836,142.145 C 85.2174,143.319 84.1779,143.153 84.2922,143.198 L 83.5523,143.05 C 72.8838,142.119 71.3141,122.702 70.2808,109.832 C 70.0252,106.744 69.8019,103.995 69.496,101.869 C 69.1826,99.7244 66.1459,91.5446 60.5627,91.0793 C 54.5594,90.6769 51.9522,98.6786 51.0971,101.345 C 50.0954,104.466 49.3587,109.002 48.5099,114.273 C 46.8762,124.368 44.4137,139.63 39.0726,142.91 C 38.3538,143.357 37.2765,143.815 35.3369,143.191 L 34.3508,143.038 L 34.2649,143.038 C 34.1025,143.038 20.4862,141.392 18.6671,98.3852 C 18.6032,96.8857 17.8131,92.6553 17.5762,91.5833 C 15.8598,83.9149 12.4175,77.9671 4.86221,69.6594 C 2.33261,66.8899 -19.0045,41.7531 7.67369,13.1028 C 19.9308,-0.0628822 38.0164,-8.97727 79.0863,24.7511 C 80.4841,25.8902 82.5317,25.6984 83.6875,24.3005 C 84.836,22.9037 84.6317,20.8582 83.2401,19.7003 C 77.9765,15.3903 73.0378,11.7248 68.4051,8.65765 C 75.973,1.05836 93.8332,3.12584 102.006,6.15634 C 113.843,10.5334 121.136,18.3653 123.694,29.4499 C 127.593,46.3523 119.47,66.105 112.094,73.8447 Z\" fill=\"#000\"/></svg>"
      ],
      "text/plain": [
       "<IPython.core.display.SVG object>"
      ]
     },
     "metadata": {},
     "output_type": "display_data"
    },
    {
     "name": "stdout",
     "output_type": "stream",
     "text": [
      "tooth outline\n"
     ]
    }
   ],
   "source": [
    "for vec, tgt in test_dl:\n",
    "    show(c, vec[0])\n",
    "    print(tgt[0])\n",
    "    break"
   ]
  },
  {
   "cell_type": "code",
   "execution_count": 14,
   "id": "successful-subsection",
   "metadata": {},
   "outputs": [],
   "source": [
    "model = STTModel(\n",
    "    vocab_size=2050,\n",
    "    voc=voc,\n",
    "    dim=32,\n",
    "    seq_len=seq_len,\n",
    "    n_heads=4,\n",
    "    n_encoder_layers=1,\n",
    "    n_decoder_layers=3,\n",
    "    dropout_p=0.05,\n",
    ").to(device)\n",
    "\n",
    "opt = torch.optim.Adam(model.parameters(), lr=1e-3)\n",
    "loss_fn = nn.CrossEntropyLoss().to(device)"
   ]
  },
  {
   "cell_type": "code",
   "execution_count": 17,
   "id": "crucial-providence",
   "metadata": {},
   "outputs": [
    {
     "data": {
      "text/plain": [
       "-1"
      ]
     },
     "execution_count": 17,
     "metadata": {},
     "output_type": "execute_result"
    }
   ],
   "source": [
    "step = -1\n",
    "metrics = {'train_loss': [], 'test_loss': []}\n",
    "save_path = \"checkpoints\"\n",
    "\n",
    "# step, metrics = load_checkpoint(model, opt, save_path, 'epoch', 186_500, device)\n",
    "step"
   ]
  },
  {
   "cell_type": "code",
   "execution_count": 18,
   "id": "numerous-biotechnology",
   "metadata": {
    "scrolled": true
   },
   "outputs": [
    {
     "name": "stdout",
     "output_type": "stream",
     "text": [
      "Epoch: 0, step: 100, loss: 3.1872594356536865, test_loss: 3.9656918048858643\n"
     ]
    },
    {
     "data": {
      "image/png": "[encoded data removed]",
      "text/plain": [
       "<Figure size 864x288 with 2 Axes>"
      ]
     },
     "metadata": {
      "needs_background": "light"
     },
     "output_type": "display_data"
    },
    {
     "ename": "KeyboardInterrupt",
     "evalue": "",
     "output_type": "error",
     "traceback": [
      "\u001b[0;31m---------------------------------------------------------------------------\u001b[0m",
      "\u001b[0;31mKeyboardInterrupt\u001b[0m                         Traceback (most recent call last)",
      "\u001b[0;32m<ipython-input-18-c14fb7000891>\u001b[0m in \u001b[0;36m<module>\u001b[0;34m\u001b[0m\n\u001b[0;32m----> 1\u001b[0;31m train(model,\n\u001b[0m\u001b[1;32m      2\u001b[0m       \u001b[0mopt\u001b[0m\u001b[0;34m,\u001b[0m\u001b[0;34m\u001b[0m\u001b[0;34m\u001b[0m\u001b[0m\n\u001b[1;32m      3\u001b[0m       \u001b[0mloss_fn\u001b[0m\u001b[0;34m,\u001b[0m\u001b[0;34m\u001b[0m\u001b[0;34m\u001b[0m\u001b[0m\n\u001b[1;32m      4\u001b[0m       \u001b[0mtrain_dl\u001b[0m\u001b[0;34m=\u001b[0m\u001b[0mtrain_dl\u001b[0m\u001b[0;34m,\u001b[0m\u001b[0;34m\u001b[0m\u001b[0;34m\u001b[0m\u001b[0m\n\u001b[1;32m      5\u001b[0m       \u001b[0mtest_dl\u001b[0m\u001b[0;34m=\u001b[0m\u001b[0mtest_dl\u001b[0m\u001b[0;34m,\u001b[0m\u001b[0;34m\u001b[0m\u001b[0;34m\u001b[0m\u001b[0m\n",
      "\u001b[0;32m~/goat/svg-to-text/model/train.py\u001b[0m in \u001b[0;36mtrain\u001b[0;34m(model, opt, loss_fn, train_dl, test_dl, device, metrics, save_path, step, converter, epochs)\u001b[0m\n\u001b[1;32m    101\u001b[0m \u001b[0;34m\u001b[0m\u001b[0m\n\u001b[1;32m    102\u001b[0m             \u001b[0mopt\u001b[0m\u001b[0;34m.\u001b[0m\u001b[0mzero_grad\u001b[0m\u001b[0;34m(\u001b[0m\u001b[0;34m)\u001b[0m\u001b[0;34m\u001b[0m\u001b[0;34m\u001b[0m\u001b[0m\n\u001b[0;32m--> 103\u001b[0;31m             \u001b[0mloss\u001b[0m\u001b[0;34m.\u001b[0m\u001b[0mbackward\u001b[0m\u001b[0;34m(\u001b[0m\u001b[0;34m)\u001b[0m\u001b[0;34m\u001b[0m\u001b[0;34m\u001b[0m\u001b[0m\n\u001b[0m\u001b[1;32m    104\u001b[0m             \u001b[0mopt\u001b[0m\u001b[0;34m.\u001b[0m\u001b[0mstep\u001b[0m\u001b[0;34m(\u001b[0m\u001b[0;34m)\u001b[0m\u001b[0;34m\u001b[0m\u001b[0;34m\u001b[0m\u001b[0m\n\u001b[1;32m    105\u001b[0m \u001b[0;34m\u001b[0m\u001b[0m\n",
      "\u001b[0;32m~/.local/lib/python3.9/site-packages/torch/_tensor.py\u001b[0m in \u001b[0;36mbackward\u001b[0;34m(self, gradient, retain_graph, create_graph, inputs)\u001b[0m\n\u001b[1;32m    394\u001b[0m                 \u001b[0mcreate_graph\u001b[0m\u001b[0;34m=\u001b[0m\u001b[0mcreate_graph\u001b[0m\u001b[0;34m,\u001b[0m\u001b[0;34m\u001b[0m\u001b[0;34m\u001b[0m\u001b[0m\n\u001b[1;32m    395\u001b[0m                 inputs=inputs)\n\u001b[0;32m--> 396\u001b[0;31m         \u001b[0mtorch\u001b[0m\u001b[0;34m.\u001b[0m\u001b[0mautograd\u001b[0m\u001b[0;34m.\u001b[0m\u001b[0mbackward\u001b[0m\u001b[0;34m(\u001b[0m\u001b[0mself\u001b[0m\u001b[0;34m,\u001b[0m \u001b[0mgradient\u001b[0m\u001b[0;34m,\u001b[0m \u001b[0mretain_graph\u001b[0m\u001b[0;34m,\u001b[0m \u001b[0mcreate_graph\u001b[0m\u001b[0;34m,\u001b[0m \u001b[0minputs\u001b[0m\u001b[0;34m=\u001b[0m\u001b[0minputs\u001b[0m\u001b[0;34m)\u001b[0m\u001b[0;34m\u001b[0m\u001b[0;34m\u001b[0m\u001b[0m\n\u001b[0m\u001b[1;32m    397\u001b[0m \u001b[0;34m\u001b[0m\u001b[0m\n\u001b[1;32m    398\u001b[0m     \u001b[0;32mdef\u001b[0m \u001b[0mregister_hook\u001b[0m\u001b[0;34m(\u001b[0m\u001b[0mself\u001b[0m\u001b[0;34m,\u001b[0m \u001b[0mhook\u001b[0m\u001b[0;34m)\u001b[0m\u001b[0;34m:\u001b[0m\u001b[0;34m\u001b[0m\u001b[0;34m\u001b[0m\u001b[0m\n",
      "\u001b[0;32m~/.local/lib/python3.9/site-packages/torch/autograd/__init__.py\u001b[0m in \u001b[0;36mbackward\u001b[0;34m(tensors, grad_tensors, retain_graph, create_graph, grad_variables, inputs)\u001b[0m\n\u001b[1;32m    171\u001b[0m     \u001b[0;31m# some Python versions print out the first line of a multi-line function\u001b[0m\u001b[0;34m\u001b[0m\u001b[0;34m\u001b[0m\u001b[0m\n\u001b[1;32m    172\u001b[0m     \u001b[0;31m# calls in the traceback and some print out the last line\u001b[0m\u001b[0;34m\u001b[0m\u001b[0;34m\u001b[0m\u001b[0m\n\u001b[0;32m--> 173\u001b[0;31m     Variable._execution_engine.run_backward(  # Calls into the C++ engine to run the backward pass\n\u001b[0m\u001b[1;32m    174\u001b[0m         \u001b[0mtensors\u001b[0m\u001b[0;34m,\u001b[0m \u001b[0mgrad_tensors_\u001b[0m\u001b[0;34m,\u001b[0m \u001b[0mretain_graph\u001b[0m\u001b[0;34m,\u001b[0m \u001b[0mcreate_graph\u001b[0m\u001b[0;34m,\u001b[0m \u001b[0minputs\u001b[0m\u001b[0;34m,\u001b[0m\u001b[0;34m\u001b[0m\u001b[0;34m\u001b[0m\u001b[0m\n\u001b[1;32m    175\u001b[0m         allow_unreachable=True, accumulate_grad=True)  # Calls into the C++ engine to run the backward pass\n",
      "\u001b[0;31mKeyboardInterrupt\u001b[0m: "
     ]
    }
   ],
   "source": [
    "train(model,\n",
    "      opt,\n",
    "      loss_fn,\n",
    "      train_dl=train_dl,\n",
    "      test_dl=test_dl,\n",
    "      device=device,\n",
    "      metrics=metrics,\n",
    "      save_path=save_path,\n",
    "      step=step,\n",
    "      converter=c,\n",
    "      epochs=128,\n",
    "     )"
   ]
  },
  {
   "cell_type": "code",
   "execution_count": 19,
   "id": "stopped-faculty",
   "metadata": {},
   "outputs": [
    {
     "data": {
      "image/svg+xml": [
       "<svg xmlns=\"http://www.w3.org/2000/svg\" xmlns:ev=\"http://www.w3.org/2001/xml-events\" xmlns:xlink=\"http://www.w3.org/1999/xlink\" baseProfile=\"tiny\" fill-rule=\"evenodd\" height=\"150.8653327357024px\" version=\"1.2\" width=\"148.3253792859614px\"><defs/><path d=\"M 147.574,141.167 L 148.325,101.192 m 0,0 m -19.1322,-49.5753 L 147.576,10.4041 m 0,0 L 97.9817,0 m 0,0 m -0.723911,9.27378 L 114.46,19.3261 L 72.0714,62.8577 L 16.0339,6.36308 m 0,0 m -7.13384,9.57471 L 58.0381,75.8265 L 0,134.439 m 0,0 L 129.311,33.6805 m 0,0 m 7.13356,57.1222 m 1.184,0.0190436 L 128.475,109.963 L 128.548,117.997 L 119.962,109.714 L 110.826,102.214 L 102.381,91.869 m 0,0 L 114.04,131.563 L 96.9522,131.144 m 0,0 m 0.331146,10.624 L 137.426,150.865 m 0,0 Z\" fill=\"#000\"/></svg>"
      ],
      "text/plain": [
       "<IPython.core.display.SVG object>"
      ]
     },
     "metadata": {},
     "output_type": "display_data"
    },
    {
     "name": "stdout",
     "output_type": "stream",
     "text": [
      "target: shuffle outline\n",
      "result: \n"
     ]
    },
    {
     "data": {
      "image/svg+xml": [
       "<svg xmlns=\"http://www.w3.org/2000/svg\" xmlns:ev=\"http://www.w3.org/2001/xml-events\" xmlns:xlink=\"http://www.w3.org/1999/xlink\" baseProfile=\"tiny\" fill-rule=\"evenodd\" height=\"150.9886051149806px\" version=\"1.2\" width=\"112.28723097592592px\"><defs/><path d=\"M 26.1681,33.1909 L 30.6025,30.2516 m 0,0 m -19.5981,-10.2323 L 14.8988,18.1085 L 22.3383,23.2696 C 21.5379,23.7315 22.1266,23.3917 17.0527,26.1745 C 16.2522,26.6364 16.841,26.2966 10.1934,28.7498 L 10.8547,20.8368 m 0,0 m 1.31874,18.8886 L 16.3579,37.5218 L 25.9922,53.924 L 24.4605,52.148 L 23.4264,53.0756 L 21.7412,53.7946 L 14.3923,39.9255 m 0,0 m 81.5697,99.3028 L 95.6218,139.405 L 18.7981,139.49 L 19.5357,130.314 L 56.9881,129.316 L 96.6014,130.462 L 96.0339,139.757 m 0,0 m -1.06998,-6.49981 m -0.282856,-7.4588 m 0.629196,-7.15881 L 94.6894,120.018 L 19.4125,119.052 L 19.0578,92.3907 L 19.8663,63.9582 L 95.4397,63.9765 L 95.171,119.29 m 0,0 m -8.98905,-65.865 m 1.09431,0.771823 m -0.40581,-0.90743 L 75.0374,52.6443 L 64.3284,53.6883 L 70.9308,39.369 L 79.0684,26.5807 L 83.3684,28.4055 L 88.2332,30.0522 L 91.8233,33.7675 L 97.7015,35.5844 L 91.6052,44.1255 L 88.0474,53.3416 m 0,0 m 14.2569,-28.1882 L 103.536,26.3202 L 84.303,14.9772 L 84.8151,16.7919 L 84.5641,15.3253 L 86.3186,15.381 C 87.7171,12.959 90.8258,12.1261 93.4046,13.4737 C 94.8031,11.0516 97.9119,10.2188 99.6324,10.9835 C 101.247,11.9157 101.802,13.9878 100.458,14.6976 C 102.073,15.6298 102.628,17.7019 101.473,21.1887 C 103.087,22.1209 103.643,24.1931 103.256,25.2735 m 0,0 C 94.1554,-4.16536 81.4911,-0.771538 76.0914,9.88348 C 69.325,21.6038 64.8101,29.4234 65.8366,29.2082 C 59.0702,40.9285 54.5552,48.7481 53.8363,48.4559 L 46.7952,34.2545 L 36.9227,21.0752 C 36.5285,20.3885 35.929,19.738 35.4904,17.5694 C 34.0138,16.625 22.9922,9.57551 21.1119,9.08418 C 19.6353,8.13983 8.61365,1.09029 6.24802,1.51536 C 5.05125,0.749886 3.48671,1.6552 4.40826,0 C 3.21149,-0.765475 1.64695,0.139838 2.78031,2.62252 C 1.58354,1.85705 0.0190068,2.76236 0,5.61879 C 0.761252,22.3858 0.49994,16.6293 1.8197,38.9394 C 1.83899,39.3661 1.96788,39.7872 1.07234,39.8315 C 1.09164,40.2582 1.22053,40.6793 1.44831,40.5845 L 9.80366,55.7968 C 9.10133,56.6909 8.67946,57.8154 8.05879,57.6767 C 8.05879,58.2316 8.05879,100.353 8.93469,101.677 C 8.93469,102.232 8.93469,144.354 8.56646,145.424 C 8.56646,148.33 10.9221,150.686 15.6429,150.094 L 57.6064,150.038 L 100.41,150.989 C 103.316,150.989 105.672,148.633 105.467,144.418 C 105.467,143.32 105.467,59.0755 106.662,58.8562 C 106.662,56.0436 104.813,53.5946 99.0034,53.5852 C 102.284,47.9041 109.425,35.5361 112.287,30.1537 C 117.999,20.2609 114.615,7.63369 104.691,1.84823 m 0,0 m -37.1737,15.1436 m -35.3175,14.4696 m -0.664592,-2.42948 L 36.1975,38.8085 L 39.506,45.3524 L 44.0675,53.8302 L 41.8216,54.2176 L 38.5173,53.6879 L 26.1681,33.1909 Z\" fill=\"#000\"/></svg>"
      ],
      "text/plain": [
       "<IPython.core.display.SVG object>"
      ]
     },
     "metadata": {},
     "output_type": "display_data"
    },
    {
     "name": "stdout",
     "output_type": "stream",
     "text": [
      "target: pen container\n",
      "result: solid on with two outline black\n"
     ]
    },
    {
     "data": {
      "image/svg+xml": [
       "<svg xmlns=\"http://www.w3.org/2000/svg\" xmlns:ev=\"http://www.w3.org/2001/xml-events\" xmlns:xlink=\"http://www.w3.org/1999/xlink\" baseProfile=\"tiny\" fill-rule=\"evenodd\" height=\"149.71587150357664px\" version=\"1.2\" width=\"143.182059150422px\"><defs/><path d=\"M 61.2903,149.606 m 0,0 C 40.412,146.888 21.1381,134.666 10.4796,116.834 C 1.481,101.253 1.55634,81.7414 5.82071,66.3012 C 8.92114,53.2196 18.3023,41.4133 31.4066,38.1056 C 34.5071,25.0241 43.8883,13.2177 56.1706,9.50718 C 56.2074,9.50895 56.2378,9.51956 56.8907,9.80418 C 65.7167,10.0656 75.0351,10.0808 82.687,12.1035 C 83.5495,12.3738 84.4133,12.6423 85.7362,12.5265 C 87.1731,13.0501 88.4289,12.9828 90.5043,11.1646 C 100.332,12.8191 109.717,15.9681 116.775,21.6825 C 134.49,35.622 143.829,60.7579 143.182,84.0802 C 142.223,125.578 99.6354,155.337 59.8449,148.631 m 0,0 m -9.25284,-77.6148 C 54.7748,72.0387 54.7748,65.6529 50.3956,64.9622 C 54.5132,64.9622 54.5132,58.5763 50.0203,58.0571 C 41.7861,58.0567 41.7861,70.8288 49.7511,71.06 m 0,0 m 23.2917,0.60851 m 21.7724,0.925166 C 102.818,71.3221 102.818,58.5511 93.4526,59.2595 C 85.2166,59.2595 85.2166,72.0305 95.9256,71.7588 m 0,0 m 3.37156,21.1499 m -2.51766,-0.373696 C 90.0911,100.975 80.2222,100.217 72.5023,94.0596 C 64.8525,101.661 54.9836,100.903 47.4921,93.0475 C 41.4855,87.4303 32.4345,96.4428 38.6803,102.028 C 48.8726,111.56 62.7461,112.425 71.8805,102.62 C 82.0729,112.152 95.9464,113.018 107.133,102.673 C 109.083,100.736 106.072,97.7268 104.554,99.4781 C 106.504,97.5411 103.492,94.5318 100.214,97.7853 C 102.164,95.8482 99.1524,92.8389 98.157,93.7193 m 0,0 C 121.537,11.2987 116.975,10.0208 112.034,9.79933 C 108.375,6.63364 103.813,5.35578 99.4547,5.71589 C 95.7961,2.5502 91.234,1.27234 86.3757,0 C 73.8166,-4.00584 62.6139,4.27881 56.6413,15.5986 C 44.0822,11.5928 32.8795,19.8774 27.8132,31.7739 C 15.2541,27.7681 4.05134,36.0527 0,46.6267 C -15.8175,83.7709 -8.29185,125.235 26.0053,148.073 C 61.021,171.72 109.143,162 135.457,131.058 C 164.81,97.0357 157.564,43.0697 124.835,14.441 m 0,0 m -32.1308,67.2244 Z\" fill=\"#000\"/></svg>"
      ],
      "text/plain": [
       "<IPython.core.display.SVG object>"
      ]
     },
     "metadata": {},
     "output_type": "display_data"
    },
    {
     "name": "stdout",
     "output_type": "stream",
     "text": [
      "target: smile hand drawn emoticon\n",
      "result: ur\n"
     ]
    },
    {
     "data": {
      "image/svg+xml": [
       "<svg xmlns=\"http://www.w3.org/2000/svg\" xmlns:ev=\"http://www.w3.org/2001/xml-events\" xmlns:xlink=\"http://www.w3.org/1999/xlink\" baseProfile=\"tiny\" fill-rule=\"evenodd\" height=\"146.7556125484407px\" version=\"1.2\" width=\"150.2344879321754px\"><defs/><path d=\"M 108.216,122.927 L 110.177,135.418 m 0,0 m 23.2708,-24.3599 m 0.505647,0.875718 m -0.896222,-1.75189 m 1.1317,0.918579 C 128.634,112.085 21.0714,112.085 16.8758,110.432 C 14.073,110.432 11.7931,108.152 10.613,105.557 L 10.9917,45.461 C 10.9917,42.6582 13.2716,40.3777 16.9176,39.9142 L 28.981,39.8827 L 27.9205,48.5878 L 28.9757,55.078 L 28.7456,55.3203 L 25.6812,55.4315 L 26.1352,55.2836 C 24.6198,55.2836 23.3912,56.5122 23.363,56.7866 C 21.8477,56.7866 20.6191,58.0152 20.7847,59.7434 C 20.7847,61.2587 22.0133,62.4873 23.522,63.6384 C 23.522,65.1537 24.7506,66.3823 25.1686,65.9433 C 29.4191,65.9433 72.4904,65.9433 75.4458,67.1249 C 79.6963,67.1249 122.768,67.1249 123.922,66.101 C 126.953,66.101 129.41,63.6439 128.671,60.3686 C 128.671,58.8532 127.442,57.6246 126.586,57.102 C 126.586,55.5866 125.357,54.358 124.438,54.9984 L 122.705,55.815 L 121.755,54.889 L 121.6,40.0587 L 134.206,40.278 C 137.008,40.278 139.288,42.5579 138.55,45.528 L 139.668,105.989 L 138.328,106.419 L 137.285,105.326 L 139.051,105.635 L 139.496,104.912 C 139.496,106.313 138.356,107.453 136.389,108.275 C 136.389,109.676 135.249,110.817 134.345,110.449 m 0,0 L 129.796,29.0777 L 124.872,29.4305 L 122.092,29.3211 L 120.558,17.0662 L 121.215,5.3323 C 121.215,3.81692 119.987,2.58836 118.741,2.69771 C 118.741,1.18233 117.513,-0.0462321 115.378,0 L 34.8344,1.0605 C 31.8036,1.0605 29.3465,3.51763 28.3848,6.08265 L 28.0189,17.1612 L 28.1924,29.3614 L 15.7242,27.5817 C 11.2969,27.5815 7.69502,31.1835 7.14605,38.0098 C 2.71872,38.0097 -0.88318,41.6117 0.344403,44.7338 L 0,105.11 C 0,113.965 7.20379,121.169 15.8201,121.932 L 28.3315,121.193 L 29.1761,140.693 C 29.1761,142.209 30.4046,143.437 32.4053,144.674 C 32.4053,146.189 33.6338,147.418 34.3338,146.756 L 116.179,145.648 C 119.21,145.648 121.667,143.191 121.073,140.893 L 120.557,136.774 L 121.189,131.789 L 121,127.254 L 121.409,122.315 L 127.953,121.523 L 133.742,121.318 C 142.597,121.318 149.801,114.114 150.234,106.02 L 150.11,75.6734 L 149.92,45.8394 C 149.92,36.9847 142.716,29.7806 133.548,29.5736 m 0,0 m -93.1965,-19.3392 L 75.5236,11.5313 L 111.716,11.195 C 111.716,17.8512 111.716,50.1351 109.914,54.3542 L 38.1923,55.0932 C 38.1923,50.9624 38.1923,15.9735 39.5687,10.9338 m 0,0 m 35.9325,62.5626 m 35.3959,61.3971 L 75.8816,135.748 L 38.752,136.075 L 38.7895,129.084 L 39.6207,122.007 L 108.216,122.927 Z\" fill=\"#000\"/></svg>"
      ],
      "text/plain": [
       "<IPython.core.display.SVG object>"
      ]
     },
     "metadata": {},
     "output_type": "display_data"
    },
    {
     "name": "stdout",
     "output_type": "stream",
     "text": [
      "target: printer\n",
      "result: player\n"
     ]
    },
    {
     "data": {
      "image/svg+xml": [
       "<svg xmlns=\"http://www.w3.org/2000/svg\" xmlns:ev=\"http://www.w3.org/2001/xml-events\" xmlns:xlink=\"http://www.w3.org/1999/xlink\" baseProfile=\"tiny\" fill-rule=\"evenodd\" height=\"151.05447975802235px\" version=\"1.2\" width=\"98.19625192321837px\"><defs/><path d=\"M 49.4593,102.563 C 50.3128,102.563 51.1571,102.512 52.2725,102.666 L 60.1552,124.166 L 69.0468,143.976 C 70.132,146.628 72.1851,148.698 75.8388,150.024 C 77.1735,150.583 78.5784,150.863 79.4208,151.054 C 79.7648,151.054 80.1087,150.987 79.4879,150.946 C 79.8318,150.946 80.1758,150.879 81.7212,150.672 C 82.0651,150.672 82.4091,150.605 82.9948,150.53 C 83.3387,150.53 83.6827,150.463 82.7411,149.941 C 83.625,149.58 84.3152,148.895 85.5807,147.463 C 86.4647,147.102 87.1549,146.418 87.8735,145.522 C 88.7575,145.161 89.4477,144.477 89.6145,144.246 C 90.7222,141.604 90.7345,138.689 88.1836,136.05 L 73.6924,95.9255 C 74.943,96.7347 76.3815,97.1429 76.4028,94.4152 C 78.3203,94.4146 80.2406,93.6959 81.8717,92.872 m 0,0 m -1.635,-6.72242 m -0.56191,-5.97074 m -0.502156,-6.71698 m -1.1426,-6.03386 L 82.5229,72.1687 L 77.4009,76.1706 L 72.8771,80.6714 L 78.0993,66.1696 m 0,0 m -52.6686,-49.3371 m 0.556692,0.217277 C 26.5201,16.8469 26.5713,16.8084 26.0406,17.0819 L 45.4711,4.13027 C 46.5975,3.41811 47.9332,3.18708 48.6171,3.56332 C 49.2671,3.70964 49.8209,4.10022 51.3276,5.04318 C 51.9776,5.18949 52.5314,5.58007 54.9764,5.79061 C 55.6886,6.91646 55.9199,8.25239 54.2783,10.5166 C 53.9857,11.8162 53.2045,12.9241 51.4193,14.0686 L 48.4864,14.7025 L 44.085,18.2316 L 41.2038,19.8362 L 37.3524,22.4785 C 37.1642,22.545 36.9895,22.655 37.4972,22.2047 C 37.2882,22.4228 37.2556,22.7554 35.7945,23.2485 C 35.5855,23.4666 35.5529,23.7993 36.1488,23.8485 L 46.3764,39.3629 C 43.5539,41.426 41.2421,44.1903 38.9883,45.5827 L 24.8449,24.1048 C 23.3833,21.7914 24.069,18.7108 26.9298,17.252 m 0,0 m -10.0289,119.39 m -1.5278,0.484224 C 16.4759,138.476 13.9747,139.073 11.8005,138.525 C 10.6297,140.428 8.12846,141.025 5.1962,138.986 C 4.31831,138.446 3.58119,137.764 3.95753,137.295 L 10.138,128.918 L 13.2895,119.559 L 21.213,111.477 C 21.3102,111.325 21.2656,111.122 20.7027,111.197 C 20.7999,111.044 20.7552,110.842 20.8291,110.967 C 20.9263,110.814 20.8816,110.612 20.0159,110.522 C 20.1131,110.369 20.0684,110.167 20.0204,108.632 C 19.4111,108.243 18.6016,108.422 17.9917,110.155 L 13.055,117.42 L 7.04669,126.199 L 0.979472,135.288 C 0.689152,134.24 0.816677,133.079 2.68882,131.974 C 2.3985,130.926 2.52603,129.765 1.89942,128.979 L 29.7514,86.5629 C 30.3307,89.527 32.1655,92.1759 34.428,93.0823 C 35.0072,96.0464 36.842,98.6953 40.5099,100.305 L 31.5093,112.502 L 25.2092,124.364 L 16.1655,136.381 m 0,0 m 28.767,-37.6033 C 38.9827,98.4072 36.3498,93.1562 38.9505,87.1498 C 34.1049,85.5404 31.472,80.2894 31.7945,75.8972 L 36.0397,67.7668 L 39.4636,58.4031 L 40.1928,50.9517 C 41.4529,47.1576 44.9836,44.6085 50.2629,44.7668 C 51.5231,40.9728 55.0537,38.4236 58.1877,37.6744 C 60.1665,37.6744 62.1317,37.9939 63.739,37.2291 C 66.1614,38.0337 67.4777,40.6594 68.1453,44.2621 C 70.5678,45.0668 71.8841,47.6924 70.6775,49.1829 C 73.0999,49.9876 74.4162,52.6132 72.5709,54.5489 C 74.9933,55.3535 76.3096,57.9792 76.8045,61.6696 L 68.1332,87.5905 C 65.6126,95.1783 58.5522,100.276 50.7318,100.224 C 48.753,100.224 46.7875,99.9041 43.5703,99.0267 m 0,0 m 42.9106,44.8598 C 87.9325,142.923 87.8059,143.18 86.618,143.743 L 83.4035,136.464 L 81.0105,131.331 L 77.8753,122.375 L 76.0702,115.082 C 75.7899,114.415 75.0226,114.103 73.5435,116.447 C 72.8769,116.727 72.564,117.494 72.542,116.27 L 83.9361,146.338 C 83.617,146.606 83.2563,146.828 83.4585,147.305 C 83.1394,147.573 82.7787,147.795 82.3021,148.465 C 81.3001,148.875 80.1987,148.871 80.339,148.037 C 79.337,148.447 78.2356,148.443 76.5664,147.317 C 74.5698,146.48 73.0179,144.915 72.1756,143.61 L 64.5496,121.99 L 54.8969,102.566 C 56.7799,102.093 58.3917,100.858 59.7549,98.8524 C 61.6378,98.3798 63.2497,97.1448 63.8811,95.6669 C 65.7641,95.1943 67.376,93.9593 68.8895,92.2023 L 87.1007,138.016 C 87.9219,140.02 87.9127,142.224 87.9866,143.152 m 0,0 m -14.8566,-50.8744 C 70.716,89.0626 70.7557,85.8988 72.9123,84.184 L 85.5961,71.7991 C 86.1078,71.2936 86.1164,70.4705 84.9944,69.5744 L 78.2926,63.5904 L 78.6727,62.7353 C 79.3616,60.6614 79.3693,58.5222 79.21,55.8802 C 79.8989,53.8062 79.9066,51.6671 79.3479,49.3126 L 96.9479,67.8509 C 98.8598,69.8118 98.8309,72.9685 96.0037,75.2311 L 87.9572,82.6101 L 80.3649,91.8412 C 79.3803,92.801 77.7979,92.7808 76.9441,91.1484 C 75.9595,92.1082 74.3772,92.088 72.0708,90.7155 m 0,0 m -24.422,-41.6993 m -0.833374,-0.222752 C 46.2569,47.7561 45.5189,48.134 45.4702,50.2824 L 36.2144,73.3022 C 36.103,73.6461 36.2916,74.0152 37.5233,75.8464 C 37.412,76.1903 37.6005,76.5594 37.7573,76.4714 C 37.8243,76.4933 37.8922,76.5034 39.2957,76.0925 C 39.3627,76.1144 39.4306,76.1246 37.592,76.1366 C 38.1443,76.1366 38.6578,75.7843 39.4567,75.2596 L 42.8865,62.1327 L 47.1644,50.0704 C 47.3874,49.3826 47.0104,48.6442 46.8172,48.4575 m 0,0 C 69.5667,34.9827 70.1316,35.0745 69.6485,35.4024 C 70.1935,35.5835 70.7584,35.6752 72.5266,36.2409 C 73.0716,36.4219 73.6365,36.5137 72.571,36.3984 C 76.0177,36.3984 79.0636,34.1992 81.9394,30.2739 C 85.3861,30.2739 88.4321,28.0747 88.9896,24.652 C 91.7665,16.2918 87.2245,7.23104 78.9248,4.4455 C 78.3798,4.26448 77.8148,4.17268 76.4343,4.99112 C 75.8892,4.8101 75.3243,4.71831 75.9829,5.00018 C 75.4379,4.81916 74.8729,4.72737 74.1809,5.0413 C 70.7343,5.0413 67.6882,7.24034 65.748,9.46227 C 62.3015,9.46227 59.2554,11.6613 58.9133,16.2322 C 56.1364,24.593 60.6786,33.6541 68.645,35.0168 m 0,0 m -7.21312,-19.4566 C 62.8634,11.3412 67.9573,7.66388 73.4968,7.09441 C 74.2103,7.09441 74.9188,7.20961 75.6622,7.06284 C 76.3758,7.06284 77.0842,7.17805 77.0786,7.73444 C 84.0678,10.0564 87.8659,17.6321 84.607,24.3068 C 82.7896,29.7806 77.696,33.4581 73.5267,34.5473 C 72.0996,34.5473 70.6824,34.3169 70.5316,32.0423 C 63.5417,29.7207 59.744,22.1447 60.8873,16.4224 m 0,0 m 19.286,75.9855 L 89.4157,84.6163 L 98.1874,77.125 C 101.158,74.1978 101.203,69.3845 98.1963,64.4855 L 89.6622,56.1938 L 82.0156,49.3975 L 73.3215,41.2323 C 72.5534,40.4287 71.5853,39.7949 71.1598,38.653 C 70.3918,37.8494 69.4237,37.2155 68.5508,38.1528 C 67.7828,37.3491 66.8146,36.7153 65.656,36.5801 C 65.1151,36.4004 64.5543,36.3093 62.8465,35.9312 C 62.3055,35.7515 61.7447,35.6604 61.8944,34.5859 C 61.3535,34.4063 60.7927,34.3152 59.6389,35.0589 C 59.0979,34.8793 58.5372,34.7882 58.8153,35.0825 C 55.1297,35.0825 51.6182,36.0337 47.6005,36.8851 L 39.5147,23.8319 L 52.3228,14.3303 C 53.1813,13.7875 53.777,12.9427 54.5974,12.4855 C 55.4559,11.9428 56.0517,11.098 55.4675,9.39708 C 55.9135,7.41521 55.5611,5.37758 55.2802,3.4027 C 54.7375,2.54391 53.8925,1.94818 52.9124,1.7518 C 52.3697,0.893011 51.5247,0.297279 50.4203,0 C 48.4388,-0.446029 46.4012,-0.0942575 45.6914,2.18899 L 24.1691,14.0118 C 24.1498,14.0242 24.1316,14.0381 24.7673,15.4582 C 24.748,15.4706 24.7298,15.4845 23.9024,14.6601 C 23.8831,14.6725 23.8649,14.6864 25.0814,14.2075 C 21.7115,16.4986 20.7391,21.0957 23.209,24.662 L 38.5339,49.6712 L 29.9498,75.9655 C 29.2546,78.0591 28.9074,80.1855 28.8153,81.2812 L 22.525,92.7501 L 14.2094,104.197 L 8.22327,115.402 L 0,127.673 C -3.09694,132.711 -1.51859,139.329 4.42358,141.662 C 6.17104,142.736 8.10825,143.248 9.48097,144.526 C 13.0862,144.526 16.6116,142.711 18.9141,138.232 L 30.7287,119.042 L 41.5693,101.516 C 42.0563,101.719 42.5507,101.911 44.017,102.176 C 45.0989,102.535 46.2205,102.718 47.1409,103.706 C 48.2229,104.065 49.3444,104.248 49.4593,102.563 Z\" fill=\"#000\"/></svg>"
      ],
      "text/plain": [
       "<IPython.core.display.SVG object>"
      ]
     },
     "metadata": {},
     "output_type": "display_data"
    },
    {
     "name": "stdout",
     "output_type": "stream",
     "text": [
      "target: stick man excersicing\n",
      "result: \n"
     ]
    },
    {
     "data": {
      "image/svg+xml": [
       "<svg xmlns=\"http://www.w3.org/2000/svg\" xmlns:ev=\"http://www.w3.org/2001/xml-events\" xmlns:xlink=\"http://www.w3.org/1999/xlink\" baseProfile=\"tiny\" fill-rule=\"evenodd\" height=\"149.06141267856583px\" version=\"1.2\" width=\"148.6823985236697px\"><defs/><path d=\"M 74.5649,149.061 C 115.977,149.061 149.555,115.479 148.682,74.6226 C 148.682,33.2054 115.104,-0.377402 74.2296,0.137685 m 0,0 m 15.3716,52.0357 m 15.1465,52.1521 L 74.2918,104.356 L 44.2534,104.686 L 45.4918,44.6288 L 105.195,44.3275 L 104.925,104.72 L 104.049,105.843 m 0,0 C 53.7991,0 37.0124,16.7914 36.4863,37.4924 C 15.7729,37.4924 -1.01374,54.2838 0,73.8273 C 0,115.245 33.5733,148.827 74.5649,149.061 Z\" fill=\"#000\"/></svg>"
      ],
      "text/plain": [
       "<IPython.core.display.SVG object>"
      ]
     },
     "metadata": {},
     "output_type": "display_data"
    },
    {
     "name": "stdout",
     "output_type": "stream",
     "text": [
      "target: stop square symbol in a circle\n",
      "result: oand and\n"
     ]
    },
    {
     "data": {
      "image/svg+xml": [
       "<svg xmlns=\"http://www.w3.org/2000/svg\" xmlns:ev=\"http://www.w3.org/2001/xml-events\" xmlns:xlink=\"http://www.w3.org/1999/xlink\" baseProfile=\"tiny\" fill-rule=\"evenodd\" height=\"97.61680910596624px\" version=\"1.2\" width=\"151.2850811239332px\"><defs/><path d=\"M 74.8133,26.0501 m 0,0 C 71.7596,26.6104 68.7888,29.5813 67.8215,33.2312 C 64.169,33.2312 61.1981,36.202 61.3159,38.9334 C 57.6634,38.9334 54.6926,41.9042 55.6909,46.2432 C 55.6909,57.1982 64.6033,66.1106 75.8127,66.6272 C 86.7675,66.6272 95.6801,57.7147 95.969,45.8358 C 95.9691,42.1842 92.9982,39.2133 88.6797,40.2609 C 88.6798,36.6092 85.7089,33.6384 82.5083,34.5856 C 82.5084,30.934 79.5375,27.9632 74.826,27.5985 m 0,0 m -0.430081,17.0735 m 1.27184,17.1928 C 70.7508,60.8792 67.3458,57.4754 67.8363,54.6737 C 63.65,54.6737 60.2451,51.2699 59.7021,48.2645 C 59.7021,39.892 66.512,33.0846 72.8005,30.4205 C 81.1704,30.4205 87.9804,37.2304 90.5934,45.616 C 90.5935,49.801 87.1884,53.2059 82.5174,54.4835 C 82.5175,58.6685 79.1124,62.0735 75.1799,61.7299 m 0,0 m -37.3543,-31.546 L 1.20559,96.3045 L 76.5791,97.6168 L 151.285,97.1799 L 150.287,0 L 0.102295,1.02132 m 0,0 m 29.1812,35.3102 L 29.9618,77.5021 C 29.9618,79.4347 28.8094,81.2145 29.2699,81.1318 L 24.9916,81.2566 C 23.5691,81.2566 22.4165,79.4765 22.5549,77.3324 L 25.2784,35.6931 C 22.2233,34.0706 20.0335,29.898 19.5681,24.6928 C 19.5681,21.5229 21.3619,18.9528 23.1458,19.5903 C 23.1458,16.4204 24.9395,13.8503 26.4466,14.0515 C 30.874,14.0515 34.4641,19.1914 34.4444,25.4211 C 34.4418,30.7413 31.8993,35.1737 28.7268,36.722 m 0,0 m 46.5245,44.905 C 55.5852,81.1761 40.0153,65.6039 40.8279,45.0102 C 40.8279,25.8724 56.4002,10.3001 75.4029,11.065 C 94.5427,11.065 110.113,26.6373 109.625,47.1272 C 109.625,56.6961 101.839,64.4822 92.4402,64.0147 C 92.4402,73.5836 84.6551,81.3697 75.4423,81.5896 m 0,0 m 59.2217,-42.4836 m -0.595294,-0.442103 C 133.868,39.9153 132.658,41.3553 131.96,40.71 L 129.404,40.3305 L 131.403,75.5022 C 131.403,76.0989 131.018,76.5488 130.869,76.4068 C 130.869,77.0035 130.484,77.4534 129.978,77.1667 C 129.978,77.7634 129.594,78.2133 128.764,79.3954 L 127.418,78.3787 L 124.353,77.9445 C 122.931,77.9445 121.778,76.5947 122.835,76.126 L 122.64,64.0949 L 123.506,51.5048 L 124.751,41.4604 L 120.679,40.7856 C 119.189,40.7856 117.979,39.343 119.984,38.4449 L 117.26,31.3359 C 117.26,31.1885 117.328,31.051 117.767,31.6917 L 118.098,23.9904 L 118.306,16.3799 C 118.306,15.0873 119.354,14.0348 120.107,15.0909 C 121.402,15.0909 122.452,16.1411 121.669,17.3025 L 123.109,28.8372 L 121.998,32.2124 C 121.998,32.86 122.523,33.3849 123.79,32.3504 C 124.438,32.3504 124.963,31.8254 124.85,31.416 L 124.031,29.1452 L 124.83,16.7686 C 124.83,15.4761 125.878,14.4235 127.283,14.8681 C 128.58,14.8681 129.625,15.9183 129.225,16.8381 L 129.297,28.7579 L 128.628,31.3177 C 128.628,31.9653 129.153,32.4903 131.132,33.1432 C 131.78,33.1432 132.305,32.6182 132.06,31.1014 L 131.099,29.3802 L 132.223,17.6949 C 132.223,16.4024 133.271,15.3498 133.445,14.3253 C 134.74,14.3253 135.79,15.3755 136.19,17.1508 L 136.537,31.3012 C 136.54,31.3349 136.562,31.3662 135.183,31.6642 C 135.187,31.6979 135.208,31.7292 136.508,30.8891 L 134.388,38.8037 m 0,0 m -28.8165,-5.56232 Z\" fill=\"#000\"/></svg>"
      ],
      "text/plain": [
       "<IPython.core.display.SVG object>"
      ]
     },
     "metadata": {},
     "output_type": "display_data"
    },
    {
     "name": "stdout",
     "output_type": "stream",
     "text": [
      "target: dining room table eating tools set from top view\n",
      "result: \n"
     ]
    },
    {
     "data": {
      "image/svg+xml": [
       "<svg xmlns=\"http://www.w3.org/2000/svg\" xmlns:ev=\"http://www.w3.org/2001/xml-events\" xmlns:xlink=\"http://www.w3.org/1999/xlink\" baseProfile=\"tiny\" fill-rule=\"evenodd\" height=\"151.36607566382736px\" version=\"1.2\" width=\"123.62435818940867px\"><defs/><path d=\"M 119.246,104.801 L 110.861,106.22 C 109.058,106.22 107.595,107.683 107.818,109.513 L 106.384,111.394 L 106.222,110.496 L 105.148,111.128 C 104.137,111.128 103.182,111.596 103.244,112.429 C 92.7522,126.004 77.972,133.791 61.5706,134.357 C 46.2928,134.357 31.512,126.57 20.3,111.779 C 20.0938,111.512 19.7757,111.356 20.7092,111.693 C 20.503,111.426 20.1849,111.27 18.9264,111.941 C 18.7203,111.674 18.4021,111.518 17.9344,110.973 L 15.8362,111.465 L 16.8593,109.255 L 17.2588,108.119 C 17.2588,106.315 15.7962,104.853 12.5912,105.75 L 3.88153,105.633 C 2.98009,105.633 2.2491,106.364 3.7934,107.201 C 2.89197,107.201 2.16098,107.932 1.64411,109.367 L 1.28685,122.179 L 1.11136,134.359 L 0,148.195 C 0,149.998 1.46197,151.461 5.24407,150.822 L 13.8877,150.045 C 15.6906,150.045 17.1532,148.582 16.8645,147.537 L 15.949,146.144 L 16.2211,145.596 L 106.817,145.393 L 106.646,148.018 L 106.295,147.588 L 107.22,147.154 m 0,0 C 65.1889,15.5171 69.6648,17.8548 75.6016,22.0114 C 80.2654,22.0114 84.7413,24.3491 87.2573,28.1069 C 94.8799,37.4497 99.0778,50.046 98.3423,64.7853 C 98.3423,78.3141 94.1444,90.9097 86.8012,99.8135 C 83.338,104.058 78.8622,106.396 74.3534,105.927 C 70.8902,110.172 66.4144,112.51 61.1821,112.524 C 51.8538,112.524 42.9021,107.848 36.4321,98.6853 C 28.8095,89.3426 24.6116,76.7469 24.8899,63.9179 C 24.8899,59.4081 26.2892,55.2094 28.4837,51.399 C 28.4837,46.8892 29.883,42.6904 32.849,40.1465 C 32.849,35.6367 34.2483,31.4379 35.8462,27.8156 C 42.7732,19.3263 51.7249,14.6509 62.0375,16.6803 m 0,0 m 0.287123,-15.1646 m -0.83349,-0.589391 C 32.9291,0.528049 9.89842,28.7543 9.29681,65.0507 C 9.29681,99.868 32.3275,128.095 61.7487,126.704 C 90.1585,126.704 113.188,98.4769 113.919,64.0908 C 113.919,29.2729 90.8892,1.04542 62.0533,0.33641 L 61.5569,1.1202 L 61.6806,0 m 0,0 m 44.1917,146.958 m 0.396134,0.269571 C 107.648,149.566 109.111,151.028 109.751,150.807 L 113.731,151.366 L 118.947,150.985 C 119.848,150.985 120.58,150.254 120.953,148.338 C 121.854,148.338 122.586,147.607 123.624,147.726 L 121.722,108.758 C 121.721,106.954 120.259,105.491 119.246,104.801 Z\" fill=\"#000\"/></svg>"
      ],
      "text/plain": [
       "<IPython.core.display.SVG object>"
      ]
     },
     "metadata": {},
     "output_type": "display_data"
    },
    {
     "name": "stdout",
     "output_type": "stream",
     "text": [
      "target: halloween guillotine\n",
      "result: \n"
     ]
    },
    {
     "data": {
      "image/svg+xml": [
       "<svg xmlns=\"http://www.w3.org/2000/svg\" xmlns:ev=\"http://www.w3.org/2001/xml-events\" xmlns:xlink=\"http://www.w3.org/1999/xlink\" baseProfile=\"tiny\" fill-rule=\"evenodd\" height=\"150.64179982000496px\" version=\"1.2\" width=\"78.31971121486276px\"><defs/><path d=\"M 27.5935,47.2081 m 0,0 m 8.09156,5.0462 C 34.7378,51.751 33.1476,52.197 31.0756,51.4573 C 29.7572,50.8801 29.0029,49.4181 28.0889,48.7104 L 29.1273,48.3938 L 29.2178,48.0892 L 29.3824,48.1567 L 29.5759,48.5033 L 29.7853,49.0745 C 30.5534,48.7924 32.1436,48.3377 33.4434,47.9742 C 34.1026,48.2624 34.4797,48.9981 34.0784,49.3839 C 34.7376,49.6722 35.1147,50.4079 34.3721,51.0872 L 35.9511,51.8063 L 34.6192,51.5603 m 0,0 m 39.8067,-22.2784 m 1.85944,-0.133364 m -0.961347,1.51957 L 59.2087,29.5534 C 57.4116,24.277 52.9558,24.1531 52.9172,25.2358 C 46.7582,24.319 45.9012,22.3294 45.3901,20.4112 C 44.0855,18.5339 44.8311,14.9344 44.7908,15.0915 C 45.1515,14.7973 45.2907,14.0192 44.6241,13.5864 C 44.9848,13.2922 45.124,12.5141 46.5865,13.9837 C 46.9472,13.6895 47.0864,12.9114 45.8358,14.1319 C 47.6337,12.7494 47.5448,10.7372 47.2463,9.50636 C 46.5765,9.52385 46.7274,8.97143 45.5627,8.92519 C 46.685,-0.144542 38.6239,-0.613151 39.1125,0.0573255 L 38.6683,0 L 37.766,0.6688 C 37.766,0.6688 29.7035,1.13741 31.1549,9.12731 C 31.1549,9.12731 31.3058,9.67973 30.9039,9.59671 C 30.076,9.57485 29.9988,11.587 31.1256,13.3309 C 31.1256,13.3309 31.5432,15.6652 32.6995,15.9575 C 32.6995,15.9575 33.0723,17.7569 31.964,19.171 C 31.964,19.171 32.3368,20.9704 32.3476,22.5568 C 32.3476,22.5568 31.9205,23.5516 29.814,23.2936 C 29.814,23.2936 29.3869,24.2884 25.0836,24.5725 C 25.0836,24.5725 20.6257,24.692 18.805,29.455 L 3.17147,29.915 C 2.54472,29.915 2.0353,30.4233 2.73357,29.9961 C 2.10682,29.9961 1.5974,30.5044 0,32.9571 L 0.882165,74.8598 C 0.882165,76.1075 1.90028,77.1322 2.57683,77.218 L 5.48976,76.042 L 9.26728,77.0595 C 8.65364,78.0514 8.20653,79.0655 8.38934,79.4399 C 7.77571,80.4318 7.3286,81.4459 8.45894,81.2539 C 8.45894,81.2539 9.07258,81.3136 8.45223,80.3463 C 8.45223,80.3463 9.06586,80.4061 11.1984,78.7659 C 11.1984,78.7659 11.1816,79.3846 10.2962,81.2948 C 10.2962,81.2948 10.2795,81.9135 8.15009,81.7279 C 7.89938,82.4021 6.81422,85.8106 10.2565,84.9209 C 10.2565,84.9209 11.0662,84.3612 11.8329,82.2404 C 11.8329,82.2404 11.2652,88.1334 11.5862,87.6117 C 12.4112,88.0111 12.8616,86.8487 13.4535,81.6221 C 13.4535,81.6221 13.6444,80.7902 13.4268,84.6102 C 13.4268,84.6102 13.6178,83.7783 14.3545,86.0916 C 14.3632,86.4195 14.8493,88.0571 16.5162,86.4201 C 17.0796,85.2489 16.8311,82.1465 15.9138,81.3527 C 15.9138,81.3527 16.6397,85.3822 16.9443,86.1044 C 16.9443,86.1044 17.7452,87.0401 18.4719,81.8692 C 18.4187,81.0529 18.7,79.3753 19.1021,78.4157 L 17.5175,77.0186 L 18.0296,77.0935 L 22.9098,76.9193 C 22.7808,78.331 22.7276,79.7237 22.634,80.7109 C 23.2644,85.8765 24.4778,96.922 26.1397,101.19 C 26.781,103.445 26.3991,109.134 27.2338,110.645 C 27.4619,111.258 27.3446,111.826 25.8892,113.609 C 24.1452,118.499 24.3668,121.943 29.3163,134.507 C 29.3163,134.507 30.6631,137.382 30.1825,141.723 C 30.1825,141.723 28.7858,144.596 29.9046,145.427 C 29.9046,145.427 28.5079,148.301 29.7412,148.654 C 29.7412,148.654 29.8855,149.036 29.8984,147.919 C 29.8984,147.919 30.8663,148.917 30.3631,149.168 C 30.3631,149.168 30.6857,149.424 31.7422,149.104 C 31.7422,149.104 32.0648,149.36 33.4313,149.264 C 33.4313,149.264 33.7539,149.52 34.0971,149.325 C 34.0971,149.325 34.4312,149.706 34.5126,149.073 C 34.5126,149.073 34.8468,149.454 35.3779,150.029 C 35.3779,150.029 35.6951,150.242 36.4198,149.104 C 36.4198,149.104 36.737,149.317 35.7611,148.675 C 35.7611,148.675 36.0783,148.888 37.0966,148.902 C 37.0966,148.902 37.4138,149.115 37.2151,148.961 C 37.2151,148.961 37.8852,149.11 37.1063,146.245 C 37.1063,146.245 37.7764,146.394 36.6243,142.824 C 36.6243,142.824 35.7126,136.416 34.4737,135.526 C 33.5153,133.134 34.1938,126.597 35.5234,126.875 C 35.6349,126.096 35.5758,124.763 35.0565,123.56 C 35.168,122.78 35.109,121.448 34.0912,119.851 C 34.2027,119.071 34.1436,117.739 34.1722,116.835 C 33.7349,114.625 34.9316,110.444 37.1138,106.831 C 38.0256,101.417 39.7987,87.6071 38.5554,85.2143 L 39.6784,85.1258 C 40.2111,85.1258 40.5478,84.8729 39.8265,85.2836 C 39.7147,86.5859 40.5987,93.4908 40.8052,95.9329 C 40.6933,97.2352 41.5773,104.14 41.3732,107.409 C 41.5182,108.264 41.9159,109.657 42.7126,110.541 C 42.8576,111.396 43.2553,112.789 42.8545,112.851 C 42.9995,113.707 43.3972,115.1 44.4021,115.926 C 43.7892,119.023 43.6121,123.021 42.9454,125.875 C 43.0163,126.346 43.2396,128.522 43.3738,128.567 C 43.4447,129.039 43.668,131.215 43.9417,131.559 C 44.0126,132.031 44.2359,134.207 42.962,135.419 C 42.7113,136.042 42.2529,139.251 42.9325,138.939 C 42.6818,139.563 42.2234,142.771 42.627,142.63 C 40.2352,148.674 41.582,148.377 40.129,148.887 C 40.8768,149.797 42.1441,148.963 43.227,148.504 C 44.1941,149.126 44.8595,148.363 43.7153,148.467 C 44.1329,148.807 44.6164,148.423 46.1136,149.196 C 46.5312,149.536 47.0147,149.152 46.8157,150.642 C 47.8542,151.178 48.8213,150.18 48.0632,149.132 C 48.6667,149.434 48.8088,149.052 47.8507,148.665 C 49.6523,148.55 46.8479,142.803 47.512,142.104 C 47.29,140.381 47.7338,139.422 48.3656,138.846 C 48.1435,137.123 48.5873,136.164 47.6831,136.8 C 47.461,135.077 47.9049,134.118 49.0508,135.047 C 53.4264,122.071 53.6487,118.628 51.3956,113.771 C 50.9029,112.36 50.7783,111.801 50.532,111.615 C 50.794,110.907 50.603,108.064 51.7631,105.354 C 52.0251,104.646 51.8341,101.803 51.8659,101.522 C 52.2769,100.071 52.6824,96.3861 52.1805,94.0568 C 52.5915,92.6058 52.997,88.921 52.6918,88.5126 C 53.1028,87.0616 53.5082,83.3769 55.5968,81.1138 C 55.7477,79.7998 55.6952,78.3976 54.4476,77.3141 L 60.9342,76.9556 L 60.2026,76.7339 L 60.6049,79.3354 C 60.6406,79.8237 60.911,81.5094 61.1075,81.928 C 60.7839,86.9289 61.5819,85.9932 60.4777,84.657 C 61.1431,84.657 61.8806,80.6275 63.176,81.7254 C 63.176,82.7683 62.9268,85.8708 63.7738,85.8155 C 63.9956,86.2815 64.1615,85.7356 63.5058,86.0293 C 63.7276,86.4952 63.8935,85.9493 63.1645,86.5182 C 63.3863,86.9841 63.5522,86.4383 63.7267,86.286 C 63.9045,79.9222 64.2864,81.586 65.2545,82.1132 C 65.6276,87.284 66.0802,88.4457 66.8912,88.1209 C 67.202,87.9701 66.9178,85.0236 66.113,84.4796 C 66.4238,84.3287 66.1396,81.3823 65.9533,81.3105 C 66.4835,83.0611 66.8894,83.3406 66.3087,82.8114 C 66.8389,84.562 67.2449,84.8415 68.2244,86.1167 C 69.9823,87.3461 68.8905,83.9376 69.103,83.0301 C 68.6682,81.8347 68.6563,81.4207 67.3245,81.2231 C 66.8896,80.0277 66.8777,79.6137 68.1037,80.0524 C 67.6689,78.8569 67.657,78.443 67.8914,77.6777 C 68.7015,79.2862 69.3159,79.2264 69.1589,79.0899 C 69.9689,80.6983 70.5833,80.6385 69.5551,82.2053 C 69.8983,82.0974 69.5995,81.4184 70.9584,80.6916 C 71.3017,80.5837 71.0029,79.9047 69.608,77.3962 C 69.9512,77.2883 69.6524,76.6093 69.43,76.9451 L 75.3061,77.8765 C 75.9318,77.8765 76.4423,77.3641 77.0234,75.505 C 77.6491,75.505 78.1596,74.9927 78.3197,74.0923 L 77.4132,31.9667 C 77.4139,30.7103 76.3929,29.6936 74.6592,29.1416 m 0,0 m -1.4947,21.5029 m -0.911775,21.2554 L 39.1554,72.3514 L 6.36608,70.7058 L 5.90586,34.7597 L 73.0364,34.7337 L 73.988,72.5583 L 72.4923,71.9799 m 0,0 m -20.4182,-9.18184 C 28.9561,53.7626 27.9956,55.4381 28.619,57.1015 C 28.3127,56.9771 27.6995,56.7908 26.5891,56.6244 C 26.2828,56.5 25.6696,56.3137 25.1485,57.485 C 24.8422,57.3607 24.229,57.1743 22.5147,55.6605 C 20.8487,56.3288 19.894,58.0109 20.7535,60.1111 C 19.8418,59.7431 17.9958,59.1797 15.4986,59.8457 L 16.7382,60.8199 C 17.0721,60.6856 17.4658,60.8083 17.3734,60.8524 C 17.7074,60.7181 18.1011,60.8407 17.2366,60.9913 C 17.5706,60.8571 17.9643,60.9797 18.716,60.7338 C 19.05,60.5995 19.4437,60.7221 19.8134,61.2223 L 19.3594,61.3026 L 19.2109,61.5465 C 18.8691,62.292 18.066,63.7365 17.2518,63.7899 L 18.3239,64.6959 C 19.9965,64.0327 20.9505,62.3529 21.0364,61.865 C 21.9525,62.2374 23.7941,62.7964 26.1025,62.7684 C 27.7715,62.1052 28.7291,60.4188 29.0856,59.7589 C 29.5448,59.9454 30.4656,60.226 31.0677,57.4189 C 31.5269,57.6054 32.4477,57.886 33.7255,59.424 C 34.1428,59.2576 34.3823,58.8377 33.9112,57.8365 C 34.3285,57.6701 34.5681,57.2502 35.0597,56.495 C 35.4769,56.3286 35.7165,55.9087 35.2313,56.3802 C 35.6486,56.2139 35.8881,55.7939 36.7753,55.4875 C 37.499,55.7827 38.7984,56.182 38.9939,55.5638 C 40.3472,55.7992 41.6831,55.4268 42.4678,53.7655 C 42.6587,54.2228 43.1069,55.0747 44.0291,57.7088 C 44.2201,58.1661 44.6683,59.0181 46.7749,58.2034 C 48.4256,58.9198 50.2847,58.4257 50.8931,58.6437 C 51.2742,59.567 52.1758,61.2709 54.0601,62.5678 C 55.7021,63.2842 57.5619,62.7894 57.3498,61.8658 C 57.5404,62.3232 57.9911,63.1751 61.0384,63.7996 C 61.229,64.2569 61.6797,65.1089 60.4698,65.6035 L 60.2735,65.5328 L 61.2426,63.4018 L 61.2905,63.8017 L 60.2031,64.0126 C 59.7625,63.8194 59.5108,63.3292 61.1268,64.3892 C 60.6861,64.1961 60.4344,63.7059 59.5136,62.2811 C 59.073,62.0879 58.8213,61.5977 59.6134,61.0026 L 59.0623,62.044 L 59.1588,60.5307 L 59.04,60.7965 C 59.4263,60.6533 60.2203,60.4292 60.23,60.5792 C 60.6163,60.436 61.4103,60.2119 62.1375,61.736 L 61.7716,59.5417 C 60.1296,58.8231 58.2654,59.3172 57.7602,60.8705 C 57.3783,59.9566 56.4724,58.244 55.7682,56.677 C 54.1168,55.9584 52.262,56.4525 51.1439,56.5825 C 50.7627,55.6686 49.8656,53.9553 46.91,53.0363 C 46.0868,52.6814 45.1551,52.9288 45.6071,54.5362 C 44.7839,54.1813 43.8521,54.4287 42.9579,53.6675 L 42.1903,53.5908 L 43.145,52.4119 C 44.0589,52.7799 45.8962,53.3374 48.4361,53.0117 C 50.1138,52.3551 51.0671,50.6686 50.4015,48.8268 C 50.861,49.0156 51.7793,49.2972 53.6703,48.7473 C 54.1298,48.936 55.048,49.2177 55.8315,49.1289 C 56.3876,48.9078 56.707,48.3486 56.5429,48.7407 C 57.099,48.5196 57.4184,47.9604 58.2024,47.733 C 58.7584,47.5119 59.0779,46.9527 57.931,45.8887 C 58.8449,46.2619 60.6865,46.8165 63.0344,46.3191 L 62.1031,45.3305 C 60.7672,45.8712 59.1784,45.3728 59.538,45.535 L 58.7669,45.6171 L 58.3962,45.0217 C 58.738,44.2674 59.5411,42.8273 61.5309,43.079 L 61.6255,41.515 C 60.791,41.8466 60.3122,42.6876 58.057,43.8764 C 57.2226,44.208 56.7437,45.049 58.197,45.0333 C 57.2824,44.6602 55.4415,44.0925 53.42,45.1069 C 51.751,45.7708 50.7971,47.4477 51.0725,47.3125 C 50.1579,46.9401 48.3119,46.3804 45.046,47.3612 C 43.3684,48.0222 42.4195,49.7094 42.7675,50.0717 C 42.0395,49.7765 40.7444,49.375 39.9765,50.5494 C 38.6254,50.3184 37.2851,50.6915 35.2407,51.4009 C 34.8588,50.4863 33.9653,48.7736 33.2807,46.972 C 32.4586,46.6101 31.5269,46.8597 31.3584,45.6441 C 30.5363,45.2823 29.6046,45.5319 30.9024,47.3179 C 30.5212,46.4033 29.627,44.6994 25.8233,43.4672 C 24.1747,42.7508 22.32,43.2449 21.7258,44.0148 C 21.3417,43.0914 20.4431,41.3875 18.1979,40.8031 L 18.2039,41.8029 C 19.5259,42.3801 20.2809,43.8464 21.0221,45.5716 L 21.2988,44.7574 L 20.4793,45.0219 L 20.2973,46.009 C 19.911,46.1522 19.1134,46.3693 18.5531,44.6141 C 18.1669,44.7573 17.3692,44.9745 16.8053,44.8195 L 17.439,45.8599 C 19.0875,46.5763 20.9466,46.0814 20.466,45.9887 C 20.8435,46.9077 21.7413,48.6116 24.8439,49.3279 C 26.4881,50.0538 28.3472,49.5546 28.5854,48.6168 C 28.9673,49.5358 29.8615,51.2397 31.2434,52.8987 C 32.8897,53.6246 34.7511,53.1254 33.9124,52.0357 L 36.0052,52.7452 L 35.9831,54.194 L 35.4915,53.5464 C 34.5718,53.1616 32.7324,52.6048 30.2142,53.9099 m 0,0 m -4.59699,6.04242 C 24.2233,60.9534 22.6462,60.4585 21.0178,60.2027 L 22.032,60.2326 L 22.2537,59.7988 C 22.4221,59.4264 22.824,58.706 23.3647,59.224 C 23.533,58.8516 23.935,58.1312 23.4441,58.0869 C 24.7821,57.5549 26.3614,58.0563 27.5151,57.5418 L 28.7892,57.6073 L 28.7174,56.983 L 28.8139,58.0169 L 27.8784,58.3383 C 27.5424,59.0846 26.7364,60.5422 25.8978,59.8551 m 0,0 m 6.78351,-2.70223 m 0.158928,1.68484 m 0.415727,-1.06679 C 31.2683,59.0163 29.6905,58.5222 27.9119,56.5008 L 29.8589,56.7092 L 29.3227,57.5921 C 29.6601,56.8422 30.4588,55.3949 31.7129,54.9034 C 32.383,54.637 33.1715,54.8844 33.0053,54.6175 C 33.6754,54.3511 34.464,54.5985 34.6906,55.0204 L 34.9921,55.4537 L 34.6274,54.0486 L 35.1843,54.5932 L 35.5861,54.5508 L 35.0514,54.6398 C 34.9385,54.8927 34.6715,55.3713 33.9829,55.5329 C 33.87,55.7858 33.603,56.2644 33.1964,56.2988 C 33.0835,56.5517 32.8165,57.0302 32.2041,57.5106 m 0,0 m 18.8196,0.833611 m 1.32077,0.0181244 C 52.352,58.4947 53.9444,58.0509 53.8633,57.1455 C 55.1773,57.7219 55.9316,59.1933 58.0514,61.127 L 57.7194,60.9181 L 57.4228,61.097 C 57.1653,61.1908 56.6328,61.3409 55.5259,61.6139 C 55.2684,61.7077 54.7359,61.8578 53.9122,61.2966 C 53.6547,61.3904 53.1222,61.5405 53.8746,60.6244 C 52.5526,60.0472 51.7976,58.5852 50.781,58.4719 L 51.4518,57.6113 L 51.48,58.0353 L 51.0389,58.0438 L 50.1988,58.2625 m 0,0 m -5.01743,-3.92363 C 44.5804,54.9931 46.1742,54.5449 46.7279,54.2961 C 48.0412,54.8777 48.7955,56.3352 49.3142,57.0158 L 49.1006,57.5122 L 49.3726,58.0408 L 49.4649,57.8796 C 48.6924,58.1616 47.0949,58.612 46.3232,57.6667 C 45.0048,57.0902 44.2506,55.6276 45.3482,55.1352 L 43.2593,54.5451 L 43.7305,54.0976 L 43.2769,55.2597 m 0,0 m 10.8701,-8.92901 m -0.470718,-1.07563 C 54.9027,46.8974 55.4294,47.0592 55.076,46.5666 C 55.521,46.3915 56.0477,46.5533 56.0175,45.6484 C 56.4625,45.4733 56.9892,45.6351 57.8003,44.9225 L 57.8,46.5902 L 57.2847,46.116 L 57.0146,46.1293 L 57.6914,45.4684 C 57.3627,46.2183 56.5464,47.6627 55.6001,48.6271 C 54.93,48.8942 54.1403,48.6494 53.883,48.1642 C 53.2129,48.4313 52.4233,48.1865 50.1381,48.4096 L 51.6803,48.6629 L 51.7999,48.3847 L 50.6914,48.0187 C 51.0281,47.26 51.8319,45.8199 53.3633,45.9653 m 0,0 m -3.20595,1.75249 m -3.97472,2.31208 m 0.552071,-2.19391 C 47.9611,48.1632 49.5404,48.6646 50.1319,48.8681 L 49.3073,48.046 L 50.1304,48.9118 C 49.793,49.6661 48.9943,51.1062 46.9259,51.9104 C 45.5864,52.4519 44.0057,51.9571 43.7108,52.0118 L 43.6993,52.1669 L 44.1622,52.169 C 44.4945,51.4147 45.2984,49.9659 46.161,48.3577 m 0,0 m -1.05337,1.3663 m -2.06413,2.4408 m -0.0433582,-2.0337 m -1.33639,2.52007 L 42.8905,53.8152 L 42.372,52.0483 L 42.0736,52.5976 L 40.937,52.5137 L 42.0241,51.9513 L 42.5333,50.5851 L 42.784,52.9911 L 42.1554,53.049 L 42.5008,51.4677 m 0,0 m 0.0394935,1.34007 m 1.01617,1.07504 m -1.19389,0.679171 m -0.551501,-0.395123 m 0.278696,-0.0199651 L 43.2376,53.3448 L 42.7579,54.6106 L 42.0995,54.2226 L 42.2016,54.865 L 42.1421,55.0548 L 41.7529,54.33 L 43.4036,53.8268 m 0,0 m -5.43376,-2.32475 L 40.4723,51.26 L 40.8511,52.4129 C 41.5901,52.7299 42.1534,53.345 41.5103,53.5585 C 41.0731,54.1496 40.501,54.7435 41.1483,55.0711 L 38.8914,54.7636 L 38.3638,54.2933 C 37.619,53.9719 37.0593,53.3546 37.6428,52.8075 C 38.0735,52.2267 38.6507,51.6364 38.9697,51.7722 m 0,0 m -1.91207,-0.801747 m 0.577866,0.189257 m -1.52772,0.679615 m -0.159642,-0.118293 m 0.977793,-0.319871 L 37.2568,51.4835 L 36.6849,51.6597 L 37.3456,51.547 L 35.642,52.203 L 35.3512,51.2419 m 0,0 m 0.283072,1.75628 m 1.10574,-0.25896 m 0.404588,2.24999 L 36.4626,55.0087 L 35.9247,53.8513 L 37.3952,53.7814 L 36.3872,54.0116 L 35.4997,53.9594 m 0,0 m -7.67622,-4.8665 m 0.14529,-0.867084 C 25.9541,48.7275 24.3631,49.1823 24.646,47.9141 C 24.2053,47.7248 23.9551,47.2344 22.1999,47.0629 C 21.7593,46.8736 21.5091,46.3832 22.7122,45.7783 C 22.2715,45.5891 22.0213,45.0986 21.9355,44.7455 L 22.1987,45.1163 L 22.7167,44.8748 L 22.4785,45.4451 L 22.3589,45.5242 L 22.3188,46.0125 C 22.7047,45.8714 23.5027,45.6451 23.5735,45.2683 C 23.9594,45.1273 24.7574,44.901 25.9866,44.8449 C 26.4272,45.0373 26.6789,45.5275 27.2726,46.0509 C 27.7133,46.2433 27.9649,46.7335 28.3215,46.6135 C 28.7622,46.8059 29.0138,47.2961 28.1602,47.6949 L 28.0222,47.8277 L 28.2503,47.7363 L 27.5935,47.2081 Z\" fill=\"#000\"/></svg>"
      ],
      "text/plain": [
       "<IPython.core.display.SVG object>"
      ]
     },
     "metadata": {},
     "output_type": "display_data"
    },
    {
     "name": "stdout",
     "output_type": "stream",
     "text": [
      "target: standing man holding an x rays image\n",
      "result: with\n"
     ]
    },
    {
     "data": {
      "image/svg+xml": [
       "<svg xmlns=\"http://www.w3.org/2000/svg\" xmlns:ev=\"http://www.w3.org/2001/xml-events\" xmlns:xlink=\"http://www.w3.org/1999/xlink\" baseProfile=\"tiny\" fill-rule=\"evenodd\" height=\"150.44367760419846px\" version=\"1.2\" width=\"149.07926693558693px\"><defs/><path d=\"M 101.395,37.9896 m 0,0 m -0.852146,1.49469 L 103.742,37.781 C 104.071,37.781 104.339,38.0476 104.222,38.2907 C 104.552,38.2907 104.819,38.5574 104.694,39.1365 C 105.023,39.1365 105.29,39.4031 105.183,40.3964 C 105.183,41.3861 104.381,42.186 103.262,40.7501 L 101.759,41.5471 C 101.264,41.5471 100.864,41.1472 99.6205,40.9708 C 99.1257,40.9708 98.7257,40.5708 100.205,39.4939 C 100.205,38.5043 101.005,37.7043 101.474,39.3495 m 0,0 m -37.4128,36.8318 m -38.6465,35.3293 L 27.244,99.9503 L 25.7236,87.3031 L 26.7947,73.1756 L 26.3235,59.4165 L 26.6958,46.7406 C 26.6958,45.751 27.4975,44.9511 28.2947,45.9698 L 125.07,46.7133 C 126.057,46.7133 126.859,47.5133 126.91,47.1935 L 126.367,79.4819 L 126.938,111.247 C 126.938,112.238 126.136,113.036 125.881,112.87 L 66.0834,113.56 L 51.8032,112.396 L 27.9333,113.534 C 27.604,113.534 27.3367,113.268 28.3116,112.019 C 27.9823,112.019 27.715,111.753 27.7156,112.243 C 27.3863,112.243 27.119,111.977 27.0052,111.393 m 0,0 m 22.5858,19.1894 m 25.058,19.783 C 94.8955,150.444 111.684,133.654 111.937,112.767 C 132.648,112.767 149.436,95.9773 149.079,75.9973 C 149.079,34.5754 115.505,0.995466 74.1283,0 C 63.7733,0 55.3788,8.39498 55.8048,18.26 C 45.4498,18.26 37.0552,26.6549 36.6211,37.3078 C 26.266,37.3078 17.8715,45.7027 18.7249,56.7341 C 8.36989,56.7341 -0.0246372,65.1291 0,75.0449 C 0,116.465 33.5799,150.043 74.3174,149.607 m 0,0 m -52.0954,-31.5574 m -2.15161,-1.06561 L 19.6082,103.507 L 20.907,89.1157 L 19.6102,80.3246 L 19.9267,31.4438 C 19.9267,30.4541 20.7285,29.6542 22.2114,30.3113 L 76.9543,30.6492 L 130.483,30.6161 C 130.977,30.6161 131.378,31.0161 131.981,31.7205 C 132.475,31.7205 132.876,32.1205 133.044,31.4356 L 133.015,119.085 C 133.015,119.579 132.615,119.979 132.485,118.717 C 132.485,119.212 132.084,119.612 130.956,120.323 L 94.6306,119.653 L 58.8288,120.144 L 49.5425,120.511 L 22.1173,120.006 C 21.788,120.006 21.5208,119.739 21.6066,118.87 C 21.2774,118.87 21.0101,118.604 21.8219,118.489 C 21.4926,118.489 21.2253,118.223 20.4028,117.433 m 0,0 m 69.8344,-28.6867 L 90.8193,88.4561 L 89.8244,88.7485 C 89.5935,88.7467 89.3627,88.7055 91.367,88.5484 L 86.3152,85.4863 L 81.4509,85.0302 L 77.3162,81.8541 L 77.7368,91.3636 L 78.0156,101.725 L 92.0295,95.3105 L 92.4638,87.5843 L 91.0322,88.4234 L 90.4621,87.4553 C 90.3529,87.5009 90.2384,87.5224 91.2029,86.5632 C 91.0938,86.6088 90.9792,86.6303 90.4713,89.0372 m 0,0 m -14.5049,-2.13096 m -13.9503,1.37478 L 62.1413,87.3922 L 61.3259,87.5711 C 61.095,87.5711 60.8678,87.5282 60.8035,87.8776 L 61.2528,88.1264 L 59.877,95.9578 L 76.3667,99.9898 L 74.9046,83.0237 L 68.9956,85.9557 L 62.4268,86.9786 C 62.2066,87.0717 61.974,87.1129 62.4648,87.8012 m 0,0 L 122.913,110.668 L 123.391,79.284 L 122.915,48.5775 L 77.7846,50.4809 L 30.3886,48.8689 L 30.8319,72.8095 L 29.8852,86.5617 L 29.6858,108.471 L 40.9617,109.155 L 51.6844,109.993 L 66.0699,109.998 m 0,0 m -23.7099,-31.2832 m 1.51042,0.118812 C 43.7586,78.2398 44.1953,77.5866 42.7501,77.4666 L 56.0581,71.2429 L 42.8784,66.1957 C 42.2073,65.9183 41.7706,65.2633 42.2959,64.4839 C 42.2965,64.2424 42.4438,64.024 43.1397,64.0037 C 43.1403,63.7621 43.2877,63.5438 44.0296,63.7693 C 44.0302,63.5277 44.1776,63.3093 43.3779,63.2701 L 48.8067,60.9454 L 55.2331,59.3254 L 61.7219,56.1768 C 62.1568,55.9996 62.6436,56.0014 63.4118,55.6262 L 76.2756,62.1 L 83.5705,59.4181 L 89.3339,56.6064 C 89.767,56.4257 90.2555,56.4239 90.7055,56.2158 L 107.798,64.4857 C 108.133,64.6218 108.355,64.9492 109.59,64.636 C 109.926,64.772 110.148,65.0995 109.128,64.5472 C 109.128,65.2738 108.693,65.9288 109.263,65.6603 L 95.89,72.6377 L 102.895,75.7444 L 107.837,77.9211 C 108.508,78.1967 108.943,78.8535 109.115,78.6917 C 109.113,79.0541 108.893,79.3815 109.218,80.1602 C 109.216,80.5226 108.996,80.8501 108.234,80.995 L 95.5803,86.4443 L 95.7666,97.8989 C 95.7666,98.6273 95.3246,99.2823 94.8973,98.1631 L 75.9947,106.31 C 75.9732,106.32 75.9499,106.317 76.5692,106.494 C 76.4725,106.529 76.3696,106.553 76.3216,105.01 C 76.2249,105.045 76.122,105.068 76.9953,105.094 C 76.7913,105.094 76.5855,105.047 75.2491,105.962 C 75.2258,105.955 75.2061,105.958 75.4577,104.943 L 67.2541,102.344 L 57.8429,98.7241 C 57.1682,98.4503 56.7244,97.7917 57.3001,96.2134 L 56.1663,89.9351 L 56.4516,86.5466 L 43.7025,80.9181 C 43.0296,80.6407 42.5893,79.9893 43.812,78.6123 m 0,0 m 3.99074,11.9937 m 5.70067,13.2104 m 5.51305,11.6251 L 129.399,115.667 L 131.014,94.2917 L 129.72,75.2923 L 129.195,55.4181 L 128.702,34.2102 L 95.2943,33.2597 L 59.4525,34.1113 L 25.0185,34.4394 L 23.6625,57.6102 L 25.2255,80.6199 L 25.4151,88.1573 L 24.8927,116.236 L 37.7036,116.261 L 50.814,115.666 L 54.1488,116.808 L 59.43,116.033 m 0,0 m 31.2243,-39.0428 m 30.9774,-38.8548 m 0.419331,-0.59319 L 125.662,37.9841 C 126.155,37.9841 126.557,38.3841 126.529,38.4234 C 127.022,38.4234 127.424,38.8234 127.088,40.0598 C 127.088,40.3897 126.82,40.6563 125.985,40.4547 C 125.985,40.7845 125.717,41.0512 126.489,40.5891 C 126.489,40.919 126.221,41.1856 126.591,41.4971 L 123.043,41.1305 C 122.055,41.1305 121.253,40.3305 120.566,39.886 C 120.566,38.8964 121.366,38.0964 121.88,38.475 m 0,0 m -10.7146,-0.586006 L 113.792,38.2485 C 114.286,38.2485 114.686,38.6485 115.252,39.1584 C 115.746,39.1584 116.147,39.5584 115.823,38.8911 C 115.823,39.8807 115.021,40.6807 114.364,41.1241 L 112.161,41.0161 C 111.914,41.0161 111.714,40.8161 111.803,41.502 C 111.556,41.502 111.356,41.302 111.243,40.443 C 110.996,40.443 110.796,40.243 111.297,40.945 C 111.05,40.945 110.85,40.745 109.511,40.3169 C 109.511,39.3273 110.313,38.5273 111.591,37.1342 m 0,0 m -5.21861,1.36854 Z\" fill=\"#000\"/></svg>"
      ],
      "text/plain": [
       "<IPython.core.display.SVG object>"
      ]
     },
     "metadata": {},
     "output_type": "display_data"
    },
    {
     "name": "stdout",
     "output_type": "stream",
     "text": [
      "target: dropbox in browser variant inside circle\n",
      "result: \n"
     ]
    },
    {
     "data": {
      "image/svg+xml": [
       "<svg xmlns=\"http://www.w3.org/2000/svg\" xmlns:ev=\"http://www.w3.org/2001/xml-events\" xmlns:xlink=\"http://www.w3.org/1999/xlink\" baseProfile=\"tiny\" fill-rule=\"evenodd\" height=\"150.68902949569747px\" version=\"1.2\" width=\"126.02003164356574px\"><defs/><path d=\"M 3.45754E-06,143.619 C 3.45754E-06,147.979 3.53463,151.513 8.60585,150.689 C 12.966,150.689 16.5006,147.155 15.9416,142.588 L 17.6561,95.332 L 110.425,95.1999 C 119.146,95.1999 126.215,88.1309 125.621,79.4161 L 126.02,23.36 C 126.02,20.4532 123.664,18.0968 121.452,19.4792 C 121.452,16.5725 119.096,14.2161 116.365,15.3338 C 116.365,12.427 114.009,10.0706 110.256,8.23527 L 15.7334,8.10782 C 15.7334,3.74772 12.1988,0.213084 7.67536,0 m 0,0 m 8.41575,24.0979 L 15.6421,79.9418 L 111.182,79.6819 L 111.265,23.3992 L 61.9454,24.3367 L 16.3615,24.0582 m 0,0 m -3.76032,-11.1435 C 3.10895,0.289521 -0.425678,3.82407 1.7447,8.47648 L 0.0763959,42.7058 L 0.228495,75.9718 L 0.496332,109.432 L 0,143.619 Z\" fill=\"#000\"/></svg>"
      ],
      "text/plain": [
       "<IPython.core.display.SVG object>"
      ]
     },
     "metadata": {},
     "output_type": "display_data"
    },
    {
     "name": "stdout",
     "output_type": "stream",
     "text": [
      "target: lgbt flag with rod\n",
      "result: symbol c\n"
     ]
    },
    {
     "data": {
      "image/svg+xml": [
       "<svg xmlns=\"http://www.w3.org/2000/svg\" xmlns:ev=\"http://www.w3.org/2001/xml-events\" xmlns:xlink=\"http://www.w3.org/1999/xlink\" baseProfile=\"tiny\" fill-rule=\"evenodd\" height=\"150.19861198961735px\" version=\"1.2\" width=\"93.49207466002554px\"><defs/><path d=\"M 35.6852,88.8232 C 35.908,88.6872 36.1174,88.5356 36.2625,87.6785 C 36.4853,87.5424 36.6946,87.3909 36.6307,88.2465 C 36.8535,88.1105 37.0628,87.9589 37.2984,87.1605 C 37.5212,87.0244 37.7306,86.8729 37.756,87.008 C 38.5357,86.3368 39.2484,85.642 40.99,84.4252 C 41.5574,83.8047 42.0742,83.125 41.8985,81.612 C 41.7976,82.3071 41.7468,82.9445 42.6976,84.3225 C 42.7394,84.6764 42.8512,84.9421 41.1116,86.0367 C 41.1535,86.3906 41.2653,86.6563 43.1859,86.1764 C 43.367,86.3498 43.5909,86.4374 43.0249,85.8791 C 43.206,86.0526 43.4299,86.1402 44.6068,87.292 C 45.3605,87.292 46.1296,87.0763 46.0724,85.9594 C 46.8549,85.5265 47.5394,85.0021 47.3824,84.2064 C 47.4091,84.6534 47.536,84.9488 48.7658,85.5979 C 48.7925,86.0448 48.9194,86.3403 48.1682,86.3024 C 48.3171,86.4002 48.476,86.449 49.6773,86.0366 C 49.8262,86.1343 49.9851,86.1832 50.1552,88.3994 C 50.3041,88.4971 50.463,88.546 50.6657,86.8784 C 50.7859,86.8784 50.9232,86.8511 51.5034,86.5511 C 51.6236,86.5511 51.7609,86.5238 51.1898,86.3666 C 51.31,86.3666 51.4473,86.3393 52.3668,86.0589 C 52.8278,85.8909 53.3018,85.6175 53.5647,85.9894 C 53.9692,85.6764 54.3456,85.242 52.5381,84.4446 L 53.2192,88.3317 L 57.8016,87.3097 L 60.0106,77.489 C 60.2079,77.0126 60.4151,76.526 60.3795,76.5426 C 60.6006,76.0423 60.8263,75.5898 60.8899,74.1295 C 60.9641,73.9942 61.0431,73.8828 60.7155,76.4001 C 60.7897,76.2647 60.8686,76.1534 61.9528,73.9558 C 62.027,73.8205 62.1059,73.7091 63.4273,73.6255 C 63.5527,73.493 63.6711,73.4269 63.0722,75.0938 C 63.1976,74.9613 63.316,74.8951 63.1869,74.411 C 63.4929,74.411 63.5618,74.7352 63.659,74.6274 C 63.491,75.2703 63.2315,76.0627 60.7175,76.3389 C 60.6019,76.6557 60.4787,76.9996 62.7009,78.666 C 62.5853,78.9828 62.4622,79.3268 62.9857,78.4377 C 62.8701,78.7545 62.7469,79.0985 60.6322,81.5753 C 60.2404,82.6918 59.9755,83.7268 60.8182,83.9467 C 60.6771,84.8971 60.7309,85.6907 60.9959,85.8077 C 61.2469,86.4464 61.8448,86.7681 62.4545,87.1351 C 62.5749,87.1351 62.7125,87.1078 63.5111,85.31 C 63.6315,85.31 63.7691,85.2827 62.4749,86.3303 C 62.5952,86.3303 62.7329,86.303 63.9938,86.332 C 64.4533,86.164 64.927,85.8906 64.5809,85.6387 C 64.8247,85.4497 65.0588,85.2058 65.8587,85.8893 C 66.1025,85.7003 66.3366,85.4564 66.3444,84.4916 C 66.79,83.8913 67.1806,83.1608 68.432,81.4532 L 67.5468,82.616 L 67.4876,82.2789 C 67.1511,82.9976 66.739,83.4852 65.9333,82.9421 m 0,0 m -16.968,-1.17649 C 48.0218,81.3167 47.8976,81.775 49.4518,83.0585 C 49.3775,83.1145 49.2844,83.1779 48.1616,83.5712 C 48.0873,83.6272 47.9942,83.6907 48.1568,82.9748 C 48.0824,83.0308 47.9894,83.0943 46.8644,83.9332 C 46.6965,84.0389 46.5429,84.0904 47.7427,83.941 C 47.5748,84.0468 47.4212,84.0983 46.2001,83.2251 C 45.8376,83.2251 45.6228,82.9698 45.6636,83.2016 C 45.6463,83.0719 45.6567,82.9083 46.1855,82.2622 C 46.1682,82.1325 46.1787,81.969 46.4734,81.5536 C 46.4561,81.4239 46.4665,81.2603 45.8885,81.4762 C 45.8712,81.3465 45.8816,81.1829 46.2502,80.852 C 46.403,80.0581 46.6526,79.2067 47.664,77.5476 C 48.0129,76.641 48.3972,75.7894 47.4889,75.5389 C 47.629,75.2744 47.7779,75.0554 48.3281,75.1155 C 48.4682,74.8509 48.6171,74.6319 49.6499,74.3889 C 49.79,74.1244 49.939,73.9053 49.4932,74.0604 C 49.6112,73.9311 49.7261,73.8664 49.3456,74.0219 C 49.4637,73.8926 49.5786,73.8278 50.3221,74.2389 C 50.4401,74.1096 50.5551,74.0449 50.313,72.9701 C 50.431,72.8408 50.546,72.7761 51.0162,73.7245 C 51.1857,73.7245 51.3519,73.7547 50.5596,73.2063 L 48.8203,81.1159 m 0,0 m 44.1849,3.84246 L 91.3461,23.4765 C 91.3461,10.2718 71.0434,-0.0710338 46.3692,0 C 20.4514,0 0.148082,10.3429 0.992329,23.0983 L 0,125.631 C 0,130.033 6.76777,133.48 15.3166,136.48 C 15.3166,140.882 22.0844,144.329 30.769,142.321 C 30.769,146.722 37.5368,150.169 46.3847,150.199 C 72.3015,150.199 92.6057,139.856 92.3324,126.84 L 92.2271,86.8424 C 92.2328,86.7058 92.2636,86.5705 93.0643,86.9878 L 92.868,86.8411 L 92.9078,87.149 L 92.8803,86.433 L 92.1626,86.2683 m 0,0 m -0.157352,10.4569 m 0.0624737,9.97755 m -1.31257,9.97611 m -2.40479,8.96038 m 0.742797,0.781313 m 1.61568,0.0956385 C 88.5278,136.88 68.9583,146.064 47.0912,145.655 C 23.928,145.655 4.35815,136.471 3.25655,125.46 L 4.195,93.5944 C 9.42218,98.8817 20.5843,102.936 33.967,104.014 C 33.7695,104.373 33.6103,104.739 33.5935,105.624 C 33.1214,106.568 32.8434,107.606 33.9328,108.383 C 33.4607,109.327 33.1827,110.365 33.4216,112.33 C 33.4216,120.583 40.7749,127.299 48.373,127.704 C 55.2982,127.704 61.2057,123.749 62.9453,117.379 C 63.4016,116.449 63.6659,115.427 66.0922,114.522 C 66.5485,113.591 66.8128,112.569 64.0113,110.761 C 64.0113,108.221 63.2739,105.72 63.5822,103.954 C 66.5835,103.504 68.8464,102.613 69.8674,101.231 C 72.8687,100.781 75.1316,99.8897 76.4828,98.2835 C 79.4842,97.833 81.7471,96.942 82.1552,97.073 C 85.1566,96.6225 87.4195,95.7314 89.1067,93.7138 L 89.6527,126.446 L 88.8415,126.582 m 0,0 m -52.39,-16.3124 C 35.8287,110.048 36.2072,108.593 37.9204,107.726 C 38.9631,105.8 41.1596,104.457 42.8305,104.321 C 43.8732,102.396 46.0697,101.053 48.4697,100.785 C 52.0282,100.785 54.9228,103.36 54.8635,106.407 C 58.422,106.407 61.3165,108.982 61.4393,111.847 C 61.4393,113.285 61.1067,114.65 62.253,116.329 C 60.2326,120.32 55.7349,123.122 49.5082,122.376 C 42.3914,122.373 36.6002,117.224 36.9826,111.202 m 0,0 m 26.8275,-11.9053 m 24.9726,-12.5715 C 89.0711,95.0057 76.9501,100.746 60.7295,101.055 L 59.9705,101.375 C 57.0435,98.8933 53.1549,97.3409 48.4848,96.0342 C 46.969,96.0342 45.5963,96.6019 44.505,98.5885 C 42.9892,98.5885 41.6165,99.1563 41.5018,100.022 C 39.986,100.022 38.6134,100.589 37.2368,100.882 C 18.1968,99.3379 3.8995,93.1709 3.62979,86.7402 L 4.24713,86.5438 L 2.6673,33.8244 C 9.53486,42.3713 25.868,48.2486 46.7591,46.9444 C 66.2918,46.9444 82.6243,41.0686 89.5967,31.6505 L 88.8055,88.524 L 89.0479,88.0009 m 0,0 m -20.7456,-21.9512 m -22.1021,-22.5237 C 39.5829,42.3655 33.0596,39.3043 32.4038,37.7338 C 24.6827,37.7338 18.1595,34.6726 18.4973,28.4795 C 10.7762,28.4795 4.25293,25.4184 3.67972,23.86 C 3.67972,20.2354 10.2029,17.174 17.7556,16.994 C 17.7556,13.3693 24.2788,10.308 30.9998,9.5039 C 30.9998,5.87925 37.5229,2.8179 46.1111,3.43492 C 69.2747,3.43492 88.8442,12.619 89.7613,24.6877 C 89.7613,35.5635 70.1915,44.7457 45.3041,43.8492 m 0,0 C 36.9375,7.12932 29.1622,10.5705 28.7175,14.2953 C 18.7887,14.2953 11.0133,17.7364 10.4239,22.557 C 10.4239,26.9496 18.1993,30.3908 28.6504,30.749 C 28.6504,35.1416 36.4257,38.5828 45.7035,38.8264 C 65.5572,38.8264 81.1098,31.9441 80.6371,22.831 C 80.6378,18.4383 72.8608,14.9972 64.3562,15.1199 C 64.357,10.7273 56.5799,7.2861 45.5125,6.22771 m 0,0 m 0.225555,27.9494 m 1.67391,1.49017 m -1.09127,-0.990938 C 37.8762,35.0132 31.3216,31.8039 30.3695,28.7684 C 20.9633,28.7684 14.4087,25.5591 15.0712,22.0936 C 15.0712,16.3336 28.1807,9.91551 46.6991,9.77729 C 56.1035,9.77729 62.6581,12.9862 62.893,15.6838 C 72.2974,15.6838 78.852,18.8927 78.1367,22.9979 C 78.1375,25.8791 71.5821,29.0877 62.1848,29.1926 C 62.1855,32.0738 55.6302,35.2824 45.744,35.6977 m 0,0 m -20.7248,-12.3658 m 0.339275,0.126521 C 24.8949,29.0923 34.939,32.0791 46.4924,31.9541 C 56.4166,31.9541 66.461,28.9672 65.316,23.3521 C 65.316,11.9389 25.3809,11.9389 25.811,22.8826 m 0,0 m 9.26053,3.17936 m 10.6427,1.12328 C 36.1436,27.8707 29.7265,24.7878 28.4651,23.5879 C 28.4651,21.4654 34.8823,18.3831 43.7981,18.0224 C 48.8286,18.0224 52.0382,19.5634 54.2292,20.2527 C 59.2597,20.2527 62.4693,21.7937 62.4906,24.5334 C 62.4906,25.5944 59.281,27.1358 53.594,25.889 C 53.594,26.95 50.3844,28.4915 45.1282,28.4043 m 0,0 m 20.1678,54.856 C 65.3696,83.7973 65.0129,83.9242 65.5097,84.4807 C 65.0629,84.4807 64.8937,84.162 64.3569,84.0177 C 64.4668,83.3748 64.6967,82.5809 64.8642,79.9642 C 65.211,79.0165 65.5977,77.9791 65.4443,77.5728 C 65.8618,76.4421 66.169,75.4041 66.6925,74.8867 C 66.7898,74.413 66.7877,74.0144 66.7619,73.6712 C 66.8592,73.1975 66.8571,72.7989 66.7949,72.8852 C 66.6907,72.5647 66.4148,72.4031 65.78,71.4156 C 65.6758,71.095 65.3999,70.9334 65.8465,71.112 C 65.1206,71.112 64.4436,71.3558 63.4442,72.0124 C 62.8183,72.5031 62.2247,73.1356 61.4489,74.3789 L 60.5651,73.2231 L 60.434,72.5521 L 62.6011,71.1737 L 58.6564,70.1081 L 55.7307,82.8222 C 55.4317,83.3579 55.0933,83.7838 54.8243,83.0321 C 54.579,83.1788 54.3808,83.2309 51.847,84.0237 C 51.6017,84.1703 51.4035,84.2225 52.9278,84.3282 C 52.7036,84.2732 52.5502,84.0998 53.3236,84.189 C 53.2405,83.8956 53.3644,83.2174 52.5174,80.8287 C 52.685,80.2701 52.9376,79.4384 53.7469,78.9231 C 54.0795,77.8207 54.4179,76.7081 55.1009,75.6745 C 55.493,74.3634 55.9105,72.9653 54.9051,71.8585 C 54.4455,71.6492 53.9322,71.5726 53.5164,71.1043 C 53.0567,70.8949 52.5435,70.8184 52.986,70.4144 C 51.8579,70.5265 50.7272,70.8733 49.6747,72.3545 C 49.1101,72.6474 48.5761,73.0559 46.9359,72.4641 C 46.3713,72.757 45.8374,73.1656 45.6507,74.7654 C 44.6478,75.81 43.8216,77.0749 43.5357,77.9318 C 43.3834,78.278 43.2565,78.6002 42.0484,79.2427 C 41.8962,79.5889 41.7693,79.911 41.7537,79.2653 C 40.8141,80.6372 39.8353,81.9117 40.0632,82.8361 C 39.5049,83.4225 38.9113,83.9934 37.6198,84.5762 C 36.9918,85.136 36.3368,85.6366 37.822,86.6594 C 37.1389,87.1062 36.4417,87.4645 34.4479,88.044 C 34.0924,88.1765 33.7321,88.2427 32.3469,88.1824 C 31.9913,88.3149 31.6311,88.381 32.469,88.2869 C 31.4086,88.2869 30.5903,87.8612 28.5673,86.7874 C 27.9957,85.9382 27.6126,84.8063 27.6026,83.9589 C 27.5036,83.2545 27.5036,82.4544 28.3954,81.1472 C 28.2964,80.4429 28.2964,79.6428 27.4271,79.705 C 27.4923,79.11 27.6084,78.4981 28.9923,77.6394 C 29.0575,77.0444 29.1736,76.4325 30.0957,75.4134 C 30.1609,74.8184 30.277,74.2066 28.6923,73.0402 C 29.1956,71.1566 29.8278,69.3244 30.9027,67.577 C 31.6676,65.7928 32.5489,64.1948 34.1224,63.9398 C 35.1142,62.532 36.2027,61.4019 36.9558,60.3919 C 38.14,59.5403 39.3886,59.1146 39.5281,58.8289 C 39.9878,58.8289 40.3258,58.9103 42.7004,57.8107 C 43.16,57.8107 43.4981,57.8921 42.431,59.966 C 42.8645,60.2868 43.1083,60.6701 43.7633,60.044 C 43.8177,60.4902 43.7068,60.9639 42.9978,62.4856 C 42.7172,62.9895 42.3275,63.4291 41.1051,62.8184 C 40.6025,63.197 40.0103,63.4698 39.3069,64.3503 C 38.6259,64.518 37.8919,64.4763 38.0021,63.417 C 38.1411,63.9486 38.3644,64.4365 38.8462,66.3109 C 39.1247,66.7036 39.5011,67.0743 40.1795,64.8207 C 40.4163,64.9944 40.7374,65.0963 41.1193,66.5467 C 41.3562,66.7204 41.6773,66.8224 42.0925,67.0966 C 43.4574,67.2383 44.6367,67.0691 45.2856,65.63 C 46.2774,65.1518 47.0438,64.5261 48.0084,64.9378 C 48.5528,64.1553 48.8815,63.2959 48.7176,61.5895 C 48.8306,60.6569 48.6895,59.7778 48.162,59.8381 C 47.7702,59.014 47.1264,58.3225 45.1533,58.0788 C 44.7071,57.7992 44.1196,57.6593 45.5789,57.332 C 45.1327,57.0524 44.5451,56.9125 42.2706,56.632 C 40.3433,56.632 38.4666,57.1199 36.5408,57.587 C 35.626,58.0758 34.7753,58.722 34.3575,59.2296 C 33.4427,59.7184 32.592,60.3645 31.4428,62.8426 C 29.865,64.4513 28.4503,66.2772 27.9915,68.6115 C 27.3627,69.6371 26.8459,70.6843 25.8483,69.8002 C 25.2195,70.8258 24.7028,71.873 25.0952,74.1011 C 24.8252,74.8127 24.6419,75.5091 23.618,75.0366 C 23.348,75.7482 23.1647,76.4446 23.3557,77.3043 C 23.0858,78.0158 22.9025,78.7122 22.6149,80.5252 C 22.3215,82.5667 22.3563,84.3854 23.399,84.7372 C 23.7612,86.3419 24.4796,87.6319 24.3956,90.057 C 24.9336,90.5436 25.6899,90.7889 26.9038,90.5958 C 27.4418,91.0823 28.1981,91.3276 31.0353,90.454 C 31.5795,90.454 32.1021,90.3744 32.3629,91.2753 C 32.9072,91.2753 33.4298,91.1957 32.9182,89.2189 C 33.9226,88.9002 34.8715,88.4661 35.6853,88.8232 Z\" fill=\"#000\"/></svg>"
      ],
      "text/plain": [
       "<IPython.core.display.SVG object>"
      ]
     },
     "metadata": {},
     "output_type": "display_data"
    },
    {
     "name": "stdout",
     "output_type": "stream",
     "text": [
      "target: can of food with barcode\n",
      "result: \n"
     ]
    },
    {
     "data": {
      "image/svg+xml": [
       "<svg xmlns=\"http://www.w3.org/2000/svg\" xmlns:ev=\"http://www.w3.org/2001/xml-events\" xmlns:xlink=\"http://www.w3.org/1999/xlink\" baseProfile=\"tiny\" fill-rule=\"evenodd\" height=\"151.0690643612179px\" version=\"1.2\" width=\"146.98570165783167px\"><defs/><path d=\"M 15.3514,111.079 C 13.6183,111.949 11.8638,112.826 10.0712,112.676 C 8.3381,113.546 6.58359,114.423 4.24324,115.811 C 2.23324,116.693 3.27214,118.897 6.93913,120.933 C 4.92912,121.816 5.96803,124.019 8.29429,125.46 C 2.37033,139.035 -1.56907,148.054 0,146.906 C 0,146.906 -0.121337,151.418 3.08065,151.069 C 8.60069,144.489 13.7331,135.64 16.9301,125.956 C 51.028,122.97 141.662,49.3757 146.986,44.1605 C 151.765,37.1857 137.22,15.6071 135.933,21.3085 m 0,0 m -113.687,97.8432 m 0.408416,-1.42736 m 0.0550988,0.749343 C 21.892,119.54 21.054,119.509 20.9192,118.326 C 20.3869,118.826 19.5489,118.795 18.2248,118.289 C 17.2264,117.224 17.2834,115.551 19.4103,114.875 C 19.7652,114.542 20.3224,114.561 19.5779,114.097 C 19.9329,113.764 20.49,113.783 21.6381,114.481 C 21.9931,114.148 22.5502,114.167 23.991,115.199 C 24.9825,116.259 24.9304,117.937 22.8452,117.332 m 0,0 C 115.844,49.4308 78.9179,77.0266 27.6003,103.01 C 30.0348,97.6564 31.9579,93.5525 34.3435,92.11 C 38.8269,85.9197 47.9463,68.3893 48.5531,68.3409 C 48.5531,68.3409 53.3577,71.6858 52.0661,70.8207 C 52.7079,69.2731 79.8948,4.56273 80.1083,4.64762 C 80.1083,4.64762 67.2901,-9.6588 63.2562,0 C 60.2346,6.92764 33.2382,68.7324 15.3514,111.079 Z\" fill=\"#000\"/></svg>"
      ],
      "text/plain": [
       "<IPython.core.display.SVG object>"
      ]
     },
     "metadata": {},
     "output_type": "display_data"
    },
    {
     "name": "stdout",
     "output_type": "stream",
     "text": [
      "target: razor hair salon tool\n",
      "result: \n"
     ]
    },
    {
     "data": {
      "image/svg+xml": [
       "<svg xmlns=\"http://www.w3.org/2000/svg\" xmlns:ev=\"http://www.w3.org/2001/xml-events\" xmlns:xlink=\"http://www.w3.org/1999/xlink\" baseProfile=\"tiny\" fill-rule=\"evenodd\" height=\"151.90677912323736px\" version=\"1.2\" width=\"151.24626656470355px\"><defs/><path d=\"M 52.3311,94.3684 C 52.8581,93.3146 53.9178,92.6595 54.5029,93.2721 L 68.2811,92.1988 L 68.0426,106.012 L 46.5456,106.241 L 47.7534,105.809 m 0,0 m 16.1409,7.53361 m 14.6506,5.71838 C 78.7702,119.005 77.9269,118.162 77.8648,117.811 C 76.8284,117.811 75.9851,116.968 75.7947,115.211 L 75.0552,83.7884 C 75.0552,82.752 75.8983,81.9088 75.7257,82.286 C 75.7257,81.2496 76.5688,80.4064 79.6057,79.8401 L 86.2047,79.9089 C 87.2411,79.9089 88.0844,80.7521 86.3382,81.5994 C 87.3746,81.5994 88.2179,82.4426 88.4445,82.9787 L 88.4278,99.4897 L 88.0062,114.671 C 88.0062,115.707 87.1631,116.55 88.3389,117.612 C 88.3389,118.649 87.4958,119.492 84.7139,118.476 L 82.2453,119.864 L 79.4198,119.054 m 0,0 m -47.9905,-6.227 m -0.778281,-1.25034 L 8.48895,111.363 L 7.30601,106.25 L 8.75328,100.601 L 7.42655,96.0166 L 9.06246,89.841 L 33.8465,89.3588 C 36.3502,89.3588 38.2059,91.6838 38.9982,93.2327 L 35.2076,108.474 C 34.7392,110.533 32.9084,111.995 30.4858,112.624 m 0,0 L 128.896,98.2331 L 129.326,82.963 L 145.257,83.4567 C 148.169,83.4567 150.538,85.8253 151.246,87.9571 L 149.427,109.713 C 149.427,112.625 147.058,114.994 144.244,116.634 L 136.599,115.835 L 128.892,115.905 L 129.325,116.669 m 0,0 m -120.522,34.5543 m -0.127935,0.683994 C 6.2852,150.282 5.05385,149.051 6.0841,148.151 C 4.57062,148.151 3.33927,146.92 2.7135,144.722 C 1.20002,144.722 -0.0313305,143.49 0.667827,143.959 L 1.1385,40.0867 C 1.1385,39.6646 1.1385,36.5351 0,37.9705 L 36.6467,1.44646 C 36.6467,1.44646 39.8108,1.44646 40.8521,0.621549 L 78.7162,1.9095 L 119.02,2.07322 C 121.291,2.07322 123.138,3.92025 123.755,5.24652 C 126.026,5.24652 127.873,7.09354 128.087,9.51538 L 128.202,143.759 C 128.202,146.03 126.355,147.877 123.298,148.273 C 123.298,150.543 121.451,152.39 119.082,150.632 L 7.52066,150.483 L 9.6709,150.635 m 0,0 m 54.7897,-74.1498 m 54.7954,-74.9727 L 109.682,0 C 114.222,0 117.916,3.69405 118.297,9.12588 L 117.837,143.971 C 117.837,146.241 115.99,148.088 113.588,148.253 C 113.588,150.523 111.741,152.37 109.488,150.537 L 119.565,151.317 C 124.105,151.317 127.799,147.623 128.225,143.106 L 127.335,76.7036 L 126.784,9.43072 C 126.784,4.89057 123.09,1.19652 120.341,2.94587 m 0,0 m -70.3574,37.077 m -0.557441,-0.0371929 m 0.874028,-0.296685 L 63.7023,40.0092 L 74.4141,40.0688 L 88.7074,39.4563 C 90.0533,39.4563 91.1443,38.3656 90.017,37.6282 C 90.017,36.282 88.926,35.1913 87.8951,34.0137 L 49.2459,34.8472 C 48.5729,34.8472 48.0274,35.3926 48.0882,35.8931 C 47.4152,35.8931 46.8697,36.4385 46.7059,37.6883 C 46.7059,39.0345 47.7969,40.1252 49.7581,39.9123 m 0,0 m 27.6239,0.980136 m 27.5995,-0.497345 m -0.257929,1.15948 L 111.564,39.4374 C 112.91,39.4374 114.001,38.3467 114.395,38.8067 C 114.395,37.4605 113.304,36.3698 111.314,35.0601 L 104.645,35.2026 C 104.196,35.2026 103.832,35.5662 103.951,36.3639 C 103.503,36.3639 103.139,36.7274 102.904,37.3253 C 102.456,37.3253 102.092,37.6888 103.452,37.0495 C 103.452,38.3957 104.543,39.4864 104.215,39.8683 m 0,0 m -15.6647,12.3481 m -15.5031,11.7488 C 71.6285,61.7982 70.5375,60.7075 70.1763,61.3048 L 17.0397,61.8517 C 15.6938,61.8517 14.6028,62.9424 15.7083,62.6285 C 15.7083,63.9746 16.7994,65.0654 16.4385,65.1607 L 69.6023,66.0365 C 70.0508,66.0365 70.4145,65.6729 71.5861,65.7354 C 72.0346,65.7354 72.3983,65.3718 71.5702,64.5518 C 72.0188,64.5518 72.3824,64.1882 72.7106,64.2533 m 0,0 m 38.6912,-2.84328 L 83.1765,60.7839 C 81.8306,60.7839 80.7396,61.8746 79.0178,64.0572 C 79.0178,65.4034 80.1088,66.4941 82.4807,65.9789 L 95.5646,66.9262 L 110.997,66.5041 C 111.67,66.5041 112.216,65.9587 113.052,64.9887 C 113.725,64.9887 114.271,64.4433 113.015,62.7318 C 113.015,61.3856 111.924,60.2948 110.98,60.4369 m 0,0 m -55.1893,-9.73665 m -53.832,-11.9214 L 12.3839,26.4766 L 23.9688,14.1132 L 36.1647,2.49837 L 36.308,11.3049 L 37.5699,22.3713 L 36.974,31.75 C 36.974,33.1365 35.8461,34.2646 34.1024,35.4248 C 34.1024,36.8113 32.9745,37.9393 32.0642,37.7929 L 16.7921,38.0409 L 1.29743,37.6497 m 0,0 m 78.3954,81.242 L 79.1554,80.0392 L 106.789,81.5146 L 134.826,80.1446 C 136.565,80.1446 137.981,81.5597 138.198,82.8288 L 138.468,98.6911 L 138.762,116.092 C 138.762,116.962 138.054,117.67 136.375,117.161 C 136.375,118.031 135.667,118.739 133.521,118.459 L 79.5387,119.288 m 0,0 m 9.85853,-6.13266 m 9.71991,-6.86038 m 10.0591,-6.53322 C 104.206,100.567 101.151,97.5105 100.839,92.7662 L 102.529,87.8712 L 102.033,84.0557 L 101.934,80.3106 L 114.969,80.2003 L 128.454,79.8493 L 127.659,86.8496 L 126.423,92.3466 C 126.423,93.5988 125.405,94.6175 125.765,94.625 C 125.765,95.8773 124.747,96.8959 124.262,95.721 C 124.262,96.9732 123.243,97.9919 121.539,99.9689 L 108.402,100.329 m 0,0 m -30.1695,-30.0912 m -28.5933,-29.7005 m 0.92839,-0.562362 L 60.0165,39.28 L 67.918,40.193 L 78.2765,38.9119 L 88.0882,40.0052 C 89.4341,40.0052 90.5251,38.9145 91.3153,37.728 C 91.3153,36.3818 90.2243,35.2911 88.5072,36.0911 L 49.7447,33.9111 C 48.3988,33.9111 47.3078,35.0018 47.9447,38.0401 C 47.9447,38.7132 48.4902,39.2586 48.6252,38.6743 C 48.6252,39.3474 49.1707,39.8927 49.5273,40.5461 m 0,0 m 55.4569,-0.395258 m -0.366084,0.429282 m -0.154941,-0.61882 m -0.437993,-0.789263 L 107.698,38.7697 L 111.599,38.5325 C 112.945,38.5325 114.036,37.4418 114.335,37.5484 C 114.335,36.2022 113.244,35.1115 111.583,35.464 L 107.825,35.4798 L 104.394,35.8053 C 103.048,35.8053 101.957,36.8961 103.456,37.7127 C 103.456,38.3858 104.002,38.9312 103.742,39.4862 C 103.742,40.1593 104.287,40.7046 104.742,40.2611 m 0,0 m -32.7941,22.4269 m -0.69669,1.73385 m -0.291295,-0.365086 C 72.7403,61.1962 71.6493,60.1055 68.8158,61.2545 L 17.6605,61.1056 C 16.3146,61.1056 15.2236,62.1964 14.7299,64.1375 C 14.7299,64.8106 15.2755,65.356 16.0748,64.111 C 16.0748,64.7841 16.6203,65.3294 17.6915,66.402 L 68.9957,65.7838 C 70.3413,65.7838 71.4323,64.6931 71.8266,64.1786 m 0,0 m 40.3747,-3.42273 L 96.4689,61.3313 L 81.8053,60.5807 C 80.4594,60.5807 79.3684,61.6714 79.2045,63.1394 C 79.2045,64.4856 80.2955,65.5763 83.2711,66.0554 L 91.312,65.6909 L 101.071,67.0334 L 110.792,66.6944 C 112.138,66.6944 113.229,65.6036 113.746,63.3443 C 113.746,63.0078 113.474,62.7351 113.4,63.316 C 113.4,62.9794 113.127,62.7067 112.149,61.5755 C 112.149,61.239 111.876,60.9663 112.699,62.2785 C 112.699,61.942 112.426,61.6693 111.07,61.4882 m 0,0 m -8.52807,71.2341 m -1.49782,0.326046 L 30.4741,132.724 C 29.1282,132.724 28.0372,133.815 28.0905,135.603 C 28.0905,136.052 28.4542,136.415 27.7641,137.362 C 27.7641,137.811 28.1278,138.175 28.7003,137.128 C 28.7003,137.577 29.0639,137.941 29.7725,137.616 L 101.54,137.491 C 102.213,137.491 102.758,136.946 102.631,135.709 C 103.304,135.709 103.849,135.164 103.858,135.864 C 103.858,135.191 103.312,134.645 103.467,133.515 C 103.467,132.842 102.921,132.297 100.843,132.608 m 0,0 m -25.7406,-13.9186 m -27.1205,-13.431 m -0.283673,1.02246 C 46.6712,106.341 46.4367,105.961 47.7965,105.508 C 47.436,105.508 47.2014,105.129 48.3662,105.343 C 48.0057,105.343 47.7711,104.964 47.3167,105.091 L 52.3311,94.3684 Z\" fill=\"#000\"/></svg>"
      ],
      "text/plain": [
       "<IPython.core.display.SVG object>"
      ]
     },
     "metadata": {},
     "output_type": "display_data"
    },
    {
     "name": "stdout",
     "output_type": "stream",
     "text": [
      "target: highlighter document\n",
      "result: \n"
     ]
    },
    {
     "data": {
      "image/svg+xml": [
       "<svg xmlns=\"http://www.w3.org/2000/svg\" xmlns:ev=\"http://www.w3.org/2001/xml-events\" xmlns:xlink=\"http://www.w3.org/1999/xlink\" baseProfile=\"tiny\" fill-rule=\"evenodd\" height=\"150.36727411206812px\" version=\"1.2\" width=\"131.20292108505964px\"><defs/><path d=\"M 77.3028,76.0893 C 71.2615,59.7894 73.0553,40.8926 83.0632,26.1571 C 93.7882,10.8401 110.932,2.69144 127.94,3.72107 m 0,0 m -6.80331,49.8625 C 111.299,68.3366 94.1555,76.485 75.5547,77.5497 L 103.141,40.2978 L 128.706,2.91595 C 130.216,6.99093 129.767,11.7152 126.587,15.9702 C 128.097,20.0452 127.649,24.7694 126.024,28.0621 C 127.534,32.137 127.086,36.8613 123.687,39.0823 C 125.198,43.1572 124.749,47.8815 121.635,53.3929 m 0,0 m -118.829,-50.9897 L 7.86275,17.3114 L 12.5272,32.3448 L 18.1285,47.3138 L 35.991,60.95 L 54.7872,76.028 C 57.8079,67.878 56.911,58.4296 50.9432,52.2343 C 53.9638,44.0844 53.0669,34.636 48.0661,25.9661 C 37.3402,10.6491 20.1969,2.50045 3.05669,2.68114 m 0,0 m 6.99994,50.1273 C 21.0369,68.9326 38.1809,77.081 54.0896,75.7307 L 36.5621,51.5732 L 19.9111,26.9635 L 2.03348,2.95985 C -4.00753,19.2597 -2.21398,38.1568 9.30691,53.8469 m 0,0 m 26.6715,33.5326 m 29.4446,34.2521 m -1.71613,0.97251 C 44.4512,121.974 25.0408,131.977 11.4984,147.63 L 119.318,147.793 C 106.589,132.139 87.1781,122.135 65.3628,122.151 m 0,0 m 3.84016,-13.8622 m 4.6555,-15.7965 m 3.70889,-13.7542 C 81.741,78.6112 86.0177,76.3508 90.0621,73.0366 C 94.6435,72.9622 98.9201,70.7017 102.036,67.0382 C 106.618,66.9638 110.894,64.7033 111.723,61.3323 C 116.305,61.2579 120.581,58.9974 124.296,55.6507 C 135.065,40.2716 137.592,20.5636 131.203,0.793021 C 130.857,-0.140671 129.968,-0.762936 127.685,0.130408 C 127.573,0.129822 127.461,0.129529 129.157,0.0468577 C 110.48,0.0468577 92.9714,9.14559 80.5277,25.3338 C 75.2647,32.8502 73.9414,42.434 78.1834,49.7651 C 72.9204,57.2815 71.597,66.8653 74.6601,76.1389 L 65.2399,88.4002 L 61.2206,81.6207 L 57.413,76.138 C 63.4019,58.8154 60.7552,39.6476 50.2041,25.1316 C 39.4999,9.84362 21.9933,0.746065 3.03285,0.246669 C 2.92152,0.246669 2.80697,0.246962 2.55852,0 C 2.06047,0.00307617 1.61633,0.313916 1.38766,0.618242 C 0.889609,0.621318 0.445469,0.932158 0,0.808478 C -6.53438,18.4402 -4.00693,38.1482 6.79038,53.5084 C 17.3165,68.5415 34.4214,77.5834 54.3571,78.6709 L 63.9621,93.4101 L 62.6429,119.738 C 41.8369,120.422 22.5003,129.991 9.72912,146.78 C 9.31208,147.293 9.38986,148.047 10.2027,147.573 C 9.78566,148.086 9.86344,148.84 9.34099,149.676 C 10.3664,150.511 11.874,150.355 14.1313,149.191 C 20.5329,141.319 30.0156,136.804 39.473,137.649 C 45.8747,129.777 55.3573,125.262 65.4346,125.092 C 85.6989,125.092 104.664,134.122 117.309,149.221 C 117.782,149.803 118.472,150.104 119.101,150.367 C 119.632,150.367 120.166,150.192 121.095,149.835 C 122.121,149.001 122.276,147.493 121.65,146.124 C 115.044,138 105.376,133.216 94.4513,132.675 C 87.8456,124.552 78.1772,119.767 68.168,119.135 L 68.0323,93.7541 L 77.2372,79.8918 m 0,0 m 8.11084,-52.0511 C 95.0168,13.2504 110.471,4.9887 127.278,4.74382 C 132.551,20.4906 130.074,37.8405 119.26,53.4915 C 110.298,66.2904 96.1309,74.3544 81.6272,73.9972 L 98.2142,50.8599 L 115.392,48.7294 C 116.694,48.5 117.563,47.2584 118.472,45.3909 C 118.243,44.0893 117.002,43.2206 114.936,42.8053 L 101.8,44.7689 L 112.315,29.7183 L 123.543,13.2845 C 123.922,12.7431 123.791,11.9969 123.275,12.1429 C 123.654,11.6015 123.522,10.8553 122.838,11.3704 C 121.755,10.6122 120.263,10.8752 118.274,12.0191 L 111.965,22.5718 L 104.017,31.8425 L 98.4214,42.8939 L 94.6801,30.3094 C 94.5654,29.6584 93.9452,29.2238 93.3745,28.9096 C 93.2598,28.2586 92.6396,27.824 91.3332,27.6294 C 90.8992,27.7059 90.6094,28.1197 92.504,28.6326 C 92.07,28.7091 91.7803,29.123 89.9696,28.5505 C 89.5356,28.627 89.2458,29.0408 90.0276,30.3018 L 93.5156,50.2448 L 78.1023,70.9389 C 74.0417,55.9913 76.7734,39.9188 85.4092,27.4027 m 0,0 m -74.2172,24.2789 C 8.48469,47.5053 7.659,41.7221 8.34081,35.337 C 5.15859,30.792 4.3329,25.0089 6.47447,20.7539 C 3.29224,16.209 2.46656,10.4259 4.79642,5.54879 C 21.3972,5.97975 36.8536,14.2412 45.786,27.8474 C 48.7732,32.1135 49.6836,37.471 49.5108,41.7097 C 52.498,45.9758 53.4085,51.3332 50.3973,56.5148 C 53.3845,60.7809 54.2949,66.1384 53.2362,70.5199 L 37.5481,48.3032 L 39.6267,39.2485 L 41.0847,31.0857 C 41.314,29.7838 40.4448,28.5425 39.4948,26.7239 C 38.194,26.4942 36.9515,27.3635 36.2014,29.6877 L 33.7774,43.4826 L 12.6231,11.0484 C 11.8652,9.96556 10.3722,9.70247 8.65968,10.8762 C 8.11827,11.2553 7.98658,12.0015 8.47727,13.7067 C 7.93586,14.0858 7.80418,14.832 7.15839,14.7287 L 29.9007,46.6438 L 22.5386,45.6187 L 16.8759,42.7738 C 15.5755,42.5441 14.3327,43.4134 13.2886,45.06 C 13.0592,46.3619 13.9281,47.6032 14.6773,48.1689 L 33.3199,51.4542 L 41.6703,62.6543 L 50.1777,74.6282 C 34.7435,73.3312 20.5749,65.2678 11.0182,51.6838 m 0,0 m 70.2237,80.8341 C 81.8613,131.336 81.4795,131.717 80.723,131.866 C 80.2538,131.866 79.8719,132.248 78.7718,131.834 C 78.3026,131.834 77.9207,132.216 78.6655,134.169 C 78.6655,134.872 79.2382,135.445 79.6677,136.672 C 79.6677,137.376 80.2404,137.948 81.8486,135.921 C 82.3179,135.921 82.6997,135.539 82.9439,136.642 C 83.4131,136.642 83.795,136.26 83.7017,134.757 C 84.1709,134.757 84.5528,134.375 83.9816,134.552 C 83.9816,134.082 83.5997,133.701 82.4031,133.522 C 82.4031,133.053 82.0213,132.671 81.9271,132.417 C 81.9271,131.948 81.5453,131.566 81.0154,131.2 m 0,0 m 12.8403,5.26806 m -0.214391,0.104225 m 0.526322,0.0192598 C 93.2067,136.517 92.6339,137.09 92.7477,137.06 C 92.0438,137.06 91.4711,137.633 91.4809,138.632 C 91.4809,139.336 92.0536,139.909 91.7694,139.949 C 91.7694,140.653 92.3422,141.226 93.0133,141.923 C 94.421,141.923 95.5665,140.778 96.1673,139.279 C 96.1673,137.871 95.0218,136.726 92.6797,136.347 m 0,0 m -26.6285,-0.0699448 m -28.6691,0.122471 C 36.2092,136.534 35.0637,137.68 35.2545,138.416 C 35.2545,139.12 35.8273,139.693 36.7949,141.282 C 36.7949,141.986 37.3677,142.558 37.8059,140.451 C 39.2136,140.451 40.3591,139.305 40.398,138.509 C 40.398,137.805 39.8253,137.233 39.8678,137.142 C 39.8678,136.438 39.2951,135.865 38.033,135.969 m 0,0 m 46.454,-66.9151 L 119.595,24.9389 L 112.217,46.5857 L 77.3028,76.0893 Z\" fill=\"#000\"/></svg>"
      ],
      "text/plain": [
       "<IPython.core.display.SVG object>"
      ]
     },
     "metadata": {},
     "output_type": "display_data"
    },
    {
     "name": "stdout",
     "output_type": "stream",
     "text": [
      "target: yard leaves\n",
      "result: \n"
     ]
    },
    {
     "data": {
      "image/svg+xml": [
       "<svg xmlns=\"http://www.w3.org/2000/svg\" xmlns:ev=\"http://www.w3.org/2001/xml-events\" xmlns:xlink=\"http://www.w3.org/1999/xlink\" baseProfile=\"tiny\" fill-rule=\"evenodd\" height=\"149.6406285557896px\" version=\"1.2\" width=\"75.35576757509261px\"><defs/><path d=\"M 11.7339,5.35384 m 0,0 m 0.0570299,-0.234781 C 11.2449,5.10089 9.9816,6.36417 9.56338,7.21309 C 8.01047,7.21309 6.74719,8.47636 5.58859,10.2528 C 5.58859,13.3586 8.11515,15.8852 11.8164,17.4075 C 14.9222,17.4075 17.4488,14.8809 17.6442,10.9508 C 17.6442,7.84496 15.1179,5.31841 10.4723,5.14485 m 0,0 m 30.8676,55.9401 m 28.639,55.3717 m -0.0459052,0.664618 m 1.01424,-0.0453572 C 70.4632,138.903 56.2609,150.694 38.2771,149.641 C 20.7578,149.641 6.55552,137.85 6.4799,116.587 C 6.4799,109.301 11.214,101.122 17.8565,101.114 C 17.8565,93.828 22.5906,85.6485 28.3219,86.0862 C 28.3219,78.8002 33.056,70.6207 38.1314,70.7549 C 55.6507,70.7549 69.853,95.2931 70.9033,116.68 m 0,0 m -1.86075,-32.7687 m -1.21216,-30.353 C 63.3161,21.7988 61.681,20.1639 61.0432,16.4071 C 59.0337,16.4071 57.3985,14.7722 58.3439,14.8028 C 56.3344,14.8028 54.6992,13.1679 55.3788,10.2314 C 55.3788,4.20211 60.2841,-0.702573 66.2831,0 C 69.2974,0 71.7501,2.45234 70.6329,5.54823 C 73.6472,5.54823 76.0999,8.00057 75.3558,10.2085 C 75.3558,16.2378 70.4511,21.1425 65.5221,20.6868 m 0,0 m -0.181913,-15.1289 m -0.103494,-0.229337 C 64.0822,5.20525 62.8189,6.46853 62.4785,8.39922 C 60.9256,8.39922 59.6623,9.6625 60.1123,9.88507 C 60.1123,10.9204 60.9544,11.7625 62.0528,12.7284 C 62.0528,13.7637 62.895,14.6059 63.0697,15.6372 C 63.0697,16.6725 63.9119,17.5147 65.8934,16.6733 C 68.9993,16.6733 71.5258,14.1468 70.7336,10.6071 C 70.7336,7.50127 68.2074,4.97471 65.8647,5.67015 m 0,0 m -53.4685,15.9755 C 8.74408,22.2955 6.2914,19.8431 6.87124,16.1185 C 3.85692,16.1185 1.40424,13.6662 0,10.5167 C 0,4.48736 4.90537,-0.417331 12.1081,0.18123 C 13.6153,0.18123 14.8416,1.4074 13.9856,2.81395 C 15.4927,2.81395 16.7191,4.04012 19.041,5.24025 C 20.5482,5.24025 21.7745,6.46642 20.5022,8.47162 C 22.0094,8.47162 23.2357,9.69779 21.1464,10.3258 C 21.1464,12.3356 19.5115,13.9705 19.0984,14.2716 C 19.0984,16.2814 17.4635,17.9163 15.1879,18.1633 C 15.1879,20.1731 13.553,21.8079 10.8503,21.4596 m 0,0 Z\" fill=\"#000\"/></svg>"
      ],
      "text/plain": [
       "<IPython.core.display.SVG object>"
      ]
     },
     "metadata": {},
     "output_type": "display_data"
    },
    {
     "name": "stdout",
     "output_type": "stream",
     "text": [
      "target: easter day calendar\n",
      "result: \n"
     ]
    }
   ],
   "source": [
    "sample(c, model, test_dl, device=device, p_value=0.5)"
   ]
  },
  {
   "cell_type": "code",
   "execution_count": null,
   "id": "absolute-heating",
   "metadata": {},
   "outputs": [],
   "source": []
  }
 ],
 "metadata": {
  "kernelspec": {
   "display_name": "Python 3",
   "language": "python",
   "name": "python3"
  },
  "language_info": {
   "codemirror_mode": {
    "name": "ipython",
    "version": 3
   },
   "file_extension": ".py",
   "mimetype": "text/x-python",
   "name": "python",
   "nbconvert_exporter": "python",
   "pygments_lexer": "ipython3",
   "version": "3.9.7"
  }
 },
 "nbformat": 4,
 "nbformat_minor": 5
}
