{
 "cells": [
  {
   "cell_type": "markdown",
   "id": "intermediate-depression",
   "metadata": {},
   "source": [
    "<div><img src=\"blob/structure.jpg\" width=400px float=\"left\"/></div>\n",
    "\n",
    "# SVG to Text with CNN and Transformer"
   ]
  },
  {
   "cell_type": "code",
   "execution_count": 1,
   "id": "postal-complement",
   "metadata": {},
   "outputs": [],
   "source": [
    "import io\n",
    "import os\n",
    "import math\n",
    "import numpy as np\n",
    "import random\n",
    "\n",
    "import matplotlib.pyplot as plt\n",
    "from IPython.display import clear_output\n",
    "# from cairosvg import svg2png\n",
    "from IPython.display import SVG, display\n",
    "import svgwrite\n",
    "from PIL import Image\n",
    "\n",
    "import torch\n",
    "import torch.nn as nn\n",
    "import torch.optim as optim\n",
    "import torch.nn.functional as F\n",
    "from torch.utils.data import Dataset, DataLoader\n",
    "\n",
    "from nltk.tokenize import WordPunctTokenizer\n",
    "from subword_nmt.learn_bpe import learn_bpe\n",
    "from subword_nmt.apply_bpe import BPE\n",
    "from nltk.translate.bleu_score import corpus_bleu\n",
    "\n",
    "from sklearn.model_selection import train_test_split\n",
    "\n",
    "from model import *\n",
    "import svg_converter as converter"
   ]
  },
  {
   "cell_type": "code",
   "execution_count": 2,
   "id": "committed-latter",
   "metadata": {},
   "outputs": [
    {
     "data": {
      "text/plain": [
       "'cpu'"
      ]
     },
     "execution_count": 2,
     "metadata": {},
     "output_type": "execute_result"
    }
   ],
   "source": [
    "device = torch.device(\"cuda\" if torch.cuda.is_available() else \"cpu\")\n",
    "device.type"
   ]
  },
  {
   "cell_type": "markdown",
   "id": "ceramic-pizza",
   "metadata": {},
   "source": [
    "### Preprocessing"
   ]
  },
  {
   "cell_type": "code",
   "execution_count": 3,
   "id": "received-apartment",
   "metadata": {},
   "outputs": [],
   "source": [
    "def tokenize(x):\n",
    "    return ' '.join(tokenizer.tokenize(x.lower()))\n",
    "\n",
    "def names_to_file(fn_tok_path, folder_path):\n",
    "    with open(fn_tok_path, 'w') as f:\n",
    "        filenames = []\n",
    "\n",
    "        for root, _, files in os.walk(folder_path):\n",
    "            for file in files:\n",
    "                filename, extension = os.path.splitext(file)\n",
    "                if extension == '.svg':\n",
    "                    filenames.append(filename)\n",
    "\n",
    "        for line in filenames:\n",
    "            _, filename = line.strip().split('_')\n",
    "            filename = filename.replace('-', ' ')\n",
    "            f.write(tokenize(filename) + \"\\n\")\n",
    "\n",
    "def get_svg_paths(folders):\n",
    "    svg_paths = []\n",
    "\n",
    "    for i, folder in enumerate(folders):\n",
    "        files = [file for file in os.listdir(folder)]\n",
    "\n",
    "        for file in files:\n",
    "            svg_name = file[:-4] # del \".svg\"\n",
    "            svg_name = svg_name.strip().split('_')\n",
    "\n",
    "            if len(svg_name) > 1:\n",
    "                svg_name = svg_name[1]\n",
    "            else:\n",
    "                svg_name = svg_name[0]\n",
    "                \n",
    "            svg_name = svg_name.replace('-', ' ')\n",
    "            svg_name = tokenize(svg_name)\n",
    "            svg_name = filenames_bpe.process_line(svg_name)\n",
    "\n",
    "            svg_path = os.path.join(folder, file)\n",
    "\n",
    "            svg_paths.append([svg_name, svg_path])\n",
    "\n",
    "    return svg_paths"
   ]
  },
  {
   "cell_type": "code",
   "execution_count": 4,
   "id": "classified-label",
   "metadata": {},
   "outputs": [],
   "source": [
    "dataset_path = 'dataset'\n",
    "tokenizer = WordPunctTokenizer()"
   ]
  },
  {
   "cell_type": "code",
   "execution_count": 5,
   "id": "whole-shape",
   "metadata": {},
   "outputs": [],
   "source": [
    "# fn_tok_path = 'dataset/filenames_tokenized.txt'\n",
    "# names_to_file(fn_tok_path, dataset_path)\n",
    "# learn_bpe(open(fn_tok_path), open('bpe_rules.fnt', 'w'),  num_symbols=2000)"
   ]
  },
  {
   "cell_type": "code",
   "execution_count": 7,
   "id": "documented-background",
   "metadata": {},
   "outputs": [],
   "source": [
    "filenames_bpe = BPE(open('checkpoints/bpe_rules_model_0.1.fnt'))"
   ]
  },
  {
   "cell_type": "code",
   "execution_count": 8,
   "id": "packed-diary",
   "metadata": {},
   "outputs": [
    {
     "name": "stdout",
     "output_type": "stream",
     "text": [
      "5266\n"
     ]
    }
   ],
   "source": [
    "folders = os.listdir(dataset_path)\n",
    "folders = [os.path.join(dataset_path, foldername)\n",
    "           for foldername in folders\n",
    "           if os.path.isdir(os.path.join(dataset_path, foldername))]\n",
    "\n",
    "print(len(folders))\n",
    "\n",
    "all_svg_paths = np.array(get_svg_paths(folders[:2500]))"
   ]
  },
  {
   "cell_type": "code",
   "execution_count": 9,
   "id": "sorted-crisis",
   "metadata": {},
   "outputs": [
    {
     "data": {
      "text/plain": [
       "(149693,\n",
       " array([['fre@@ e@@ do@@ m',\n",
       "         'dataset/4111_womens-day-2/244552_freedom.svg'],\n",
       "        ['equ@@ ality g@@ ender',\n",
       "         'dataset/4111_womens-day-2/244545_equality-gender.svg'],\n",
       "        ['a@@ chi@@ e@@ ve@@ ment mountain',\n",
       "         'dataset/4111_womens-day-2/244542_achievement-mountain.svg'],\n",
       "        ['educ@@ ation col@@ le@@ ge',\n",
       "         'dataset/4111_womens-day-2/244551_education-college.svg'],\n",
       "        ['stop vi@@ o@@ l@@ ence woman',\n",
       "         'dataset/4111_womens-day-2/244556_stop-violence-woman.svg']],\n",
       "       dtype='<U180'))"
      ]
     },
     "execution_count": 9,
     "metadata": {},
     "output_type": "execute_result"
    }
   ],
   "source": [
    "len(all_svg_paths), all_svg_paths[:5]"
   ]
  },
  {
   "cell_type": "code",
   "execution_count": 10,
   "id": "biological-webcam",
   "metadata": {},
   "outputs": [],
   "source": [
    "train_paths, test_paths = train_test_split(\n",
    "    all_svg_paths,\n",
    "    test_size=0.2,\n",
    "    random_state=42,\n",
    ")"
   ]
  },
  {
   "cell_type": "code",
   "execution_count": 11,
   "id": "distant-technology",
   "metadata": {},
   "outputs": [
    {
     "data": {
      "text/plain": [
       "(119754,\n",
       " 29939,\n",
       " array(['apple sof@@ tw@@ are user interface',\n",
       "        'dataset/5282_solid-line-icons/304411_apple-software-user-interface.svg'],\n",
       "       dtype='<U180'))"
      ]
     },
     "execution_count": 11,
     "metadata": {},
     "output_type": "execute_result"
    }
   ],
   "source": [
    "len(train_paths), len(test_paths), train_paths[0]"
   ]
  },
  {
   "cell_type": "code",
   "execution_count": 12,
   "id": "danish-fitness",
   "metadata": {},
   "outputs": [],
   "source": [
    "# voc = Vocab.from_lines(all_svg_names)\n",
    "# len(voc)"
   ]
  },
  {
   "cell_type": "markdown",
   "id": "competitive-steel",
   "metadata": {},
   "source": [
    "### Train"
   ]
  },
  {
   "cell_type": "code",
   "execution_count": 13,
   "id": "outdoor-interest",
   "metadata": {},
   "outputs": [],
   "source": [
    "batch_size = 16\n",
    "seq_len = 512\n",
    "src_pad_token = torch.tensor([0.0000,  0.0000,  0.0000,  0.0000,  0.0000,  0.0000,  0.0000,\n",
    "           0.0000,  0.0000,  0.0000,  1.0000])\n",
    "\n",
    "c = converter.Converter(seq_len)\n",
    "\n",
    "train_dataset = SvgDataset(train_paths, seq_len=seq_len, device=device)\n",
    "test_dataset = SvgDataset(test_paths, seq_len=seq_len, device=device)\n",
    "\n",
    "train_dl = DataLoader(train_dataset, batch_size=batch_size, shuffle = True)\n",
    "test_dl = DataLoader(test_dataset, batch_size=batch_size, shuffle = True)"
   ]
  },
  {
   "cell_type": "code",
   "execution_count": 14,
   "id": "annoying-humanity",
   "metadata": {
    "scrolled": true
   },
   "outputs": [
    {
     "data": {
      "image/svg+xml": [
       "<svg xmlns=\"http://www.w3.org/2000/svg\" xmlns:ev=\"http://www.w3.org/2001/xml-events\" xmlns:xlink=\"http://www.w3.org/1999/xlink\" baseProfile=\"tiny\" fill-rule=\"evenodd\" height=\"131.7414093017578px\" version=\"1.2\" width=\"150.0px\"><defs/><path d=\"M 52.8916,22.9553 m 0,0 C 40.8518,22.9553 31.0569,32.7452 31.0569,44.7784 C 31.0569,56.8129 40.8518,66.6037 52.8916,66.6037 C 64.9211,66.6037 74.7076,56.8129 74.7076,44.7784 C 74.7079,32.7452 64.9211,22.9553 52.8916,22.9553 m 0,0 m 0,37.3899 C 44.3031,60.3452 37.3154,53.362 37.3154,44.7784 C 37.3154,36.1961 44.3028,29.2138 52.8916,29.2138 C 61.4702,29.2138 68.4491,36.1961 68.4491,44.7784 C 68.4494,53.362 61.4702,60.3452 52.8916,60.3452 m 0,0 m -8.29973,-18.9642 C 43.7689,41.381 42.9647,41.7158 42.3795,42.2979 C 41.7975,42.8799 41.4658,43.6872 41.4658,44.5102 C 41.4658,45.3332 41.7975,46.1406 42.3795,46.7226 C 42.9647,47.3078 43.7689,47.6395 44.5919,47.6395 C 45.418,47.6395 46.2223,47.3078 46.8074,46.7226 C 47.3895,46.1406 47.7212,45.3329 47.7212,44.5102 C 47.7212,43.6872 47.3895,42.8799 46.8074,42.2979 C 46.2223,41.7158 45.418,41.381 44.5919,41.381 m 0,0 m 19.4408,46.8941 L 52.6463,79.0419 C 51.3045,77.9536 49.3334,78.1591 48.245,79.5016 C 47.1563,80.8437 47.3622,82.8145 48.7047,83.9029 L 60.0911,93.1361 C 60.6707,93.6061 61.3679,93.8348 62.0601,93.8348 C 62.971,93.8348 63.8741,93.439 64.4924,92.6764 C 65.5808,91.3343 65.3752,89.3634 64.0327,88.2751 m 0,0 m 85.9673,-34.9375 C 149.538,52.1231 148.374,51.3204 147.075,51.3204 L 132.974,51.3204 L 141.809,41.2946 C 142.622,40.3718 142.819,39.0584 142.313,37.9375 C 141.806,36.817 140.69,36.0963 139.461,36.0963 L 104.116,36.0963 C 99.6559,14.899 82.5717,0 60.9279,0 C 49.6216,0 39.4584,3.95444 31.5366,11.4352 C 24.2499,18.3168 19.3754,27.6298 17.3999,38.4173 C 16.0631,39.0159 13.0906,39.8445 11.0209,40.4216 C 4.14814,42.3376 0,43.4942 0,47.1213 C 0,50.1683 3.1787,51.5326 10.8588,54.8283 C 13.3738,55.9076 17.3636,57.6199 18.9545,58.6188 C 19.0935,73.5948 21.9367,86.5574 27.4114,97.165 C 32.2338,106.509 39.1345,114.125 47.9221,119.8 C 63.2032,129.67 80.8353,131.741 92.9355,131.741 C 98.708,131.741 102.398,131.248 102.552,131.226 C 104.103,131.015 105.259,129.691 105.259,128.126 L 105.259,106.791 L 141.626,71.9326 C 142.549,71.0485 142.841,69.6923 142.364,68.5067 C 141.888,67.321 140.738,66.5443 139.461,66.5443 L 138.179,66.5443 L 149.154,56.7885 C 150.125,55.9255 150.462,54.552 150,53.3376 m 0,0 m -50.9997,71.9401 C 97.4942,125.384 95.4211,125.483 92.9358,125.483 C 72.5718,125.483 25.2077,118.855 25.2077,57.4604 C 25.2077,54.3352 22.1548,52.8657 13.3272,49.0771 C 12.165,48.5783 10.7512,47.9715 9.4444,47.3826 C 10.5853,47.0403 11.7682,46.7104 12.702,46.4501 C 19.2603,44.6217 22.873,43.6143 23.3909,40.4986 C 26.8033,19.6984 41.5374,6.25853 60.9279,6.25853 C 82.6327,6.25853 99.0003,23.8803 99.0003,47.2477 L 99.0003,125.278 m 0,0 m 33.5322,-82.9225 L 124.632,51.3205 L 105.259,51.3205 L 105.259,47.2477 C 105.259,45.5908 105.186,43.9589 105.044,42.3551 L 132.532,42.3551 m 0,0 m -4.66291,24.9796 C 126.899,68.1978 126.562,69.5715 127.023,70.7857 C 127.485,72.0002 128.649,72.8028 129.948,72.8028 L 131.674,72.8028 L 105.258,98.1219 L 105.258,57.579 L 138.844,57.579 L 127.87,67.3347 Z\" fill=\"#000\"/></svg>"
      ],
      "text/plain": [
       "<IPython.core.display.SVG object>"
      ]
     },
     "metadata": {},
     "output_type": "display_data"
    },
    {
     "name": "stdout",
     "output_type": "stream",
     "text": [
      "bird\n"
     ]
    }
   ],
   "source": [
    "for vec, tgt in train_dl:\n",
    "    show(c, vec[0])\n",
    "    print(tgt[0])\n",
    "    break"
   ]
  },
  {
   "cell_type": "code",
   "execution_count": 16,
   "id": "successful-subsection",
   "metadata": {},
   "outputs": [],
   "source": [
    "### W: legacy 0.1 - dynamic vocab_size\n",
    "checkpoint = torch.load(f'checkpoints/checkpoint_model_0.1.pth', map_location=device)\n",
    "vocab_size = len(checkpoint['vocab_tokens'])\n",
    "\n",
    "model = STTModel(\n",
    "    vocab_size=vocab_size,\n",
    "    dim=32,\n",
    "    seq_len=seq_len,\n",
    "    n_heads=4,\n",
    "    n_encoder_layers=1,\n",
    "    n_decoder_layers=3,\n",
    "    dropout_p=0.05\n",
    ").to(device)\n",
    "\n",
    "opt = torch.optim.Adam(model.parameters(), lr=1e-3)\n",
    "loss_fn = nn.CrossEntropyLoss().to(device)"
   ]
  },
  {
   "cell_type": "code",
   "execution_count": 17,
   "id": "acquired-cancellation",
   "metadata": {},
   "outputs": [
    {
     "data": {
      "text/plain": [
       "True"
      ]
     },
     "execution_count": 17,
     "metadata": {},
     "output_type": "execute_result"
    }
   ],
   "source": [
    "device.type == \"cpu\""
   ]
  },
  {
   "cell_type": "code",
   "execution_count": 18,
   "id": "crucial-providence",
   "metadata": {},
   "outputs": [
    {
     "data": {
      "text/plain": [
       "1"
      ]
     },
     "execution_count": 18,
     "metadata": {},
     "output_type": "execute_result"
    }
   ],
   "source": [
    "step = -1\n",
    "metrics = {'train_loss': [], 'test_loss': []}\n",
    "save_path = \"checkpoints\"\n",
    "\n",
    "# step, metrics = load_checkpoint(model, opt, save_path, 'epoch', 186_500, device)\n",
    "step, metrics = load_checkpoint(model, opt, save_path, 'model', '0.1', device)\n",
    "step"
   ]
  },
  {
   "cell_type": "code",
   "execution_count": 20,
   "id": "numerous-biotechnology",
   "metadata": {
    "scrolled": true
   },
   "outputs": [
    {
     "name": "stdout",
     "output_type": "stream",
     "text": [
      "Epoch: 0, step: 100, loss: 2.091974973678589, test_loss: 1.386257529258728\n"
     ]
    },
    {
     "data": {
      "image/png": "[encoded data removed]",
      "text/plain": [
       "<Figure size 864x288 with 2 Axes>"
      ]
     },
     "metadata": {
      "needs_background": "light"
     },
     "output_type": "display_data"
    },
    {
     "ename": "KeyboardInterrupt",
     "evalue": "",
     "output_type": "error",
     "traceback": [
      "\u001b[0;31m---------------------------------------------------------------------------\u001b[0m",
      "\u001b[0;31mKeyboardInterrupt\u001b[0m                         Traceback (most recent call last)",
      "\u001b[0;32m<ipython-input-20-c14fb7000891>\u001b[0m in \u001b[0;36m<module>\u001b[0;34m\u001b[0m\n\u001b[0;32m----> 1\u001b[0;31m train(model,\n\u001b[0m\u001b[1;32m      2\u001b[0m       \u001b[0mopt\u001b[0m\u001b[0;34m,\u001b[0m\u001b[0;34m\u001b[0m\u001b[0;34m\u001b[0m\u001b[0m\n\u001b[1;32m      3\u001b[0m       \u001b[0mloss_fn\u001b[0m\u001b[0;34m,\u001b[0m\u001b[0;34m\u001b[0m\u001b[0;34m\u001b[0m\u001b[0m\n\u001b[1;32m      4\u001b[0m       \u001b[0mtrain_dl\u001b[0m\u001b[0;34m=\u001b[0m\u001b[0mtrain_dl\u001b[0m\u001b[0;34m,\u001b[0m\u001b[0;34m\u001b[0m\u001b[0;34m\u001b[0m\u001b[0m\n\u001b[1;32m      5\u001b[0m       \u001b[0mtest_dl\u001b[0m\u001b[0;34m=\u001b[0m\u001b[0mtest_dl\u001b[0m\u001b[0;34m,\u001b[0m\u001b[0;34m\u001b[0m\u001b[0;34m\u001b[0m\u001b[0m\n",
      "\u001b[0;32m~/goat/svg-to-text/model/train.py\u001b[0m in \u001b[0;36mtrain\u001b[0;34m(model, opt, loss_fn, train_dl, test_dl, device, metrics, save_path, step, converter, epochs)\u001b[0m\n\u001b[1;32m    100\u001b[0m          ):\n\u001b[1;32m    101\u001b[0m     \u001b[0;32mfor\u001b[0m \u001b[0mepoch\u001b[0m \u001b[0;32min\u001b[0m \u001b[0mrange\u001b[0m\u001b[0;34m(\u001b[0m\u001b[0mepochs\u001b[0m\u001b[0;34m)\u001b[0m\u001b[0;34m:\u001b[0m\u001b[0;34m\u001b[0m\u001b[0;34m\u001b[0m\u001b[0m\n\u001b[0;32m--> 102\u001b[0;31m         \u001b[0;32mfor\u001b[0m \u001b[0mvec\u001b[0m\u001b[0;34m,\u001b[0m \u001b[0mtgt\u001b[0m \u001b[0;32min\u001b[0m \u001b[0mtrain_dl\u001b[0m\u001b[0;34m:\u001b[0m\u001b[0;34m\u001b[0m\u001b[0;34m\u001b[0m\u001b[0m\n\u001b[0m\u001b[1;32m    103\u001b[0m             \u001b[0mtorch\u001b[0m\u001b[0;34m.\u001b[0m\u001b[0mcuda\u001b[0m\u001b[0;34m.\u001b[0m\u001b[0mempty_cache\u001b[0m\u001b[0;34m(\u001b[0m\u001b[0;34m)\u001b[0m\u001b[0;34m\u001b[0m\u001b[0;34m\u001b[0m\u001b[0m\n\u001b[1;32m    104\u001b[0m             \u001b[0mmodel\u001b[0m\u001b[0;34m.\u001b[0m\u001b[0mtrain\u001b[0m\u001b[0;34m(\u001b[0m\u001b[0;34m)\u001b[0m\u001b[0;34m\u001b[0m\u001b[0;34m\u001b[0m\u001b[0m\n",
      "\u001b[0;32m~/.local/lib/python3.9/site-packages/torch/utils/data/dataloader.py\u001b[0m in \u001b[0;36m__next__\u001b[0;34m(self)\u001b[0m\n\u001b[1;32m    650\u001b[0m                 \u001b[0;31m# TODO(https://github.com/pytorch/pytorch/issues/76750)\u001b[0m\u001b[0;34m\u001b[0m\u001b[0;34m\u001b[0m\u001b[0m\n\u001b[1;32m    651\u001b[0m                 \u001b[0mself\u001b[0m\u001b[0;34m.\u001b[0m\u001b[0m_reset\u001b[0m\u001b[0;34m(\u001b[0m\u001b[0;34m)\u001b[0m  \u001b[0;31m# type: ignore[call-arg]\u001b[0m\u001b[0;34m\u001b[0m\u001b[0;34m\u001b[0m\u001b[0m\n\u001b[0;32m--> 652\u001b[0;31m             \u001b[0mdata\u001b[0m \u001b[0;34m=\u001b[0m \u001b[0mself\u001b[0m\u001b[0;34m.\u001b[0m\u001b[0m_next_data\u001b[0m\u001b[0;34m(\u001b[0m\u001b[0;34m)\u001b[0m\u001b[0;34m\u001b[0m\u001b[0;34m\u001b[0m\u001b[0m\n\u001b[0m\u001b[1;32m    653\u001b[0m             \u001b[0mself\u001b[0m\u001b[0;34m.\u001b[0m\u001b[0m_num_yielded\u001b[0m \u001b[0;34m+=\u001b[0m \u001b[0;36m1\u001b[0m\u001b[0;34m\u001b[0m\u001b[0;34m\u001b[0m\u001b[0m\n\u001b[1;32m    654\u001b[0m             \u001b[0;32mif\u001b[0m \u001b[0mself\u001b[0m\u001b[0;34m.\u001b[0m\u001b[0m_dataset_kind\u001b[0m \u001b[0;34m==\u001b[0m \u001b[0m_DatasetKind\u001b[0m\u001b[0;34m.\u001b[0m\u001b[0mIterable\u001b[0m \u001b[0;32mand\u001b[0m\u001b[0;31m \u001b[0m\u001b[0;31m\\\u001b[0m\u001b[0;34m\u001b[0m\u001b[0;34m\u001b[0m\u001b[0m\n",
      "\u001b[0;32m~/.local/lib/python3.9/site-packages/torch/utils/data/dataloader.py\u001b[0m in \u001b[0;36m_next_data\u001b[0;34m(self)\u001b[0m\n\u001b[1;32m    690\u001b[0m     \u001b[0;32mdef\u001b[0m \u001b[0m_next_data\u001b[0m\u001b[0;34m(\u001b[0m\u001b[0mself\u001b[0m\u001b[0;34m)\u001b[0m\u001b[0;34m:\u001b[0m\u001b[0;34m\u001b[0m\u001b[0;34m\u001b[0m\u001b[0m\n\u001b[1;32m    691\u001b[0m         \u001b[0mindex\u001b[0m \u001b[0;34m=\u001b[0m \u001b[0mself\u001b[0m\u001b[0;34m.\u001b[0m\u001b[0m_next_index\u001b[0m\u001b[0;34m(\u001b[0m\u001b[0;34m)\u001b[0m  \u001b[0;31m# may raise StopIteration\u001b[0m\u001b[0;34m\u001b[0m\u001b[0;34m\u001b[0m\u001b[0m\n\u001b[0;32m--> 692\u001b[0;31m         \u001b[0mdata\u001b[0m \u001b[0;34m=\u001b[0m \u001b[0mself\u001b[0m\u001b[0;34m.\u001b[0m\u001b[0m_dataset_fetcher\u001b[0m\u001b[0;34m.\u001b[0m\u001b[0mfetch\u001b[0m\u001b[0;34m(\u001b[0m\u001b[0mindex\u001b[0m\u001b[0;34m)\u001b[0m  \u001b[0;31m# may raise StopIteration\u001b[0m\u001b[0;34m\u001b[0m\u001b[0;34m\u001b[0m\u001b[0m\n\u001b[0m\u001b[1;32m    693\u001b[0m         \u001b[0;32mif\u001b[0m \u001b[0mself\u001b[0m\u001b[0;34m.\u001b[0m\u001b[0m_pin_memory\u001b[0m\u001b[0;34m:\u001b[0m\u001b[0;34m\u001b[0m\u001b[0;34m\u001b[0m\u001b[0m\n\u001b[1;32m    694\u001b[0m             \u001b[0mdata\u001b[0m \u001b[0;34m=\u001b[0m \u001b[0m_utils\u001b[0m\u001b[0;34m.\u001b[0m\u001b[0mpin_memory\u001b[0m\u001b[0;34m.\u001b[0m\u001b[0mpin_memory\u001b[0m\u001b[0;34m(\u001b[0m\u001b[0mdata\u001b[0m\u001b[0;34m,\u001b[0m \u001b[0mself\u001b[0m\u001b[0;34m.\u001b[0m\u001b[0m_pin_memory_device\u001b[0m\u001b[0;34m)\u001b[0m\u001b[0;34m\u001b[0m\u001b[0;34m\u001b[0m\u001b[0m\n",
      "\u001b[0;32m~/.local/lib/python3.9/site-packages/torch/utils/data/_utils/fetch.py\u001b[0m in \u001b[0;36mfetch\u001b[0;34m(self, possibly_batched_index)\u001b[0m\n\u001b[1;32m     47\u001b[0m     \u001b[0;32mdef\u001b[0m \u001b[0mfetch\u001b[0m\u001b[0;34m(\u001b[0m\u001b[0mself\u001b[0m\u001b[0;34m,\u001b[0m \u001b[0mpossibly_batched_index\u001b[0m\u001b[0;34m)\u001b[0m\u001b[0;34m:\u001b[0m\u001b[0;34m\u001b[0m\u001b[0;34m\u001b[0m\u001b[0m\n\u001b[1;32m     48\u001b[0m         \u001b[0;32mif\u001b[0m \u001b[0mself\u001b[0m\u001b[0;34m.\u001b[0m\u001b[0mauto_collation\u001b[0m\u001b[0;34m:\u001b[0m\u001b[0;34m\u001b[0m\u001b[0;34m\u001b[0m\u001b[0m\n\u001b[0;32m---> 49\u001b[0;31m             \u001b[0mdata\u001b[0m \u001b[0;34m=\u001b[0m \u001b[0;34m[\u001b[0m\u001b[0mself\u001b[0m\u001b[0;34m.\u001b[0m\u001b[0mdataset\u001b[0m\u001b[0;34m[\u001b[0m\u001b[0midx\u001b[0m\u001b[0;34m]\u001b[0m \u001b[0;32mfor\u001b[0m \u001b[0midx\u001b[0m \u001b[0;32min\u001b[0m \u001b[0mpossibly_batched_index\u001b[0m\u001b[0;34m]\u001b[0m\u001b[0;34m\u001b[0m\u001b[0;34m\u001b[0m\u001b[0m\n\u001b[0m\u001b[1;32m     50\u001b[0m         \u001b[0;32melse\u001b[0m\u001b[0;34m:\u001b[0m\u001b[0;34m\u001b[0m\u001b[0;34m\u001b[0m\u001b[0m\n\u001b[1;32m     51\u001b[0m             \u001b[0mdata\u001b[0m \u001b[0;34m=\u001b[0m \u001b[0mself\u001b[0m\u001b[0;34m.\u001b[0m\u001b[0mdataset\u001b[0m\u001b[0;34m[\u001b[0m\u001b[0mpossibly_batched_index\u001b[0m\u001b[0;34m]\u001b[0m\u001b[0;34m\u001b[0m\u001b[0;34m\u001b[0m\u001b[0m\n",
      "\u001b[0;32m~/.local/lib/python3.9/site-packages/torch/utils/data/_utils/fetch.py\u001b[0m in \u001b[0;36m<listcomp>\u001b[0;34m(.0)\u001b[0m\n\u001b[1;32m     47\u001b[0m     \u001b[0;32mdef\u001b[0m \u001b[0mfetch\u001b[0m\u001b[0;34m(\u001b[0m\u001b[0mself\u001b[0m\u001b[0;34m,\u001b[0m \u001b[0mpossibly_batched_index\u001b[0m\u001b[0;34m)\u001b[0m\u001b[0;34m:\u001b[0m\u001b[0;34m\u001b[0m\u001b[0;34m\u001b[0m\u001b[0m\n\u001b[1;32m     48\u001b[0m         \u001b[0;32mif\u001b[0m \u001b[0mself\u001b[0m\u001b[0;34m.\u001b[0m\u001b[0mauto_collation\u001b[0m\u001b[0;34m:\u001b[0m\u001b[0;34m\u001b[0m\u001b[0;34m\u001b[0m\u001b[0m\n\u001b[0;32m---> 49\u001b[0;31m             \u001b[0mdata\u001b[0m \u001b[0;34m=\u001b[0m \u001b[0;34m[\u001b[0m\u001b[0mself\u001b[0m\u001b[0;34m.\u001b[0m\u001b[0mdataset\u001b[0m\u001b[0;34m[\u001b[0m\u001b[0midx\u001b[0m\u001b[0;34m]\u001b[0m \u001b[0;32mfor\u001b[0m \u001b[0midx\u001b[0m \u001b[0;32min\u001b[0m \u001b[0mpossibly_batched_index\u001b[0m\u001b[0;34m]\u001b[0m\u001b[0;34m\u001b[0m\u001b[0;34m\u001b[0m\u001b[0m\n\u001b[0m\u001b[1;32m     50\u001b[0m         \u001b[0;32melse\u001b[0m\u001b[0;34m:\u001b[0m\u001b[0;34m\u001b[0m\u001b[0;34m\u001b[0m\u001b[0m\n\u001b[1;32m     51\u001b[0m             \u001b[0mdata\u001b[0m \u001b[0;34m=\u001b[0m \u001b[0mself\u001b[0m\u001b[0;34m.\u001b[0m\u001b[0mdataset\u001b[0m\u001b[0;34m[\u001b[0m\u001b[0mpossibly_batched_index\u001b[0m\u001b[0;34m]\u001b[0m\u001b[0;34m\u001b[0m\u001b[0;34m\u001b[0m\u001b[0m\n",
      "\u001b[0;32m~/goat/svg-to-text/model/dataset.py\u001b[0m in \u001b[0;36m__getitem__\u001b[0;34m(self, idx)\u001b[0m\n\u001b[1;32m     27\u001b[0m     \u001b[0;32mdef\u001b[0m \u001b[0m__getitem__\u001b[0m\u001b[0;34m(\u001b[0m\u001b[0mself\u001b[0m\u001b[0;34m,\u001b[0m \u001b[0midx\u001b[0m\u001b[0;34m)\u001b[0m\u001b[0;34m:\u001b[0m\u001b[0;34m\u001b[0m\u001b[0;34m\u001b[0m\u001b[0m\n\u001b[1;32m     28\u001b[0m         \u001b[0msvg_name\u001b[0m\u001b[0;34m,\u001b[0m \u001b[0msvg_path\u001b[0m \u001b[0;34m=\u001b[0m \u001b[0mself\u001b[0m\u001b[0;34m.\u001b[0m\u001b[0msvg_paths\u001b[0m\u001b[0;34m[\u001b[0m\u001b[0midx\u001b[0m\u001b[0;34m]\u001b[0m\u001b[0;34m\u001b[0m\u001b[0;34m\u001b[0m\u001b[0m\n\u001b[0;32m---> 29\u001b[0;31m         \u001b[0mvector\u001b[0m \u001b[0;34m=\u001b[0m \u001b[0mself\u001b[0m\u001b[0;34m.\u001b[0m\u001b[0mload_svg\u001b[0m\u001b[0;34m(\u001b[0m\u001b[0msvg_path\u001b[0m\u001b[0;34m)\u001b[0m\u001b[0;34m\u001b[0m\u001b[0;34m\u001b[0m\u001b[0m\n\u001b[0m\u001b[1;32m     30\u001b[0m \u001b[0;34m\u001b[0m\u001b[0m\n\u001b[1;32m     31\u001b[0m         \u001b[0;32mif\u001b[0m \u001b[0mvector\u001b[0m\u001b[0;34m:\u001b[0m\u001b[0;34m\u001b[0m\u001b[0;34m\u001b[0m\u001b[0m\n",
      "\u001b[0;32m~/goat/svg-to-text/model/dataset.py\u001b[0m in \u001b[0;36mload_svg\u001b[0;34m(self, path)\u001b[0m\n\u001b[1;32m     19\u001b[0m     \u001b[0;32mdef\u001b[0m \u001b[0mload_svg\u001b[0m\u001b[0;34m(\u001b[0m\u001b[0mself\u001b[0m\u001b[0;34m,\u001b[0m \u001b[0mpath\u001b[0m\u001b[0;34m)\u001b[0m\u001b[0;34m:\u001b[0m\u001b[0;34m\u001b[0m\u001b[0;34m\u001b[0m\u001b[0m\n\u001b[1;32m     20\u001b[0m         \u001b[0;32mtry\u001b[0m\u001b[0;34m:\u001b[0m\u001b[0;34m\u001b[0m\u001b[0;34m\u001b[0m\u001b[0m\n\u001b[0;32m---> 21\u001b[0;31m             \u001b[0m_\u001b[0m\u001b[0;34m,\u001b[0m \u001b[0mvector\u001b[0m \u001b[0;34m=\u001b[0m \u001b[0mself\u001b[0m\u001b[0;34m.\u001b[0m\u001b[0mconverter\u001b[0m\u001b[0;34m.\u001b[0m\u001b[0mto_vector\u001b[0m\u001b[0;34m(\u001b[0m\u001b[0mself\u001b[0m\u001b[0;34m.\u001b[0m\u001b[0mconverter\u001b[0m\u001b[0;34m.\u001b[0m\u001b[0mopen\u001b[0m\u001b[0;34m(\u001b[0m\u001b[0mpath\u001b[0m\u001b[0;34m)\u001b[0m\u001b[0;34m,\u001b[0m \u001b[0mis_one_len\u001b[0m\u001b[0;34m=\u001b[0m\u001b[0;32mTrue\u001b[0m\u001b[0;34m)\u001b[0m\u001b[0;34m\u001b[0m\u001b[0;34m\u001b[0m\u001b[0m\n\u001b[0m\u001b[1;32m     22\u001b[0m             \u001b[0;32mreturn\u001b[0m \u001b[0mvector\u001b[0m\u001b[0;34m\u001b[0m\u001b[0;34m\u001b[0m\u001b[0m\n\u001b[1;32m     23\u001b[0m \u001b[0;34m\u001b[0m\u001b[0m\n",
      "\u001b[0;32m~/goat/svg-to-text/svg_converter/__init__.py\u001b[0m in \u001b[0;36mopen\u001b[0;34m(self, path)\u001b[0m\n\u001b[1;32m     54\u001b[0m             \u001b[0mwidth\u001b[0m\u001b[0;34m,\u001b[0m \u001b[0mheight\u001b[0m \u001b[0;34m=\u001b[0m \u001b[0;34m[\u001b[0m\u001b[0mfloat\u001b[0m\u001b[0;34m(\u001b[0m\u001b[0mi\u001b[0m\u001b[0;34m)\u001b[0m \u001b[0;32mfor\u001b[0m \u001b[0mi\u001b[0m \u001b[0;32min\u001b[0m \u001b[0;34m(\u001b[0m\u001b[0msvg\u001b[0m\u001b[0;34m[\u001b[0m\u001b[0;36m0\u001b[0m\u001b[0;34m]\u001b[0m\u001b[0;34m.\u001b[0m\u001b[0mgetAttribute\u001b[0m\u001b[0;34m(\u001b[0m\u001b[0;34m'viewBox'\u001b[0m\u001b[0;34m)\u001b[0m\u001b[0;34m)\u001b[0m\u001b[0;34m.\u001b[0m\u001b[0msplit\u001b[0m\u001b[0;34m(\u001b[0m\u001b[0;34m)\u001b[0m\u001b[0;34m]\u001b[0m\u001b[0;34m[\u001b[0m\u001b[0;36m2\u001b[0m\u001b[0;34m:\u001b[0m\u001b[0;36m4\u001b[0m\u001b[0;34m]\u001b[0m\u001b[0;34m\u001b[0m\u001b[0;34m\u001b[0m\u001b[0m\n\u001b[1;32m     55\u001b[0m \u001b[0;34m\u001b[0m\u001b[0m\n\u001b[0;32m---> 56\u001b[0;31m         \u001b[0md\u001b[0m \u001b[0;34m=\u001b[0m \u001b[0mparse_path\u001b[0m\u001b[0;34m(\u001b[0m\u001b[0md\u001b[0m\u001b[0;34m)\u001b[0m\u001b[0;34m\u001b[0m\u001b[0;34m\u001b[0m\u001b[0m\n\u001b[0m\u001b[1;32m     57\u001b[0m \u001b[0;34m\u001b[0m\u001b[0m\n\u001b[1;32m     58\u001b[0m         svg = {\n",
      "\u001b[0;32m~/.local/lib/python3.9/site-packages/svg/path/parser.py\u001b[0m in \u001b[0;36mparse_path\u001b[0;34m(pathdef)\u001b[0m\n\u001b[1;32m    174\u001b[0m             \u001b[0mhpos\u001b[0m \u001b[0;34m=\u001b[0m \u001b[0mtoken\u001b[0m\u001b[0;34m[\u001b[0m\u001b[0;36m1\u001b[0m\u001b[0;34m]\u001b[0m\u001b[0;34m\u001b[0m\u001b[0;34m\u001b[0m\u001b[0m\n\u001b[1;32m    175\u001b[0m             \u001b[0;32mif\u001b[0m \u001b[0mrelative\u001b[0m\u001b[0;34m:\u001b[0m\u001b[0;34m\u001b[0m\u001b[0;34m\u001b[0m\u001b[0m\n\u001b[0;32m--> 176\u001b[0;31m                 \u001b[0mhpos\u001b[0m \u001b[0;34m+=\u001b[0m \u001b[0mcurrent_pos\u001b[0m\u001b[0;34m.\u001b[0m\u001b[0mreal\u001b[0m\u001b[0;34m\u001b[0m\u001b[0;34m\u001b[0m\u001b[0m\n\u001b[0m\u001b[1;32m    177\u001b[0m             \u001b[0mpos\u001b[0m \u001b[0;34m=\u001b[0m \u001b[0mcomplex\u001b[0m\u001b[0;34m(\u001b[0m\u001b[0mhpos\u001b[0m\u001b[0;34m,\u001b[0m \u001b[0mcurrent_pos\u001b[0m\u001b[0;34m.\u001b[0m\u001b[0mimag\u001b[0m\u001b[0;34m)\u001b[0m\u001b[0;34m\u001b[0m\u001b[0;34m\u001b[0m\u001b[0m\n\u001b[1;32m    178\u001b[0m             segments.append(\n",
      "\u001b[0;31mKeyboardInterrupt\u001b[0m: "
     ]
    }
   ],
   "source": [
    "train(model,\n",
    "      opt,\n",
    "      loss_fn,\n",
    "      train_dl=train_dl,\n",
    "      test_dl=test_dl,\n",
    "      device=device,\n",
    "      metrics=metrics,\n",
    "      save_path=save_path,\n",
    "      step=step,\n",
    "      converter=c,\n",
    "      epochs=100,\n",
    "     )"
   ]
  },
  {
   "cell_type": "code",
   "execution_count": 21,
   "id": "stopped-faculty",
   "metadata": {},
   "outputs": [
    {
     "data": {
      "image/svg+xml": [
       "<svg xmlns=\"http://www.w3.org/2000/svg\" xmlns:ev=\"http://www.w3.org/2001/xml-events\" xmlns:xlink=\"http://www.w3.org/1999/xlink\" baseProfile=\"tiny\" fill-rule=\"evenodd\" height=\"149.99999958090484px\" version=\"1.2\" width=\"124.36440596356988px\"><defs/><path d=\"M 34.0408,60.7332 m 0,0 C 44.1978,66.3942 50.3275,76.4811 51.3693,87.2406 C 41.6703,92.0134 29.8669,92.1048 19.7103,86.4438 C 9.5534,80.7828 3.42362,70.6959 2.38183,59.9363 C 12.0808,55.1636 23.8842,55.0722 34.0408,60.7332 m 0,0 m 56.2818,0 C 80.1658,66.3942 74.036,76.4811 72.9942,87.2406 C 82.6932,92.0134 94.4966,92.1048 104.653,86.4438 C 114.81,80.7828 120.94,70.6959 121.982,59.9363 C 112.283,55.1636 100.479,55.0722 90.3227,60.7332 m 0,0 m -28.1411,0.837596 C 73.3818,61.5708 82.4612,52.4914 82.4612,41.2915 L 41.9021,41.2915 C 41.9021,52.4917 50.9814,61.5708 62.1816,61.5708 m 0,0 m 60.8568,-4.02128 C 112.281,52.2559 99.6145,52.5746 89.1572,58.4032 C 79.0706,64.0253 72.265,74.0914 70.758,85.5072 L 64.5752,88.9533 L 64.5752,62.6401 C 75.9561,61.4404 84.8547,51.7877 84.8547,40.0942 L 84.8547,26.1079 C 84.8547,24.786 83.783,23.7143 82.4612,23.7143 L 75.5304,23.7143 L 75.5304,2.39355 C 75.5304,1.07168 74.4587,0 73.1369,0 C 71.815,0 70.7433,1.07168 70.7433,2.39355 L 70.7433,23.7143 L 53.6205,23.7143 L 53.6205,2.39355 C 53.6205,1.07168 52.5488,0 51.227,0 C 49.9051,0 48.8334,1.07168 48.8334,2.39355 L 48.8334,23.7143 L 41.9024,23.7143 C 40.5805,23.7143 39.5088,24.786 39.5088,26.1079 L 39.5088,40.0945 C 39.5088,51.788 48.4077,61.4404 59.7884,62.6404 L 59.7884,88.9536 L 53.6059,85.5074 C 52.0988,74.0911 45.2929,64.0253 35.2066,58.4035 C 24.7491,52.5749 12.0829,52.2559 1.32539,57.5498 C 0.431835,57.9895 -0.0960936,58.937 0,59.9281 C 1.15517,71.8628 8.08856,82.4673 18.5458,88.2959 C 24.0501,91.3639 30.1661,92.9055 36.2938,92.9055 C 41.3949,92.9055 46.504,91.8347 51.275,89.689 L 59.7887,94.4348 L 59.7887,104.046 L 36.9204,104.046 C 35.5986,104.046 34.5269,105.118 34.5269,106.439 C 34.5269,107.761 35.5986,108.833 36.9204,108.833 L 37.8814,108.833 L 40.6303,147.775 C 40.7188,149.028 41.7617,150 43.0183,150 L 81.3473,150 C 82.6038,150 83.6465,149.029 83.7353,147.775 L 86.4842,108.833 L 87.4451,108.833 C 88.767,108.833 89.8387,107.761 89.8387,106.439 C 89.8387,105.118 88.767,104.046 87.4451,104.046 L 64.5755,104.046 L 64.5755,94.4348 L 73.0891,89.689 C 77.8604,91.8347 82.9683,92.9055 88.0703,92.9055 C 94.1978,92.9052 100.315,91.3636 105.819,88.2959 C 116.276,82.4673 123.209,71.8628 124.364,59.9281 C 124.46,58.9367 123.932,57.9892 123.038,57.5495 m 0,0 m -102.162,26.5643 C 12.2833,79.3246 6.42977,70.8221 4.97138,61.1401 C 13.9728,57.2882 24.2827,57.795 32.8757,62.5844 C 40.5406,66.8565 46.023,74.0846 48.1534,82.4676 L 14.9288,63.9488 C 13.7745,63.3054 12.3161,63.7194 11.6727,64.8743 C 11.0291,66.0289 11.4433,67.487 12.5979,68.1303 L 45.8229,86.6497 C 37.5723,89.2472 28.541,88.3859 20.876,84.1138 m 0,0 m 58.2397,61.0988 L 45.2478,145.213 L 42.6799,108.833 L 81.6836,108.833 L 79.1158,145.213 m 0,0 m -34.8201,-105.118 L 44.2956,28.5014 L 80.0676,28.5014 L 80.0676,37.7009 L 51.4763,37.7009 C 50.1544,37.7009 49.0827,38.7726 49.0827,40.0945 C 49.0827,41.4166 50.1544,42.488 51.4763,42.488 L 79.9024,42.488 C 78.7285,51.2217 71.2314,57.9802 62.1813,57.9802 C 52.3194,57.9805 44.2956,49.9569 44.2956,40.0947 m 0,0 m 59.1919,44.0191 C 95.822,88.3862 86.7909,89.2475 78.5407,86.65 L 111.766,68.13 C 112.92,67.4864 113.335,66.0286 112.691,64.874 C 112.047,63.7194 110.59,63.3049 109.435,63.9485 L 76.2104,82.4676 C 78.3403,74.0846 83.8232,66.8565 91.4881,62.5844 C 100.081,57.7947 110.391,57.2882 119.392,61.1401 C 117.934,70.8221 112.08,79.3246 103.487,84.1138 Z\" fill=\"#000\"/></svg>"
      ],
      "text/plain": [
       "<IPython.core.display.SVG object>"
      ]
     },
     "metadata": {},
     "output_type": "display_data"
    },
    {
     "name": "stdout",
     "output_type": "stream",
     "text": [
      "target: gardening leaf\n",
      "result: flowers\n"
     ]
    },
    {
     "data": {
      "image/svg+xml": [
       "<svg xmlns=\"http://www.w3.org/2000/svg\" xmlns:ev=\"http://www.w3.org/2001/xml-events\" xmlns:xlink=\"http://www.w3.org/1999/xlink\" baseProfile=\"tiny\" fill-rule=\"evenodd\" height=\"124.40625205636024px\" version=\"1.2\" width=\"150.0000011175871px\"><defs/><path d=\"M 132.408,124.406 m 0,0 L 17.5922,124.406 C 7.91719,124.406 0,116.489 0,106.814 L 0,17.5922 C 0,7.91719 7.91719,0 17.5922,0 L 132.405,0 C 142.083,0 150,7.91719 150,17.5922 L 150,106.814 C 150,116.489 142.083,124.406 132.408,124.406 m 0,0 m 17.5922,-96.7195 L 150,17.5922 C 150,7.91485 142.083,5.58794E-06 132.408,5.58794E-06 L 17.5922,5.58794E-06 C 7.91719,5.58794E-06 1.11759E-06,7.91719 1.11759E-06,17.5922 L 1.11759E-06,27.6867 C 1.11759E-06,27.6867 150,27.6867 150,27.6867 m 0,0 m -38.8875,-7.58438 L 61.0359,20.1023 C 57.593,20.1023 54.7758,17.2852 54.7758,13.8422 L 54.7758,13.8422 C 54.7758,10.3992 57.593,7.58204 61.0359,7.58204 L 111.113,7.58204 C 114.555,7.58204 117.373,10.3992 117.373,13.8422 L 117.373,13.8422 C 117.373,17.2852 114.555,20.1023 111.113,20.1023 m 0,0 m -48.8086,-3.26484 L 60.9258,11.2008 L 62.0227,11.2008 L 62.557,13.7602 C 62.6977,14.4469 62.8313,15.1664 62.925,15.7242 L 62.9414,15.7242 C 63.0352,15.1313 63.1922,14.4633 63.3516,13.7508 L 63.9609,11.2008 L 65.0391,11.2008 L 65.6016,13.7953 C 65.7422,14.4633 65.8594,15.0914 65.9414,15.7008 L 65.9602,15.7008 C 66.0586,15.0797 66.1945,14.4398 66.3422,13.7508 L 66.9281,11.2008 L 67.9758,11.2008 L 66.4594,16.8375 L 65.3578,16.8375 L 64.7719,14.1844 C 64.6266,13.5445 64.5305,13.0078 64.4625,12.3961 L 64.4438,12.3961 C 64.3453,12.9984 64.2375,13.5445 64.0688,14.1844 L 63.4172,16.8375 C 63.4172,16.8375 62.3039,16.8375 62.3039,16.8375 m 0,0 m 7.34062,0 L 68.2664,11.2008 L 69.3633,11.2008 L 69.8977,13.7602 C 70.0383,14.4469 70.1719,15.1664 70.2656,15.7242 L 70.282,15.7242 C 70.3758,15.1313 70.5328,14.4633 70.6922,13.7508 L 71.3016,11.2008 L 72.3797,11.2008 L 72.9422,13.7953 C 73.0828,14.4633 73.2,15.0914 73.282,15.7008 L 73.3008,15.7008 C 73.3992,15.0797 73.5352,14.4398 73.6828,13.7508 L 74.2688,11.2008 L 75.3164,11.2008 L 73.8,16.8375 L 72.6984,16.8375 L 72.1125,14.1844 C 71.9672,13.5445 71.8711,13.0078 71.8031,12.3961 L 71.7844,12.3961 C 71.6859,12.9984 71.5781,13.5445 71.4094,14.1844 L 70.7578,16.8375 C 70.7578,16.8375 69.6445,16.8375 69.6445,16.8375 m 0,0 m 7.34062,0 L 75.607,11.2008 L 76.7039,11.2008 L 77.2383,13.7602 C 77.3789,14.4469 77.5125,15.1664 77.6063,15.7242 L 77.6227,15.7242 C 77.7164,15.1313 77.8734,14.4633 78.0328,13.7508 L 78.6422,11.2008 L 79.7203,11.2008 L 80.2828,13.7953 C 80.4234,14.4633 80.5406,15.0914 80.6227,15.7008 L 80.6414,15.7008 C 80.7398,15.0797 80.8758,14.4398 81.0234,13.7508 L 81.6094,11.2008 L 82.657,11.2008 L 81.1406,16.8375 L 80.0391,16.8375 L 79.4531,14.1844 C 79.3078,13.5445 79.2117,13.0078 79.1438,12.3961 L 79.125,12.3961 C 79.0266,12.9984 78.9188,13.5445 78.75,14.1844 L 78.0984,16.8375 C 78.0984,16.8375 76.9852,16.8375 76.9852,16.8375 m 0,0 m 5.65078,-0.569531 C 82.6359,15.8859 82.9055,15.607 83.2734,15.607 C 83.6484,15.607 83.9109,15.8766 83.9109,16.268 C 83.9109,16.6477 83.6578,16.9313 83.2734,16.9313 C 82.8984,16.9313 82.6359,16.6477 82.6359,16.268 m 0,0 m 43.0453,78.2344 L 38.3906,94.5024 C 35.6789,94.5024 33.4617,92.2852 33.4617,89.5734 L 33.4617,60.2906 C 33.4617,57.5789 35.6789,55.3617 38.3906,55.3617 L 125.679,55.3617 C 128.391,55.3617 130.608,57.5789 130.608,60.2906 L 130.608,89.5711 C 130.61,92.2852 128.391,94.5024 125.681,94.5024 m 0,0 m -86.5359,6.45234 L 36.7242,97.7555 C 34.943,95.4258 19.3453,74.6039 19.3453,64.2305 C 19.3453,51.7852 27.1125,43.7438 39.1477,43.7438 C 51.1828,43.7438 58.95,51.7852 58.95,64.2305 C 58.95,74.5875 43.3523,95.4094 41.5852,97.7555 L 39.1453,100.955 m 0,0 m 32.1047,-33.4078 L 80.3063,67.5469 L 80.3063,70.2938 L 74.6156,70.2938 L 74.6156,73.6758 L 79.9313,73.6758 L 79.9313,76.4016 L 74.6156,76.4016 L 74.6156,82.3547 L 71.25,82.3547 L 71.25,67.5469 m 0,0 m 14.9578,0 L 86.2078,82.357 L 82.8445,82.357 L 82.8445,67.5469 L 86.2078,67.5469 m 0,0 m 2.90625,14.8102 L 89.1141,67.5469 L 93.0281,67.5469 L 96.1031,72.9727 C 96.982,74.5313 97.8609,76.3781 98.5219,78.0469 L 98.5875,78.0469 C 98.3648,76.0945 98.3016,74.093 98.3016,71.8758 L 98.3016,67.5469 L 101.377,67.5469 L 101.377,82.357 L 97.8609,82.357 L 94.6969,76.643 C 93.818,75.0656 92.85,73.1508 92.1258,71.4164 L 92.0602,71.4352 C 92.1469,73.3922 92.1938,75.4781 92.1938,77.8969 L 92.1938,82.357 L 89.1141,82.357 m 0,0 m 15.1805,-14.6156 C 105.525,67.5469 107.13,67.4367 108.823,67.4367 C 111.635,67.4367 113.459,67.9406 114.888,69.0188 C 116.423,70.1602 117.391,71.9836 117.391,74.5969 C 117.391,77.4328 116.355,79.3899 114.93,80.5969 C 113.367,81.893 110.998,82.507 108.094,82.507 C 106.359,82.507 105.129,82.3969 104.292,82.2891 L 104.295,67.7414 L 104.295,67.7414 m 0,0 m 3.36328,12.0867 C 107.944,79.8938 108.403,79.8938 108.823,79.8938 C 111.853,79.9172 113.834,78.2461 113.834,74.7094 C 113.852,71.632 112.052,70.0055 109.174,70.0055 C 108.429,70.0055 107.944,70.0711 107.658,70.1391 C 107.658,70.1391 107.658,79.8281 107.658,79.8281 Z\" fill=\"#000\"/></svg>"
      ],
      "text/plain": [
       "<IPython.core.display.SVG object>"
      ]
     },
     "metadata": {},
     "output_type": "display_data"
    },
    {
     "name": "stdout",
     "output_type": "stream",
     "text": [
      "target: browser seo and web\n",
      "result: train\n"
     ]
    },
    {
     "data": {
      "image/svg+xml": [
       "<svg xmlns=\"http://www.w3.org/2000/svg\" xmlns:ev=\"http://www.w3.org/2001/xml-events\" xmlns:xlink=\"http://www.w3.org/1999/xlink\" baseProfile=\"tiny\" fill-rule=\"evenodd\" height=\"150.0px\" version=\"1.2\" width=\"150.0px\"><defs/><path d=\"M 74.9998,0 m 0,0 C 33.6465,0 0,33.6465 0,74.9998 C 0,116.354 33.6465,150 74.9998,150 C 116.354,150 150,116.354 150,74.9998 C 150,33.6465 116.354,0 74.9998,0 m 0,0 m -2.95409,142.131 C 64.8661,142.131 57.1193,128.82 53.0536,107.452 L 91.0305,107.452 C 86.9664,128.82 79.229,142.131 72.0458,142.131 m 0,0 m -20.2225,-42.3717 C 50.9426,93.3294 50.3961,86.3205 50.2533,78.8462 L 93.8399,78.8462 C 93.6974,86.3205 93.1489,93.3294 92.2737,99.7596 L 51.8233,99.7596 m 0,0 m -43.9359,-20.9134 L 42.5309,78.8462 C 42.6734,85.885 43.2032,92.9537 44.1029,99.7596 L 12.4699,99.7596 C 9.87258,93.2242 8.30451,86.1928 7.88732,78.8462 m 0,0 m 64.1584,-70.9772 C 79.1164,7.86899 86.7412,20.7803 90.8575,41.6033 L 53.2334,41.6033 C 57.3467,20.7803 64.9732,7.86899 72.0458,7.86899 m 0,0 m 20.0967,41.4232 C 93.1004,55.9778 93.69,63.3151 93.8399,71.1538 L 50.2497,71.1538 C 50.3999,63.315 50.9879,55.9816 51.9455,49.2921 L 92.1425,49.2921 m 0,0 m -49.6112,21.8617 L 7.88732,71.1538 C 8.32284,63.4579 9.99995,56.0887 12.8189,49.2921 L 44.2306,49.2921 C 43.2505,56.3927 42.6776,63.7882 42.5313,71.1538 m 0,0 m 59.0312,7.6924 L 142.112,78.8462 C 141.695,86.1928 140.122,93.2242 137.53,99.7596 L 99.9883,99.7596 C 100.886,92.9537 101.42,85.885 101.562,78.8462 m 0,0 m 0,-7.6924 C 101.412,63.7885 100.837,56.3927 99.8609,49.2921 L 137.18,49.2921 C 140.001,56.0887 141.677,63.4579 142.112,71.1538 L 101.562,71.1538 m 0,0 m 31.7947,-29.5541 L 98.6251,41.5997 C 96.086,28.0687 91.9582,16.2391 86.3395,8.71945 C 106.453,12.1583 123.535,24.5118 133.357,41.5997 m 0,0 m -76.7223,-31.2952 C 51.5849,17.8503 47.8383,28.9928 45.4738,41.6033 L 16.6428,41.6033 C 25.3005,26.5382 39.5842,15.15 56.6349,10.3046 m 0,0 m -40.565,97.1471 L 45.3068,107.452 C 47.6584,120.448 51.4611,131.963 56.6352,139.701 C 39.224,134.743 24.662,122.994 16.0699,107.452 m 0,0 m 70.2657,33.8266 C 92.082,133.579 96.2664,121.371 98.7827,107.452 L 133.931,107.452 C 124.207,125.041 106.828,137.778 86.3356,141.278 Z\" fill=\"#000\"/></svg>"
      ],
      "text/plain": [
       "<IPython.core.display.SVG object>"
      ]
     },
     "metadata": {},
     "output_type": "display_data"
    },
    {
     "name": "stdout",
     "output_type": "stream",
     "text": [
      "target: globe grid\n",
      "result: intestine\n"
     ]
    },
    {
     "data": {
      "image/svg+xml": [
       "<svg xmlns=\"http://www.w3.org/2000/svg\" xmlns:ev=\"http://www.w3.org/2001/xml-events\" xmlns:xlink=\"http://www.w3.org/1999/xlink\" baseProfile=\"tiny\" fill-rule=\"evenodd\" height=\"81.3691858202219px\" version=\"1.2\" width=\"150.0000011175871px\"><defs/><path d=\"M 150,61.3161 m 0,0 C 150,64.3671 147.529,66.8419 144.478,66.8419 L 66.4154,66.8419 C 63.3606,66.8419 60.8895,64.3671 60.8895,61.3161 L 60.8895,20.0489 C 60.8895,16.9978 63.3606,14.5272 66.4154,14.5272 L 144.478,14.5272 C 147.529,14.5272 150,16.9983 150,20.0489 L 150,61.3161 m 0,0 m -19.9892,-61.3161 L 8.5945,0 C 3.84564,0 0,3.84617 0,8.59077 L 0,72.7784 C 0,77.5193 3.84617,81.3692 8.5945,81.3692 L 130.011,81.3692 C 134.755,81.3692 138.605,77.5193 138.605,72.7784 L 138.605,8.59024 C 138.603,3.84564 134.755,1.11759E-06 130.011,1.11759E-06 m 0,0 m -1.05021,73.7147 L 8.06992,73.7147 L 8.06992,7.89311 L 128.961,7.89311 L 128.961,73.7147 Z\" fill=\"#000\"/></svg>"
      ],
      "text/plain": [
       "<IPython.core.display.SVG object>"
      ]
     },
     "metadata": {},
     "output_type": "display_data"
    },
    {
     "name": "stdout",
     "output_type": "stream",
     "text": [
      "target: battery\n",
      "result: phone receiver\n"
     ]
    },
    {
     "data": {
      "image/svg+xml": [
       "<svg xmlns=\"http://www.w3.org/2000/svg\" xmlns:ev=\"http://www.w3.org/2001/xml-events\" xmlns:xlink=\"http://www.w3.org/1999/xlink\" baseProfile=\"tiny\" fill-rule=\"evenodd\" height=\"129.99987937510014px\" version=\"1.2\" width=\"150.00001299194992px\"><defs/><path d=\"M 2.49988,117.5 m 0,0 L 2.49988,122.5 C 2.49988,125.25 4.74985,127.5 7.49991,127.5 L 24.4998,127.5 C 26.4998,127.5 27.9998,126.5 28.9997,124.75 L 32.4998,117.5 L 2.49988,117.5 m 0,0 m 115,1.42109E-14 L 121,124.75 C 121.75,126.5 123.5,127.5 125.5,127.5 L 142.5,127.5 C 145.25,127.5 147.5,125.25 147.5,122.5 L 147.5,117.5 L 117.5,117.5 m 0,0 m -115,-1.42109E-14 L 2.49988,122.5 C 2.49988,125.25 4.74985,127.5 7.49991,127.5 L 24.4998,127.5 C 26.4998,127.5 27.9998,126.5 28.9997,124.75 L 32.4998,117.5 L 2.49988,117.5 m 0,0 m 145,-17.5003 L 77.5,99.9997 L 77.5,69.9998 C 77.5,67.2498 79.75,64.9998 82.5001,64.9998 L 142.5,64.9998 C 145.25,64.9998 147.5,67.2498 147.5,69.9998 L 147.5,99.9997 m 0,0 m -75.0002,0 L 2.49988,99.9997 L 2.49988,69.9998 C 2.49988,67.2498 4.74985,64.9998 7.49991,64.9998 L 67.5,64.9998 C 70.25,64.9998 72.5,67.2498 72.5,69.9998 L 72.5,99.9997 m 0,0 m 67.5,0 L 10.0001,99.9997 L 10.0001,69.9998 C 10.0001,67.2498 12.25,64.9998 15.0001,64.9998 L 135,64.9998 C 137.75,64.9998 140,67.2498 140,69.9998 L 140,99.9997 m 0,0 m -130,-34.9999 L 140,64.9998 L 128.5,6.49971 C 128,4.24975 126,2.49957 123.5,2.49957 L 26.4998,2.49957 C 24.2499,2.49957 22.2498,3.99955 21.7497,6.49971 L 10.0001,64.9998 m 0,0 L 132.5,64.9998 L 121,6.49971 C 120.5,4.24975 118.5,2.49957 116,2.49957 L 26.4998,2.49957 C 24.2499,2.49957 22.2498,3.99955 21.7497,6.49971 L 10.0001,64.9998 m 0,0 m 12.7498,-58.4998 C 23.25,4.00014 25.2498,2.49987 27.5,2.49987 L 34.9999,2.49987 C 32.7499,2.49987 30.7499,3.99985 30.2498,6.50001 L 18.4998,64.9998 L 11,64.9998 L 22.7499,6.50001 m 0,0 m 100.75,58.4998 C 118,43.4997 98.5,27.4997 75.2501,27.4997 C 52.0001,27.4997 32.5001,43.5 26.9999,64.9998 L 123.5,64.9998 m 0,0 m -10.9999,0 C 107.75,43.4997 90.7499,27.4997 70.4999,27.4997 C 50.2499,27.4997 33.25,43.5 28.4999,64.9998 L 112.5,64.9998 m 0,0 m 30.5,2.50016 L 7.00011,67.5 L 19.2501,5.99992 C 20.0001,2.49987 23.0001,0 26.5001,0 L 123.5,0 C 127,0 130,2.49987 130.75,5.75002 L 143,67.5 m 0,0 m -130,-5.00003 L 137,62.4999 L 126,6.9998 C 125.75,5.99992 124.75,4.99973 123.5,4.99973 L 26.4998,4.99973 C 25.2498,4.99973 24.2499,5.74972 24,6.9998 L 13,62.4999 m 0,0 m 11.5,67.5 L 7.49991,130 C 3.24987,130 9.63919E-06,126.75 9.63919E-06,122.5 L 9.63919E-06,115 L 36.4999,115 L 30.9998,125.75 C 29.75,128.5 27.2501,130 24.5001,130 m 0,0 m -19.5,-10.0001 L 5.00004,122.5 C 5.00004,124 5.99993,125 7.49991,125 L 24.4998,125 C 25.4997,125 26.2496,124.499 26.7497,123.5 L 28.4996,120 L 5.00004,120 m 0,0 m 137.5,10.0004 L 125.5,130 C 122.75,130 120,128.5 118.75,125.75 L 113.5,115 L 150,115 L 150,122.5 C 150,126.75 146.75,130 142.5,130 m 0,0 m -21,-10.0001 L 123.25,123.5 C 123.75,124.25 124.5,125 125.5,125 L 142.5,125 C 144,125 144.999,124 144.999,122.5 L 144.999,120 L 121.5,120 m 0,0 m 28.5002,-0.000297851 L 1.24332E-05,120 L 1.24332E-05,97.4998 L 150,97.4998 L 150,120 m 0,0 m -145,-5.00003 L 145,115 L 145,102.5 L 5.00004,102.5 L 5.00004,115 m 0,0 m 145,-12.4999 L 1.24332E-05,102.5 L 1.24332E-05,69.9998 C 1.24332E-05,65.7498 3.24987,62.4999 7.49991,62.4999 L 142.5,62.4999 C 146.75,62.4999 150,65.7498 150,69.9998 L 150,102.5 m 0,0 m -145,-5.00003 L 145,97.4998 L 145,69.9998 C 145,68.4998 144,67.5 142.5,67.5 L 7.4999,67.5 C 5.99992,67.5 5.00003,68.4998 5.00003,69.9998 L 5.00003,97.4998 m 0,0 m 121.5,-29.9999 L 23.4999,67.5 L 24.2499,64.5 C 30.2498,41.25 50.9999,25.0001 74.9999,25.0001 C 98.9998,25.0001 119.75,41.25 125.75,64.5 L 126.5,67.5 m 0,0 m -96.5,-5.00003 L 120,62.4999 C 113.5,43.2498 95.4998,29.9999 74.9999,29.9999 C 54.4999,29.9999 36.4999,43.2498 29.9999,62.4999 m 0,0 m -17.5,17.5 L 2.49987,79.9999 C 0.999887,79.9999 0,79 0,77.5 C 0,76 0.999887,75.0001 2.49987,75.0001 L 12.4999,75.0001 C 13.9999,75.0001 14.9998,76 14.9998,77.5 C 14.9998,79 13.9999,79.9999 12.4999,79.9999 m 0,0 m 0,10.0001 L 2.49987,89.9999 C 0.999887,89.9999 0,89.0001 0,87.5001 C 0,86.0001 0.999887,85.0002 2.49987,85.0002 L 12.4999,85.0002 C 13.9999,85.0002 14.9998,86.0001 14.9998,87.5001 C 15.0001,88.9998 13.9999,89.9999 12.4999,89.9999 m 0,0 m 135,-10.0001 L 135,79.9999 C 133.5,79.9999 132.5,79 132.5,77.5 C 132.5,76 133.5,75.0001 135,75.0001 L 147.5,75.0001 C 149,75.0001 150,76 150,77.5 C 150,79 149,79.9999 147.5,79.9999 m 0,0 m 0,10.0001 L 135,89.9999 C 133.5,89.9999 132.5,89.0001 132.5,87.5001 C 132.5,86.0001 133.5,85.0002 135,85.0002 L 147.5,85.0002 C 149,85.0002 150,86.0001 150,87.5001 C 150,88.9998 149,89.9999 147.5,89.9999 m 0,0 m -123,39.9999 L 7.4999,130 C 3.24986,130 1.39698E-06,126.75 1.39698E-06,122.5 L 1.39698E-06,115 L 36.4999,115 L 30.9998,125.75 C 29.75,128.5 27.2501,130 24.5001,130 m 0,0 m -19.5,-10.0001 L 5.00003,122.5 C 5.00003,124 5.99992,125 7.4999,125 L 24.4998,125 C 25.4996,125 26.2496,124.499 26.7497,123.5 L 28.4996,120 L 5.00003,120 Z\" fill=\"#000\"/></svg>"
      ],
      "text/plain": [
       "<IPython.core.display.SVG object>"
      ]
     },
     "metadata": {},
     "output_type": "display_data"
    },
    {
     "name": "stdout",
     "output_type": "stream",
     "text": [
      "target: bed bedroom\n",
      "result: server\n"
     ]
    },
    {
     "data": {
      "image/svg+xml": [
       "<svg xmlns=\"http://www.w3.org/2000/svg\" xmlns:ev=\"http://www.w3.org/2001/xml-events\" xmlns:xlink=\"http://www.w3.org/1999/xlink\" baseProfile=\"tiny\" fill-rule=\"evenodd\" height=\"147.1089822344311px\" version=\"1.2\" width=\"150.00000184445526px\"><defs/><path d=\"M 96.8443,106.922 m 0,0 L 96.8443,106.922 C 86.0121,93.8092 66.1395,93.1559 54.4696,105.529 L 75,144.398 C 90.3521,144.359 105.002,140.071 116.88,133.088 L 96.8443,106.922 m 0,0 m -42.3747,-1.39307 L 53.1557,106.922 C 43.4306,112.603 36.1181,121.96 33.1195,133.088 C 36.3138,134.954 39.6442,136.612 43.091,138.047 C 45.9398,139.233 48.8684,140.265 51.8672,141.132 C 59.2107,143.257 66.9718,144.398 74.9997,144.398 L 74.9997,96.6609 C 67.5381,96.6697 60.0618,99.5994 54.4696,105.529 m 0,0 m 49.1865,6.31289 L 103.633,111.841 C 103.637,111.838 103.642,111.836 103.646,111.833 C 101.549,109.987 99.2719,108.339 96.844,106.921 L 96.844,106.921 C 91.2026,100.092 83.1094,96.6513 74.9997,96.6609 L 67.7707,107.53 L 74.9997,119.277 C 83.1489,119.277 91.0333,117.634 98.3238,114.47 C 104.764,119.515 109.516,126.595 111.645,134.498 L 111.978,135.734 C 113.645,134.905 115.28,134.023 116.88,133.088 C 114.631,124.742 109.956,117.392 103.656,111.841 m 0,0 m -49.1865,-6.31289 L 53.1557,106.922 C 50.7325,108.337 48.4594,109.981 46.3652,111.824 C 55.0901,116.703 64.9342,119.277 75,119.277 L 75,96.6609 C 67.5381,96.6697 60.0618,99.5994 54.4696,105.529 m 0,0 m 43.6629,35.6039 C 101.131,140.265 104.06,139.232 106.909,138.047 C 105.647,131.675 102.526,125.972 98.1325,121.529 L 98.1325,141.132 m 0,0 m -55.0412,-3.08584 C 45.9401,139.233 48.8686,140.265 51.8675,141.132 L 51.8675,121.528 C 47.4744,125.972 44.3531,131.675 43.0913,138.047 m 0,0 m 50.8734,-31.3107 L 88.2533,101.024 L 75,101.024 L 64.1566,114.398 L 75,140.783 L 89.5471,126.236 C 91.2724,124.511 91.2724,121.714 89.5471,119.989 L 89.5471,119.989 C 88.8325,119.274 88.8325,118.116 89.5471,117.401 L 93.9647,112.983 C 95.6897,111.258 95.6897,108.461 93.9647,106.736 m 0,0 m -32.2178,-5.71172 L 56.0355,106.736 C 54.3102,108.461 54.3102,111.258 56.0355,112.983 L 60.4532,117.401 C 61.1678,118.115 61.1678,119.274 60.4532,119.989 L 60.4532,119.989 C 58.7279,121.714 58.7279,124.511 60.4532,126.236 L 75,140.783 L 75,101.024 L 61.747,101.024 m 0,0 m 32.2178,5.71172 L 88.2533,101.024 L 75,101.024 L 67.771,109.802 L 75,119.277 C 79.9392,119.277 84.7808,118.674 89.4524,117.495 L 93.9644,112.983 C 95.6897,111.258 95.6897,108.461 93.9647,106.736 m 0,0 m -32.2178,-5.71172 L 56.0355,106.736 C 54.3102,108.461 54.3102,111.258 56.0355,112.983 L 60.5168,117.464 C 62.2796,117.912 64.0646,118.275 65.8661,118.557 C 68.8737,119.029 71.9259,119.277 75.0003,119.277 L 75.0003,101.024 L 61.747,101.024 L 61.747,101.024 m 0,0 m 69.206,-70.4153 C 121.062,20.6666 98.0309,15.6952 75,15.6952 L 46.0843,56.9279 L 75,95.2131 C 97.2223,95.2131 119.445,91.2161 130.953,83.2225 C 141.718,75.7447 145.311,45.0413 130.953,30.6088 m 0,0 m -111.906,0 C 4.68897,45.0413 8.28164,75.7447 19.0471,83.2228 C 30.5549,91.2164 52.7771,95.2134 75,95.2134 L 75,15.6952 C 51.9691,15.6952 28.9386,20.6666 19.0471,30.6088 m 0,0 m 111.977,13.6685 C 128.373,44.2773 125.872,44.9156 123.66,46.0412 C 118.79,27.6179 105.204,10.7777 88.031,4.91133 L 48.4362,103.616 C 56.1571,108.389 65.2562,111.144 75,111.144 C 97.9342,111.144 117.301,95.8857 123.512,74.9678 C 125.76,76.1405 128.314,76.8073 131.024,76.8073 C 140.007,76.8073 147.289,69.5253 147.289,60.5423 C 147.289,51.5593 140.007,44.2772 131.024,44.2772 m 0,0 m -16.265,10.8434 C 114.759,35.8081 103.939,15.5731 88.0313,4.91104 C 83.8731,3.49043 79.5059,2.71084 75,2.71084 C 51.8836,2.71084 32.3889,23.1571 26.3397,46.0409 C 24.1283,44.9156 21.6275,44.277 18.9759,44.277 C 9.99287,44.277 2.71084,51.559 2.71084,60.542 C 2.71084,69.525 9.99287,76.807 18.9759,76.807 C 21.6864,76.807 24.2399,76.1402 26.4873,74.9678 C 30.0595,86.9985 37.9843,97.1563 48.4356,103.617 C 53.7929,104.985 59.1231,105.723 64.1561,105.723 C 92.1035,105.723 114.759,83.0675 114.759,55.1206 m 0,0 m -39.7591,30.8651 C 71.3798,85.9857 67.9761,84.576 65.4158,82.016 C 62.2447,78.8443 62.2453,73.6846 65.4161,70.5141 C 66.9522,68.9783 68.9941,68.1328 71.1662,68.1328 C 72.5259,68.1328 73.8343,68.4642 75,69.0888 C 76.1657,68.4639 77.4744,68.1328 78.8335,68.1328 C 81.0062,68.1328 83.0487,68.9789 84.5845,70.5152 C 87.7547,73.6852 87.755,78.8443 84.5845,82.0154 C 82.0239,84.576 78.6202,85.9857 75,85.9857 m 0,0 m -1.98809,-20.0218 C 71.5169,65.964 70.3011,64.7481 70.3011,63.2531 C 70.3011,61.7581 71.5169,60.5423 73.0119,60.5423 C 74.5069,60.5423 75.7228,61.7581 75.7228,63.2531 C 75.7228,64.7481 74.5069,65.964 73.0119,65.964 m 0,0 m -32.717,-46.0688 C 36.7608,23.9045 28.3588,33.2531 28.3588,33.2531 C 28.3588,33.2531 27.501,41.6449 26.3391,46.0412 C 29.4536,47.6262 31.9898,50.1835 33.547,53.3136 C 34.8873,53.3136 36.0618,52.403 36.3803,51.1011 C 37.1648,47.8939 38.3391,44.8403 39.8499,41.9927 C 41.3106,39.2391 42.1869,36.2739 42.5063,33.2537 C 42.9768,28.7974 42.2329,24.2203 40.3521,20.0241 C 40.333,19.9808 40.3143,19.9377 40.2949,19.8952 m 0,0 m 69.4102,0 C 113.239,23.9045 121.641,33.2531 121.641,33.2531 C 121.641,33.2531 122.499,41.6449 123.661,46.0412 C 120.546,47.6262 118.01,50.1835 116.453,53.3136 C 115.113,53.3136 113.938,52.403 113.62,51.1011 C 112.835,47.8939 111.661,44.8403 110.15,41.9927 C 108.689,39.2391 107.813,36.2739 107.494,33.2537 C 107.023,28.7974 107.767,24.2203 109.648,20.0241 C 109.667,19.9808 109.686,19.9377 109.705,19.8952 m 0,0 m 40.2949,40.6471 C 150,54.2238 146.805,48.2912 141.589,44.7844 C 139.916,38.3054 136.917,32.7601 132.874,28.6969 C 128.207,24.005 120.906,20.2412 111.181,17.4979 C 104.72,10.3579 97.0362,5.12256 88.9072,2.34609 C 84.3507,0.789551 79.6717,0 75,0 C 64.2785,0 53.7662,4.10566 44.5995,11.8731 C 43.4572,12.8411 43.316,14.5518 44.284,15.694 C 45.252,16.8366 46.9626,16.9772 48.1046,16.0099 C 56.2784,9.08291 65.5793,5.42168 75,5.42168 C 79.0737,5.42168 83.1636,6.11309 87.1547,7.47656 C 94.4212,9.95889 101.332,14.6786 107.18,21.1465 C 107.443,21.7248 107.91,22.2141 108.535,22.4953 C 108.896,22.6579 109.274,22.735 109.646,22.735 C 109.682,22.735 109.717,22.7288 109.752,22.7273 C 118.431,25.1833 125.091,28.5604 129.031,32.5204 C 131.518,35.0206 133.54,38.2415 135.006,41.9918 C 133.702,41.712 132.368,41.5664 131.024,41.5664 C 128.033,41.5664 125.167,42.2467 122.502,43.5888 C 122.456,43.6107 122.409,43.6342 122.364,43.6588 C 119.833,44.9596 117.613,46.8366 115.896,49.0978 C 115.082,46.1979 113.958,43.3866 112.545,40.7221 C 111.272,38.3221 110.479,35.7132 110.189,32.9684 C 110.002,31.1979 110.031,29.3856 110.276,27.5821 C 110.478,26.0988 109.438,24.7327 107.954,24.5314 C 106.472,24.3302 105.104,25.3696 104.904,26.8535 C 104.601,29.0871 104.565,31.3362 104.797,33.5385 C 105.161,36.9759 106.155,40.2478 107.754,43.2633 C 109.178,45.9463 110.265,48.8004 110.986,51.7468 C 111.293,53.001 112.034,54.1201 113.072,54.8979 C 114.056,55.6356 115.225,56.0253 116.452,56.0253 C 117.481,56.0253 118.421,55.4429 118.88,54.5221 C 120.171,51.927 122.305,49.7733 124.89,48.4585 C 124.892,48.4573 124.894,48.4567 124.896,48.4556 C 126.81,47.4829 128.872,46.9896 131.024,46.9896 C 133.424,46.9896 135.785,47.6282 137.852,48.8364 C 142.001,51.2628 144.579,55.7487 144.579,60.5437 C 144.579,66.1816 141.029,71.2887 135.746,73.2521 C 134.235,73.8135 132.647,74.0979 131.024,74.0979 C 129.516,74.0979 128.055,73.8507 126.659,73.3726 C 127.705,68.8983 128.314,64.2469 128.314,60.5426 C 128.314,59.0476 129.529,57.8317 131.024,57.8317 C 132.519,57.8317 133.735,59.0476 133.735,60.5426 C 133.735,62.0396 134.949,63.2534 136.446,63.2534 C 137.943,63.2534 139.157,62.0396 139.157,60.5426 C 139.157,56.0581 135.509,52.4101 131.024,52.4101 C 126.54,52.4101 122.892,56.0581 122.892,60.5426 C 122.892,64.4528 122.12,69.6018 120.828,74.3165 C 120.794,74.4407 120.772,74.5655 120.756,74.6903 C 119.252,79.5601 116.989,84.1462 114.009,88.323 C 108.755,95.6895 101.645,101.331 93.4708,104.741 C 93.3981,104.769 93.3264,104.799 93.2558,104.833 C 90.4893,105.971 87.6023,106.854 84.6252,107.461 C 84.6021,107.466 84.5804,107.475 84.5575,107.48 C 81.4327,108.113 78.2183,108.434 75.0006,108.434 C 73.5032,108.434 72.2897,109.648 72.2897,111.145 C 72.2897,112.642 73.5032,113.856 75.0006,113.856 C 75.888,113.856 76.7754,113.834 77.6613,113.79 L 75.0006,116.451 L 66.75,108.2 C 66.3741,107.824 65.8963,107.567 65.3751,107.461 C 59.8611,106.335 54.6422,104.266 49.8621,101.312 C 44.3991,97.9348 39.733,93.5651 35.9938,88.3242 C 33.0123,84.1468 30.7485,79.5606 29.2444,74.6912 C 29.2286,74.567 29.2069,74.4422 29.1729,74.3174 C 27.8804,69.602 27.1087,64.4528 27.1087,60.5426 C 27.1087,56.0581 23.4604,52.4101 18.9762,52.4101 C 14.492,52.4101 10.8437,56.0581 10.8437,60.5426 C 10.8437,62.0396 12.0571,63.2534 13.5545,63.2534 C 15.0519,63.2534 16.2653,62.0396 16.2653,60.5426 C 16.2653,59.0476 17.4812,57.8317 18.9762,57.8317 C 20.4712,57.8317 21.687,59.0476 21.687,60.5426 C 21.687,64.2466 22.2958,68.898 23.342,73.3714 C 21.9451,73.8495 20.4844,74.0968 18.9762,74.0968 C 17.354,74.0968 15.7655,73.8123 14.2553,73.251 C 8.97158,71.2875 5.42197,66.1805 5.42197,60.5426 C 5.42197,55.7476 7.99951,51.2616 12.1482,48.8353 C 14.2154,47.6271 16.5762,46.9884 18.9762,46.9884 C 21.1286,46.9884 23.1902,47.4817 25.1048,48.4544 C 25.1065,48.4556 25.1089,48.4562 25.1106,48.4573 C 27.6949,49.7722 29.8298,51.9258 31.1209,54.5209 C 31.5791,55.442 32.5192,56.0241 33.5481,56.0241 C 36.1503,56.0241 38.3982,54.2646 39.0149,51.745 C 39.7356,48.7995 40.8226,45.9457 42.2458,43.2621 C 43.8448,40.2469 44.84,36.975 45.203,33.5379 C 45.7239,28.6031 44.9024,23.5465 42.8206,18.9018 L 42.7802,18.8115 C 42.4125,17.9687 41.6432,17.3701 40.7361,17.2204 C 40.6093,17.1993 40.4824,17.1908 40.3559,17.1882 C 40.3187,17.1876 40.2814,17.1885 40.2442,17.1894 C 40.1484,17.1911 40.0529,17.1981 39.9586,17.2099 C 39.9252,17.2143 39.8918,17.2166 39.8587,17.2222 C 39.7421,17.2412 39.6264,17.2655 39.5133,17.2995 C 29.4366,20.0587 21.905,23.8931 17.1252,28.6975 C 14.7346,31.1007 12.7116,34.0002 11.1126,37.3157 C 10.4619,38.6643 11.0279,40.2847 12.3762,40.9354 C 12.7562,41.1182 13.1569,41.2055 13.5524,41.2055 C 14.5605,41.2055 15.5285,40.6406 15.9958,39.6715 C 17.332,36.9009 19.0052,34.4956 20.9689,32.5213 C 24.67,28.8018 30.7652,25.5946 38.6842,23.1832 C 39.7661,26.3555 40.1563,29.6985 39.8112,32.9689 C 39.5209,35.7141 38.7287,38.3229 37.4558,40.7227 C 36.0425,43.3872 34.9181,46.1988 34.1048,49.0989 C 32.3895,46.841 30.1737,44.966 27.6469,43.6655 C 27.5947,43.6371 27.5423,43.6102 27.4887,43.585 C 24.8268,42.2455 21.9633,41.5667 18.9762,41.5667 C 15.6155,41.5667 12.3082,42.4617 9.41162,44.1554 C 3.60645,47.5497 0,53.8289 0,60.5423 C 0,68.0599 4.51113,74.9007 11.3323,77.9095 C 13.0438,81.2563 15.1148,83.7917 17.5008,85.4493 C 21.2684,88.0664 26.1873,90.3419 32.1264,92.2192 C 36.1919,97.718 41.1935,102.327 47.0106,105.923 C 48.6674,106.947 50.3725,107.874 52.1194,108.705 C 51.7544,110.907 52.4379,113.22 54.1187,114.901 L 57.9516,118.733 C 56.9771,119.98 56.4486,121.506 56.4486,123.113 C 56.4486,125.017 57.1904,126.808 58.5363,128.154 L 72.2895,141.907 L 72.2895,144.398 C 72.2895,145.895 73.5029,147.109 75.0003,147.109 C 76.4977,147.109 77.7111,145.895 77.7111,144.398 L 77.7111,141.907 L 91.4637,128.154 C 92.8105,126.807 93.5517,125.017 93.5517,123.113 C 93.5517,121.506 93.0231,119.979 92.0487,118.733 L 95.8813,114.901 C 97.0304,113.752 97.7092,112.306 97.9107,110.804 C 99.2859,111.744 100.606,112.769 101.855,113.868 C 101.857,113.87 101.86,113.872 101.862,113.874 C 101.863,113.875 101.863,113.875 101.864,113.876 C 107.896,119.19 112.184,126.077 114.263,133.793 C 114.589,135.002 115.683,135.799 116.878,135.799 C 117.112,135.799 117.35,135.769 117.585,135.705 C 119.031,135.316 119.887,133.828 119.498,132.382 C 117.141,123.635 112.282,115.828 105.448,109.808 C 105.445,109.805 105.442,109.803 105.44,109.801 C 105.439,109.801 105.439,109.8 105.438,109.799 C 104.213,108.721 102.927,107.708 101.594,106.764 C 107.903,103.132 113.45,98.2063 117.877,92.2184 C 123.814,90.3413 128.731,88.0667 132.5,85.4493 C 134.885,83.7917 136.956,81.2569 138.668,77.9101 C 145.489,74.901 150,68.0604 150,60.5423 m 0,0 m -131.081,18.9747 C 18.9378,79.517 18.9568,79.5182 18.9759,79.5182 C 20.9604,79.5182 22.9409,79.2023 24.8247,78.5924 C 25.5814,80.6971 26.4765,82.7461 27.4934,84.7365 C 24.835,83.5881 22.5267,82.3383 20.5939,80.9959 C 20.0212,80.5986 19.461,80.102 18.9187,79.517 m 0,0 m 43.4514,44.8022 C 62.0478,123.997 61.8703,123.568 61.8703,123.113 C 61.8703,122.657 62.0478,122.228 62.3704,121.905 C 64.1399,120.135 64.1399,117.255 62.3701,115.484 L 57.9524,111.066 C 57.9519,111.066 57.9513,111.065 57.9507,111.064 C 59.7603,111.674 61.6061,112.187 63.4834,112.601 L 72.2892,121.406 L 72.2892,134.238 L 62.3701,124.319 m 0,0 m 29.6777,-13.2527 L 87.6296,115.484 C 85.8601,117.255 85.8601,120.135 87.6299,121.906 C 87.9521,122.228 88.1297,122.657 88.1297,123.113 C 88.1297,123.568 87.9521,123.997 87.6293,124.32 L 77.7105,134.238 L 77.7105,121.406 L 86.5151,112.601 C 88.396,112.187 90.2423,111.671 92.0499,111.063 C 92.0493,111.065 92.0487,111.066 92.0478,111.067 m 0,0 m 37.3585,-30.0703 C 127.473,82.3386 125.165,83.589 122.508,84.7368 C 123.524,82.7464 124.419,80.6974 125.175,78.5927 C 127.059,79.2023 129.039,79.5185 131.024,79.5185 C 131.043,79.5185 131.062,79.5173 131.081,79.5173 C 130.539,80.102 129.979,80.5986 129.406,80.9962 m 0,0 m -78.3442,-37.7754 C 47.2957,44.448 43.9304,46.8955 41.5854,50.1141 C 40.7039,51.3243 40.9699,53.0197 42.1799,53.9013 C 42.6618,54.2522 43.2205,54.4213 43.7742,54.4213 C 44.6109,54.4213 45.4368,54.0349 45.9671,53.3065 C 47.6455,51.0029 50.0514,49.2521 52.7414,48.3756 C 54.1646,47.9118 54.9431,46.3819 54.4793,44.9581 C 54.0155,43.5352 52.4865,42.757 51.0621,43.2208 m 0,0 m 57.3521,6.89297 C 106.07,46.8955 102.704,44.4475 98.9376,43.2205 C 97.5129,42.7567 95.9842,43.5354 95.5204,44.9584 C 95.0566,46.3816 95.8345,47.9118 97.2583,48.3759 C 99.948,49.2521 102.354,51.0032 104.033,53.3068 C 104.563,54.0352 105.389,54.4216 106.225,54.4216 C 106.779,54.4216 107.338,54.2525 107.82,53.9016 C 109.03,53.0194 109.296,51.324 108.414,50.1138 m 0,0 m -60.2698,63.7544 C 49.2683,112.879 49.3769,111.166 48.3876,110.042 C 47.3982,108.918 45.6847,108.81 44.5617,109.799 C 37.7221,115.821 32.8602,123.63 30.5018,132.383 C 30.1125,133.828 30.9685,135.316 32.4143,135.705 C 32.6505,135.769 32.8878,135.8 33.1213,135.8 C 34.3166,135.8 35.4111,135.003 35.7372,133.793 C 37.8173,126.074 42.1078,119.183 48.1444,113.868 m 0,0 m 51.9161,5.75508 C 99.0073,118.558 97.2908,118.549 96.227,119.601 C 95.1621,120.654 95.1521,122.37 96.2045,123.435 C 100.334,127.611 103.115,132.846 104.249,138.573 C 104.505,139.864 105.638,140.758 106.906,140.758 C 107.08,140.758 107.257,140.741 107.435,140.706 C 108.904,140.415 109.859,138.989 109.568,137.52 C 108.227,130.746 104.939,124.558 100.061,119.623 m 0,0 m -50.1211,0 C 45.0609,124.558 41.7732,130.747 40.432,137.521 C 40.1411,138.989 41.0965,140.416 42.5645,140.706 C 42.7424,140.742 42.9196,140.759 43.0939,140.759 C 44.3619,140.759 45.4951,139.865 45.7506,138.574 C 46.8844,132.846 49.6661,127.611 53.7952,123.435 C 54.8478,122.37 54.8379,120.654 53.7729,119.602 C 52.7089,118.549 50.9924,118.558 49.9394,119.623 m 0,0 m -0.963574,-53.84 L 45.3615,65.7832 C 43.8642,65.7832 42.6507,66.997 42.6507,68.494 C 42.6507,69.9911 43.8642,71.2049 45.3615,71.2049 L 48.9759,71.2049 C 50.4732,71.2049 51.6867,69.9911 51.6867,68.494 C 51.6867,66.997 50.4732,65.7832 48.9759,65.7832 m 0,0 m 52.0482,0 C 99.5268,65.7832 98.3133,66.997 98.3133,68.494 C 98.3133,69.9911 99.5268,71.2049 101.024,71.2049 L 104.638,71.2049 C 106.136,71.2049 107.349,69.9911 107.349,68.494 C 107.349,66.997 106.136,65.7832 104.638,65.7832 L 101.024,65.7832 m 0,0 m -26.0241,7.229 C 70.5158,73.0122 66.8675,69.3642 66.8675,64.8797 C 66.8675,63.3826 68.081,62.1688 69.5783,62.1688 C 71.0757,62.1688 72.2892,63.3826 72.2892,64.8797 C 72.2892,66.3747 73.505,67.5905 75,67.5905 C 76.495,67.5905 77.7108,66.3747 77.7108,64.8797 C 77.7108,63.3826 78.9243,62.1688 80.4217,62.1688 C 81.919,62.1688 83.1325,63.3826 83.1325,64.8797 C 83.1325,69.3642 79.4842,73.0122 75,73.0122 m 0,0 m 0,7.55186 C 72.8276,80.5641 70.7856,79.718 69.2493,78.1822 C 68.1905,77.1234 68.1905,75.4069 69.2496,74.3484 C 70.3084,73.2902 72.0249,73.2902 73.0831,74.3484 C 73.5949,74.8605 74.2758,75.1427 74.9997,75.1427 C 75.7236,75.1427 76.4048,74.8608 76.9163,74.3484 C 77.9754,73.2896 79.6919,73.2896 80.7498,74.3484 C 81.8089,75.4072 81.8089,77.1237 80.7501,78.1822 C 79.2143,79.718 77.1724,80.5641 75,80.5641 Z\" fill=\"#000\"/></svg>"
      ],
      "text/plain": [
       "<IPython.core.display.SVG object>"
      ]
     },
     "metadata": {},
     "output_type": "display_data"
    },
    {
     "name": "stdout",
     "output_type": "stream",
     "text": [
      "target: clown fun\n",
      "result: airplane\n"
     ]
    },
    {
     "data": {
      "image/svg+xml": [
       "<svg xmlns=\"http://www.w3.org/2000/svg\" xmlns:ev=\"http://www.w3.org/2001/xml-events\" xmlns:xlink=\"http://www.w3.org/1999/xlink\" baseProfile=\"tiny\" fill-rule=\"evenodd\" height=\"90.82665145397186px\" version=\"1.2\" width=\"150.0px\"><defs/><path d=\"M 92.3078,16.0267 m 0,0 L 57.8822,16.0267 C 51.3465,16.0267 46.029,21.3437 46.029,27.8767 C 46.029,34.4124 51.346,39.7299 57.8822,39.7299 L 92.3014,39.7299 C 98.8371,39.7299 104.158,34.4129 104.158,27.8767 C 104.158,21.3442 98.8434,16.0267 92.3078,16.0267 M 92.3078,16.0267 M 0,0 L 0,90.8267 L 150,90.8267 L 150,0 L 0,0 m 0,0 m 92.3046,46.0475 L 57.8822,46.0475 C 47.8636,46.0475 39.7145,37.8985 39.7145,27.8799 C 39.7145,17.8644 47.8668,9.71538 57.8822,9.71538 L 92.3046,9.71538 C 102.323,9.71538 110.472,17.8645 110.472,27.8799 C 110.472,37.8953 102.32,46.0475 92.3046,46.0475 Z\" fill=\"#000\"/></svg>"
      ],
      "text/plain": [
       "<IPython.core.display.SVG object>"
      ]
     },
     "metadata": {},
     "output_type": "display_data"
    },
    {
     "name": "stdout",
     "output_type": "stream",
     "text": [
      "target: box covered\n",
      "result: text\n"
     ]
    },
    {
     "data": {
      "image/svg+xml": [
       "<svg xmlns=\"http://www.w3.org/2000/svg\" xmlns:ev=\"http://www.w3.org/2001/xml-events\" xmlns:xlink=\"http://www.w3.org/1999/xlink\" baseProfile=\"tiny\" fill-rule=\"evenodd\" height=\"150.0000039115548px\" version=\"1.2\" width=\"147.68735021352768px\"><defs/><path d=\"M 127.872,2.30549 m 0,0 L 105.841,2.30549 C 102.05,2.30549 98.9821,5.37709 98.9821,9.16468 C 98.9821,12.9523 102.05,16.0239 105.841,16.0239 L 127.872,16.0239 C 131.234,16.0239 133.976,18.7625 133.976,22.1277 L 133.976,51.6587 L 107.356,51.6587 L 107.356,38.8568 C 107.356,35.0692 104.288,31.9976 100.504,31.9976 C 96.7124,31.9976 93.6444,35.0692 93.6444,38.8568 L 93.6444,51.6587 L 90.5943,51.6587 C 86.8031,51.6587 83.7351,54.7303 83.7351,58.5179 C 83.7351,62.3055 86.8031,65.3771 90.5943,65.3771 L 93.6444,65.3771 L 93.6444,98.3091 L 54.7912,98.3091 L 54.7912,65.3771 L 57.0931,65.3771 C 60.8842,65.3771 63.9523,62.3055 63.9523,58.5179 C 63.9523,54.7303 60.8842,51.6587 57.0931,51.6587 L 54.7912,51.6587 L 54.7912,38.8568 C 54.7912,35.0692 51.7232,31.9976 47.932,31.9976 C 44.1408,31.9976 41.0728,35.0692 41.0728,38.8568 L 41.0728,51.6587 L 13.7112,51.6587 L 13.7112,22.1277 C 13.7112,18.7625 16.4535,16.0239 19.815,16.0239 L 44.1193,16.0239 C 47.9105,16.0239 50.9785,12.9523 50.9785,9.16468 C 50.9785,5.38067 47.9105,2.30549 44.1193,2.30549 L 19.815,2.30549 C 8.88544,2.30549 0,11.1945 0,22.1241 L 0,130.181 C 0,141.111 8.88544,150 19.815,150 L 127.872,150 C 138.802,150 147.687,141.111 147.687,130.181 L 147.687,22.1241 C 147.691,11.1945 138.802,2.30549 127.872,2.30549 m 0,0 m -20.5131,63.0644 L 133.98,65.3699 L 133.98,98.3019 L 107.359,98.3019 C 107.359,98.3019 107.359,65.3699 107.359,65.3699 m 0,0 m -13.7112,46.6468 L 93.648,136.285 L 54.7912,136.285 L 54.7912,112.017 L 93.648,112.017 m 0,0 m -52.5752,-46.6468 L 41.0728,98.3019 L 13.7112,98.3019 L 13.7112,65.3699 L 41.0728,65.3699 m 0,0 m -27.358,64.8115 L 13.7148,112.017 L 41.0764,112.017 L 41.0764,136.285 L 19.8186,136.285 C 16.4535,136.285 13.7148,133.55 13.7148,130.181 m 0,0 m 114.158,6.10382 L 107.359,136.285 L 107.359,112.017 L 133.98,112.017 L 133.98,130.181 C 133.98,133.55 131.237,136.285 127.872,136.285 m 0,0 m -60.8771,-94.8473 L 66.9952,76.1563 C 66.9952,79.9403 70.0632,83.0155 73.8473,83.0155 C 77.6384,83.0155 80.7064,79.9439 80.7064,76.1563 L 80.7064,41.4272 C 89.0979,38.5632 95.173,30.6945 95.173,21.3294 C 95.173,9.54773 85.6217,0 73.8401,0 C 62.0585,0 52.5072,9.54773 52.5072,21.3294 C 52.5072,30.7017 58.5895,38.5704 66.9952,41.4379 Z\" fill=\"#000\"/></svg>"
      ],
      "text/plain": [
       "<IPython.core.display.SVG object>"
      ]
     },
     "metadata": {},
     "output_type": "display_data"
    },
    {
     "name": "stdout",
     "output_type": "stream",
     "text": [
      "target: vintage joystick\n",
      "result: computer monitor\n"
     ]
    },
    {
     "data": {
      "image/svg+xml": [
       "<svg xmlns=\"http://www.w3.org/2000/svg\" xmlns:ev=\"http://www.w3.org/2001/xml-events\" xmlns:xlink=\"http://www.w3.org/1999/xlink\" baseProfile=\"tiny\" fill-rule=\"evenodd\" height=\"145.8634838461876px\" version=\"1.2\" width=\"150.00000447034836px\"><defs/><path d=\"M 4.47035E-06,0.00524484 m 0,0 C -30.7067,30.712 -30.712,80.5023 4.47035E-06,111.219 C 25.5584,136.778 64.3337,141.04 94.3378,124.048 L 150,145.863 L 124.536,93.4466 C 140.962,63.5787 136.537,25.3119 111.225,0 C 80.5023,-30.7172 30.7067,-30.7067 0,0.00524274 m 0,0 m 109.699,91.0192 L 111.067,93.7087 L 116.792,104.939 L 116.824,104.991 L 125.826,123.529 L 106.176,115.823 L 105.982,115.744 L 93.651,111.115 L 90.5998,109.966 C 65.5762,126.093 31.771,123.21 9.89305,101.337 C -15.3298,76.1141 -15.3298,35.0949 9.87732,9.88257 C 35.0949,-15.3298 76.1141,-15.3298 101.326,9.88781 C 123.341,31.9021 126.13,65.9589 109.699,91.0244 Z\" fill=\"#000\"/></svg>"
      ],
      "text/plain": [
       "<IPython.core.display.SVG object>"
      ]
     },
     "metadata": {},
     "output_type": "display_data"
    },
    {
     "name": "stdout",
     "output_type": "stream",
     "text": [
      "target: round speech bubble with ellipsis\n",
      "result: circular graphic\n"
     ]
    },
    {
     "data": {
      "image/svg+xml": [
       "<svg xmlns=\"http://www.w3.org/2000/svg\" xmlns:ev=\"http://www.w3.org/2001/xml-events\" xmlns:xlink=\"http://www.w3.org/1999/xlink\" baseProfile=\"tiny\" fill-rule=\"evenodd\" height=\"150.00001059961505px\" version=\"1.2\" width=\"111.2903271918185px\"><defs/><path d=\"M 102.823,1.05996E-05 m 0,0 L 8.46774,1.05996E-05 C 4.35484,1.05996E-05 6.63567E-07,3.87098 6.63567E-07,7.98388 L 6.63567E-07,104.758 L 47.9032,150 L 102.823,150 C 106.935,150 111.29,146.129 111.29,142.016 L 111.29,7.98388 C 111.29,3.87098 106.935,1.17172E-05 102.823,1.17172E-05 m 0,0 L 8.46774,1.17172E-05 C 4.35484,1.17172E-05 1.78115E-06,3.87098 1.78115E-06,7.98388 L 1.78115E-06,104.758 L 47.9032,150 L 102.823,150 C 106.935,150 111.29,146.129 111.29,142.016 L 111.29,7.98388 C 111.29,3.87098 106.935,1.28348E-05 102.823,1.28348E-05 m 0,0 m 8.46774,116.129 L 111.29,7.98388 C 111.29,3.87097 106.935,5.01168E-06 102.823,5.01168E-06 L 8.46774,5.01168E-06 C 4.35484,5.01168E-06 0.725809,3.3871 0.725809,7.25807 m 0,0 m 110.565,108.871 L 111.29,7.98388 C 111.29,3.87097 106.935,3.89409E-06 102.823,3.89409E-06 L 43.5484,3.89409E-06 m 0,0 m -2.41935,106.452 L 41.129,142.5 C 41.129,142.984 41.6129,143.468 41.6129,143.952 L 47.4194,149.516 C 47.9032,149.516 48.3871,150 48.871,150 L 86.8548,150 L 42.0968,106.452 L 41.129,106.452 m 0,0 m 0,-0.241935 L 41.129,142.5 C 41.129,142.984 41.6129,143.468 41.6129,143.952 L 47.4194,149.516 C 47.9032,149.516 48.3871,150 48.871,150 L 68.2258,150 L 46.2097,113.468 L 41.129,106.21 m 0,0 m 6.77419,43.7903 L 48.3871,150 L 48.3871,112.016 C 48.3871,107.903 44.7581,104.032 40.6452,104.032 L 0,104.516 L 47.9032,150 m 0,0 m -43.0645,-45.4839 L 4.83871,104.516 L 4.83871,7.98387 C 4.83871,3.87097 7.74194,0 11.6129,0 L 8.46774,0 C 4.35484,0 2.79397E-07,3.87097 2.79397E-07,7.98387 L 2.79397E-07,104.758 L 4.83871,104.516 L 4.83871,104.516 m 0,0 m 82.5,-32.1774 C 88.3065,71.129 89.0323,69.6774 89.0323,67.9839 C 89.0323,63.871 84.6774,60.7258 82.2581,60.4839 L 82.2581,60 C 82.2581,55.8871 78.629,52.2581 74.2742,52.2581 C 71.129,52.2581 68.7097,54.1935 67.5,56.8548 C 65.0806,55.6452 62.6613,56.129 60.2419,57.5806 L 60.2419,55.6452 C 60.2419,51.5323 55.8871,47.9032 51.7742,47.9032 C 47.6613,47.9032 43.3065,51.2903 43.3065,55.6452 L 43.3065,61.2097 C 40.8871,59.7581 37.2581,60.4839 35.0806,62.9032 C 32.4194,65.5645 32.6613,70.4032 34.5968,72.8226 L 29.7581,72.8226 C 25.6452,72.8226 22.0161,75.9677 22.0161,80.0806 C 22.0161,84.1935 25.4032,87.3387 29.7581,87.3387 L 85.8871,87.3387 C 90,87.3387 93.629,83.9516 93.629,79.8387 C 93.629,75.7258 90.9677,72.8226 87.3387,72.3387 m 0,0 m -2.17742,-7.74194 C 86.129,63.3871 86.8548,61.9355 86.8548,60.2419 C 86.8548,56.129 82.5,52.9839 80.0806,52.7419 L 80.0806,52.2581 C 80.0806,48.1452 76.4516,44.5161 72.3387,44.5161 C 69.1936,44.5161 66.7742,46.4516 65.5645,49.1129 C 63.1452,47.9032 60.7258,48.3871 58.3065,49.8387 L 58.3065,48.1452 C 58.3065,44.0323 53.9516,40.4032 49.8387,40.4032 C 45.7258,40.4032 41.371,43.7903 41.371,48.1452 L 41.371,53.7097 C 38.9516,52.2581 35.5645,53.2258 33.1452,55.6452 C 30.4839,58.3064 30.7258,60.9677 32.6613,65.8064 L 27.8226,65.8064 C 23.7097,65.8064 20.0806,68.9516 20.0806,73.0645 C 20.0806,77.1774 23.4677,80.3226 27.8226,80.3226 L 83.9516,80.3226 C 88.0645,80.3226 91.6936,76.6935 91.6936,72.5806 C 91.4516,68.2258 88.5484,65.0806 85.1613,64.5968 Z\" fill=\"#000\"/></svg>"
      ],
      "text/plain": [
       "<IPython.core.display.SVG object>"
      ]
     },
     "metadata": {},
     "output_type": "display_data"
    },
    {
     "name": "stdout",
     "output_type": "stream",
     "text": [
      "target: cloud computing\n",
      "result: ironing\n"
     ]
    },
    {
     "data": {
      "image/svg+xml": [
       "<svg xmlns=\"http://www.w3.org/2000/svg\" xmlns:ev=\"http://www.w3.org/2001/xml-events\" xmlns:xlink=\"http://www.w3.org/1999/xlink\" baseProfile=\"tiny\" fill-rule=\"evenodd\" height=\"120.60884706879733px\" version=\"1.2\" width=\"150.0000001042281px\"><defs/><path d=\"M 68.977,24.4438 m 0,0 C 58.4762,18.3814 48.9623,17.8186 42.0922,21.8112 L 38.0123,24.1822 C 38.034,24.1696 38.0574,24.1596 38.0791,24.147 C 31.2585,28.0725 27.0246,36.4666 26.9906,48.4168 C 26.9226,72.3904 43.7838,101.595 64.6508,113.643 C 75.451,119.878 85.2007,120.282 92.1101,115.906 C 91.9173,116.029 91.7298,116.16 91.5323,116.274 L 95.6122,113.903 C 102.394,109.962 106.599,101.582 106.633,89.672 C 106.702,65.694 89.8405,36.4892 68.977,24.4438 m 0,0 m -4.07958,2.3707 C 85.7609,38.8602 102.622,68.0647 102.554,92.0427 C 102.486,116.017 85.5148,125.688 64.6513,113.643 C 43.7838,101.595 26.9226,72.3901 26.9906,48.4162 C 27.0585,24.4385 44.0299,14.7671 64.8974,26.8145 m 0,0 m 72.7598,58.243 C 137.02,84.6895 136.401,84.4082 135.787,84.1563 C 135.941,83.2744 136.033,82.3299 136.036,81.311 C 136.063,71.9023 129.452,60.4472 121.264,55.7199 C 117.144,53.3416 113.413,53.1213 110.719,54.6875 L 105.431,57.7601 C 104.732,57.1159 103.993,56.5552 103.225,56.1116 C 101.061,54.8624 99.1015,54.7461 97.6861,55.5684 L 91.9867,58.8805 C 89.355,57.8577 86.9981,57.9459 85.1969,58.993 L 74.4675,65.2282 C 74.4749,65.2238 74.4825,65.2206 74.4895,65.2165 C 72.2544,66.5029 70.867,69.2524 70.8558,73.167 C 70.8336,81.0253 76.3595,90.5969 83.1945,94.5429 L 126.847,119.746 C 130.305,121.742 133.436,121.916 135.689,120.587 C 135.679,120.594 135.669,120.602 135.658,120.609 L 146.388,114.373 C 148.61,113.081 149.989,110.335 150,106.431 C 150.022,98.5773 144.496,89.0058 137.657,85.0575 m 0,0 m -27.1227,-23.102 C 118.722,66.6828 125.334,78.1381 125.307,87.5465 C 125.304,88.5652 125.212,89.5097 125.057,90.3918 C 125.672,90.6438 126.29,90.9247 126.928,91.2927 C 133.767,95.241 139.293,104.813 139.27,112.666 C 139.248,120.524 133.686,123.694 126.847,119.746 L 83.1942,94.5426 C 76.3592,90.5966 70.8333,81.025 70.8555,73.1668 C 70.8778,65.3132 76.4401,62.1432 83.275,66.0892 C 83.757,66.3675 84.2272,66.6793 84.6939,67.0112 C 84.6942,66.9397 84.6866,66.8682 84.6868,66.7967 C 84.7009,61.8555 88.196,59.8642 92.4959,62.3469 C 93.8995,63.1569 95.2085,64.3469 96.3455,65.7508 C 98.2425,59.9014 103.882,58.1149 110.535,61.9554 m 0,0 m -59.394,26.5174 C 50.6524,88.191 50.179,87.976 49.7085,87.7829 C 49.8266,87.1076 49.8975,86.3846 49.8995,85.605 C 49.92,78.4024 44.859,69.6324 38.5904,66.0136 C 35.4368,64.1928 32.5804,64.0244 30.5173,65.2229 L 26.4694,67.5755 C 25.9341,67.0824 25.3687,66.6532 24.7804,66.3133 C 23.124,65.3571 21.6234,65.268 20.5403,65.8976 L 16.1774,68.4333 C 14.1627,67.6505 12.3583,67.7175 10.9793,68.5194 L 2.76503,73.2924 C 2.7706,73.2895 2.77646,73.2866 2.78173,73.2836 C 1.0708,74.2683 0.00849618,76.3736 0,79.3704 C -0.0172851,85.3862 4.21318,92.7139 9.44588,95.735 L 42.8648,115.03 C 45.512,116.558 47.9082,116.691 49.6338,115.674 C 49.6256,115.678 49.6186,115.685 49.6098,115.69 L 57.8237,110.917 C 59.5253,109.928 60.5805,107.825 60.589,104.836 C 60.6066,98.8231 56.3762,91.4957 51.1405,88.4729 m 0,0 m -20.7641,-17.6856 C 36.6445,74.4063 41.7058,83.176 41.6856,90.3786 C 41.6835,91.1585 41.6126,91.8816 41.4945,92.5566 C 41.9651,92.7493 42.4385,92.9644 42.9266,93.2465 C 48.1619,96.2693 52.3924,103.597 52.3757,109.609 C 52.3584,115.625 48.1004,118.052 42.8651,115.029 L 9.44588,95.7347 C 4.21376,92.7139 -0.0169928,85.3862 6.98492E-08,79.3704 C 0.0172852,73.3578 4.27528,70.9311 9.5077,73.9522 C 9.87654,74.1652 10.2369,74.404 10.5937,74.658 C 10.594,74.6032 10.5882,74.5487 10.5882,74.4939 C 10.599,70.7114 13.2744,69.1865 16.5665,71.0873 C 17.6408,71.7075 18.643,72.6186 19.5137,73.6929 C 20.966,69.2149 25.284,67.847 30.3764,70.7873 m 0,0 m 19.4127,-52.2351 C 49.3997,18.3275 49.0218,18.1558 48.6462,18.0017 C 48.7405,17.4632 48.7968,16.8858 48.7985,16.2638 C 48.8147,10.5164 44.7764,3.51855 39.7745,0.63076 C 37.2582,-0.822069 34.9789,-0.956541 33.3327,0 L 30.1025,1.87734 C 29.6753,1.48388 29.2239,1.14111 28.7545,0.870116 C 27.4327,0.106933 26.2353,0.0360351 25.371,0.538183 L 21.8897,2.56142 C 20.2819,1.93652 18.8422,1.99043 17.7419,2.62998 L 11.1876,6.43915 C 11.192,6.4368 11.1967,6.43446 11.2011,6.43212 C 9.83582,7.21786 8.98826,8.89774 8.98123,11.2889 C 8.96776,16.0895 12.3433,21.9363 16.5187,24.3471 L 43.1856,39.7432 C 45.2982,40.9628 47.2104,41.0692 48.587,40.2571 C 48.5803,40.2612 48.5747,40.2664 48.568,40.2702 L 55.1225,36.4611 C 56.4805,35.6721 57.3222,33.994 57.3289,31.6092 C 57.3427,26.8113 53.9671,20.9645 49.7891,18.5522 m 0,0 m -16.5685,-14.1126 C 38.2224,7.32743 42.261,14.3253 42.2445,20.0727 C 42.2428,20.695 42.1862,21.2721 42.0922,21.8106 C 42.4675,21.9647 42.8454,22.1361 43.2351,22.3611 C 47.4128,24.7731 50.7884,30.6202 50.7749,35.4178 C 50.7614,40.2184 47.3636,42.1546 43.1859,39.7426 L 16.519,24.3465 C 12.3436,21.9357 8.96776,16.0889 8.98153,11.2884 C 8.99471,6.49071 12.3926,4.55448 16.5679,6.96503 C 16.8624,7.13495 17.1498,7.32538 17.4348,7.5284 C 17.4348,7.48475 17.4301,7.4411 17.4304,7.39745 C 17.4389,4.379 19.5738,3.1623 22.2008,4.67899 C 23.0581,5.17411 23.8579,5.90067 24.5525,6.75848 C 25.7115,3.18515 29.1568,2.09355 33.2205,4.43964 Z\" fill=\"#000\"/></svg>"
      ],
      "text/plain": [
       "<IPython.core.display.SVG object>"
      ]
     },
     "metadata": {},
     "output_type": "display_data"
    },
    {
     "name": "stdout",
     "output_type": "stream",
     "text": [
      "target: sun meteorology\n",
      "result: lifebuoy\n"
     ]
    },
    {
     "data": {
      "image/svg+xml": [
       "<svg xmlns=\"http://www.w3.org/2000/svg\" xmlns:ev=\"http://www.w3.org/2001/xml-events\" xmlns:xlink=\"http://www.w3.org/1999/xlink\" baseProfile=\"tiny\" fill-rule=\"evenodd\" height=\"131.78913539741188px\" version=\"1.2\" width=\"150.00000244472176px\"><defs/><path d=\"M 150,51.9968 m 0,0 C 148.802,31.1502 138.978,12.6997 124.121,6.98492E-08 C 112.141,3.83387 103.275,14.8562 103.275,28.2748 C 103.275,28.9936 103.275,29.4728 103.275,30.1917 C 103.275,30.1917 103.275,30.1917 103.035,30.1917 C 99.4409,25.1597 93.4505,21.8051 86.5016,21.8051 C 79.0735,21.8051 72.6038,25.8786 69.0096,31.869 C 67.8115,31.6294 66.6134,31.3898 65.1757,31.3898 C 63.9776,31.3898 62.7796,31.3898 61.8211,31.6294 C 59.4249,28.754 55.8307,27.0767 51.7572,27.0767 C 48.6422,27.0767 45.5272,28.2748 43.3706,30.1917 C 41.9329,29.7125 40.7348,29.4728 39.2971,29.4728 C 37.3802,24.4409 33.7859,20.1278 29.4728,17.2524 C 29.4728,17.0128 29.4728,16.7732 29.4728,16.5335 C 29.4728,10.7827 27.5559,5.51118 24.6805,1.19808 C 9.34505,14.8562 0,34.7444 0,56.7891 C 0,57.9872 0,59.1853 0,60.3834 C 4.3131,63.2588 9.34505,65.1757 14.8562,65.1757 C 17.7316,65.1757 20.607,64.6965 23.2428,63.738 C 26.8371,67.5719 32.1086,69.9681 37.8594,69.9681 C 42.6518,69.9681 46.9649,68.2907 50.5591,65.655 C 54.393,69.7284 59.6645,72.1246 65.4153,72.1246 C 72.6038,72.1246 78.8339,68.2907 82.4281,62.7796 C 86.262,67.3323 91.7732,70.4473 98.2428,70.4473 C 108.067,70.4473 116.214,63.4984 118.131,54.1534 C 122.444,56.5495 127.236,57.9872 132.508,57.9872 C 139.217,57.508 144.968,55.5911 150,51.9968 m 0,0 C 148.802,31.1502 138.978,12.6997 124.121,0 C 112.141,3.83387 103.275,14.8562 103.275,28.2748 C 103.275,28.9936 103.275,29.4728 103.275,30.1917 C 103.275,30.1917 103.275,30.1917 103.035,30.1917 C 99.4409,25.1597 93.4505,21.8051 86.5016,21.8051 C 79.0735,21.8051 72.6038,25.8786 69.0096,31.869 C 67.8115,31.6294 66.6134,31.3898 65.1757,31.3898 C 63.9776,31.3898 62.7796,31.3898 61.8211,31.6294 C 59.4249,28.754 55.8307,27.0767 51.7572,27.0767 C 48.6422,27.0767 45.5272,28.2748 43.3706,30.1917 C 41.9329,29.7125 40.7348,29.4728 39.2971,29.4728 C 37.3802,24.4409 33.7859,20.1278 29.4728,17.2524 C 29.4728,17.0128 29.4728,16.7732 29.4728,16.5335 C 29.4728,10.7827 27.5559,5.51118 24.6805,1.19808 C 9.34505,14.8562 1.32713E-06,34.7444 1.32713E-06,56.7891 C 1.32713E-06,57.9872 1.32713E-06,59.1853 1.32713E-06,60.3834 C 4.3131,63.2588 9.34505,65.1757 14.8562,65.1757 C 17.7316,65.1757 20.607,64.6965 23.2428,63.738 C 26.8371,67.5719 32.1086,69.9681 37.8594,69.9681 C 42.6518,69.9681 46.9649,68.2907 50.5591,65.655 C 54.393,69.7284 59.6645,72.1246 65.4153,72.1246 C 72.6038,72.1246 78.8339,68.2907 82.4281,62.7796 C 86.262,67.3323 91.7732,70.4473 98.2428,70.4473 C 108.067,70.4473 116.214,63.4984 118.131,54.1534 C 122.444,56.5495 127.236,57.9872 132.508,57.9872 C 139.217,57.508 144.968,55.5911 150,51.9968 m 0,0 m -0.479233,-3.59425 C 149.76,51.0383 150,53.9137 150,56.7891 C 150,98.2428 116.454,131.789 75,131.789 C 45.5272,131.789 19.8882,114.776 7.66774,89.8562 C 33.7859,65.6549 87.4601,48.6422 149.521,48.4026 m 0,0 m 0.479233,8.38658 C 150,98.2428 116.454,131.789 75,131.789 C 45.5272,131.789 19.8882,114.776 7.66773,89.8562 m 0,0 m -7.1885,-41.4537 C 0.23962,51.0383 3.00352E-06,53.9137 3.00352E-06,56.7891 C 3.00352E-06,98.2428 33.5463,131.789 75,131.789 C 104.473,131.789 130.112,114.776 142.332,89.8562 C 116.214,65.6549 62.5399,48.6422 0.479238,48.4025 m 0,0 C 0.239621,51.0383 4.5402E-06,53.9137 4.5402E-06,56.7891 C 4.5402E-06,98.2428 33.5463,131.789 75,131.789 C 104.473,131.789 130.112,114.776 142.332,89.8562 C 116.214,65.6549 62.5399,48.6422 0.479239,48.4025 m 0,0 m 74.5208,83.3866 C 92.0128,131.789 107.827,126.038 120.288,116.454 C 98.2428,89.1374 54.393,63.2588 0.479239,48.1629 L 0.479239,48.1629 C 0.239623,50.7987 6.07688E-06,53.6741 6.07688E-06,56.5495 C 6.07688E-06,98.2428 33.5463,131.789 75,131.789 m 0,0 C 80.2716,131.789 85.5431,131.31 90.8147,130.112 C 73.3227,102.316 41.4537,72.3642 0.479235,48.4025 L 0.479235,48.4025 C 0.239619,51.0383 2.02563E-06,53.9137 2.02563E-06,56.7891 C 2.02563E-06,98.2428 33.5463,131.789 75,131.789 m 0,0 m -74.0415,-83.3866 C 0.71885,48.6422 0.479234,48.6422 0.479234,48.8818 C 0.239617,51.5176 6.28643E-07,54.1533 6.28643E-07,56.7891 C 6.28643E-07,90.5751 22.2843,119.089 52.9553,128.434 C 42.1725,102.796 24.4409,74.7604 0.95847,48.4025 m 0,0 m 54.1534,-9.34505 C 57.508,23.2428 67.0927,5.9904 77.8754,1.91692 L 77.8754,1.6773 L 77.8754,1.6773 L 77.8754,1.6773 L 77.8754,1.6773 C 86.9808,8.38657 91.2939,27.7955 89.1374,43.6102 C 86.7412,59.4249 78.5943,67.0926 67.8115,70.9265 L 67.8115,71.1661 L 67.8115,71.1661 L 67.8115,71.1661 L 67.8115,70.9265 C 58.7061,64.4569 52.9553,54.8722 55.1118,39.0575 m 0,0 m 12.9393,32.3482 L 68.0511,71.4057 L 68.0511,71.4057 C 67.8115,71.4057 67.8115,71.4057 68.0511,71.4057 L 68.0511,71.4057 C 58.7061,64.4569 52.9553,54.8722 55.1118,39.0575 C 57.508,23.2428 67.0927,5.9904 77.8754,1.91692 L 77.8754,1.6773 L 77.8754,1.6773 L 77.8754,1.6773 L 77.8754,1.6773 m 0,0 m -28.754,60.8626 C 43.3706,54.6326 40.016,42.8914 42.8914,36.6613 L 42.8914,36.6613 L 42.8914,36.6613 L 42.8914,36.6613 L 42.8914,36.6613 C 49.8403,35.7029 60.1438,42.1725 65.8946,50.0799 C 71.6454,57.9872 71.4058,64.6965 68.5304,71.1661 L 68.5304,71.1661 L 68.5304,71.1661 L 68.5304,71.1661 L 68.5304,71.1661 C 61.5815,72.1246 54.8722,70.4473 49.1214,62.5399 m 0,0 m 19.4089,8.38658 L 68.5304,70.9265 L 68.5304,70.9265 C 68.5304,71.1661 68.5304,71.1661 68.5304,70.9265 L 68.5304,70.9265 C 61.5815,72.1246 54.8722,70.4473 48.8818,62.5399 C 43.131,54.6326 39.7764,42.8914 42.6518,36.6613 L 42.6518,36.6613 L 42.6518,36.6613 L 42.6518,36.6613 L 42.6518,36.6613 Z\" fill=\"#000\"/></svg>"
      ],
      "text/plain": [
       "<IPython.core.display.SVG object>"
      ]
     },
     "metadata": {},
     "output_type": "display_data"
    },
    {
     "name": "stdout",
     "output_type": "stream",
     "text": [
      "target: farm\n",
      "result: apple\n"
     ]
    },
    {
     "data": {
      "image/svg+xml": [
       "<svg xmlns=\"http://www.w3.org/2000/svg\" xmlns:ev=\"http://www.w3.org/2001/xml-events\" xmlns:xlink=\"http://www.w3.org/1999/xlink\" baseProfile=\"tiny\" fill-rule=\"evenodd\" height=\"135.34577060490847px\" version=\"1.2\" width=\"150.00000146683306px\"><defs/><path d=\"M 45.5727,0 m 0,0 L 3.99351,0 C 1.79145,0 0,1.79156 0,3.99351 L 0,28.7923 C 0,30.9942 1.79145,32.7857 3.99351,32.7857 L 45.5728,32.7857 C 47.7748,32.7857 49.5663,30.9942 49.5663,28.7923 L 49.5663,3.99351 C 49.5662,1.79156 47.7748,0 45.5727,0 m 0,0 m 1.77815,28.7923 C 47.3508,29.7727 46.5532,30.5703 45.5727,30.5703 L 3.99351,30.5703 C 3.01299,30.5703 2.21535,29.7727 2.21535,28.7923 L 2.21535,3.99351 C 2.21535,3.01299 3.01299,2.21535 3.99351,2.21535 L 45.5728,2.21535 C 46.5533,2.21535 47.351,3.01299 47.351,3.99351 L 47.351,28.7923 m 0,0 m 9.16558,14.1222 C 54.5774,42.9145 52.9998,44.4922 52.9998,46.4313 C 52.9998,47.9832 54.0108,49.3027 55.4084,49.7681 L 55.4084,63.1284 C 55.4084,63.7401 55.9043,64.236 56.5161,64.236 C 57.1279,64.236 57.6238,63.7401 57.6238,63.1284 L 57.6238,49.7683 C 59.0219,49.3032 60.0333,47.9835 60.0333,46.4313 C 60.0333,44.4922 58.4556,42.9145 56.5165,42.9145 m 0,0 m 0,4.81817 C 55.7989,47.7327 55.2151,47.1488 55.2151,46.4312 C 55.2151,45.7137 55.799,45.1298 56.5165,45.1298 C 57.2341,45.1298 57.8179,45.7137 57.8179,46.4312 C 57.8179,47.1488 57.2341,47.7327 56.5165,47.7327 m 0,0 m 20.6851,19.0648 L 77.2016,62.9623 C 77.2016,62.3506 76.7057,61.8546 76.0939,61.8546 C 75.4822,61.8546 74.9863,62.3506 74.9863,62.9623 L 74.9863,66.7973 C 73.5884,67.2625 72.5771,68.5821 72.5771,70.1343 C 72.5771,71.6865 73.5883,73.0062 74.9863,73.4713 L 74.9863,82.0686 C 74.9863,82.6804 75.4822,83.1763 76.0939,83.1763 C 76.7057,83.1763 77.2016,82.6804 77.2016,82.0686 L 77.2016,73.4713 C 78.5995,73.006 79.6106,71.6864 79.6106,70.1343 C 79.6106,68.5822 78.5994,67.2627 77.2016,66.7974 m 0,0 m -1.10779,4.6384 C 75.3763,71.4358 74.7924,70.852 74.7924,70.1344 C 74.7924,69.4169 75.3763,68.833 76.0938,68.833 C 76.8115,68.833 77.3952,69.4169 77.3952,70.1344 C 77.3952,70.852 76.8114,71.4358 76.0938,71.4358 m 0,0 m 31.0961,23.8273 L 107.19,86.6656 C 107.19,86.0538 106.694,85.5579 106.082,85.5579 C 105.471,85.5579 104.975,86.0538 104.975,86.6656 L 104.975,95.2635 C 103.577,95.7289 102.566,97.0484 102.566,98.6004 C 102.566,100.152 103.577,101.472 104.975,101.937 L 104.975,105.772 C 104.975,106.384 105.471,106.88 106.082,106.88 C 106.694,106.88 107.19,106.384 107.19,105.772 L 107.19,101.938 C 108.588,101.472 109.599,100.153 109.599,98.6004 C 109.599,97.0481 108.588,95.7283 107.19,95.2632 m 0,0 m -1.10723,4.63862 C 105.365,99.9018 104.781,99.3179 104.781,98.6004 C 104.781,97.8828 105.365,97.299 106.083,97.299 C 106.8,97.299 107.384,97.8828 107.384,98.6004 C 107.384,99.3179 106.8,99.9018 106.083,99.9018 m 0,0 m 41.5083,28.5903 L 147.591,115.131 C 147.591,114.52 147.095,114.024 146.483,114.024 C 145.872,114.024 145.376,114.52 145.376,115.131 L 145.376,128.492 C 143.978,128.957 142.966,130.277 142.966,131.829 C 142.966,133.768 144.544,135.346 146.483,135.346 C 148.422,135.346 150,133.768 150,131.829 C 150,130.277 148.989,128.957 147.591,128.492 m 0,0 m -1.10779,4.63828 C 145.766,133.13 145.182,132.547 145.182,131.829 C 145.182,131.111 145.766,130.528 146.483,130.528 C 147.201,130.528 147.785,131.111 147.785,131.829 C 147.785,132.547 147.201,133.13 146.483,133.13 Z\" fill=\"#000\"/></svg>"
      ],
      "text/plain": [
       "<IPython.core.display.SVG object>"
      ]
     },
     "metadata": {},
     "output_type": "display_data"
    },
    {
     "name": "stdout",
     "output_type": "stream",
     "text": [
      "target: settings\n",
      "result: painting\n"
     ]
    },
    {
     "data": {
      "image/svg+xml": [
       "<svg xmlns=\"http://www.w3.org/2000/svg\" xmlns:ev=\"http://www.w3.org/2001/xml-events\" xmlns:xlink=\"http://www.w3.org/1999/xlink\" baseProfile=\"tiny\" fill-rule=\"evenodd\" height=\"150.0000020954758px\" version=\"1.2\" width=\"149.9999988824129px\"><defs/><path d=\"M 75,24.9999 m 0,0 C 73.5,24.9999 72.5001,25.9998 72.5001,27.4998 L 72.5001,56.4999 L 66.75,50.7498 C 65.7501,49.7499 64.2501,49.7499 63.2499,50.7498 C 62.2497,51.7497 62.25,53.2497 63.2499,54.2499 L 72.8221,63.8221 C 73.2308,64.5571 74.0039,64.9998 75,64.9998 C 75.9961,64.9998 76.7689,64.5571 77.1779,63.8221 L 86.7501,54.2499 C 87.75,53.25 87.75,51.75 86.7501,50.7498 C 85.7502,49.7496 84.2502,49.7499 83.25,50.7498 L 77.4999,56.4999 L 77.4999,27.5001 C 77.4999,26.0001 76.5,24.9999 75,24.9999 m 0,0 m -12.5001,47.5002 L 54.9999,72.5001 L 54.9999,45 L 62.4999,45 C 63.9999,45 64.9998,44.0001 64.9998,42.5001 C 64.9998,41.0001 63.9999,40.0002 62.4999,40.0002 L 52.5,40.0002 C 51,40.0002 50.0001,41.0001 50.0001,42.5001 L 50.0001,75 C 50.0001,76.5 51,77.4999 52.5,77.4999 L 62.4999,77.4999 C 63.9999,77.4999 64.9998,76.5 64.9998,75 C 64.9998,73.5 63.9999,72.5001 62.4999,72.5001 m 0,0 m 35.0001,-15 C 99,57.5001 99.9999,56.5002 99.9999,55.0002 L 99.9999,42.5001 C 99.9999,41.0001 99,40.0002 97.5,40.0002 L 87.5001,40.0002 C 86.0001,40.0002 85.0002,41.0001 85.0002,42.5001 C 85.0002,44.0001 86.0001,45 87.5001,45 L 95.0001,45 L 95.0001,54.9999 C 95.0001,56.4999 96,57.5001 97.5,57.5001 m 0,0 m -39.9999,47.4999 L 14.0001,105 C 9.75,105 5.0001,102 5.0001,97.5 L 5.0001,13.7499 C 5.0001,9.2499 9.5001,4.9998 14.0001,4.9998 L 136.25,4.9998 C 140.75,4.9998 145,9.2499 145,13.7499 L 145,84.9999 C 145,86.4999 146,87.4998 147.5,87.4998 C 149,87.4998 150,86.4999 150,84.9999 L 150,13.7499 C 150,6.5001 143.5,0 136.25,0 L 14.0001,0 C 6.75,0 0,6.5001 0,13.7499 L 0,97.5 C 0,105.25 7.2501,110 14.0001,110 L 57.5001,110 C 59.0001,110 60,109 60,107.5 C 60,106 59.0001,105 57.5001,105 m 0,0 m 91.7499,-4.2501 L 121.5,72 C 115.25,66 107,62.4999 98.4999,62.4999 C 90,62.4999 81.4998,65.7498 75.4998,72 C 69.4998,78.2499 65.9997,86.25 65.9997,95.0001 C 65.9997,103.75 69.2496,111.75 75.4998,118 L 108.25,149.25 C 108.75,149.75 109.5,150 110,150 C 110.75,150 111.25,149.75 111.5,149.25 C 112.5,148.25 112.5,146.75 111.5,145.75 L 78.9999,114.5 C 73.7499,109.25 70.9998,102.5 70.9998,95.0001 C 70.9998,87.5001 73.7499,80.7501 78.9999,75.5001 C 84.2499,70.2501 90.9999,67.5 98.4999,67.5 C 106,67.5 112.75,70.2501 118,75.5001 L 145.75,104.25 C 146.75,105.25 148.25,105.25 149.25,104.25 C 150.25,103.25 150.25,101.75 149.25,100.75 m 0,0 m -35.0001,-21.75 C 105.5,70.2498 91.2498,70.2498 82.5,78.9999 C 73.7499,87.75 73.7499,102 82.5,110.75 L 93,121.25 C 94.7499,122.75 96.75,123.75 99,123.75 C 99.2499,123.75 99.5001,123.75 99.5001,123.75 C 114.25,122.75 126.25,110.75 127.25,95.9997 C 127.25,93.4998 126.5,91.2498 124.75,89.4996 L 114.25,78.9999 m 0,0 m -27.9999,28.5 C 79.2501,100.5 79.2501,89.4999 86.25,82.5 C 93,75.75 104.25,75.75 111,82.5 L 121.079,92.8192 C 119.964,93.3624 118.733,93.8839 117.5,94.5 C 113.5,96.5001 109,98.4999 105.5,102 C 102,105.75 99.5001,110.5 97.5,114.75 C 97.1443,115.698 96.7315,116.645 96.29,117.54 L 86.25,107.5 m 0,0 m 14.7334,11.3575 C 101.257,118.243 101.517,117.622 101.75,117 C 103.75,112.75 106,108.5 109,105.5 C 112,102.5 115.75,100.75 119.5,99 C 120.44,98.6476 121.379,98.238 122.319,97.7754 C 120.828,108.713 111.959,117.499 100.983,118.857 Z\" fill=\"#000\"/></svg>"
      ],
      "text/plain": [
       "<IPython.core.display.SVG object>"
      ]
     },
     "metadata": {},
     "output_type": "display_data"
    },
    {
     "name": "stdout",
     "output_type": "stream",
     "text": [
      "target: tap import\n",
      "result: block\n"
     ]
    },
    {
     "data": {
      "image/svg+xml": [
       "<svg xmlns=\"http://www.w3.org/2000/svg\" xmlns:ev=\"http://www.w3.org/2001/xml-events\" xmlns:xlink=\"http://www.w3.org/1999/xlink\" baseProfile=\"tiny\" fill-rule=\"evenodd\" height=\"149.9988242983818px\" version=\"1.2\" width=\"150.00000447034836px\"><defs/><path d=\"M 74.9877,106.322 m 0,0 L 75.0627,106.322 C 83.6001,106.322 91.8002,101.897 98.4626,93.7657 C 94.2439,88.6344 89.4002,84.9969 84.2376,83.0094 C 84.3064,83.4594 84.375,83.9094 84.375,84.372 C 84.375,89.5532 80.175,93.747 75,93.747 C 69.825,93.747 65.625,89.5532 65.625,84.372 C 65.625,83.9094 65.6939,83.4659 65.7624,83.0159 C 60.6188,85.0095 55.7875,88.6347 51.5562,93.747 C 58.2317,101.866 66.4316,106.297 74.9877,106.322 m 0,0 m 68.7624,-106.322 L 6.25047,0 C 2.79433,0 0.000594556,2.79989 0.000594556,6.24988 L 0.000594556,37.4999 L 150,37.4999 L 150,6.24988 C 150,2.79989 147.206,0 143.75,0 m 0,0 m -118.75,31.25 C 21.5504,31.25 18.7505,28.4501 18.7505,25.0001 C 18.7505,21.5501 21.5504,18.7502 25.0004,18.7502 C 28.4504,18.7502 31.2503,21.5501 31.2503,25.0001 C 31.2503,28.4501 28.4504,31.25 25.0004,31.25 m 0,0 m 18.7499,0 C 40.3003,31.25 37.5004,28.4501 37.5004,25.0001 C 37.5004,21.5501 40.3003,18.7502 43.7503,18.7502 C 47.2003,18.7502 50.0002,21.5501 50.0002,25.0001 C 50.0002,28.4501 47.2003,31.25 43.7503,31.25 m 0,0 m 18.7499,0 C 59.0503,31.25 56.2504,28.4501 56.2504,25.0001 C 56.2504,21.5501 59.0503,18.7502 62.5002,18.7502 C 65.9502,18.7502 68.7501,21.5501 68.7501,25.0001 C 68.7501,28.4501 65.9502,31.25 62.5002,31.25 m 0,0 m -62.5002,112.499 C 0,147.199 2.79374,149.999 6.24988,149.999 L 143.749,149.999 C 147.205,149.999 149.999,147.199 149.999,143.749 L 149.999,49.9993 L 0,49.9993 L 0,143.749 m 0,0 m 38.5124,-53.4124 C 38.5499,90.2803 38.8498,89.8303 38.8873,89.7679 C 48.381,76.2056 61.1998,68.7492 75.0059,68.7492 L 75.2121,68.7492 C 89.1372,68.8242 101.987,76.4555 111.406,90.2241 C 112.837,92.3053 112.868,95.0428 111.487,97.1615 L 111.23,97.5553 C 101.687,111.33 88.8744,118.824 75.0618,118.824 L 74.9493,118.824 C 60.9932,118.78 48.0807,111.13 38.5932,97.2802 C 37.1624,95.1989 37.1375,92.4553 38.5124,90.3366 Z\" fill=\"#000\"/></svg>"
      ],
      "text/plain": [
       "<IPython.core.display.SVG object>"
      ]
     },
     "metadata": {},
     "output_type": "display_data"
    },
    {
     "name": "stdout",
     "output_type": "stream",
     "text": [
      "target: browser ui\n",
      "result: smartphone\n"
     ]
    },
    {
     "data": {
      "image/svg+xml": [
       "<svg xmlns=\"http://www.w3.org/2000/svg\" xmlns:ev=\"http://www.w3.org/2001/xml-events\" xmlns:xlink=\"http://www.w3.org/1999/xlink\" baseProfile=\"tiny\" fill-rule=\"evenodd\" height=\"84.89130178350024px\" version=\"1.2\" width=\"150.00000062864274px\"><defs/><path d=\"M 148.998,40.3173 m 0,0 L 93.9066,0.25032 C 93.1554,-0.250613 92.1538,-0.500933 91.4026,0 C 90.6513,0.500933 90.1504,1.25219 90.1504,2.25376 L 90.1504,27.2954 L 60.1002,27.2954 L 60.1002,2.25376 C 60.1002,1.25219 59.5993,0.500933 58.5977,0 C 57.8465,-0.500933 56.8449,-0.25032 56.0937,0.25032 L 1.00157,40.3173 C 0.500933,40.818 0,41.5692 0,42.3205 C 0,43.0717 0.500933,43.823 1.25219,44.3239 L 56.344,84.3907 C 57.0952,84.8916 58.0968,85.1419 58.8481,84.641 C 59.5993,84.14 60.1002,83.3888 60.1002,82.3872 L 60.1002,57.3456 L 90.1504,57.3456 L 90.1504,82.3872 C 90.1504,83.3888 90.6513,84.14 91.4026,84.641 C 91.9035,84.8913 92.1538,84.8913 92.6547,84.8913 C 93.1557,84.8913 93.6563,84.641 93.9069,84.3904 L 148.998,44.3239 C 149.499,43.823 150,43.0717 150,42.3205 C 150,41.5692 149.75,40.818 148.998,40.3173 m 0,0 m -53.8396,37.0617 L 95.1588,54.8415 C 95.1588,53.339 94.1572,52.3374 92.6547,52.3374 L 57.5962,52.3374 C 56.0937,52.3374 55.0921,53.339 55.0921,54.8415 L 55.0921,77.3791 L 6.76128,42.3205 L 55.0918,7.26191 L 55.0918,29.7995 C 55.0918,31.302 56.0934,32.3036 57.5959,32.3036 L 92.6544,32.3036 C 94.157,32.3036 95.1585,31.302 95.1585,29.7995 L 95.1585,7.26191 L 143.489,42.3205 L 95.1588,77.3791 Z\" fill=\"#000\"/></svg>"
      ],
      "text/plain": [
       "<IPython.core.display.SVG object>"
      ]
     },
     "metadata": {},
     "output_type": "display_data"
    },
    {
     "name": "stdout",
     "output_type": "stream",
     "text": [
      "target: resize ui\n",
      "result: rewind\n"
     ]
    }
   ],
   "source": [
    "sample(c, model, test_dl, device=device, p_value=0.5)"
   ]
  },
  {
   "cell_type": "code",
   "execution_count": null,
   "id": "absolute-heating",
   "metadata": {},
   "outputs": [],
   "source": []
  }
 ],
 "metadata": {
  "kernelspec": {
   "display_name": "Python 3",
   "language": "python",
   "name": "python3"
  },
  "language_info": {
   "codemirror_mode": {
    "name": "ipython",
    "version": 3
   },
   "file_extension": ".py",
   "mimetype": "text/x-python",
   "name": "python",
   "nbconvert_exporter": "python",
   "pygments_lexer": "ipython3",
   "version": "3.9.7"
  }
 },
 "nbformat": 4,
 "nbformat_minor": 5
}
