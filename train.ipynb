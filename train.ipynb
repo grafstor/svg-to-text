{
 "cells": [
  {
   "cell_type": "markdown",
   "id": "intermediate-depression",
   "metadata": {},
   "source": [
    "<div><img src=\"blob/structure.jpg\" width=400px float=\"left\"/></div>\n",
    "\n",
    "# SVG to Text with CNN and Transformer"
   ]
  },
  {
   "cell_type": "code",
   "execution_count": 1,
   "id": "postal-complement",
   "metadata": {},
   "outputs": [
    {
     "name": "stderr",
     "output_type": "stream",
     "text": [
      "C:\\Users\\Ганга Сэм\\AppData\\Local\\Programs\\Python\\Python39\\lib\\site-packages\\tqdm\\auto.py:21: TqdmWarning: IProgress not found. Please update jupyter and ipywidgets. See https://ipywidgets.readthedocs.io/en/stable/user_install.html\n",
      "  from .autonotebook import tqdm as notebook_tqdm\n"
     ]
    }
   ],
   "source": [
    "import io\n",
    "import os\n",
    "import math\n",
    "import numpy as np\n",
    "import random\n",
    "\n",
    "import matplotlib.pyplot as plt\n",
    "from IPython.display import clear_output\n",
    "# from cairosvg import svg2png\n",
    "from IPython.display import SVG, display\n",
    "import svgwrite\n",
    "from PIL import Image\n",
    "\n",
    "import torch\n",
    "import torch.nn as nn\n",
    "import torch.optim as optim\n",
    "import torch.nn.functional as F\n",
    "from torch.utils.data import Dataset, DataLoader\n",
    "\n",
    "from nltk.tokenize import WordPunctTokenizer\n",
    "from subword_nmt.learn_bpe import learn_bpe\n",
    "from subword_nmt.apply_bpe import BPE\n",
    "from nltk.translate.bleu_score import corpus_bleu\n",
    "\n",
    "from sklearn.model_selection import train_test_split\n",
    "\n",
    "from model import *\n",
    "import svg_converter as converter"
   ]
  },
  {
   "cell_type": "code",
   "execution_count": 2,
   "id": "committed-latter",
   "metadata": {},
   "outputs": [
    {
     "data": {
      "text/plain": [
       "'cuda'"
      ]
     },
     "execution_count": 2,
     "metadata": {},
     "output_type": "execute_result"
    }
   ],
   "source": [
    "device = torch.device(\"cuda\" if torch.cuda.is_available() else \"cpu\")\n",
    "device.type"
   ]
  },
  {
   "cell_type": "markdown",
   "id": "ceramic-pizza",
   "metadata": {},
   "source": [
    "### Preprocessing"
   ]
  },
  {
   "cell_type": "code",
   "execution_count": 3,
   "id": "received-apartment",
   "metadata": {},
   "outputs": [],
   "source": [
    "def tokenize(x):\n",
    "    return ' '.join(tokenizer.tokenize(x.lower()))\n",
    "\n",
    "def names_to_file(fn_tok_path, folder_path):\n",
    "    with open(fn_tok_path, 'w') as f:\n",
    "        filenames = []\n",
    "\n",
    "        for root, _, files in os.walk(folder_path):\n",
    "            for file in files:\n",
    "                filename, extension = os.path.splitext(file)\n",
    "                if extension == '.svg':\n",
    "                    filenames.append(filename)\n",
    "\n",
    "        for line in filenames:\n",
    "            filename = line.strip()\n",
    "            f.write(tokenize(filename) + \"\\n\")\n",
    "\n",
    "def get_svg_paths(folders):\n",
    "    svg_paths = []\n",
    "\n",
    "    for i, folder in enumerate(folders):\n",
    "        files = [file for file in os.listdir(folder)]\n",
    "\n",
    "        for file in files:\n",
    "            svg_name = file[:-4] # del \".svg\"\n",
    "            svg_name = svg_name.strip().split('_')\n",
    "\n",
    "            if len(svg_name) > 1:\n",
    "                svg_name = svg_name[1]\n",
    "            else:\n",
    "                svg_name = svg_name[0]\n",
    "                \n",
    "            svg_name = svg_name.replace('-', ' ')\n",
    "            svg_name = tokenize(svg_name)\n",
    "            svg_name = filenames_bpe.process_line(svg_name)\n",
    "\n",
    "            svg_path = os.path.join(folder, file)\n",
    "\n",
    "            svg_paths.append([svg_name, svg_path])\n",
    "\n",
    "    return svg_paths"
   ]
  },
  {
   "cell_type": "code",
   "execution_count": 4,
   "id": "classified-label",
   "metadata": {},
   "outputs": [],
   "source": [
    "dataset_path = 'dataset2k'\n",
    "tokenizer = WordPunctTokenizer()"
   ]
  },
  {
   "cell_type": "code",
   "execution_count": 5,
   "id": "whole-shape",
   "metadata": {},
   "outputs": [
    {
     "name": "stderr",
     "output_type": "stream",
     "text": [
      "100%|████████████████████████████████████████████████████████████████████████████| 1000/1000 [00:00<00:00, 1129.62it/s]\n"
     ]
    }
   ],
   "source": [
    "fn_tok_path = 'dataset2k/filenames_tokenized.txt'\n",
    "names_to_file(fn_tok_path, dataset_path)\n",
    "learn_bpe(open(fn_tok_path), open('tmp_bpe_rules.fnt', 'w'),  num_symbols=1000)"
   ]
  },
  {
   "cell_type": "code",
   "execution_count": 6,
   "id": "documented-background",
   "metadata": {},
   "outputs": [],
   "source": [
    "filenames_bpe = BPE(open('tmp_bpe_rules.fnt'))"
   ]
  },
  {
   "cell_type": "code",
   "execution_count": 7,
   "id": "packed-diary",
   "metadata": {},
   "outputs": [
    {
     "name": "stdout",
     "output_type": "stream",
     "text": [
      "2000\n"
     ]
    }
   ],
   "source": [
    "folders = os.listdir(dataset_path)\n",
    "folders = [os.path.join(dataset_path, foldername)\n",
    "           for foldername in folders\n",
    "           if os.path.isdir(os.path.join(dataset_path, foldername))]\n",
    "\n",
    "print(len(folders))\n",
    "\n",
    "all_svg_paths = np.array(get_svg_paths(folders))"
   ]
  },
  {
   "cell_type": "code",
   "execution_count": 8,
   "id": "sorted-crisis",
   "metadata": {},
   "outputs": [
    {
     "data": {
      "text/plain": [
       "(134501,\n",
       " array([['1 pa@@ ss@@ wor@@ d', 'dataset2k\\\\1\\\\1 password.svg'],\n",
       "        ['1 p@@ et@@ e', 'dataset2k\\\\1\\\\1 pete.svg'],\n",
       "        ['1 star', 'dataset2k\\\\1\\\\1 star.svg'],\n",
       "        ['a@@ do@@ be in@@ design 1',\n",
       "         'dataset2k\\\\1\\\\adobe indesign 1.svg'],\n",
       "        ['ba@@ llo@@ on 1', 'dataset2k\\\\1\\\\balloon 1.svg']], dtype='<U192'))"
      ]
     },
     "execution_count": 8,
     "metadata": {},
     "output_type": "execute_result"
    }
   ],
   "source": [
    "len(all_svg_paths), all_svg_paths[:5]"
   ]
  },
  {
   "cell_type": "code",
   "execution_count": 9,
   "id": "biological-webcam",
   "metadata": {},
   "outputs": [],
   "source": [
    "train_paths, test_paths = train_test_split(\n",
    "    all_svg_paths,\n",
    "    test_size=0.2,\n",
    "    random_state=42,\n",
    ")"
   ]
  },
  {
   "cell_type": "code",
   "execution_count": 10,
   "id": "distant-technology",
   "metadata": {},
   "outputs": [
    {
     "data": {
      "text/plain": [
       "(107600,\n",
       " 26901,\n",
       " array(['wal@@ ker or run@@ ner spor@@ tive stick man',\n",
       "        'dataset2k\\\\man\\\\walker or runner sportive stick man.svg'],\n",
       "       dtype='<U192'))"
      ]
     },
     "execution_count": 10,
     "metadata": {},
     "output_type": "execute_result"
    }
   ],
   "source": [
    "len(train_paths), len(test_paths), train_paths[0]"
   ]
  },
  {
   "cell_type": "code",
   "execution_count": 11,
   "id": "danish-fitness",
   "metadata": {},
   "outputs": [
    {
     "data": {
      "text/plain": [
       "1062"
      ]
     },
     "execution_count": 11,
     "metadata": {},
     "output_type": "execute_result"
    }
   ],
   "source": [
    "voc = Vocab.from_lines(all_svg_paths[:,0])\n",
    "len(voc)"
   ]
  },
  {
   "cell_type": "markdown",
   "id": "competitive-steel",
   "metadata": {},
   "source": [
    "### Train"
   ]
  },
  {
   "cell_type": "code",
   "execution_count": 12,
   "id": "outdoor-interest",
   "metadata": {},
   "outputs": [],
   "source": [
    "batch_size = 16\n",
    "seq_len = 512\n",
    "\n",
    "c = converter.Converter(seq_len)\n",
    "\n",
    "train_dataset = SvgDataset(train_paths, seq_len=seq_len, device=device, transforms=True)\n",
    "test_dataset = SvgDataset(test_paths, seq_len=seq_len, device=device)\n",
    "\n",
    "train_dl = DataLoader(train_dataset, batch_size=batch_size, shuffle = True)\n",
    "test_dl = DataLoader(test_dataset, batch_size=batch_size, shuffle = True)"
   ]
  },
  {
   "cell_type": "code",
   "execution_count": 13,
   "id": "annoying-humanity",
   "metadata": {
    "scrolled": true
   },
   "outputs": [
    {
     "data": {
      "image/svg+xml": [
       "<svg xmlns=\"http://www.w3.org/2000/svg\" xmlns:ev=\"http://www.w3.org/2001/xml-events\" xmlns:xlink=\"http://www.w3.org/1999/xlink\" baseProfile=\"tiny\" fill-rule=\"evenodd\" height=\"148.78829956054688px\" version=\"1.2\" width=\"148.82752990722656px\"><defs/><path d=\"M 100.622,50.6238 C 100.622,65.2971 88.6824,77.2367 75.5595,77.0559 C 68.2228,77.0559 62.2531,71.0862 61.7878,64.2291 C 54.4511,64.2291 48.4813,58.2594 48.8387,49.8809 C 48.8387,41.1737 53.0944,33.0979 58.8437,29.0697 m 0,0 m 15.5525,13.6288 m 12.4013,14.5664 m 13.5994,14.6382 m 0.0674362,-0.20179 m -0.976059,0.810295 C 94.3913,79.7286 84.8445,84.4537 75.0042,83.8839 C 69.8969,83.8839 65.1235,81.5214 62.3782,78.1773 C 57.2709,78.1773 52.4975,75.8148 49.0506,71.677 C 49.3555,71.4266 49.6664,71.1835 48.8319,71.2434 C 49.1367,70.993 49.4476,70.7499 50.452,70.303 C 56.2246,77.2731 64.9416,81.7223 74.45,81.6842 C 84.1855,81.6842 92.9024,77.235 99.2779,70.3099 C 99.4916,70.4656 99.6989,70.6277 99.1476,71.4749 C 99.3613,71.6305 99.5686,71.7926 99.388,71.6305 C 99.6017,71.7861 99.809,71.9482 100.085,71.6965 m 0,0 m -24.4845,73.1568 C 52.2291,145.335 33.7791,126.885 32.123,103.625 C 32.123,101.029 32.6105,98.5066 35.0864,95.5726 C 35.0864,92.9767 35.5739,90.4545 36.9204,89.6437 L 38.9709,91.2953 L 41.4768,87.8578 L 40.2541,86.351 L 40.2381,83.9221 C 41.12,82.2818 42.2317,80.7648 41.974,78.7653 C 42.8559,77.125 43.9676,75.6081 45.033,74.2269 C 45.8121,75.156 46.6697,76.0112 47.4901,78.6187 C 48.2691,79.5477 49.1268,80.4029 50.1098,80.8069 C 47.1146,83.9436 45.4271,88.1024 46.6574,91.5279 C 43.6623,94.6646 41.9748,98.8235 40.1804,103.848 L 42.8237,104.147 L 45.8878,103.002 C 45.8878,95.2549 48.9725,87.9291 54.3068,83.2095 C 57.3298,85.1123 60.8681,86.2022 65.6171,85.7495 C 68.6401,87.6523 72.1784,88.7422 73.4828,89.6875 C 85.0643,89.6875 95.8885,84.3721 104.367,75.8703 C 106.983,78.5848 109.204,81.6163 110.083,84.9524 L 107.461,85.9953 L 109.946,91.6414 L 113.892,88.0906 C 114.803,90.4326 115.291,92.9547 114.039,95.4061 C 114.95,97.7481 115.438,100.27 114.746,103.089 C 114.746,125.768 96.2959,144.218 74.0618,145.02 m 0,0 m 0.472549,-24.9909 C 73.2092,94.3088 71.581,95.937 70.8355,97.4884 C 68.8347,97.4884 67.2065,99.1166 67.5868,101.442 C 67.5868,105.444 70.8432,108.7 75.5266,108.117 C 79.5282,108.117 82.7846,104.86 81.5895,100.209 C 81.5895,98.2085 79.9612,96.5803 78.0961,96.4465 C 78.0961,94.4457 76.4678,92.8175 75.0793,94.1646 m 0,0 m -0.57119,10.3302 C 74.1329,103.721 73.0491,102.637 73.0977,100.423 C 73.0977,99.7548 73.6396,99.2129 73.8965,99.5677 C 73.8965,98.8999 74.4384,98.358 74.0703,99.636 C 75.4058,99.636 76.4896,100.72 77.2044,101.364 C 77.2044,102.7 76.1205,103.783 74.5235,104.025 m 0,0 m -0.42749,6.98685 C 71.9807,110.796 70.3525,112.424 71.3717,114.89 C 69.3709,114.89 67.7427,116.518 67.2874,117.816 C 67.2874,121.818 70.5438,125.074 74.2517,125.13 C 75.5855,125.13 76.671,124.044 77.508,122.932 C 78.8419,122.932 79.9274,121.846 80.0421,121.063 C 81.376,121.063 82.4615,119.977 82.2382,118.269 C 82.2382,114.268 78.9818,111.011 74.9194,111.109 m 0,0 m -0.367455,9.53014 C 72.2127,120.009 71.1288,118.925 72.2143,117.742 C 72.2143,116.406 73.2982,115.322 74.3478,116.852 C 75.6833,116.852 76.7672,117.936 76.7432,116.973 C 76.7432,118.309 75.6593,119.393 75.6728,121.001 m 0,0 m -9.31186,-75.9989 C 68.2574,41.9384 65.0009,38.682 59.7777,39.3635 C 57.7769,39.3635 56.1486,40.9918 56.2922,41.2178 C 54.2914,41.2178 52.6632,42.846 52.8682,45.2056 C 52.8682,49.2072 56.1246,52.4636 59.8363,52.0266 C 63.838,52.0266 67.0944,48.7702 66.2217,45.8179 m 0,0 m -9.56182,-0.250053 C 57.4868,44.9197 58.5706,43.8358 59.9343,42.78 C 61.2698,42.78 62.3537,43.8639 62.2865,45.9722 C 62.2865,47.3076 61.2027,48.3915 58.6359,47.5113 C 57.3004,47.5113 56.2166,46.4274 57.8128,45.7578 m 0,0 m 16.3203,3.40395 m 15.4786,3.19039 m 0.549873,-0.727478 m -1.15107,0.825729 C 92.5247,52.788 95.7811,49.5315 95.3924,45.3527 C 95.3924,43.3519 93.7642,41.7237 91.6438,41.3003 C 91.6438,39.2995 90.0155,37.6712 89.384,39.4687 C 87.3832,39.4687 85.7549,41.0969 85.396,41.4987 C 83.3952,41.4987 81.767,43.1269 82.2635,45.5782 C 82.2635,49.5798 85.52,52.8363 89.6253,52.1939 m 0,0 m -2.26235,-4.16291 m 1.36318,-4.9506 C 88.8864,43.904 89.2477,44.2653 91.5899,43.9079 C 92.0351,43.9079 92.3964,44.2692 90.5261,44.1738 C 90.9713,44.1738 91.3325,44.5351 92.3854,44.8699 C 92.3854,46.2054 91.3015,47.2893 88.9913,48.2955 C 88.3236,48.2955 87.7817,47.7536 87.9374,46.8253 C 87.2697,46.8253 86.7278,46.2834 86.1481,45.5969 C 86.1481,45.1517 86.5094,44.7904 88.5936,44.7844 C 88.5936,44.3392 88.9549,43.9779 88.2534,42.8018 C 88.2534,42.3567 88.6147,41.9954 89.5133,42.8993 m 0,0 m -22.5201,15.0468 C 67.0742,57.9356 67.2459,58.8404 67.9076,58.6576 L 74.5704,72.0565 L 77.0511,68.7886 L 79.5586,63.7779 L 81.3353,59.4134 C 81.6789,58.5522 81.8506,57.6473 80.6151,57.2975 L 81.6665,56.938 L 81.884,55.7172 L 82.7299,54.6422 C 82.7299,52.6414 81.1017,51.0132 77.6615,51.7992 C 77.6615,49.7984 76.0333,48.1701 75.6592,49.1767 C 71.6576,49.1767 68.4012,52.4332 68.0412,55.4911 L 67.5455,54.4431 L 67.1804,56.4827 m 0,0 m 4.76424,-0.964699 m -0.0163116,0.396595 m 1.20153,-0.832783 C 72.1547,53.702 73.2386,52.6181 74.8236,51.6313 C 76.1591,51.6313 77.243,52.7152 77.0691,55.572 L 76.8184,54.7777 L 77.4115,56.0795 L 77.7337,57.257 L 76.5747,55.9343 C 76.5747,56.2415 76.5167,56.5464 75.9689,57.5976 L 77.1216,60.672 L 75.2939,62.4568 L 71.6627,57.4456 C 71.6047,57.3004 71.5756,57.148 72.2516,56.9349 C 72.1936,56.7898 72.1646,56.6373 72.6421,57.205 L 72.0871,55.2911 m 0,0 m 34.8476,9.74728 m 36.2324,9.39165 m -0.206299,0.831047 L 133.111,70.7498 L 132.865,59.3205 L 139.154,56.8114 L 145.834,52.3842 L 143.459,47.1856 L 142.625,48.9981 L 139.185,50.4252 L 137.55,44.2142 L 133.754,46.2901 L 131.837,46.3471 L 133.48,49.2889 L 134.54,50.9275 L 134.408,52.5023 L 127.731,55.4046 L 129.303,71.1804 L 123.978,75.0277 L 118.066,78.5173 L 115.453,81.4537 C 114.434,79.6368 113.165,77.9614 110.051,76.2078 C 109.033,74.3909 107.764,72.7155 107.421,71.4738 C 108.829,69.2843 110.046,66.9472 111.362,65.1524 L 106.386,63.157 C 105.65,65.0804 104.728,66.8949 103.009,67.7436 C 102.385,67.238 101.749,66.742 101.337,66.9424 C 102.744,64.5872 103.568,61.8461 103.78,58.0713 C 105.187,55.7161 106.011,52.975 106.558,50.0227 C 106.558,41.7534 103.292,33.9776 97.9177,27.8272 C 99.7346,27.63 101.16,26.1059 100.682,25.2307 C 102.499,25.0336 103.924,23.5094 103.794,21.8108 C 103.794,19.81 102.166,18.1818 100.09,17.4602 C 100.09,15.4594 98.4622,13.8311 96.8969,13.6376 L 94.7273,14.2936 L 93.2439,7.17749 C 93.2439,5.84362 92.1584,4.75813 92.1066,5.12967 C 92.1066,3.7958 91.0211,2.71032 90.252,2.76144 C 90.252,1.42757 89.1665,0.342089 87.3238,0 L 62.412,0.0411808 C 58.4104,0.0411808 55.1539,3.29763 56.5804,6.25453 L 54.9509,8.65795 L 54.635,12.5184 L 54.0771,14.6051 L 55.3135,14.9248 L 52.8477,13.7924 C 48.8461,13.7924 45.5896,17.0488 46.0304,21.1404 C 46.0304,24.8783 48.8804,27.9267 52.3946,28.216 C 46.7575,34.0224 43.4914,41.7982 42.2711,50.0234 C 42.2711,55.8952 43.9187,61.3775 47.8769,65.8075 C 47.2213,66.2841 46.5874,66.7777 46.0912,68.2599 C 45.5662,67.3986 45.1053,66.4913 43.6997,65.1134 C 43.1747,64.2521 42.7138,63.3448 43.0903,61.9159 L 38.5266,64.71 C 39.4774,67.1971 40.6943,69.5318 41.2647,71.4586 C 39.7744,72.9513 38.5055,74.6267 37.903,76.0881 C 36.4127,77.5808 35.1437,79.2562 34.397,79.5551 L 21.7873,71.9291 L 19.2167,60.8276 L 21.2692,54.2251 L 23.6691,48.7972 L 19.3527,46.2795 L 14.8241,57.5511 L 8.03608,54.2246 L 5.16552,55.6778 L 0.0755757,56.7342 L 0,59.5766 L 6.0551,61.1975 L 9.41205,60.0597 L 11.6965,61.5315 L 14.3757,62.8951 L 17.3463,71.1992 L 14.0264,72.9915 L 11.3787,75.1013 L 10.0345,77.0631 L 3.55763,77.3103 L 5.3537,81.7016 L 12.7978,81.1354 L 20.1218,75.8218 L 31.7926,85.5769 C 30.9974,87.4438 30.5652,89.4761 32.1567,91.8362 C 31.3615,93.7031 30.9292,95.7354 29.8465,97.6473 C 29.0514,99.5142 28.6191,101.546 28.7776,104.623 C 28.7776,117.297 39.0876,127.607 52.9061,127.633 C 52.9061,140.307 63.2162,150.617 74.8474,148.788 C 87.5212,148.788 97.8313,138.478 96.2281,126.364 C 108.902,126.364 119.212,116.054 120.522,104.489 C 120.522,98.1919 119.226,92.0975 116.631,86.437 L 131.11,75.0346 L 142.41,79.8719 L 148.828,79.6115 L 148.663,74.7779 L 143.605,75.2745 m 0,0 m -92.3338,-53.9507 C 50.7143,20.7431 51.2562,20.2012 51.2384,19.9972 C 51.2384,19.3294 51.7803,18.7875 53.5011,18.6932 L 56.0172,18.7912 L 60.9943,19.7534 L 59.7402,5.33115 C 59.7402,4.66341 60.2821,4.12147 61.2407,5.56747 C 61.2407,4.89973 61.7827,4.35779 62.1793,4.40284 L 68.8882,4.71101 L 74.5005,4.95377 L 80.7212,4.86067 L 87.7733,4.57511 C 89.1087,4.57511 90.1926,5.65898 90.0279,6.48556 L 89.8498,18.642 L 96.0806,19.4447 C 96.7483,19.4447 97.2902,19.9867 98.0561,19.6129 C 98.7238,19.6129 99.2657,20.1548 99.8624,21.207 C 99.8624,22.5425 98.7785,23.6263 96.5464,23.661 L 85.3222,23.8581 L 74.7181,24.51 L 63.3754,24.7393 L 53.1045,23.76 C 52.4368,23.76 51.8949,23.218 51.6721,22.4508 C 51.0044,22.4508 50.4624,21.9089 51.162,21.5086 m 0,0 m 7.11453,6.38456 m 2.08904,0.0269375 L 90.2912,28.9744 C 92.667,30.6381 94.0856,33.3301 94.254,35.7509 C 96.6298,37.4146 98.0484,40.1065 97.7773,44.2713 C 100.153,45.9351 101.572,48.627 100.622,50.6237 Z\" fill=\"#000\"/></svg>"
      ],
      "text/plain": [
       "<IPython.core.display.SVG object>"
      ]
     },
     "metadata": {},
     "output_type": "display_data"
    },
    {
     "name": "stdout",
     "output_type": "stream",
     "text": [
      "sno@@ w@@ man w@@ int@@ er\n"
     ]
    }
   ],
   "source": [
    "for vec, tgt in train_dl:\n",
    "    show(c, vec[0])\n",
    "    print(tgt[0])\n",
    "    break"
   ]
  },
  {
   "cell_type": "code",
   "execution_count": 14,
   "id": "front-pound",
   "metadata": {},
   "outputs": [
    {
     "data": {
      "image/svg+xml": [
       "<svg xmlns=\"http://www.w3.org/2000/svg\" xmlns:ev=\"http://www.w3.org/2001/xml-events\" xmlns:xlink=\"http://www.w3.org/1999/xlink\" baseProfile=\"tiny\" fill-rule=\"evenodd\" height=\"150.0px\" version=\"1.2\" width=\"43.75010681152344px\"><defs/><path d=\"M 40.625,74.9999 m 0,0 L 37.4999,74.9999 L 37.4999,65.6249 C 37.4999,65.5062 37.4437,65.3999 37.4311,65.2812 C 37.4185,65.1936 37.456,65.0999 37.4372,65.0126 L 24.9374,2.5125 C 24.6439,1.05 23.3625,0 21.8751,0 C 20.3877,0 19.1062,1.05 18.8062,2.5125 L 6.30614,65.0123 C 6.28739,65.1122 6.32489,65.2124 6.31229,65.3123 C 6.29969,65.4186 6.24989,65.5124 6.24989,65.6249 L 6.24989,74.9999 L 3.12509,74.9999 C 1.4001,74.9999 0,76.4 0,78.1249 L 0,121.875 C 0,123.6 1.4001,125 3.12509,125 L 6.25018,125 L 6.25018,146.875 C 6.25018,148.6 7.65028,150 9.37527,150 L 34.3751,150 C 36.1001,150 37.5002,148.6 37.5002,146.875 L 37.5002,125 L 40.625,125 C 42.35,125 43.7501,123.6 43.7501,121.875 L 43.7501,78.125 C 43.7501,76.4 42.35,74.9999 40.625,74.9999 m 0,0 m -18.75,-55.9373 L 30.5624,62.5001 L 13.1874,62.5001 L 21.8751,19.0626 m 0,0 m -9.37498,49.6874 L 31.25,68.75 L 31.25,74.9999 L 12.5001,74.9999 L 12.5001,68.75 m 0,0 m 18.75,74.9998 L 25.0001,143.75 L 25.0001,134.375 C 25.0001,132.65 23.6,131.25 21.8751,131.25 C 20.1501,131.25 18.75,132.65 18.75,134.375 L 18.75,143.75 L 12.5001,143.75 L 12.5001,125 L 31.25,125 L 31.25,143.75 m 0,0 m 6.24989,-25.0001 L 6.25018,118.75 L 6.25018,81.2497 L 37.5002,81.2497 L 37.5002,118.75 m 0,0 m -15.6252,-6.24989 C 28.7689,112.5 34.3751,106.894 34.3751,99.9997 C 34.3751,93.1059 28.7689,87.4996 21.8751,87.4996 C 14.9812,87.4996 9.37498,93.1059 9.37498,99.9997 C 9.37498,106.894 14.9812,112.5 21.8751,112.5 m 0,0 m 0,-18.75 C 25.3189,93.7498 28.1249,96.5497 28.1249,99.9997 C 28.1249,103.45 25.3186,106.25 21.8751,106.25 C 18.4315,106.25 15.6252,103.45 15.6252,99.9997 C 15.6252,96.5497 18.4312,93.7498 21.8751,93.7498 Z\" fill=\"#000\"/></svg>"
      ],
      "text/plain": [
       "<IPython.core.display.SVG object>"
      ]
     },
     "metadata": {},
     "output_type": "display_data"
    },
    {
     "name": "stdout",
     "output_type": "stream",
     "text": [
      "big b@@ en clock\n"
     ]
    }
   ],
   "source": [
    "for vec, tgt in test_dl:\n",
    "    show(c, vec[0])\n",
    "    print(tgt[0])\n",
    "    break"
   ]
  },
  {
   "cell_type": "code",
   "execution_count": 15,
   "id": "successful-subsection",
   "metadata": {},
   "outputs": [],
   "source": [
    "model = STTModel(\n",
    "    vocab_size=1070,\n",
    "    voc=voc,\n",
    "    dim=64,\n",
    "    seq_len=seq_len,\n",
    "    n_heads=8,\n",
    "    n_encoder_layers=2,\n",
    "    n_decoder_layers=3,\n",
    "    dropout_p=0.1,\n",
    ").to(device)\n",
    "\n",
    "opt = torch.optim.Adam(model.parameters(), lr=1e-3)\n",
    "loss_fn = nn.CrossEntropyLoss().to(device)"
   ]
  },
  {
   "cell_type": "code",
   "execution_count": 16,
   "id": "crucial-providence",
   "metadata": {},
   "outputs": [
    {
     "data": {
      "text/plain": [
       "-1"
      ]
     },
     "execution_count": 16,
     "metadata": {},
     "output_type": "execute_result"
    }
   ],
   "source": [
    "step = -1\n",
    "metrics = {'train_loss': [], 'test_loss': []}\n",
    "save_path = \"checkpoints\"\n",
    "\n",
    "# step, metrics = load_checkpoint(model, opt, save_path, 'epoch', 186_500, device)\n",
    "step"
   ]
  },
  {
   "cell_type": "code",
   "execution_count": 17,
   "id": "numerous-biotechnology",
   "metadata": {
    "scrolled": true
   },
   "outputs": [
    {
     "name": "stdout",
     "output_type": "stream",
     "text": [
      "Epoch: 24, step: 166600, loss: 1.4507920742034912, test_loss: 1.1147583723068237\n"
     ]
    },
    {
     "data": {
      "image/png": "[encoded data removed]",
      "text/plain": [
       "<Figure size 1200x400 with 2 Axes>"
      ]
     },
     "metadata": {},
     "output_type": "display_data"
    },
    {
     "ename": "KeyboardInterrupt",
     "evalue": "",
     "output_type": "error",
     "traceback": [
      "\u001b[1;31m---------------------------------------------------------------------------\u001b[0m",
      "\u001b[1;31mKeyboardInterrupt\u001b[0m                         Traceback (most recent call last)",
      "    \u001b[1;31m[... skipping hidden 1 frame]\u001b[0m\n",
      "Cell \u001b[1;32mIn[17], line 1\u001b[0m\n\u001b[1;32m----> 1\u001b[0m \u001b[43mtrain\u001b[49m\u001b[43m(\u001b[49m\u001b[43mmodel\u001b[49m\u001b[43m,\u001b[49m\n\u001b[0;32m      2\u001b[0m \u001b[43m      \u001b[49m\u001b[43mopt\u001b[49m\u001b[43m,\u001b[49m\n\u001b[0;32m      3\u001b[0m \u001b[43m      \u001b[49m\u001b[43mloss_fn\u001b[49m\u001b[43m,\u001b[49m\n\u001b[0;32m      4\u001b[0m \u001b[43m      \u001b[49m\u001b[43mtrain_dl\u001b[49m\u001b[38;5;241;43m=\u001b[39;49m\u001b[43mtrain_dl\u001b[49m\u001b[43m,\u001b[49m\n\u001b[0;32m      5\u001b[0m \u001b[43m      \u001b[49m\u001b[43mtest_dl\u001b[49m\u001b[38;5;241;43m=\u001b[39;49m\u001b[43mtest_dl\u001b[49m\u001b[43m,\u001b[49m\n\u001b[0;32m      6\u001b[0m \u001b[43m      \u001b[49m\u001b[43mdevice\u001b[49m\u001b[38;5;241;43m=\u001b[39;49m\u001b[43mdevice\u001b[49m\u001b[43m,\u001b[49m\n\u001b[0;32m      7\u001b[0m \u001b[43m      \u001b[49m\u001b[43mmetrics\u001b[49m\u001b[38;5;241;43m=\u001b[39;49m\u001b[43mmetrics\u001b[49m\u001b[43m,\u001b[49m\n\u001b[0;32m      8\u001b[0m \u001b[43m      \u001b[49m\u001b[43msave_path\u001b[49m\u001b[38;5;241;43m=\u001b[39;49m\u001b[43msave_path\u001b[49m\u001b[43m,\u001b[49m\n\u001b[0;32m      9\u001b[0m \u001b[43m      \u001b[49m\u001b[43mstep\u001b[49m\u001b[38;5;241;43m=\u001b[39;49m\u001b[43mstep\u001b[49m\u001b[43m,\u001b[49m\n\u001b[0;32m     10\u001b[0m \u001b[43m      \u001b[49m\u001b[43mconverter\u001b[49m\u001b[38;5;241;43m=\u001b[39;49m\u001b[43mc\u001b[49m\u001b[43m,\u001b[49m\n\u001b[0;32m     11\u001b[0m \u001b[43m      \u001b[49m\u001b[43mepochs\u001b[49m\u001b[38;5;241;43m=\u001b[39;49m\u001b[38;5;241;43m128\u001b[39;49m\u001b[43m,\u001b[49m\n\u001b[0;32m     12\u001b[0m \u001b[43m     \u001b[49m\u001b[43m)\u001b[49m\n",
      "File \u001b[1;32mE:\\3_Программы\\grafstor\\svg-to-text\\model\\train.py:80\u001b[0m, in \u001b[0;36mtrain\u001b[1;34m(model, opt, loss_fn, train_dl, test_dl, device, metrics, save_path, step, converter, epochs)\u001b[0m\n\u001b[0;32m     79\u001b[0m \u001b[38;5;28;01mfor\u001b[39;00m epoch \u001b[38;5;129;01min\u001b[39;00m \u001b[38;5;28mrange\u001b[39m(epochs):\n\u001b[1;32m---> 80\u001b[0m     \u001b[38;5;28;01mfor\u001b[39;00m vec, tgt \u001b[38;5;129;01min\u001b[39;00m train_dl:\n\u001b[0;32m     81\u001b[0m         torch\u001b[38;5;241m.\u001b[39mcuda\u001b[38;5;241m.\u001b[39mempty_cache()\n",
      "File \u001b[1;32m~\\AppData\\Local\\Programs\\Python\\Python39\\lib\\site-packages\\torch\\utils\\data\\dataloader.py:517\u001b[0m, in \u001b[0;36m_BaseDataLoaderIter.__next__\u001b[1;34m(self)\u001b[0m\n\u001b[0;32m    516\u001b[0m     \u001b[38;5;28mself\u001b[39m\u001b[38;5;241m.\u001b[39m_reset()\n\u001b[1;32m--> 517\u001b[0m data \u001b[38;5;241m=\u001b[39m \u001b[38;5;28;43mself\u001b[39;49m\u001b[38;5;241;43m.\u001b[39;49m\u001b[43m_next_data\u001b[49m\u001b[43m(\u001b[49m\u001b[43m)\u001b[49m\n\u001b[0;32m    518\u001b[0m \u001b[38;5;28mself\u001b[39m\u001b[38;5;241m.\u001b[39m_num_yielded \u001b[38;5;241m+\u001b[39m\u001b[38;5;241m=\u001b[39m \u001b[38;5;241m1\u001b[39m\n",
      "File \u001b[1;32m~\\AppData\\Local\\Programs\\Python\\Python39\\lib\\site-packages\\torch\\utils\\data\\dataloader.py:557\u001b[0m, in \u001b[0;36m_SingleProcessDataLoaderIter._next_data\u001b[1;34m(self)\u001b[0m\n\u001b[0;32m    556\u001b[0m index \u001b[38;5;241m=\u001b[39m \u001b[38;5;28mself\u001b[39m\u001b[38;5;241m.\u001b[39m_next_index()  \u001b[38;5;66;03m# may raise StopIteration\u001b[39;00m\n\u001b[1;32m--> 557\u001b[0m data \u001b[38;5;241m=\u001b[39m \u001b[38;5;28;43mself\u001b[39;49m\u001b[38;5;241;43m.\u001b[39;49m\u001b[43m_dataset_fetcher\u001b[49m\u001b[38;5;241;43m.\u001b[39;49m\u001b[43mfetch\u001b[49m\u001b[43m(\u001b[49m\u001b[43mindex\u001b[49m\u001b[43m)\u001b[49m  \u001b[38;5;66;03m# may raise StopIteration\u001b[39;00m\n\u001b[0;32m    558\u001b[0m \u001b[38;5;28;01mif\u001b[39;00m \u001b[38;5;28mself\u001b[39m\u001b[38;5;241m.\u001b[39m_pin_memory:\n",
      "File \u001b[1;32m~\\AppData\\Local\\Programs\\Python\\Python39\\lib\\site-packages\\torch\\utils\\data\\_utils\\fetch.py:44\u001b[0m, in \u001b[0;36m_MapDatasetFetcher.fetch\u001b[1;34m(self, possibly_batched_index)\u001b[0m\n\u001b[0;32m     43\u001b[0m \u001b[38;5;28;01mif\u001b[39;00m \u001b[38;5;28mself\u001b[39m\u001b[38;5;241m.\u001b[39mauto_collation:\n\u001b[1;32m---> 44\u001b[0m     data \u001b[38;5;241m=\u001b[39m [\u001b[38;5;28mself\u001b[39m\u001b[38;5;241m.\u001b[39mdataset[idx] \u001b[38;5;28;01mfor\u001b[39;00m idx \u001b[38;5;129;01min\u001b[39;00m possibly_batched_index]\n\u001b[0;32m     45\u001b[0m \u001b[38;5;28;01melse\u001b[39;00m:\n",
      "File \u001b[1;32m~\\AppData\\Local\\Programs\\Python\\Python39\\lib\\site-packages\\torch\\utils\\data\\_utils\\fetch.py:44\u001b[0m, in \u001b[0;36m<listcomp>\u001b[1;34m(.0)\u001b[0m\n\u001b[0;32m     43\u001b[0m \u001b[38;5;28;01mif\u001b[39;00m \u001b[38;5;28mself\u001b[39m\u001b[38;5;241m.\u001b[39mauto_collation:\n\u001b[1;32m---> 44\u001b[0m     data \u001b[38;5;241m=\u001b[39m [\u001b[38;5;28;43mself\u001b[39;49m\u001b[38;5;241;43m.\u001b[39;49m\u001b[43mdataset\u001b[49m\u001b[43m[\u001b[49m\u001b[43midx\u001b[49m\u001b[43m]\u001b[49m \u001b[38;5;28;01mfor\u001b[39;00m idx \u001b[38;5;129;01min\u001b[39;00m possibly_batched_index]\n\u001b[0;32m     45\u001b[0m \u001b[38;5;28;01melse\u001b[39;00m:\n",
      "File \u001b[1;32mE:\\3_Программы\\grafstor\\svg-to-text\\model\\dataset.py:65\u001b[0m, in \u001b[0;36mSvgDataset.__getitem__\u001b[1;34m(self, idx)\u001b[0m\n\u001b[0;32m     64\u001b[0m \u001b[38;5;28;01mif\u001b[39;00m \u001b[38;5;28mself\u001b[39m\u001b[38;5;241m.\u001b[39mtransforms:\n\u001b[1;32m---> 65\u001b[0m     \u001b[43mapply_random_roll\u001b[49m\u001b[43m(\u001b[49m\u001b[43mvector\u001b[49m\u001b[43m)\u001b[49m\n\u001b[0;32m     66\u001b[0m     apply_random_div(vector)\n",
      "File \u001b[1;32mE:\\3_Программы\\grafstor\\svg-to-text\\model\\dataset.py:15\u001b[0m, in \u001b[0;36mapply_random_roll\u001b[1;34m(vec)\u001b[0m\n\u001b[0;32m     13\u001b[0m random_roll \u001b[38;5;241m=\u001b[39m random\u001b[38;5;241m.\u001b[39mrandint(\u001b[38;5;241m0\u001b[39m, active_dots\u001b[38;5;241m.\u001b[39msum()\u001b[38;5;241m-\u001b[39m\u001b[38;5;241m1\u001b[39m)\n\u001b[1;32m---> 15\u001b[0m vec[active_dots] \u001b[38;5;241m=\u001b[39m \u001b[43mvec\u001b[49m\u001b[43m[\u001b[49m\u001b[43mactive_dots\u001b[49m\u001b[43m]\u001b[49m\u001b[38;5;241m.\u001b[39mroll(random_roll, \u001b[38;5;241m0\u001b[39m)\n\u001b[0;32m     17\u001b[0m vec[random_roll,:\u001b[38;5;241m2\u001b[39m] \u001b[38;5;241m+\u001b[39m\u001b[38;5;241m=\u001b[39m \u001b[38;5;241m-\u001b[39mvec[active_dots,:\u001b[38;5;241m2\u001b[39m]\u001b[38;5;241m.\u001b[39msum(dim\u001b[38;5;241m=\u001b[39m\u001b[38;5;241m0\u001b[39m)\n",
      "\u001b[1;31mKeyboardInterrupt\u001b[0m: ",
      "\nDuring handling of the above exception, another exception occurred:\n",
      "\u001b[1;31mKeyboardInterrupt\u001b[0m                         Traceback (most recent call last)",
      "File \u001b[1;32m~\\AppData\\Local\\Programs\\Python\\Python39\\lib\\site-packages\\IPython\\core\\interactiveshell.py:2144\u001b[0m, in \u001b[0;36mInteractiveShell.showtraceback\u001b[1;34m(self, exc_tuple, filename, tb_offset, exception_only, running_compiled_code)\u001b[0m\n\u001b[0;32m   2143\u001b[0m     \u001b[38;5;28;01melse\u001b[39;00m:\n\u001b[1;32m-> 2144\u001b[0m         stb \u001b[38;5;241m=\u001b[39m \u001b[38;5;28;43mself\u001b[39;49m\u001b[38;5;241;43m.\u001b[39;49m\u001b[43mInteractiveTB\u001b[49m\u001b[38;5;241;43m.\u001b[39;49m\u001b[43mstructured_traceback\u001b[49m\u001b[43m(\u001b[49m\n\u001b[0;32m   2145\u001b[0m \u001b[43m            \u001b[49m\u001b[43metype\u001b[49m\u001b[43m,\u001b[49m\u001b[43m \u001b[49m\u001b[43mvalue\u001b[49m\u001b[43m,\u001b[49m\u001b[43m \u001b[49m\u001b[43mtb\u001b[49m\u001b[43m,\u001b[49m\u001b[43m \u001b[49m\u001b[43mtb_offset\u001b[49m\u001b[38;5;241;43m=\u001b[39;49m\u001b[43mtb_offset\u001b[49m\n\u001b[0;32m   2146\u001b[0m \u001b[43m        \u001b[49m\u001b[43m)\u001b[49m\n\u001b[0;32m   2148\u001b[0m \u001b[38;5;28;01mexcept\u001b[39;00m \u001b[38;5;167;01mException\u001b[39;00m:\n",
      "File \u001b[1;32m~\\AppData\\Local\\Programs\\Python\\Python39\\lib\\site-packages\\IPython\\core\\ultratb.py:1435\u001b[0m, in \u001b[0;36mAutoFormattedTB.structured_traceback\u001b[1;34m(self, etype, evalue, etb, tb_offset, number_of_lines_of_context)\u001b[0m\n\u001b[0;32m   1434\u001b[0m     \u001b[38;5;28mself\u001b[39m\u001b[38;5;241m.\u001b[39mtb \u001b[38;5;241m=\u001b[39m etb\n\u001b[1;32m-> 1435\u001b[0m \u001b[38;5;28;01mreturn\u001b[39;00m \u001b[43mFormattedTB\u001b[49m\u001b[38;5;241;43m.\u001b[39;49m\u001b[43mstructured_traceback\u001b[49m\u001b[43m(\u001b[49m\n\u001b[0;32m   1436\u001b[0m \u001b[43m    \u001b[49m\u001b[38;5;28;43mself\u001b[39;49m\u001b[43m,\u001b[49m\u001b[43m \u001b[49m\u001b[43metype\u001b[49m\u001b[43m,\u001b[49m\u001b[43m \u001b[49m\u001b[43mevalue\u001b[49m\u001b[43m,\u001b[49m\u001b[43m \u001b[49m\u001b[43metb\u001b[49m\u001b[43m,\u001b[49m\u001b[43m \u001b[49m\u001b[43mtb_offset\u001b[49m\u001b[43m,\u001b[49m\u001b[43m \u001b[49m\u001b[43mnumber_of_lines_of_context\u001b[49m\n\u001b[0;32m   1437\u001b[0m \u001b[43m\u001b[49m\u001b[43m)\u001b[49m\n",
      "File \u001b[1;32m~\\AppData\\Local\\Programs\\Python\\Python39\\lib\\site-packages\\IPython\\core\\ultratb.py:1326\u001b[0m, in \u001b[0;36mFormattedTB.structured_traceback\u001b[1;34m(self, etype, value, tb, tb_offset, number_of_lines_of_context)\u001b[0m\n\u001b[0;32m   1324\u001b[0m \u001b[38;5;28;01mif\u001b[39;00m mode \u001b[38;5;129;01min\u001b[39;00m \u001b[38;5;28mself\u001b[39m\u001b[38;5;241m.\u001b[39mverbose_modes:\n\u001b[0;32m   1325\u001b[0m     \u001b[38;5;66;03m# Verbose modes need a full traceback\u001b[39;00m\n\u001b[1;32m-> 1326\u001b[0m     \u001b[38;5;28;01mreturn\u001b[39;00m \u001b[43mVerboseTB\u001b[49m\u001b[38;5;241;43m.\u001b[39;49m\u001b[43mstructured_traceback\u001b[49m\u001b[43m(\u001b[49m\n\u001b[0;32m   1327\u001b[0m \u001b[43m        \u001b[49m\u001b[38;5;28;43mself\u001b[39;49m\u001b[43m,\u001b[49m\u001b[43m \u001b[49m\u001b[43metype\u001b[49m\u001b[43m,\u001b[49m\u001b[43m \u001b[49m\u001b[43mvalue\u001b[49m\u001b[43m,\u001b[49m\u001b[43m \u001b[49m\u001b[43mtb\u001b[49m\u001b[43m,\u001b[49m\u001b[43m \u001b[49m\u001b[43mtb_offset\u001b[49m\u001b[43m,\u001b[49m\u001b[43m \u001b[49m\u001b[43mnumber_of_lines_of_context\u001b[49m\n\u001b[0;32m   1328\u001b[0m \u001b[43m    \u001b[49m\u001b[43m)\u001b[49m\n\u001b[0;32m   1329\u001b[0m \u001b[38;5;28;01melif\u001b[39;00m mode \u001b[38;5;241m==\u001b[39m \u001b[38;5;124m'\u001b[39m\u001b[38;5;124mMinimal\u001b[39m\u001b[38;5;124m'\u001b[39m:\n",
      "File \u001b[1;32m~\\AppData\\Local\\Programs\\Python\\Python39\\lib\\site-packages\\IPython\\core\\ultratb.py:1173\u001b[0m, in \u001b[0;36mVerboseTB.structured_traceback\u001b[1;34m(self, etype, evalue, etb, tb_offset, number_of_lines_of_context)\u001b[0m\n\u001b[0;32m   1172\u001b[0m \u001b[38;5;250m\u001b[39m\u001b[38;5;124;03m\"\"\"Return a nice text document describing the traceback.\"\"\"\u001b[39;00m\n\u001b[1;32m-> 1173\u001b[0m formatted_exception \u001b[38;5;241m=\u001b[39m \u001b[38;5;28;43mself\u001b[39;49m\u001b[38;5;241;43m.\u001b[39;49m\u001b[43mformat_exception_as_a_whole\u001b[49m\u001b[43m(\u001b[49m\u001b[43metype\u001b[49m\u001b[43m,\u001b[49m\u001b[43m \u001b[49m\u001b[43mevalue\u001b[49m\u001b[43m,\u001b[49m\u001b[43m \u001b[49m\u001b[43metb\u001b[49m\u001b[43m,\u001b[49m\u001b[43m \u001b[49m\u001b[43mnumber_of_lines_of_context\u001b[49m\u001b[43m,\u001b[49m\n\u001b[0;32m   1174\u001b[0m \u001b[43m                                                       \u001b[49m\u001b[43mtb_offset\u001b[49m\u001b[43m)\u001b[49m\n\u001b[0;32m   1176\u001b[0m colors \u001b[38;5;241m=\u001b[39m \u001b[38;5;28mself\u001b[39m\u001b[38;5;241m.\u001b[39mColors  \u001b[38;5;66;03m# just a shorthand + quicker name lookup\u001b[39;00m\n",
      "File \u001b[1;32m~\\AppData\\Local\\Programs\\Python\\Python39\\lib\\site-packages\\IPython\\core\\ultratb.py:1063\u001b[0m, in \u001b[0;36mVerboseTB.format_exception_as_a_whole\u001b[1;34m(self, etype, evalue, etb, number_of_lines_of_context, tb_offset)\u001b[0m\n\u001b[0;32m   1061\u001b[0m head \u001b[38;5;241m=\u001b[39m \u001b[38;5;28mself\u001b[39m\u001b[38;5;241m.\u001b[39mprepare_header(\u001b[38;5;28mstr\u001b[39m(etype), \u001b[38;5;28mself\u001b[39m\u001b[38;5;241m.\u001b[39mlong_header)\n\u001b[0;32m   1062\u001b[0m records \u001b[38;5;241m=\u001b[39m (\n\u001b[1;32m-> 1063\u001b[0m     \u001b[38;5;28;43mself\u001b[39;49m\u001b[38;5;241;43m.\u001b[39;49m\u001b[43mget_records\u001b[49m\u001b[43m(\u001b[49m\u001b[43metb\u001b[49m\u001b[43m,\u001b[49m\u001b[43m \u001b[49m\u001b[43mnumber_of_lines_of_context\u001b[49m\u001b[43m,\u001b[49m\u001b[43m \u001b[49m\u001b[43mtb_offset\u001b[49m\u001b[43m)\u001b[49m \u001b[38;5;28;01mif\u001b[39;00m etb \u001b[38;5;28;01melse\u001b[39;00m []\n\u001b[0;32m   1064\u001b[0m )\n\u001b[0;32m   1066\u001b[0m frames \u001b[38;5;241m=\u001b[39m []\n",
      "File \u001b[1;32m~\\AppData\\Local\\Programs\\Python\\Python39\\lib\\site-packages\\IPython\\core\\ultratb.py:1131\u001b[0m, in \u001b[0;36mVerboseTB.get_records\u001b[1;34m(self, etb, number_of_lines_of_context, tb_offset)\u001b[0m\n\u001b[0;32m   1130\u001b[0m \u001b[38;5;28;01mtry\u001b[39;00m:\n\u001b[1;32m-> 1131\u001b[0m     mod \u001b[38;5;241m=\u001b[39m \u001b[43minspect\u001b[49m\u001b[38;5;241;43m.\u001b[39;49m\u001b[43mgetmodule\u001b[49m\u001b[43m(\u001b[49m\u001b[43mcf\u001b[49m\u001b[38;5;241;43m.\u001b[39;49m\u001b[43mtb_frame\u001b[49m\u001b[43m)\u001b[49m\n\u001b[0;32m   1132\u001b[0m     \u001b[38;5;28;01mif\u001b[39;00m mod \u001b[38;5;129;01mis\u001b[39;00m \u001b[38;5;129;01mnot\u001b[39;00m \u001b[38;5;28;01mNone\u001b[39;00m:\n",
      "File \u001b[1;32m~\\AppData\\Local\\Programs\\Python\\Python39\\lib\\inspect.py:755\u001b[0m, in \u001b[0;36mgetmodule\u001b[1;34m(object, _filename)\u001b[0m\n\u001b[0;32m    753\u001b[0m         \u001b[38;5;66;03m# Always map to the name the module knows itself by\u001b[39;00m\n\u001b[0;32m    754\u001b[0m         modulesbyfile[f] \u001b[38;5;241m=\u001b[39m modulesbyfile[\n\u001b[1;32m--> 755\u001b[0m             \u001b[43mos\u001b[49m\u001b[38;5;241;43m.\u001b[39;49m\u001b[43mpath\u001b[49m\u001b[38;5;241;43m.\u001b[39;49m\u001b[43mrealpath\u001b[49m\u001b[43m(\u001b[49m\u001b[43mf\u001b[49m\u001b[43m)\u001b[49m] \u001b[38;5;241m=\u001b[39m module\u001b[38;5;241m.\u001b[39m\u001b[38;5;18m__name__\u001b[39m\n\u001b[0;32m    756\u001b[0m \u001b[38;5;28;01mif\u001b[39;00m file \u001b[38;5;129;01min\u001b[39;00m modulesbyfile:\n",
      "File \u001b[1;32m~\\AppData\\Local\\Programs\\Python\\Python39\\lib\\ntpath.py:647\u001b[0m, in \u001b[0;36mrealpath\u001b[1;34m(path)\u001b[0m\n\u001b[0;32m    646\u001b[0m \u001b[38;5;28;01mtry\u001b[39;00m:\n\u001b[1;32m--> 647\u001b[0m     path \u001b[38;5;241m=\u001b[39m \u001b[43m_getfinalpathname\u001b[49m\u001b[43m(\u001b[49m\u001b[43mpath\u001b[49m\u001b[43m)\u001b[49m\n\u001b[0;32m    648\u001b[0m     initial_winerror \u001b[38;5;241m=\u001b[39m \u001b[38;5;241m0\u001b[39m\n",
      "\u001b[1;31mKeyboardInterrupt\u001b[0m: ",
      "\nDuring handling of the above exception, another exception occurred:\n",
      "\u001b[1;31mKeyboardInterrupt\u001b[0m                         Traceback (most recent call last)",
      "    \u001b[1;31m[... skipping hidden 1 frame]\u001b[0m\n",
      "File \u001b[1;32m~\\AppData\\Local\\Programs\\Python\\Python39\\lib\\site-packages\\IPython\\core\\interactiveshell.py:2165\u001b[0m, in \u001b[0;36mInteractiveShell.showtraceback\u001b[1;34m(self, exc_tuple, filename, tb_offset, exception_only, running_compiled_code)\u001b[0m\n\u001b[0;32m   2162\u001b[0m         \u001b[38;5;28mself\u001b[39m\u001b[38;5;241m.\u001b[39m_showtraceback(etype, value, stb)\n\u001b[0;32m   2164\u001b[0m \u001b[38;5;28;01mexcept\u001b[39;00m \u001b[38;5;167;01mKeyboardInterrupt\u001b[39;00m:\n\u001b[1;32m-> 2165\u001b[0m     \u001b[38;5;28mprint\u001b[39m(\u001b[38;5;124m'\u001b[39m\u001b[38;5;130;01m\\n\u001b[39;00m\u001b[38;5;124m'\u001b[39m \u001b[38;5;241m+\u001b[39m \u001b[38;5;28;43mself\u001b[39;49m\u001b[38;5;241;43m.\u001b[39;49m\u001b[43mget_exception_only\u001b[49m\u001b[43m(\u001b[49m\u001b[43m)\u001b[49m, file\u001b[38;5;241m=\u001b[39msys\u001b[38;5;241m.\u001b[39mstderr)\n",
      "File \u001b[1;32m~\\AppData\\Local\\Programs\\Python\\Python39\\lib\\site-packages\\IPython\\core\\interactiveshell.py:2088\u001b[0m, in \u001b[0;36mInteractiveShell.get_exception_only\u001b[1;34m(self, exc_tuple)\u001b[0m\n\u001b[0;32m   2083\u001b[0m \u001b[38;5;250m\u001b[39m\u001b[38;5;124;03m\"\"\"\u001b[39;00m\n\u001b[0;32m   2084\u001b[0m \u001b[38;5;124;03mReturn as a string (ending with a newline) the exception that\u001b[39;00m\n\u001b[0;32m   2085\u001b[0m \u001b[38;5;124;03mjust occurred, without any traceback.\u001b[39;00m\n\u001b[0;32m   2086\u001b[0m \u001b[38;5;124;03m\"\"\"\u001b[39;00m\n\u001b[0;32m   2087\u001b[0m etype, value, tb \u001b[38;5;241m=\u001b[39m \u001b[38;5;28mself\u001b[39m\u001b[38;5;241m.\u001b[39m_get_exc_info(exc_tuple)\n\u001b[1;32m-> 2088\u001b[0m msg \u001b[38;5;241m=\u001b[39m \u001b[43mtraceback\u001b[49m\u001b[38;5;241;43m.\u001b[39;49m\u001b[43mformat_exception_only\u001b[49m\u001b[43m(\u001b[49m\u001b[43metype\u001b[49m\u001b[43m,\u001b[49m\u001b[43m \u001b[49m\u001b[43mvalue\u001b[49m\u001b[43m)\u001b[49m\n\u001b[0;32m   2089\u001b[0m \u001b[38;5;28;01mreturn\u001b[39;00m \u001b[38;5;124m'\u001b[39m\u001b[38;5;124m'\u001b[39m\u001b[38;5;241m.\u001b[39mjoin(msg)\n",
      "File \u001b[1;32m~\\AppData\\Local\\Programs\\Python\\Python39\\lib\\traceback.py:140\u001b[0m, in \u001b[0;36mformat_exception_only\u001b[1;34m(etype, value)\u001b[0m\n\u001b[0;32m    124\u001b[0m \u001b[38;5;28;01mdef\u001b[39;00m \u001b[38;5;21mformat_exception_only\u001b[39m(etype, value):\n\u001b[0;32m    125\u001b[0m \u001b[38;5;250m    \u001b[39m\u001b[38;5;124;03m\"\"\"Format the exception part of a traceback.\u001b[39;00m\n\u001b[0;32m    126\u001b[0m \n\u001b[0;32m    127\u001b[0m \u001b[38;5;124;03m    The arguments are the exception type and value such as given by\u001b[39;00m\n\u001b[1;32m   (...)\u001b[0m\n\u001b[0;32m    138\u001b[0m \n\u001b[0;32m    139\u001b[0m \u001b[38;5;124;03m    \"\"\"\u001b[39;00m\n\u001b[1;32m--> 140\u001b[0m     \u001b[38;5;28;01mreturn\u001b[39;00m \u001b[38;5;28mlist\u001b[39m(\u001b[43mTracebackException\u001b[49m\u001b[43m(\u001b[49m\u001b[43metype\u001b[49m\u001b[43m,\u001b[49m\u001b[43m \u001b[49m\u001b[43mvalue\u001b[49m\u001b[43m,\u001b[49m\u001b[43m \u001b[49m\u001b[38;5;28;43;01mNone\u001b[39;49;00m\u001b[43m)\u001b[49m\u001b[38;5;241m.\u001b[39mformat_exception_only())\n",
      "File \u001b[1;32m~\\AppData\\Local\\Programs\\Python\\Python39\\lib\\site-packages\\exceptiongroup\\_formatting.py:179\u001b[0m, in \u001b[0;36mPatchedTracebackException.__init__\u001b[1;34m(self, exc_type, exc_value, exc_traceback, limit, lookup_lines, capture_locals, compact, _seen)\u001b[0m\n\u001b[0;32m    172\u001b[0m     need_context \u001b[38;5;241m=\u001b[39m \u001b[38;5;28;01mTrue\u001b[39;00m\n\u001b[0;32m    173\u001b[0m \u001b[38;5;28;01mif\u001b[39;00m (\n\u001b[0;32m    174\u001b[0m     e\n\u001b[0;32m    175\u001b[0m     \u001b[38;5;129;01mand\u001b[39;00m e\u001b[38;5;241m.\u001b[39m__context__ \u001b[38;5;129;01mis\u001b[39;00m \u001b[38;5;129;01mnot\u001b[39;00m \u001b[38;5;28;01mNone\u001b[39;00m\n\u001b[0;32m    176\u001b[0m     \u001b[38;5;129;01mand\u001b[39;00m need_context\n\u001b[0;32m    177\u001b[0m     \u001b[38;5;129;01mand\u001b[39;00m \u001b[38;5;28mid\u001b[39m(e\u001b[38;5;241m.\u001b[39m__context__) \u001b[38;5;129;01mnot\u001b[39;00m \u001b[38;5;129;01min\u001b[39;00m _seen\n\u001b[0;32m    178\u001b[0m ):\n\u001b[1;32m--> 179\u001b[0m     context \u001b[38;5;241m=\u001b[39m \u001b[43mPatchedTracebackException\u001b[49m\u001b[43m(\u001b[49m\n\u001b[0;32m    180\u001b[0m \u001b[43m        \u001b[49m\u001b[38;5;28;43mtype\u001b[39;49m\u001b[43m(\u001b[49m\u001b[43me\u001b[49m\u001b[38;5;241;43m.\u001b[39;49m\u001b[43m__context__\u001b[49m\u001b[43m)\u001b[49m\u001b[43m,\u001b[49m\n\u001b[0;32m    181\u001b[0m \u001b[43m        \u001b[49m\u001b[43me\u001b[49m\u001b[38;5;241;43m.\u001b[39;49m\u001b[43m__context__\u001b[49m\u001b[43m,\u001b[49m\n\u001b[0;32m    182\u001b[0m \u001b[43m        \u001b[49m\u001b[43me\u001b[49m\u001b[38;5;241;43m.\u001b[39;49m\u001b[43m__context__\u001b[49m\u001b[38;5;241;43m.\u001b[39;49m\u001b[43m__traceback__\u001b[49m\u001b[43m,\u001b[49m\n\u001b[0;32m    183\u001b[0m \u001b[43m        \u001b[49m\u001b[43mlimit\u001b[49m\u001b[38;5;241;43m=\u001b[39;49m\u001b[43mlimit\u001b[49m\u001b[43m,\u001b[49m\n\u001b[0;32m    184\u001b[0m \u001b[43m        \u001b[49m\u001b[43mlookup_lines\u001b[49m\u001b[38;5;241;43m=\u001b[39;49m\u001b[43mlookup_lines\u001b[49m\u001b[43m,\u001b[49m\n\u001b[0;32m    185\u001b[0m \u001b[43m        \u001b[49m\u001b[43mcapture_locals\u001b[49m\u001b[38;5;241;43m=\u001b[39;49m\u001b[43mcapture_locals\u001b[49m\u001b[43m,\u001b[49m\n\u001b[0;32m    186\u001b[0m \u001b[43m        \u001b[49m\u001b[43m_seen\u001b[49m\u001b[38;5;241;43m=\u001b[39;49m\u001b[43m_seen\u001b[49m\u001b[43m,\u001b[49m\n\u001b[0;32m    187\u001b[0m \u001b[43m    \u001b[49m\u001b[43m)\u001b[49m\n\u001b[0;32m    188\u001b[0m \u001b[38;5;28;01melse\u001b[39;00m:\n\u001b[0;32m    189\u001b[0m     context \u001b[38;5;241m=\u001b[39m \u001b[38;5;28;01mNone\u001b[39;00m\n",
      "File \u001b[1;32m~\\AppData\\Local\\Programs\\Python\\Python39\\lib\\site-packages\\exceptiongroup\\_formatting.py:96\u001b[0m, in \u001b[0;36mPatchedTracebackException.__init__\u001b[1;34m(self, exc_type, exc_value, exc_traceback, limit, lookup_lines, capture_locals, compact, _seen)\u001b[0m\n\u001b[0;32m     93\u001b[0m     _seen \u001b[38;5;241m=\u001b[39m \u001b[38;5;28mset\u001b[39m()\n\u001b[0;32m     94\u001b[0m _seen\u001b[38;5;241m.\u001b[39madd(\u001b[38;5;28mid\u001b[39m(exc_value))\n\u001b[1;32m---> 96\u001b[0m \u001b[38;5;28mself\u001b[39m\u001b[38;5;241m.\u001b[39mstack \u001b[38;5;241m=\u001b[39m \u001b[43mtraceback\u001b[49m\u001b[38;5;241;43m.\u001b[39;49m\u001b[43mStackSummary\u001b[49m\u001b[38;5;241;43m.\u001b[39;49m\u001b[43mextract\u001b[49m\u001b[43m(\u001b[49m\n\u001b[0;32m     97\u001b[0m \u001b[43m    \u001b[49m\u001b[43mtraceback\u001b[49m\u001b[38;5;241;43m.\u001b[39;49m\u001b[43mwalk_tb\u001b[49m\u001b[43m(\u001b[49m\u001b[43mexc_traceback\u001b[49m\u001b[43m)\u001b[49m\u001b[43m,\u001b[49m\n\u001b[0;32m     98\u001b[0m \u001b[43m    \u001b[49m\u001b[43mlimit\u001b[49m\u001b[38;5;241;43m=\u001b[39;49m\u001b[43mlimit\u001b[49m\u001b[43m,\u001b[49m\n\u001b[0;32m     99\u001b[0m \u001b[43m    \u001b[49m\u001b[43mlookup_lines\u001b[49m\u001b[38;5;241;43m=\u001b[39;49m\u001b[43mlookup_lines\u001b[49m\u001b[43m,\u001b[49m\n\u001b[0;32m    100\u001b[0m \u001b[43m    \u001b[49m\u001b[43mcapture_locals\u001b[49m\u001b[38;5;241;43m=\u001b[39;49m\u001b[43mcapture_locals\u001b[49m\u001b[43m,\u001b[49m\n\u001b[0;32m    101\u001b[0m \u001b[43m\u001b[49m\u001b[43m)\u001b[49m\n\u001b[0;32m    102\u001b[0m \u001b[38;5;28mself\u001b[39m\u001b[38;5;241m.\u001b[39mexc_type \u001b[38;5;241m=\u001b[39m exc_type\n\u001b[0;32m    103\u001b[0m \u001b[38;5;66;03m# Capture now to permit freeing resources: only complication is in the\u001b[39;00m\n\u001b[0;32m    104\u001b[0m \u001b[38;5;66;03m# unofficial API _format_final_exc_line\u001b[39;00m\n",
      "File \u001b[1;32m~\\AppData\\Local\\Programs\\Python\\Python39\\lib\\traceback.py:366\u001b[0m, in \u001b[0;36mStackSummary.extract\u001b[1;34m(klass, frame_gen, limit, lookup_lines, capture_locals)\u001b[0m\n\u001b[0;32m    364\u001b[0m \u001b[38;5;28;01mif\u001b[39;00m lookup_lines:\n\u001b[0;32m    365\u001b[0m     \u001b[38;5;28;01mfor\u001b[39;00m f \u001b[38;5;129;01min\u001b[39;00m result:\n\u001b[1;32m--> 366\u001b[0m         \u001b[43mf\u001b[49m\u001b[38;5;241;43m.\u001b[39;49m\u001b[43mline\u001b[49m\n\u001b[0;32m    367\u001b[0m \u001b[38;5;28;01mreturn\u001b[39;00m result\n",
      "File \u001b[1;32m~\\AppData\\Local\\Programs\\Python\\Python39\\lib\\traceback.py:288\u001b[0m, in \u001b[0;36mFrameSummary.line\u001b[1;34m(self)\u001b[0m\n\u001b[0;32m    285\u001b[0m \u001b[38;5;129m@property\u001b[39m\n\u001b[0;32m    286\u001b[0m \u001b[38;5;28;01mdef\u001b[39;00m \u001b[38;5;21mline\u001b[39m(\u001b[38;5;28mself\u001b[39m):\n\u001b[0;32m    287\u001b[0m     \u001b[38;5;28;01mif\u001b[39;00m \u001b[38;5;28mself\u001b[39m\u001b[38;5;241m.\u001b[39m_line \u001b[38;5;129;01mis\u001b[39;00m \u001b[38;5;28;01mNone\u001b[39;00m:\n\u001b[1;32m--> 288\u001b[0m         \u001b[38;5;28mself\u001b[39m\u001b[38;5;241m.\u001b[39m_line \u001b[38;5;241m=\u001b[39m \u001b[43mlinecache\u001b[49m\u001b[38;5;241;43m.\u001b[39;49m\u001b[43mgetline\u001b[49m\u001b[43m(\u001b[49m\u001b[38;5;28;43mself\u001b[39;49m\u001b[38;5;241;43m.\u001b[39;49m\u001b[43mfilename\u001b[49m\u001b[43m,\u001b[49m\u001b[43m \u001b[49m\u001b[38;5;28;43mself\u001b[39;49m\u001b[38;5;241;43m.\u001b[39;49m\u001b[43mlineno\u001b[49m\u001b[43m)\u001b[49m\u001b[38;5;241m.\u001b[39mstrip()\n\u001b[0;32m    289\u001b[0m     \u001b[38;5;28;01mreturn\u001b[39;00m \u001b[38;5;28mself\u001b[39m\u001b[38;5;241m.\u001b[39m_line\n",
      "File \u001b[1;32m~\\AppData\\Local\\Programs\\Python\\Python39\\lib\\linecache.py:30\u001b[0m, in \u001b[0;36mgetline\u001b[1;34m(filename, lineno, module_globals)\u001b[0m\n\u001b[0;32m     26\u001b[0m \u001b[38;5;28;01mdef\u001b[39;00m \u001b[38;5;21mgetline\u001b[39m(filename, lineno, module_globals\u001b[38;5;241m=\u001b[39m\u001b[38;5;28;01mNone\u001b[39;00m):\n\u001b[0;32m     27\u001b[0m \u001b[38;5;250m    \u001b[39m\u001b[38;5;124;03m\"\"\"Get a line for a Python source file from the cache.\u001b[39;00m\n\u001b[0;32m     28\u001b[0m \u001b[38;5;124;03m    Update the cache if it doesn't contain an entry for this file already.\"\"\"\u001b[39;00m\n\u001b[1;32m---> 30\u001b[0m     lines \u001b[38;5;241m=\u001b[39m \u001b[43mgetlines\u001b[49m\u001b[43m(\u001b[49m\u001b[43mfilename\u001b[49m\u001b[43m,\u001b[49m\u001b[43m \u001b[49m\u001b[43mmodule_globals\u001b[49m\u001b[43m)\u001b[49m\n\u001b[0;32m     31\u001b[0m     \u001b[38;5;28;01mif\u001b[39;00m \u001b[38;5;241m1\u001b[39m \u001b[38;5;241m<\u001b[39m\u001b[38;5;241m=\u001b[39m lineno \u001b[38;5;241m<\u001b[39m\u001b[38;5;241m=\u001b[39m \u001b[38;5;28mlen\u001b[39m(lines):\n\u001b[0;32m     32\u001b[0m         \u001b[38;5;28;01mreturn\u001b[39;00m lines[lineno \u001b[38;5;241m-\u001b[39m \u001b[38;5;241m1\u001b[39m]\n",
      "File \u001b[1;32m~\\AppData\\Local\\Programs\\Python\\Python39\\lib\\linecache.py:46\u001b[0m, in \u001b[0;36mgetlines\u001b[1;34m(filename, module_globals)\u001b[0m\n\u001b[0;32m     43\u001b[0m         \u001b[38;5;28;01mreturn\u001b[39;00m cache[filename][\u001b[38;5;241m2\u001b[39m]\n\u001b[0;32m     45\u001b[0m \u001b[38;5;28;01mtry\u001b[39;00m:\n\u001b[1;32m---> 46\u001b[0m     \u001b[38;5;28;01mreturn\u001b[39;00m \u001b[43mupdatecache\u001b[49m\u001b[43m(\u001b[49m\u001b[43mfilename\u001b[49m\u001b[43m,\u001b[49m\u001b[43m \u001b[49m\u001b[43mmodule_globals\u001b[49m\u001b[43m)\u001b[49m\n\u001b[0;32m     47\u001b[0m \u001b[38;5;28;01mexcept\u001b[39;00m \u001b[38;5;167;01mMemoryError\u001b[39;00m:\n\u001b[0;32m     48\u001b[0m     clearcache()\n",
      "File \u001b[1;32m~\\AppData\\Local\\Programs\\Python\\Python39\\lib\\linecache.py:93\u001b[0m, in \u001b[0;36mupdatecache\u001b[1;34m(filename, module_globals)\u001b[0m\n\u001b[0;32m     91\u001b[0m fullname \u001b[38;5;241m=\u001b[39m filename\n\u001b[0;32m     92\u001b[0m \u001b[38;5;28;01mtry\u001b[39;00m:\n\u001b[1;32m---> 93\u001b[0m     stat \u001b[38;5;241m=\u001b[39m \u001b[43mos\u001b[49m\u001b[38;5;241;43m.\u001b[39;49m\u001b[43mstat\u001b[49m\u001b[43m(\u001b[49m\u001b[43mfullname\u001b[49m\u001b[43m)\u001b[49m\n\u001b[0;32m     94\u001b[0m \u001b[38;5;28;01mexcept\u001b[39;00m \u001b[38;5;167;01mOSError\u001b[39;00m:\n\u001b[0;32m     95\u001b[0m     basename \u001b[38;5;241m=\u001b[39m filename\n",
      "\u001b[1;31mKeyboardInterrupt\u001b[0m: "
     ]
    }
   ],
   "source": [
    "train(model,\n",
    "      opt,\n",
    "      loss_fn,\n",
    "      train_dl=train_dl,\n",
    "      test_dl=test_dl,\n",
    "      device=device,\n",
    "      metrics=metrics,\n",
    "      save_path=save_path,\n",
    "      step=step,\n",
    "      converter=c,\n",
    "      epochs=128,\n",
    "     )"
   ]
  },
  {
   "cell_type": "code",
   "execution_count": 21,
   "id": "stopped-faculty",
   "metadata": {},
   "outputs": [
    {
     "data": {
      "image/svg+xml": [
       "<svg xmlns=\"http://www.w3.org/2000/svg\" xmlns:ev=\"http://www.w3.org/2001/xml-events\" xmlns:xlink=\"http://www.w3.org/1999/xlink\" baseProfile=\"tiny\" fill-rule=\"evenodd\" height=\"150.0000030733645px\" version=\"1.2\" width=\"80.98896676483491px\"><defs/><path d=\"M 53.6501,10.351 m 0,0 C 51.3085,13.982 45.736,15.5256 41.2003,16.6196 C 38.5826,17.2506 37.24,21.3757 34.6297,23.572 C 36.5058,27.5681 40.5634,30.336 45.27,30.336 C 51.7596,30.336 57.0205,25.0751 57.0205,18.5855 C 57.0211,15.3774 55.7339,12.4712 53.6501,10.351 m 0,0 m -16.2149,85.1828 L 29.7171,90.6662 L 29.7171,142.796 C 29.7171,146.775 32.9422,150 36.921,150 C 40.8998,150 44.1249,146.775 44.1249,142.796 L 44.1249,96.0133 C 41.943,96.9935 39.4327,96.7983 37.4351,95.5338 m 0,0 m -6.31676,-61.7866 L 18.5286,34.5889 L 28.5136,22.387 C 30.6133,19.821 30.2354,16.0389 27.6693,13.9391 C 25.1033,11.8391 21.3212,12.2174 19.2214,14.7834 L 0,38.2721 C -3.36806,42.3876 -0.0851039,48.6031 5.2691,48.0447 C 30.0763,45.4549 30.1153,45.7533 30.1153,45.7533 L 30.1153,79.0307 L 36.6193,68.8033 C 35.6125,66.9609 35.1814,64.7849 35.5329,62.5508 C 35.9582,59.8451 37.4469,57.571 39.5055,56.0867 C 39.5892,55.1238 39.892,54.1669 40.4437,53.2959 C 41.7033,51.3071 51.4397,35.9329 52.824,33.7472 L 31.1184,33.7472 m 0,0 m 21.995,41.5471 C 50.9121,82.3357 50.2084,84.5877 47.998,91.6581 C 47.657,92.7483 47.0522,93.7296 46.2619,94.5284 L 46.2619,142.796 C 46.2619,146.775 49.487,150 53.4658,150 C 57.4445,150 60.6697,146.775 60.6697,142.796 C 60.6697,122.623 60.6697,96.813 60.6697,76.4785 C 59.3917,76.2833 60.6776,76.484 53.1133,75.2943 m 0,0 m -2.04161,-70.5834 C 50.434,1.09226 43.7733,-1.00921 38.0438,0 C 32.8026,0.923524 29.1008,4.61879 27.3964,8.50393 C 28.5412,8.9048 29.637,9.50816 30.6301,10.321 C 33.0535,12.3043 34.3799,15.1315 34.5313,18.0306 C 35.9209,16.0339 37.5766,13.7754 40.3524,13.1057 C 50.6133,10.6306 51.7091,8.3302 51.0717,4.71094 m 0,0 m -7.33331,69.1091 C 41.9503,73.5389 40.3527,72.7914 39.0451,71.7238 L 31.5944,83.44 C 30.5667,85.0625 31.0491,87.2106 32.6717,88.2384 L 39.3694,92.48 C 40.2835,93.059 41.4136,93.1788 42.4275,92.807 C 43.4423,92.4346 44.2261,91.6117 44.5487,90.5799 L 49.5041,74.7268 L 43.7384,73.82 m 0,0 m 36.4356,-71.5909 C 78.9479,1.45264 77.3242,1.81653 76.5471,3.04349 L 74.4354,6.3781 L 72.4924,5.14761 C 71.266,4.37082 69.6423,4.7353 68.8655,5.96197 C 68.0887,7.18835 68.4532,8.81207 69.6798,9.58886 L 71.6228,10.8193 L 44.0885,54.2963 C 44.9704,54.1906 45.881,54.2 46.8021,54.345 L 55.4508,55.7052 L 55.454,55.6946 L 70.7882,31.482 C 71.565,30.2553 71.2006,28.6319 69.9739,27.8551 C 69.0163,27.2485 67.8202,27.3409 66.9712,27.9904 L 80.989,5.85632 C 81.7652,4.62994 81.4007,3.00593 80.174,2.22913 m 0,0 m -5.98251,45.2001 C 74.1742,43.9567 72.8554,40.7844 70.704,38.3692 C 69.7541,39.8694 61.5231,52.8698 59.3611,56.2839 L 62.2318,56.7722 L 62.2514,60.6764 L 46.2026,58.1524 C 42.9276,57.6368 39.8547,59.8747 39.3394,63.15 C 38.8244,66.4253 41.0617,69.4979 44.3371,70.0132 L 67.3571,73.6336 C 71.0127,74.2091 74.3115,71.3669 74.2931,67.6731 C 74.2173,52.5106 74.2261,54.2584 74.1915,47.4293 Z\" fill=\"#000\"/></svg>"
      ],
      "text/plain": [
       "<IPython.core.display.SVG object>"
      ]
     },
     "metadata": {},
     "output_type": "display_data"
    },
    {
     "name": "stdout",
     "output_type": "stream",
     "text": [
      "target: soldier\n",
      "result: criminal with a knife\n"
     ]
    },
    {
     "data": {
      "image/svg+xml": [
       "<svg xmlns=\"http://www.w3.org/2000/svg\" xmlns:ev=\"http://www.w3.org/2001/xml-events\" xmlns:xlink=\"http://www.w3.org/1999/xlink\" baseProfile=\"tiny\" fill-rule=\"evenodd\" height=\"150.00000064173946px\" version=\"1.2\" width=\"116.66667210665764px\"><defs/><path d=\"M 8.33333,0 m 0,0 C 3.731,0 0,3.731 0,8.33333 C 0,12.9357 3.731,16.6667 8.33333,16.6667 L 108.333,16.6667 C 112.936,16.6667 116.667,12.9357 116.667,8.33333 C 116.667,3.731 112.936,0 108.333,0 L 8.33333,0 m 0,0 m 36.2875,89.175 L 45.4383,89.88 L 52.1,96.5492 L 52.1,80.2408 L 52.0833,80.0267 L 52.0833,53.4506 L 45.4225,60.12 L 44.605,60.825 L 44.5433,60.8708 C 41.2792,63.2925 36.6505,63.0258 33.6907,60.0658 C 30.7308,57.1063 30.4638,52.4776 32.8856,49.2137 L 32.9314,49.1519 L 33.6363,48.3353 L 53.2542,28.6953 C 54.7467,26.4159 57.4575,25 60.4242,25 C 63.1158,25 65.5808,26.1618 67.1317,28.0658 L 67.1783,28.1224 L 67.5567,28.6603 L 87.2108,48.3353 L 87.915,49.1519 L 87.9608,49.2137 C 90.115,52.1169 90.1417,56.0945 88.0408,59.0242 L 87.9908,59.0933 L 87.1667,60.0642 L 86.285,60.825 L 86.2233,60.8708 C 83.32,63.025 79.3425,63.0517 76.4133,60.9508 L 76.3433,60.9008 L 75.4308,60.1258 L 68.75,53.4458 L 68.75,69.7583 L 68.7667,69.9717 L 68.7667,96.5542 L 75.3875,89.9342 C 78.3475,86.9742 82.9758,86.7075 86.24,89.1292 L 86.3017,89.175 L 87.1183,89.88 L 87.1725,89.9342 C 90.1325,92.8942 90.3992,97.5225 87.9775,100.787 L 87.9317,100.848 L 87.2267,101.665 L 67.6108,121.302 C 66.12,123.583 63.4083,125 60.4408,125 C 57.4742,125 54.7625,123.584 53.2708,121.305 L 33.7071,101.719 C 30.4527,98.465 30.4527,93.1883 33.7071,89.9342 C 36.6669,86.9742 41.2956,86.7075 44.5592,89.1292 L 44.6208,89.175 m 0,0 m -44.6208,52.4917 C 2.33558E-06,137.064 3.731,133.333 8.33334,133.333 L 108.333,133.333 C 112.936,133.333 116.667,137.064 116.667,141.667 C 116.667,146.269 112.936,150 108.333,150 L 8.33334,150 C 3.731,150 2.33558E-06,146.269 2.33558E-06,141.667 Z\" fill=\"#000\"/></svg>"
      ],
      "text/plain": [
       "<IPython.core.display.SVG object>"
      ]
     },
     "metadata": {},
     "output_type": "display_data"
    },
    {
     "name": "stdout",
     "output_type": "stream",
     "text": [
      "target: arrow fit height\n",
      "result: heart shaped shield\n"
     ]
    },
    {
     "data": {
      "image/svg+xml": [
       "<svg xmlns=\"http://www.w3.org/2000/svg\" xmlns:ev=\"http://www.w3.org/2001/xml-events\" xmlns:xlink=\"http://www.w3.org/1999/xlink\" baseProfile=\"tiny\" fill-rule=\"evenodd\" height=\"111.18308957666159px\" version=\"1.2\" width=\"149.99999814899638px\"><defs/><path d=\"M 149.798,73.2155 m 0,0 C 143.784,55.0721 139.618,36.3678 134.276,18.0283 C 133.302,14.689 132.923,11.1597 131.464,7.96893 C 130.299,5.41871 127.364,1.39935 124.327,1.39252 C 116.575,1.3767 108.822,1.2641 101.072,1.11365 C 100.231,0.71689 99.2634,0.618244 98.3482,0.80592 C 98.079,0.861137 97.8175,0.94148 97.5656,1.04137 C 95.951,1.68319 94.7492,3.23329 95.2483,5.43701 C 95.6674,7.28399 95.9162,9.32795 96.0896,11.455 C 96.2832,13.8623 96.3763,16.3746 96.4721,18.8681 C 96.6123,22.4445 96.7715,25.9628 97.2976,28.992 C 97.4946,30.1193 98.038,30.8995 98.7435,31.407 C 99.3468,32.0727 100.207,32.5458 101.368,32.6183 C 103.561,32.757 105.749,32.9068 107.933,33.1023 C 100.87,41.9187 91.8283,48.371 81.6982,53.4621 C 72.2247,47.1776 63.1741,40.3822 55.3684,32.1862 C 57.3704,32.283 59.37,32.399 61.3721,32.525 C 63.8469,32.6801 65.2432,30.9293 65.4786,29.0218 C 65.5881,28.6927 65.6725,28.3421 65.7017,27.9491 C 66.0082,23.6322 66.5389,19.347 67.1562,15.0742 C 67.361,13.6612 67.5691,12.2482 67.7919,10.8368 C 68.1126,8.79284 68.4448,6.75074 68.7805,4.70833 C 69.2585,1.79796 66.8761,0.395205 64.5691,0.649885 C 64.6122,0.53728 64.6581,0.424674 64.7013,0.309587 C 56.4438,0.143626 48.1858,0.0183023 39.9253,0 C 36.0607,-0.00620415 33.8151,4.59262 32.4666,7.46484 C 30.5874,11.4684 28.3756,15.2725 26.3258,19.1885 C 20.9511,29.4486 16.0827,39.961 10.9879,50.3607 C 9.61334,53.1656 8.24222,55.9742 6.83698,58.7654 C 6.13219,60.1642 4.29855,65.6697 2.90447,66.2889 C 0.994526,67.1361 0.0846869,69.2563 0.181782,71.3453 C 0.0322616,71.8996 -0.0505639,72.5095 0,73.2106 C 0.628481,82.0381 0.583501,90.8546 0,99.6852 C -0.0614211,100.613 0.0834459,101.398 0.357669,102.069 C -0.327579,105.106 1.14839,108.439 4.86964,108.395 C 50.3002,107.841 95.9367,111.687 143.159,111.183 C 146.306,111.149 147.875,108.505 147.867,105.884 C 149.879,95.9789 150.498,85.9827 150,75.8743 C 150.151,75.0839 150.126,74.2001 149.798,73.2155 m 0,0 m -107.093,-62.7333 C 48.371,10.5098 54.0348,10.5868 59.6976,10.6839 C 59.0021,15.189 58.3736,19.7004 57.9446,24.2412 C 54.4489,24.0442 50.9538,23.9127 47.4503,23.9465 C 44.2902,23.0187 40.6459,27.2403 43.2808,30.6082 C 48.3499,37.0881 54.2677,42.8477 60.6137,48.0673 C 65.908,52.4229 73.0973,59.478 79.6343,61.7527 C 85.1318,63.6667 94.9282,55.3969 99.0918,52.3873 C 106.114,47.3141 112.36,41.185 117.29,34.0453 C 117.837,33.253 118.051,32.4567 118.024,31.7101 C 118.891,29.4725 117.867,26.2495 114.727,25.7848 C 111.402,25.2919 108.063,24.9965 104.714,24.7611 C 104.011,20.9638 104.104,16.1603 103.951,11.608 C 110.014,11.7134 116.078,11.7953 122.142,11.8214 C 127.622,28.4032 132.909,53.1234 138.353,69.7192 C 97.0724,66.9087 55.7117,66.578 14.3635,66.0237 C 23.3059,49.8553 32.784,25.9849 42.7057,10.4822 m 0,0 m 96.17,90.2559 C 94.9741,100.81 51.3726,97.4049 9.83855,97.6568 C 10.2356,90.5713 10.2775,83.4958 9.90152,76.4135 C 53.4196,77.0199 96.9573,77.2579 140.402,80.3025 C 140.523,87.1708 140.065,93.9647 138.876,100.738 m 0,0 m -53.0331,-89.6013 C 85.8329,11.1715 85.814,11.1982 85.8047,11.232 C 85.8376,11.232 85.8708,11.2336 85.9021,11.2336 C 85.8835,11.2013 85.8627,11.169 85.8425,11.1368 Z\" fill=\"#000\"/></svg>"
      ],
      "text/plain": [
       "<IPython.core.display.SVG object>"
      ]
     },
     "metadata": {},
     "output_type": "display_data"
    },
    {
     "name": "stdout",
     "output_type": "stream",
     "text": [
      "target: download hand drawn interface symbol of a tray with a descending arrow on it\n",
      "result: barbecue music and multimedia\n"
     ]
    },
    {
     "data": {
      "image/svg+xml": [
       "<svg xmlns=\"http://www.w3.org/2000/svg\" xmlns:ev=\"http://www.w3.org/2001/xml-events\" xmlns:xlink=\"http://www.w3.org/1999/xlink\" baseProfile=\"tiny\" fill-rule=\"evenodd\" height=\"105.10264962067595px\" version=\"1.2\" width=\"149.99999972060323px\"><defs/><path d=\"M 131.455,97.042 m 0,0 C 136.997,61.7181 108.543,44.2281 97.842,37.6652 C 97.4965,37.4556 97.1258,37.3113 96.7669,37.1469 C 93.8301,35.2165 90.5444,33.8009 87.195,32.9757 L 80.5247,39.7013 L 74.0507,32.9086 C 74.0255,32.9086 74.0054,32.9086 73.9803,32.917 C 70.7751,33.6801 67.6203,35.0152 64.7723,36.8081 C 64.0646,37.0195 63.3601,37.2996 62.6859,37.682 C 58.5365,40.0167 54.5917,40.4695 50.2695,39.1244 C 44.6894,37.3851 39.2619,32.9841 34.4751,27.8032 L 25.7603,16.7118 C 22.5351,11.9602 20.0612,7.56927 18.7177,4.81361 C 16.2086,-0.353892 9.98278,-2.50576 4.81361,0 C -0.352215,2.50576 -2.51079,8.73493 0,13.9041 C 1.3468,16.6765 10.7895,35.3943 25.7603,48.2937 L 25.7603,48.2987 C 26.505,47.3193 27.4543,46.4941 28.5932,45.9557 L 36.0819,42.4369 C 37.1151,41.9589 38.2204,41.7106 39.3542,41.7106 C 42.3396,41.7106 45.0768,43.4499 46.3398,46.1502 C 47.2119,48.0036 47.3058,50.0984 46.6064,52.0373 C 45.907,53.9711 44.4982,55.5208 42.6365,56.3896 L 40.2028,57.5335 C 41.4591,58.0719 42.7287,58.5633 44.0369,58.9725 C 47.0459,59.9135 50.0749,60.4401 53.0956,60.5961 L 53.0956,97.042 L 17.6996,97.042 C 17.8808,88.8588 19.4674,67.1741 30.9849,56.6479 C 31.852,56.8878 32.8013,56.8425 33.6835,56.4299 L 41.1756,52.9111 C 43.1363,51.9987 43.9799,49.6556 43.0591,47.6933 C 42.1434,45.7343 39.8037,44.8906 37.8413,45.8131 L 30.3475,49.3319 C 29.1601,49.8854 28.3919,50.9588 28.1655,52.158 C 14.3284,64.0059 12.6043,88.0856 12.4567,97.042 L 2.74728,97.042 L 2.74728,105.103 L 150,105.103 L 150,97.042 L 131.455,97.042 L 131.455,97.042 m 0,0 m -50.8716,-4.31212 L 80.461,92.7298 L 73.9987,83.8842 L 80.461,40.6909 L 80.5834,40.6909 L 87.0474,83.8842 L 80.5834,92.7298 m 0,0 m 29.6414,4.31212 L 107.944,97.042 L 107.944,74.782 C 111.092,80.7394 112.283,87.9716 110.225,97.042 Z\" fill=\"#000\"/></svg>"
      ],
      "text/plain": [
       "<IPython.core.display.SVG object>"
      ]
     },
     "metadata": {},
     "output_type": "display_data"
    },
    {
     "name": "stdout",
     "output_type": "stream",
     "text": [
      "target: man talking on business presentation behind a podium with a mic\n",
      "result: black flag\n"
     ]
    },
    {
     "data": {
      "image/svg+xml": [
       "<svg xmlns=\"http://www.w3.org/2000/svg\" xmlns:ev=\"http://www.w3.org/2001/xml-events\" xmlns:xlink=\"http://www.w3.org/1999/xlink\" baseProfile=\"tiny\" fill-rule=\"evenodd\" height=\"150.0px\" version=\"1.2\" width=\"98.70937345549464px\"><defs/><path d=\"M 89.3344,150 m 0,0 L 23.7094,150 C 18.5531,150 14.3344,145.781 14.3344,140.625 L 14.3344,9.375 C 14.3344,4.21875 18.5531,0 23.7094,0 L 89.3344,0 C 94.4906,0 98.7094,4.21875 98.7094,9.375 L 98.7094,140.625 C 98.7094,145.781 94.4906,150 89.3344,150 m 0,0 m -32.7609,-6.60469 C 52.9125,143.395 49.9312,140.414 49.9312,136.753 C 49.9312,133.092 52.9078,130.111 56.5734,130.111 C 60.2391,130.111 63.2156,133.092 63.2156,136.753 C 63.2156,140.414 60.2344,143.395 56.5734,143.395 m 0,0 m 0,-10.9406 C 54.2062,132.455 52.275,134.381 52.275,136.753 C 52.275,139.125 54.2016,141.052 56.5734,141.052 C 58.9453,141.052 60.8719,139.125 60.8719,136.753 C 60.8719,134.381 58.9406,132.455 56.5734,132.455 m 0,0 m 15.9234,-42.3937 L 3.99844,90.0609 C 1.8,90.0609 0,88.2609 0,86.0625 L 0,39.0609 C 0,36.8625 1.8,35.0625 3.99844,35.0625 L 72.4969,35.0625 C 74.6953,35.0625 76.4953,36.8625 76.4953,39.0609 L 76.4953,86.0625 C 76.4953,88.2609 74.7,90.0609 72.4969,90.0609 Z\" fill=\"#000\"/></svg>"
      ],
      "text/plain": [
       "<IPython.core.display.SVG object>"
      ]
     },
     "metadata": {},
     "output_type": "display_data"
    },
    {
     "name": "stdout",
     "output_type": "stream",
     "text": [
      "target: chat smartphone\n",
      "result: lamp\n"
     ]
    },
    {
     "data": {
      "image/svg+xml": [
       "<svg xmlns=\"http://www.w3.org/2000/svg\" xmlns:ev=\"http://www.w3.org/2001/xml-events\" xmlns:xlink=\"http://www.w3.org/1999/xlink\" baseProfile=\"tiny\" fill-rule=\"evenodd\" height=\"150.0px\" version=\"1.2\" width=\"145.51941454410553px\"><defs/><path d=\"M 0,0 M 0,0 L 0,150 L 145.519,150 L 145.519,0 L 0,0 m 0,0 m 117.439,123.56 L 28.0807,123.56 L 28.0807,48.0713 L 117.439,48.0713 L 117.439,123.56 Z\" fill=\"#000\"/></svg>"
      ],
      "text/plain": [
       "<IPython.core.display.SVG object>"
      ]
     },
     "metadata": {},
     "output_type": "display_data"
    },
    {
     "name": "stdout",
     "output_type": "stream",
     "text": [
      "target: medicine bottle\n",
      "result: down arrow in a circle\n"
     ]
    },
    {
     "data": {
      "image/svg+xml": [
       "<svg xmlns=\"http://www.w3.org/2000/svg\" xmlns:ev=\"http://www.w3.org/2001/xml-events\" xmlns:xlink=\"http://www.w3.org/1999/xlink\" baseProfile=\"tiny\" fill-rule=\"evenodd\" height=\"150.00000031432137px\" version=\"1.2\" width=\"80.43366198180593px\"><defs/><path d=\"M 60.5317,2.08764 m 0,0 C 60.3672,2.02956 60.2155,1.9618 60.0607,1.91017 C 58.2021,1.23258 56.2113,0.642101 54.0494,0.154879 C 52.9782,-0.0871193 51.965,-0.119386 51.0228,0 C 21.3152,-1.78433 7.5342,1.86177 0,21.783 C -2.99432,30.9144 0.554982,40.9396 4.67863,49.0449 C 5.54982,50.7518 8.21502,52.5458 8.21502,52.5458 C 11.1739,54.7077 14.9587,54.2463 17.4013,52.9879 L 45.3633,27.6652 C 48.0156,25.2614 48.2189,21.1442 45.8183,18.4951 C 43.4177,15.8363 39.2972,15.6331 36.6417,18.0401 L 21.7024,31.5662 L 19.7148,29.3721 L 34.6541,15.8428 C 38.5196,12.3419 44.5115,12.6387 48.0092,16.5043 C 51.5133,20.3665 51.21,26.3584 47.3413,29.8593 L 19.376,55.1917 C 18.9791,55.553 18.5499,55.8434 18.1144,56.1209 C 18.1273,67.1689 18.1434,76.4875 18.1434,76.765 L 18.437,140.936 C 18.437,145.847 22.5316,149.829 27.5781,149.829 C 32.6278,149.829 36.7159,145.857 36.7159,140.936 L 36.7159,78.759 C 36.7159,78.759 36.632,75.6905 39.849,75.7324 C 43.0627,75.7615 43.3531,78.901 43.3531,78.901 L 43.3531,141.107 C 43.3531,146.018 47.4445,150 52.4974,150 C 57.5374,150 61.1319,146.031 61.1319,141.107 L 61.1319,81.4146 L 60.9835,21.8798 C 69.1662,30.3143 66.2945,45.1052 64.5231,58.144 C 63.1098,68.5435 78.9946,73.0285 80.4337,62.5258 C 83.7184,38.3228 85.6447,11.5707 60.5318,2.08764 Z\" fill=\"#000\"/></svg>"
      ],
      "text/plain": [
       "<IPython.core.display.SVG object>"
      ]
     },
     "metadata": {},
     "output_type": "display_data"
    },
    {
     "name": "stdout",
     "output_type": "stream",
     "text": [
      "target: man swearing\n",
      "result: arrow pointing to right\n"
     ]
    },
    {
     "data": {
      "image/svg+xml": [
       "<svg xmlns=\"http://www.w3.org/2000/svg\" xmlns:ev=\"http://www.w3.org/2001/xml-events\" xmlns:xlink=\"http://www.w3.org/1999/xlink\" baseProfile=\"tiny\" fill-rule=\"evenodd\" height=\"71.73913288861513px\" version=\"1.2\" width=\"149.9999979918357px\"><defs/><path d=\"M 15.1174,21.387 m 0,0 C 11.4783,21.387 6.78261,22.9522 6.78261,29.5304 L 6.78261,42.7609 C 6.78261,48.0913 10.1087,50.3522 15.0435,50.3522 C 20.0522,50.3522 23.2609,48.087 23.2609,42.7609 L 23.2609,29.5304 C 23.2609,22.9565 19.5435,21.387 15.1174,21.387 m 0,0 m 1.64783,22.6261 C 16.7652,45.3783 16.0217,45.8913 15.0043,45.8913 C 13.987,45.8913 13.2826,45.3913 13.2826,44.013 L 13.2826,27.7304 C 13.2826,26.3609 13.987,25.8478 15.0043,25.8478 C 16.0217,25.8478 16.7652,26.3565 16.7652,27.7304 L 16.7652,44.013 m 0,0 m 11.0304,-18.9435 L 27.7957,29.1435 L 32.3739,29.1435 L 32.3739,49.8087 L 38.8739,49.8087 L 38.8739,21.9435 L 33.3957,21.9435 C 32.9261,24.4043 29.987,25.0696 27.7957,25.0696 m 0,0 m -27.7957,46.6696 L 45.6522,71.7391 L 45.6522,8.3819E-07 L 0,8.3819E-07 L 0,71.7391 m 0,0 m 2.17391,-69.5652 L 43.4783,2.17391 L 43.4783,69.5652 L 2.17391,69.5652 L 2.17391,2.17391 m 0,0 m 62.9435,19.213 C 61.4783,21.387 56.7826,22.9522 56.7826,29.5261 L 56.7826,42.7565 C 56.7826,48.0826 60.1087,50.3522 65.0435,50.3522 C 70.0522,50.3522 73.2609,48.0826 73.2609,42.7565 L 73.2609,29.5261 C 73.2609,22.9565 69.5435,21.387 65.1174,21.387 m 0,0 m 1.64783,22.6217 C 66.7652,45.3783 66.0217,45.8913 65.0043,45.8913 C 63.987,45.8913 63.2826,45.3826 63.2826,44.0087 L 63.2826,27.7261 C 63.2826,26.3609 63.987,25.8478 65.0043,25.8478 C 66.0217,25.8478 66.7652,26.3565 66.7652,27.7261 L 66.7652,44.0087 m 0,0 m 26.4522,-15.2609 C 93.2174,22.8739 88.8696,21.3913 85.1565,21.3913 C 81.4739,21.3913 76.7,22.0565 76.7,28.8261 L 76.7,31.8826 L 83.2043,31.8826 L 83.2043,27.8478 C 83.2043,26.4783 83.8304,25.8522 84.9609,25.8522 C 86.1,25.8522 86.7217,26.4783 86.7217,27.8478 C 86.7217,33.4043 76.7,37.3957 76.7,46.3609 L 76.7,49.8087 L 93.2174,49.8087 L 93.2174,45.7391 L 83.1913,45.7391 C 83.1913,44.6 83.7,43.9391 84.2087,43.0391 C 87.1522,38.0217 93.2174,35.1652 93.2174,28.7478 m 0,0 m -41.0435,42.9913 L 97.8261,71.7391 L 97.8261,0 L 52.1739,0 L 52.1739,71.7391 m 0,0 m 2.17391,-69.5652 L 95.6522,2.17391 L 95.6522,69.5652 L 54.3478,69.5652 L 54.3478,2.17391 m 0,0 m 59.3478,47.6304 L 120.191,49.8043 L 120.191,21.9348 L 114.713,21.9348 C 114.248,24.4 111.309,25.0652 109.117,25.0652 L 109.117,29.1391 L 113.696,29.1391 L 113.696,49.8043 m 0,0 m 23.3217,0 L 143.087,49.8043 L 143.087,43.4261 L 145.239,43.4261 L 145.239,38.9652 L 143.087,38.9652 L 143.087,21.9391 L 135.217,21.9391 L 127.626,38.9652 L 127.626,43.4261 L 137.017,43.4261 L 137.017,49.8043 m 0,0 m -5.08696,-10.8435 L 136.939,27.7261 L 137.017,27.7261 L 137.017,38.9609 L 131.93,38.9609 m 0,0 m -27.5826,-38.9609 L 104.348,71.7391 L 150,71.7391 L 150,1.67638E-06 L 104.348,1.67638E-06 m 0,0 m 43.4783,69.5652 L 106.522,69.5652 L 106.522,2.17391 L 147.826,2.17391 L 147.826,69.5652 Z\" fill=\"#000\"/></svg>"
      ],
      "text/plain": [
       "<IPython.core.display.SVG object>"
      ]
     },
     "metadata": {},
     "output_type": "display_data"
    },
    {
     "name": "stdout",
     "output_type": "stream",
     "text": [
      "target: calendar with three rotatory areas on february 1 of 2014\n",
      "result: phone with a call small symbol on screen\n"
     ]
    },
    {
     "data": {
      "image/svg+xml": [
       "<svg xmlns=\"http://www.w3.org/2000/svg\" xmlns:ev=\"http://www.w3.org/2001/xml-events\" xmlns:xlink=\"http://www.w3.org/1999/xlink\" baseProfile=\"tiny\" fill-rule=\"evenodd\" height=\"150.00000335276127px\" version=\"1.2\" width=\"104.88740609725937px\"><defs/><path d=\"M 0,125.321 m 0,0 C 0,138.95 11.0499,150 24.6787,150 L 80.2057,150 C 93.8344,150 104.884,138.95 104.884,125.321 L 104.884,51.7974 L 4.47035E-06,51.7974 L 4.47035E-06,125.321 m 0,0 m 15.165,-62.727 L 89.7162,62.5943 L 89.7162,71.3337 L 15.165,71.3337 L 15.165,62.5943 m 0,0 m 0,18.509 L 89.7162,81.1033 L 89.7162,89.8427 L 15.165,89.8427 L 15.165,81.1033 m 0,0 m 0,18.509 L 89.7162,99.6123 L 89.7162,108.352 L 15.165,108.352 L 15.165,99.6123 m 0,0 m 0,18.509 L 89.7162,118.121 L 89.7162,126.861 L 15.165,126.861 L 15.165,118.121 m 0,0 m 65.0437,-98.5851 L 79.6936,19.5362 L 79.6936,28.7907 C 79.6967,32.1995 76.9296,34.9604 73.527,34.9604 L 30.8514,34.9604 C 27.4427,34.9604 24.6818,32.1995 24.6818,28.7907 L 24.6818,19.5362 C 11.053,19.5362 0.00309156,30.5861 0.00309156,44.2149 L 104.887,44.2149 C 104.887,30.5861 93.8375,19.5362 80.2087,19.5362 m 0,0 m -50.3846,3.6 C 29.8242,26.545 32.5851,29.3059 35.9938,29.3059 L 67.8694,29.3059 C 71.2751,29.3059 74.0391,26.545 74.0391,23.1362 L 74.0391,15.4242 C 74.0391,14.7054 73.891,14.0237 73.6658,13.382 C 72.8237,10.982 70.5594,9.2545 67.8694,9.2545 L 62.1162,9.2545 C 61.5918,4.06581 57.2607,0 51.9332,0 C 46.6057,0 42.2776,4.06581 41.7563,9.2545 L 35.9938,9.2545 C 33.2853,9.2545 31.0118,11.0067 30.182,13.4344 C 29.9661,14.0607 29.8242,14.7239 29.8242,15.4242 L 29.8242,23.1362 m 0,0 m 22.109,-16.4545 C 53.9229,6.68175 55.5332,8.29203 55.5332,10.2817 C 55.5332,12.2715 53.9229,13.8817 51.9332,13.8817 C 49.9434,13.8817 48.3332,12.2715 48.3332,10.2817 C 48.3332,8.29203 49.9434,6.68175 51.9332,6.68175 Z\" fill=\"#000\"/></svg>"
      ],
      "text/plain": [
       "<IPython.core.display.SVG object>"
      ]
     },
     "metadata": {},
     "output_type": "display_data"
    },
    {
     "name": "stdout",
     "output_type": "stream",
     "text": [
      "target: clipboard with textdocument\n",
      "result: arrow pointing to the left\n"
     ]
    },
    {
     "data": {
      "image/svg+xml": [
       "<svg xmlns=\"http://www.w3.org/2000/svg\" xmlns:ev=\"http://www.w3.org/2001/xml-events\" xmlns:xlink=\"http://www.w3.org/1999/xlink\" baseProfile=\"tiny\" fill-rule=\"evenodd\" height=\"92.3271648120135px\" version=\"1.2\" width=\"150.00000139698386px\"><defs/><path d=\"M 146.159,63.5516 m 0,0 L 143.184,63.562 C 144.271,62.8834 144.996,62.1513 144.991,60.7757 C 144.984,58.6618 143.264,57.4272 141.15,57.4343 L 116.395,58.2516 C 115.84,58.27 115.335,57.934 115.137,57.4149 C 114.939,56.8958 115.093,56.309 115.519,55.9532 L 119.952,52.2555 C 121.607,50.9395 121.882,48.5318 120.565,46.8774 C 119.25,45.2231 116.841,44.9486 115.187,46.2646 C 115.187,46.2646 104.737,54.6111 101.231,57.3643 C 95.4546,61.9005 88.1643,64.029 80.8541,63.3183 C 64.6958,61.7472 47.5948,60.7818 40.685,62.7485 L 39.7854,3.13409 C 39.7594,1.39551 38.3426,0 36.6035,0 L 3.11516,0 C 2.1569,0 1.25023,0.43157 0.645462,1.17499 C 0.0411695,1.91841 -0.19591,2.89464 0,3.83255 L 15.1182,76.236 C 17.3163,86.7636 27.2911,93.8055 37.9436,92.3272 C 54.6429,90.0098 73.5785,86.0519 89.416,82.7318 C 94.3284,81.7021 99.3123,81.5474 104.282,82.2468 C 119.376,84.3706 130.107,84.0048 132.218,83.9977 C 134.331,83.9906 136.039,83.2173 136.032,81.103 C 136.027,79.7274 135.294,79.0001 134.202,78.3295 L 140.554,78.3078 C 142.668,78.3002 144.375,76.5805 144.368,74.4667 C 144.364,73.0906 143.631,71.8905 142.539,71.2195 L 146.186,71.2067 C 148.3,71.1992 150.008,69.4795 150,67.3657 C 149.993,65.2518 148.273,63.544 146.159,63.5516 m 0,0 m -140.2,-52.5848 C 5.95917,9.00666 7.54822,7.41761 9.50827,7.41761 C 11.4683,7.41761 13.0574,9.00666 13.0574,10.9667 C 13.0574,12.9268 11.4683,14.5158 9.50827,14.5158 C 7.54822,14.5158 5.95917,12.9268 5.95917,10.9667 m 0,0 m 10.503,35.9012 C 16.2416,46.9091 16.022,46.929 15.8053,46.929 C 14.1306,46.929 12.6395,45.7379 12.321,44.032 L 7.97316,20.7873 C 7.61258,18.8608 8.88268,17.0068 10.8091,16.6462 C 12.7318,16.287 14.5901,17.5557 14.9502,19.4822 L 19.2981,42.7269 C 19.6587,44.6538 18.3886,46.5078 16.4621,46.868 Z\" fill=\"#000\"/></svg>"
      ],
      "text/plain": [
       "<IPython.core.display.SVG object>"
      ]
     },
     "metadata": {},
     "output_type": "display_data"
    },
    {
     "name": "stdout",
     "output_type": "stream",
     "text": [
      "target: human arm\n",
      "result: man with sunglasses\n"
     ]
    },
    {
     "data": {
      "image/svg+xml": [
       "<svg xmlns=\"http://www.w3.org/2000/svg\" xmlns:ev=\"http://www.w3.org/2001/xml-events\" xmlns:xlink=\"http://www.w3.org/1999/xlink\" baseProfile=\"tiny\" fill-rule=\"evenodd\" height=\"135.1546206526109px\" version=\"1.2\" width=\"150.00000178115442px\"><defs/><path d=\"M 147.113,100.037 m 0,0 L 130.75,102.849 L 133.779,98.5291 C 134.572,97.3985 134.299,95.8377 133.169,95.0474 C 132.036,94.2519 130.477,94.5298 129.685,95.6577 L 125.027,102.301 L 118.386,97.6436 C 117.253,96.8457 115.693,97.1259 114.902,98.2538 C 114.109,99.3844 114.382,100.945 115.512,101.738 L 119.785,104.732 L 79.1794,111.708 L 82.0434,107.621 C 82.8389,106.49 82.5637,104.93 81.4331,104.139 C 80.3,103.341 78.7418,103.619 77.9515,104.75 L 73.2942,111.39 L 66.6534,106.735 C 65.5202,105.935 63.962,106.218 63.1692,107.346 C 62.3763,108.476 62.6489,110.037 63.7821,110.827 L 67.8188,113.662 L 27.6038,120.57 L 30.3101,116.711 C 31.103,115.58 30.8304,114.019 29.6999,113.226 C 28.5643,112.431 27.0035,112.706 26.2156,113.839 L 21.5609,120.48 L 14.9175,115.825 C 13.7843,115.025 12.2261,115.305 11.4359,116.436 C 10.6404,117.566 10.9156,119.127 12.0461,119.917 L 15.8555,122.589 L 2.04096,124.962 C 0.677681,125.198 -0.235078,126.488 0,127.849 C 0.207525,129.067 1.26303,129.927 2.46128,129.927 C 2.60139,129.927 2.74385,129.915 2.88659,129.892 L 16.6158,127.531 L 14.032,131.218 C 13.2391,132.348 13.5117,133.909 14.6423,134.699 C 15.0799,135.007 15.5802,135.155 16.0756,135.155 C 16.8661,135.155 17.6388,134.784 18.1265,134.089 L 22.7838,127.446 L 29.4246,132.1 C 29.8622,132.408 30.3626,132.556 30.8579,132.556 C 31.6485,132.556 32.4211,132.185 32.9089,131.49 C 33.7017,130.36 33.4291,128.799 32.2986,128.008 L 28.6669,125.462 L 68.189,118.671 L 65.7679,122.126 C 64.9724,123.256 65.2476,124.817 66.3782,125.61 C 66.8135,125.918 67.3161,126.062 67.8115,126.062 C 68.5994,126.062 69.3747,125.692 69.8601,124.997 L 74.5174,118.356 L 81.1582,123.014 C 81.5958,123.321 82.0962,123.466 82.5915,123.466 C 83.3821,123.466 84.1547,123.096 84.6401,122.401 C 85.4356,121.27 85.1604,119.71 84.0298,118.919 L 80.6306,116.533 L 119.763,109.81 L 117.499,113.036 C 116.706,114.167 116.979,115.728 118.109,116.52 C 118.547,116.828 119.047,116.973 119.545,116.973 C 120.333,116.973 121.108,116.603 121.593,115.91 L 126.251,109.267 L 132.891,113.924 C 133.329,114.232 133.829,114.377 134.327,114.377 C 135.115,114.377 135.89,114.007 136.376,113.314 C 137.169,112.181 136.896,110.62 135.765,109.83 L 132.594,107.606 L 147.959,104.967 C 149.322,104.732 150.235,103.439 150,102.078 C 149.77,100.72 148.474,99.7971 147.113,100.037 m 0,0 m -144.652,-65.1571 C 2.61635,34.8804 2.76906,34.8654 2.92646,34.8352 L 16.7958,32.2265 L 14.032,36.1709 C 13.2391,37.3015 13.5117,38.8623 14.6423,39.6526 C 15.0799,39.9603 15.5802,40.1078 16.0756,40.1078 C 16.8661,40.1078 17.6388,39.7352 18.1265,39.0423 L 22.7838,32.3989 L 29.4246,37.0538 C 29.8622,37.3616 30.3626,37.509 30.8603,37.509 C 31.6482,37.509 32.4235,37.1365 32.9089,36.4435 C 33.7017,35.313 33.4292,33.7522 32.2986,32.9593 L 28.1941,30.083 L 69.0493,22.3992 L 65.7676,27.0791 C 64.9721,28.2097 65.2473,29.7705 66.3779,30.5607 C 66.8155,30.8685 67.3159,31.0159 67.8112,31.0159 C 68.5991,31.0159 69.3744,30.6457 69.8598,29.9505 L 74.5171,23.3097 L 81.1579,27.9646 C 81.5955,28.2724 82.0959,28.4198 82.5912,28.4198 C 83.3818,28.4198 84.1544,28.0496 84.6398,27.3543 C 85.4353,26.2238 85.1601,24.663 84.0295,23.8727 L 79.2046,20.4884 L 121.301,12.5693 L 117.499,17.9893 C 116.706,19.1199 116.978,20.6807 118.109,21.4736 C 118.546,21.7814 119.047,21.9262 119.545,21.9262 C 120.332,21.9262 121.108,21.556 121.593,20.863 L 126.25,14.2196 L 132.891,18.8769 C 133.329,19.1847 133.829,19.3295 134.327,19.3295 C 135.115,19.3295 135.89,18.9592 136.375,18.264 C 137.168,17.1334 136.896,15.5726 135.765,14.7824 L 130.217,10.8904 L 147.999,7.54624 C 149.357,7.29357 150.25,5.98306 149.992,4.6274 C 149.739,3.26911 148.431,2.38889 147.073,2.63129 L 132.446,5.3851 L 133.779,3.48162 C 134.572,2.35107 134.299,0.790237 133.169,0 C 132.036,-0.797858 130.477,-0.520279 129.685,0.610265 L 125.41,6.70822 L 124.495,6.87823 L 118.387,2.59612 C 117.254,1.79562 115.695,2.07848 114.902,3.20638 C 114.11,4.33693 114.382,5.89776 115.513,6.688 L 117.626,8.17116 L 80.195,15.2129 L 82.0434,12.574 C 82.8389,11.4435 82.5637,9.88266 81.4331,9.08978 C 80.3,8.29427 78.7418,8.5695 77.9515,9.70268 L 73.2939,16.3435 L 66.6531,11.6885 C 65.5199,10.888 63.9617,11.1683 63.1689,12.2988 C 62.376,13.4293 62.6486,14.9902 63.7818,15.7804 L 66.6133,17.7663 L 27.9415,25.0428 L 30.3101,21.6635 C 31.103,20.533 30.8304,18.9721 29.6999,18.1793 C 28.5667,17.3838 27.0061,17.659 26.2156,18.7895 L 21.5609,25.433 L 14.9175,20.776 C 13.7843,19.9781 12.2261,20.2557 11.4359,21.3862 C 10.643,22.5194 10.9156,24.08 12.0461,24.8705 L 15.6028,27.3643 L 2.0011,29.9232 C 0.642803,30.1759 -0.250024,31.4864 0.00762341,32.842 C 0.230097,34.0423 1.28062,34.8804 2.46129,34.8804 m 0,0 m -0.459311,19.9658 L 15.6013,57.4051 L 12.047,59.8989 C 10.9138,60.6894 10.6412,62.2499 11.4341,63.3805 C 11.9219,64.0734 12.6948,64.446 13.485,64.446 C 13.9804,64.446 14.4805,64.2985 14.9184,63.9908 L 21.5592,59.3361 L 26.2165,65.9769 C 26.7016,66.6722 27.4772,67.0424 28.2651,67.0424 C 28.7604,67.0424 29.2605,66.8949 29.6984,66.5872 C 30.8289,65.7966 31.1042,64.2361 30.3087,63.1056 L 27.94,59.7262 L 66.6141,66.9999 L 63.7803,68.9857 C 62.6498,69.7786 62.3772,71.3394 63.17,72.47 C 63.6551,73.1629 64.4307,73.5355 65.2186,73.5355 C 65.7163,73.5355 66.2167,73.388 66.6543,73.0802 L 73.2925,68.4256 L 77.9498,75.0664 C 78.4375,75.7593 79.2105,76.1319 80.0007,76.1319 C 80.4961,76.1319 80.9961,75.9844 81.434,75.6767 C 82.5646,74.8861 82.8372,73.3256 82.0443,72.195 L 80.1933,69.5538 L 117.627,76.5973 L 115.513,78.0781 C 114.383,78.8687 114.108,80.4319 114.903,81.5624 C 115.388,82.2553 116.164,82.6255 116.952,82.6255 C 117.447,82.6255 117.947,82.4804 118.385,82.1727 L 124.496,77.8879 L 125.409,78.0606 L 129.686,84.1585 C 130.171,84.8514 130.946,85.224 131.734,85.224 C 132.23,85.224 132.732,85.0766 133.168,84.7688 C 134.301,83.9759 134.573,82.4151 133.781,81.2845 L 132.445,79.3837 L 147.074,82.1351 C 147.232,82.165 147.385,82.1803 147.54,82.1803 C 148.718,82.1803 149.768,81.3423 149.993,80.1393 C 150.251,78.7837 149.355,77.4755 147.997,77.2205 L 130.216,73.8763 L 135.766,69.987 C 136.897,69.1941 137.169,67.6333 136.376,66.5028 C 135.583,65.3722 134.025,65.097 132.892,65.8925 L 126.251,70.5498 L 121.594,63.9066 C 120.801,62.7784 119.243,62.4985 118.11,63.2964 C 116.979,64.0869 116.704,65.6474 117.499,66.7806 L 121.299,72.1983 L 79.2055,64.2818 L 84.0304,60.8975 C 85.161,60.107 85.4336,58.5464 84.6407,57.4133 C 83.8505,56.2827 82.292,56.0075 81.1564,56.803 L 74.5183,61.4603 L 69.861,54.8169 C 69.0681,53.6887 67.5073,53.4087 66.3767,54.2066 C 65.2462,54.9995 64.9736,56.5603 65.7664,57.6908 L 69.0482,62.3707 L 28.1927,54.6861 L 32.2971,51.8072 C 33.4277,51.0166 33.7029,49.4561 32.9074,48.3255 C 32.1169,47.1924 30.5587,46.9174 29.4258,47.7126 L 22.785,52.3699 L 18.125,45.7268 C 17.3345,44.5962 15.7763,44.316 14.6434,45.1139 C 13.5129,45.9068 13.2376,47.4676 14.0332,48.5981 L 16.7969,52.5402 L 2.92499,49.9315 C 1.56934,49.6815 0.261167,50.5693 0.00615693,51.9276 C -0.249146,53.283 0.643681,54.5912 2.00198,54.8462 Z\" fill=\"#000\"/></svg>"
      ],
      "text/plain": [
       "<IPython.core.display.SVG object>"
      ]
     },
     "metadata": {},
     "output_type": "display_data"
    },
    {
     "name": "stdout",
     "output_type": "stream",
     "text": [
      "target: barbed wire security\n",
      "result: american football player running with the ball\n"
     ]
    },
    {
     "data": {
      "image/svg+xml": [
       "<svg xmlns=\"http://www.w3.org/2000/svg\" xmlns:ev=\"http://www.w3.org/2001/xml-events\" xmlns:xlink=\"http://www.w3.org/1999/xlink\" baseProfile=\"tiny\" fill-rule=\"evenodd\" height=\"149.99999556457624px\" version=\"1.2\" width=\"136.11111345235258px\"><defs/><path d=\"M 108.472,11.9444 m 0,0 L 99.7222,0 L 91.6667,17.6389 L 69.4444,25 L 69.4444,80.5556 L 136.111,102.778 L 136.111,2.77777 L 108.472,11.9444 m 0,0 m -8.19444,-6.38889 L 105.694,12.9167 L 95.2778,16.3889 L 100.278,5.55555 m 0,0 m 29.5833,5.97222 L 129.861,36.9444 L 109.861,63.75 L 88.1944,31.3889 L 75.8333,54.3056 L 75.8333,29.5833 L 129.861,11.5278 m 0,0 m -54.1667,64.4444 L 75.6944,67.6389 L 88.6111,43.6111 L 109.444,74.7222 L 129.722,47.5 L 129.722,94.0278 L 75.6944,75.9722 m 0,0 m 31.25,68.4722 L 98.6111,144.444 L 98.6111,102.778 C 98.6111,101.25 97.3611,100 95.8333,100 C 94.3056,100 93.0556,101.25 93.0556,102.778 C 93.0556,105.833 91.6667,110.139 88.8889,112.361 C 87.5,113.472 86.1111,113.75 84.5833,113.472 C 78.0556,112.083 76.3889,98.6111 76.3889,91.6667 C 76.3889,90.1389 75.1389,88.8889 73.6111,88.8889 C 72.0833,88.8889 70.8333,90.1389 70.8333,91.6667 L 70.8333,133.333 L 62.5,133.333 C 60.9722,133.333 59.7222,134.583 59.7222,136.111 C 59.7222,137.639 60.9722,138.889 62.5,138.889 L 84.7222,138.889 C 86.25,138.889 87.5,137.639 87.5,136.111 C 87.5,134.583 86.25,133.333 84.7222,133.333 L 76.3889,133.333 L 76.3889,114.167 C 78.1944,116.528 80.4167,118.333 83.4722,118.889 C 84.1667,119.028 85,119.167 85.6944,119.167 C 88.0556,119.167 90.4167,118.333 92.3611,116.667 C 92.6389,116.528 92.7778,116.25 93.0556,116.111 L 93.0556,144.444 L 84.7222,144.444 C 83.1944,144.444 81.9444,145.694 81.9444,147.222 C 81.9444,148.75 83.1944,150 84.7222,150 L 106.944,150 C 108.472,150 109.722,148.75 109.722,147.222 C 109.722,145.694 108.472,144.444 106.944,144.444 m 0,0 m -46.1111,-87.6389 C 58.3333,55.6944 55.5556,56.6667 54.3056,59.1667 L 48.8889,70.8333 L 40,55.2778 C 39.7222,54.7222 39.3056,54.1667 38.8889,53.6111 C 38.8889,53.6111 38.1944,52.7778 38.0556,52.5 C 35.5556,50 31.6667,50 29.1667,52.5 L 2.08333,79.7222 C 0.833333,80.8333 0,82.6389 0,84.4444 L 0,143.056 L 0,143.056 C 0,146.944 3.05556,150 6.94444,150 C 10.8333,150 13.8889,146.944 13.8889,143.056 L 13.8889,143.056 L 13.8889,95.2778 C 14.8611,95 15.6944,94.7222 16.6667,94.1667 C 23.3333,90 29.7222,85 35.5556,79.1667 C 35.9722,78.75 36.9444,77.7778 37.0833,77.6389 C 38.1944,76.5278 39.0278,75.4167 39.8611,74.1667 L 45.5556,84.0278 C 45.9722,84.7222 46.6667,85.2778 47.5,85.6944 C 50,86.8056 52.7778,85.8333 54.0278,83.3333 L 63.4722,63.1944 C 64.3056,60.8333 63.3333,57.9167 60.8333,56.8056 Z\" fill=\"#000\"/></svg>"
      ],
      "text/plain": [
       "<IPython.core.display.SVG object>"
      ]
     },
     "metadata": {},
     "output_type": "display_data"
    },
    {
     "name": "stdout",
     "output_type": "stream",
     "text": [
      "target: museum visit museum show exhibit\n",
      "result: sad face with eyes and straight mouth line\n"
     ]
    },
    {
     "data": {
      "image/svg+xml": [
       "<svg xmlns=\"http://www.w3.org/2000/svg\" xmlns:ev=\"http://www.w3.org/2001/xml-events\" xmlns:xlink=\"http://www.w3.org/1999/xlink\" baseProfile=\"tiny\" fill-rule=\"evenodd\" height=\"149.9999949708581px\" version=\"1.2\" width=\"98.75895800068974px\"><defs/><path d=\"M 35.4557,35.3078 m 0,0 C 61.952,32.1119 73.5808,40.0467 73.5808,40.0467 C 75.2685,35.5367 82.704,27.8581 82.704,27.8581 C 98.0823,13.9178 90.0138,7.20457 90.0138,7.20457 C 82.1855,0.361139 67.504,0 67.504,0 L 58.3251,17.2237 L 61.3063,1.79447 C 49.6456,1.67201 42.2245,4.2778 42.2245,4.2778 L 40.454,21.8212 L 37.6382,1.88376 C 27.236,3.51911 27.8962,11.0469 27.8962,11.0469 C 26.7891,18.0746 35.4557,35.3078 35.4557,35.3078 m 0,0 m 5.77772,53.8154 C 41.1825,90.0315 41.4594,90.7698 42.0639,91.3439 C 42.67,91.9165 43.922,92.4956 45.8277,93.0795 L 46.219,86.3456 C 44.9782,86.3089 43.8504,86.5109 42.8371,86.9564 C 41.8252,87.3971 41.2923,88.1208 41.2334,89.1232 m 0,0 m 11.2981,15.6327 C 51.5563,104.088 50.5764,103.615 49.5885,103.342 L 49.167,110.513 C 50.4143,110.492 51.4974,110.252 52.4137,109.789 C 53.3348,109.33 53.8279,108.547 53.8932,107.444 C 53.9616,106.324 53.5066,105.427 52.5315,104.756 m 0,0 m 18.248,-57.6141 C 70.7794,47.1418 57.5662,40.6019 30.0755,44.0237 C 30.0755,44.0237 11.5203,49.9304 3.0415,77.8793 C 3.0415,77.8793 4.20123,95.6025 13.097,103.504 C 13.097,103.504 0.870175,98.8525 0,88.4772 C 0,88.4772 -6.96763,114.242 1.74509,132.414 C 1.74509,132.414 17.3239,161.339 63.0102,150 C 63.0102,150 78.1484,147.033 82.827,129.154 C 82.827,129.154 86.0196,142.929 77.878,148.053 C 77.878,148.053 96.5285,146.367 98.759,125.22 C 98.757,125.222 105.919,64.2365 70.7794,47.1418 m 0,0 m -6.48553,60.4059 C 64.0934,110.833 62.5648,113.481 59.7251,115.489 C 56.8933,117.494 53.26,118.365 48.8295,118.112 L 48.5465,122.926 L 43.6771,122.296 L 43.9474,117.668 C 41.8634,117.385 39.4788,116.824 36.7855,115.984 C 34.1034,115.147 32.0244,114.259 30.5417,113.327 L 31.006,104.982 L 32.2486,105.131 C 33.8854,106.291 35.7944,107.29 37.9739,108.133 C 40.155,108.978 42.3408,109.622 44.5266,110.064 L 44.988,102.16 L 42.3091,101.205 C 40.6214,100.599 39.0751,99.9451 37.6687,99.2388 C 36.2625,98.5357 35.0694,97.6815 34.0847,96.6792 C 33.1001,95.6818 32.3571,94.4999 31.8623,93.1411 C 31.3612,91.7826 31.1639,90.1552 31.2689,88.2543 C 31.428,85.3956 32.82,83.0794 35.4512,81.3088 C 38.0887,79.5303 41.6744,78.6601 46.2113,78.703 L 46.4689,74.2439 L 51.3862,74.7435 L 51.1268,79.1565 C 52.8607,79.4158 54.8858,79.8835 57.2036,80.5579 C 59.5278,81.2355 61.3524,81.9276 62.6728,82.6401 L 62.159,91.0873 L 60.9037,90.9456 C 59.6008,89.9974 58.0705,89.1606 56.3174,88.4401 C 54.5676,87.7225 52.6888,87.1848 50.6764,86.8269 L 50.2404,94.2178 L 52.4738,94.9401 C 56.6958,96.2779 59.7739,97.9372 61.6959,99.9097 C 63.6193,101.889 64.4862,104.438 64.2939,107.548 Z\" fill=\"#000\"/></svg>"
      ],
      "text/plain": [
       "<IPython.core.display.SVG object>"
      ]
     },
     "metadata": {},
     "output_type": "display_data"
    },
    {
     "name": "stdout",
     "output_type": "stream",
     "text": [
      "target: dollar sign bag\n",
      "result: heart shaped diamond ring\n"
     ]
    },
    {
     "data": {
      "image/svg+xml": [
       "<svg xmlns=\"http://www.w3.org/2000/svg\" xmlns:ev=\"http://www.w3.org/2001/xml-events\" xmlns:xlink=\"http://www.w3.org/1999/xlink\" baseProfile=\"tiny\" fill-rule=\"evenodd\" height=\"115.92865175334737px\" version=\"1.2\" width=\"150.00000019208528px\"><defs/><path d=\"M 148.992,24.774 m 0,0 C 143.845,21.768 132.673,24.0952 126.734,23.8995 C 117.521,23.5958 108.275,23.1979 99.1471,24.7488 C 99.0546,24.7643 98.9815,24.7975 98.8938,24.8178 C 98.7631,21.6592 98.556,18.5257 98.3327,15.4807 C 98.2133,13.8421 97.0116,12.3139 95.2301,12.3773 C 93.1944,12.4495 88.8892,12.154 86.2786,13.3435 C 84.1073,8.09641 79.777,3.84805 74.3187,6.48947 C 74.0906,5.07091 73.8762,3.64099 73.5896,2.26953 C 73.2778,0.77708 71.7187,0.168895 70.3862,0.429546 C 70.2807,0.287447 70.223,0.133979 70.0842,0 C 52.7489,-16.6873 11.3882,-24.3055 0,3.23743 C -4.10708,13.1714 -10.6721,57.7686 7.67986,59.6979 C 7.97136,60.3548 8.49673,60.8948 9.34445,61.0767 C 10.2661,61.2748 11.238,61.4007 12.1775,61.5728 C 11.6871,61.8749 11.3022,62.3783 11.238,63.1367 C 10.0777,76.8863 2.69664,109.639 20.6426,115.929 C 30.6309,119.43 39.6879,109.463 42.2238,101.092 C 44.5136,93.5322 44.0881,85.3724 43.6618,77.272 C 45.2054,77.6495 46.8928,77.7478 48.4315,77.9484 C 50.481,78.2155 52.5378,78.4851 54.6019,78.6085 C 56.2583,78.7076 57.5218,77.1802 57.5729,75.6374 C 57.6679,72.7654 57.0387,69.8105 56.5994,66.9832 C 56.4256,65.8675 56.2762,64.7429 56.0675,63.6329 C 55.9538,63.0279 55.5957,62.5261 55.1296,62.138 C 60.3297,61.5038 65.4111,60.6796 70.206,59.6435 C 72.0728,59.24 72.5429,57.495 72.0435,56.0529 C 72.2498,55.8125 72.4179,55.5291 72.5007,55.1694 C 72.6209,54.6441 72.7118,54.0846 72.8263,53.5511 C 76.5136,54.6286 80.5159,54.8731 84.2909,55.3245 C 86.0464,55.5356 87.3375,53.7411 87.4179,52.1983 C 87.4649,51.2824 87.5202,50.3681 87.5729,49.453 C 89.853,49.6341 92.1648,49.4238 94.4481,49.5285 C 95.671,49.5845 96.8435,48.6353 97.1464,47.4741 C 98.4602,42.4292 98.9482,37.0944 99.0164,31.732 C 99.6425,31.9951 100.355,32.1185 101.149,32.0064 C 111.229,30.5879 121.663,31.5184 131.797,31.7718 C 137.246,31.9074 146.291,33.5257 150,28.6164 C 150.924,27.3935 150.196,25.478 148.992,24.774 m 0,0 m -128.144,84.5832 C 14.2903,105.938 15.1689,91.3008 15.121,85.2904 C 15.0617,77.9143 15.5968,70.504 15.1502,63.1376 C 15.1218,62.6674 14.9513,62.3158 14.7329,62.0211 C 21.9093,63.1473 29.5071,63.576 37.1732,63.4404 C 35.2552,70.9741 37.1391,80.1001 37.2479,87.6152 C 37.3616,95.4542 33.5371,115.972 20.848,109.357 m 0,0 m 22.5897,-36.6949 C 43.3882,71.4337 43.3679,70.2149 43.3517,68.9969 C 43.9785,69.8008 44.7101,70.534 45.4904,71.1796 C 45.9638,71.5718 46.5655,72.0273 47.2265,72.4658 C 45.9468,72.4495 44.6776,72.4885 43.4377,72.6623 m 0,0 m 4.99946,-3.44286 C 46.7149,68.3449 44.7377,67.0497 44.0118,65.1708 C 43.8851,64.8436 43.67,64.6284 43.4255,64.5017 C 43.4442,64.0722 43.4353,63.6337 43.4637,63.2058 C 44.227,63.1627 44.9813,63.084 45.7422,63.0296 C 45.3321,63.4079 45.1559,63.991 45.5773,64.6284 C 46.7588,66.418 48.6061,68.3676 50.7075,69.0935 C 50.766,69.433 50.8204,69.774 50.8789,70.1134 C 50.0409,69.8333 49.1761,69.5954 48.4372,69.2194 m 0,0 m 1.69139,-3.94468 C 49.3036,64.6755 48.559,63.9593 48.002,63.2114 C 47.8964,63.0685 47.7697,62.9735 47.6422,62.8834 C 48.6426,62.8014 49.6511,62.7478 50.6458,62.6512 C 50.2333,63.1676 49.9434,63.7782 50.0165,64.453 C 50.0466,64.7274 50.0945,65.0003 50.1286,65.2747 m 0,0 m 17.7754,-11.2559 C 49.4838,53.6331 31.3317,56.7788 12.7613,55.8426 C -1.91225,44.7418 -0.0966249,24.8674 5.01895,8.45612 C 14.1336,-20.783 49.211,-5.23738 66.3149,4.88334 C 66.893,5.22519 67.4704,5.29583 68.025,5.25605 C 65.8577,21.0486 69.4646,38.0258 67.904,54.0188 m 0,0 m 13.6261,-33.9041 C 81.2304,19.9345 80.9251,19.7672 80.6336,19.5699 C 78.9065,18.3958 77.4019,16.9041 75.6667,15.7576 C 75.5619,15.6886 75.4531,15.6601 75.3451,15.6252 C 75.2785,14.6963 75.2314,13.7585 75.1397,12.8393 C 75.2152,12.8287 75.272,12.8279 75.3451,12.819 C 76.4048,13.8047 77.475,14.7799 78.5159,15.7852 C 79.3742,16.6134 80.2382,17.5383 81.1712,18.36 C 81.2978,18.943 81.4408,19.5204 81.5301,20.1148 m 0,0 m -0.342662,29.218 C 78.654,49.5439 76.1165,49.7088 73.575,49.8241 C 73.9996,47.4823 74.3204,45.0544 74.624,42.6217 C 76.2854,44.015 77.9841,45.3597 79.7818,46.5777 C 80.1984,46.8595 80.7091,47.1591 81.2475,47.3962 C 81.2288,48.0417 81.1939,48.6873 81.1874,49.3328 m 0,0 m 0.205435,-5.82851 C 80.9592,43.2851 80.5329,43.048 80.1196,42.8133 C 78.3438,41.8048 76.654,40.642 74.9943,39.4549 C 75.138,38.0396 75.2257,36.6056 75.3289,35.1765 C 76.0223,35.7814 76.7385,36.3522 77.4392,36.8646 C 78.6207,37.7294 80.1026,38.638 81.6308,39.2015 C 81.5488,40.6355 81.4667,42.0703 81.3928,43.5043 m 0,0 m 0.411682,-8.08748 C 81.0705,35.1448 80.3389,34.8598 79.6381,34.4846 C 78.1181,33.6702 76.8392,32.6203 75.5538,31.5517 C 75.6317,29.8806 75.6764,28.2055 75.6967,26.5328 C 77.3369,28.622 79.1087,30.6342 81.1038,32.3483 C 81.3319,32.5448 81.5975,32.7356 81.8776,32.9175 C 81.8476,33.7514 81.8403,34.5845 81.8045,35.4168 m 0,0 m -0.992259,-6.82807 C 78.9585,27.1077 77.302,25.2937 75.687,23.5536 C 75.6756,22.3843 75.6261,21.2231 75.5863,20.0604 C 76.585,21.0412 77.6739,21.9491 78.7165,22.796 C 79.6276,23.5365 80.7294,24.4744 81.9052,24.8714 C 81.9507,26.4175 81.9604,27.9627 81.9596,29.469 C 81.5682,29.1823 81.1842,28.8859 80.8123,28.5887 m 0,0 m 10.9579,15.6723 C 90.445,44.4397 89.1198,44.6581 87.8393,45.0097 C 88.3711,36.4107 88.8348,27.8271 87.7475,19.2362 C 89.1693,19.3539 90.7755,19.1582 92.2574,18.9374 C 92.6008,27.4333 92.1924,35.7749 91.7702,44.2611 Z\" fill=\"#000\"/></svg>"
      ],
      "text/plain": [
       "<IPython.core.display.SVG object>"
      ]
     },
     "metadata": {},
     "output_type": "display_data"
    },
    {
     "name": "stdout",
     "output_type": "stream",
     "text": [
      "target: drill hand drawn contruction tool\n",
      "result: santa claus standing with a cane in one hand and a\n"
     ]
    },
    {
     "data": {
      "image/svg+xml": [
       "<svg xmlns=\"http://www.w3.org/2000/svg\" xmlns:ev=\"http://www.w3.org/2001/xml-events\" xmlns:xlink=\"http://www.w3.org/1999/xlink\" baseProfile=\"tiny\" fill-rule=\"evenodd\" height=\"150.00000540662768px\" version=\"1.2\" width=\"131.67095258831978px\"><defs/><path d=\"M 101.719,58.1491 m 0,0 L 55.7936,58.1491 L 55.7936,64.1395 L 55.7936,70.1299 L 55.7936,90.0978 L 61.7841,90.0978 C 65.0924,90.0978 67.7745,92.7795 67.7745,96.0882 L 67.7745,120.049 C 67.7745,123.357 65.0924,126.039 61.7841,126.039 L 37.8226,126.039 C 34.5143,126.039 31.8322,123.357 31.8322,120.049 L 31.8322,96.0882 C 31.8322,92.7795 34.5143,90.0978 37.8226,90.0978 L 43.8131,90.0978 L 43.8131,70.1299 L 43.8131,64.1395 L 43.8131,58.1491 L 5.87425,58.1491 C 4.07958,58.1491 2.37946,58.9538 1.2413,60.3415 C 0.103442,61.7295 -0.35182,63.5544 0,65.3144 L 15.9742,145.184 C 16.5341,147.985 18.993,150 21.8484,150 L 85.7452,150 C 88.6007,150 91.0596,147.985 91.6194,145.184 L 97.0458,118.052 L 101.719,118.052 C 118.235,118.052 131.671,104.615 131.671,88.1006 C 131.671,71.5855 118.235,58.1491 101.719,58.1491 m 0,0 m 0,47.9226 L 99.4419,106.072 L 106.501,70.7805 C 114.095,72.8796 119.69,79.8467 119.69,88.1006 C 119.69,98.01 111.628,106.072 101.719,106.072 m 0,0 m -59.6616,-82.1099 C 39.1205,21.0248 37.8223,19.5849 37.8226,16.2166 C 37.8223,12.8502 39.1208,11.4097 42.0587,8.47274 C 44.3984,6.13359 44.399,2.34063 42.0599,0.00118558 C 39.7207,-2.33855 35.9281,-2.33915 33.588,0 C 30.3185,3.26834 25.8409,7.74509 25.8421,16.2166 C 25.8409,24.6885 30.3176,29.1649 33.5868,32.4336 C 36.5241,35.3706 37.8229,36.811 37.8229,40.1784 C 37.8229,43.487 40.505,46.1688 43.8134,46.1688 C 47.1217,46.1688 49.8038,43.487 49.8038,40.1784 C 49.8032,31.7068 45.3264,27.2304 42.0578,23.9617 m 0,0 m 31.9484,0 C 71.0689,21.0248 69.771,19.5849 69.771,16.2166 C 69.7707,12.8502 71.0692,11.4097 74.0071,8.47274 C 76.3468,6.13359 76.3474,2.34063 74.0083,0.00118576 C 71.6688,-2.33855 67.8762,-2.33915 65.5364,1.81308E-07 C 62.2672,3.26834 57.7893,7.74509 57.7904,16.2166 C 57.7893,24.6885 62.266,29.1649 65.5352,32.4336 C 68.4725,35.3706 69.7713,36.811 69.7713,40.1784 C 69.7713,43.487 72.4534,46.1688 75.7617,46.1688 C 79.0701,46.1688 81.7522,43.487 81.7522,40.1784 C 81.7516,31.7068 77.2748,27.2304 74.0062,23.9617 Z\" fill=\"#000\"/></svg>"
      ],
      "text/plain": [
       "<IPython.core.display.SVG object>"
      ]
     },
     "metadata": {},
     "output_type": "display_data"
    },
    {
     "name": "stdout",
     "output_type": "stream",
     "text": [
      "target: tea cup coffee cup\n",
      "result: arrow pointing to the left\n"
     ]
    },
    {
     "data": {
      "image/svg+xml": [
       "<svg xmlns=\"http://www.w3.org/2000/svg\" xmlns:ev=\"http://www.w3.org/2001/xml-events\" xmlns:xlink=\"http://www.w3.org/1999/xlink\" baseProfile=\"tiny\" fill-rule=\"evenodd\" height=\"150.00000034051482px\" version=\"1.2\" width=\"108.42193606949877px\"><defs/><path d=\"M 75.6267,145.885 m 0,0 C 73.9645,147.039 70.4963,146.905 69.2294,146.963 C 67.9535,147.039 68.1377,145.746 68.8475,144.888 C 69.5484,144.034 70.8467,142.462 70.8467,142.462 L 70.2537,137.713 L 65.7028,137.915 C 65.7028,137.915 69.6562,139.789 69.6562,140.485 C 69.6562,141.168 65.3658,146.123 60.168,147.21 C 54.9702,148.288 50.2261,146.581 50.2261,146.581 C 50.2261,146.581 51.5604,148.953 51.2639,150 C 49.2602,151.029 46.3581,150.166 45.2529,149.861 C 44.1433,149.555 43.9366,148.477 43.9366,148.477 L 41.3804,148.58 C 41.3804,148.58 40.8862,143.396 39.9967,142.057 C 39.1027,140.719 35.8906,140.871 34.4575,142.057 C 33.0243,143.252 35.4683,143.854 32.9929,145.238 C 30.522,146.626 17.7858,145.323 13.464,140.948 C 9.14673,136.567 -0.390847,132.47 0,126.441 C 0.188685,123.512 6.26254,120.228 14.1873,113.139 C 22.5703,105.641 32.8491,94.3469 33.8644,92.6667 C 35.8411,89.4007 42.9168,58.0296 42.9168,58.0296 C 42.9168,58.0296 45.0013,42.5709 44.2241,39.3453 C 43.9007,38.002 41.5826,35.0819 39.7766,31.6721 C 37.2428,26.8831 35.028,21.3618 34.6596,20.0365 C 34.2508,18.563 34.5518,10.8629 34.6237,6.0469 C 34.6596,3.45024 34.1115,2.22379 34.5473,1.59484 C 34.9831,0.965887 35.7917,0.0134774 37.5887,0 C 39.8485,-0.026955 40.41,1.11414 42.6338,2.08452 C 44.2107,2.77187 46.4884,2.82578 46.4524,3.30199 C 46.412,3.87253 43.1145,3.38285 43.1145,3.38285 C 43.1145,3.38285 43.739,3.76022 44.7093,4.04774 C 45.4865,4.27237 46.8433,4.35772 46.6771,4.64075 C 46.1559,5.49432 43.6356,5.04957 43.6356,5.04957 C 43.6356,5.04957 43.9501,5.43143 44.6689,5.75489 C 45.2305,6.00198 46.2772,6.1682 46.0032,6.38384 C 45.1092,7.08916 41.933,6.2266 42.6293,6.38384 C 43.3212,6.54557 43.5593,7.29582 42.4406,7.23292 C 40.994,7.15655 39.1521,5.97951 38.6085,5.60664 C 38.3749,6.99931 39.2375,10.0632 39.7316,13.2439 C 40.1629,15.9888 40.1899,18.891 40.5807,20.041 C 40.9671,21.1686 42.7686,24.7582 44.9744,28.3566 C 45.9942,30.0234 48.0967,31.1689 49.1884,32.6021 C 50.9135,34.8663 51.6053,37.0631 52.8587,37.1619 C 54.1121,37.2608 57.2704,35.3515 57.1221,32.5302 C 56.5471,32.9165 55.4554,33.2175 54.6378,32.638 C 54.1121,32.2696 53.892,31.1869 53.3754,30.7107 C 52.1489,29.5786 51.2414,28.7116 52.1893,26.2227 C 54.1571,21.0698 56.3674,23.6844 57.7511,22.2513 C 59.4492,20.4993 61.9246,19.3537 65.0559,19.8434 C 68.6139,20.4004 71.0623,24.4616 71.8036,27.9658 C 72.3607,30.5984 70.658,31.4969 69.6517,33.7476 C 69.3013,34.5383 70.0021,36.2455 69.6157,36.9733 C 69.4181,37.3551 68.551,36.8565 68.3578,37.2024 C 67.3964,38.8871 66.772,40.3112 66.489,40.4145 C 65.7252,40.6886 63.5733,39.7586 63.5733,39.7586 C 63.5733,39.7586 64.3146,42.2205 67.2796,43.9726 C 70.2492,45.7336 72.0327,46.1514 74.7956,47.1443 C 77.5675,48.1326 89.7421,55.4464 90.5553,56.3853 C 91.3639,57.3288 89.9757,69.0003 89.4321,70.8736 C 88.8886,72.756 87.3521,74.9933 86.4671,75.2898 C 85.5776,75.5818 83.5155,75.3572 82.954,75.6177 C 82.3924,75.8873 80.4292,76.9565 79.643,76.2646 C 78.8523,75.5773 82.361,74.1352 82.361,74.1352 C 82.361,74.1352 80.4876,73.6051 79.8362,73.5961 C 79.1893,73.5781 77.6124,73.2592 76.8037,73.5197 C 75.9906,73.7803 75.2853,74.3823 74.4542,74.2834 C 73.6096,74.1891 74.6878,72.8099 74.6878,72.8099 C 74.6878,72.8099 73.9061,72.9042 73.2142,72.455 C 72.5224,72.0058 76.0804,70.8152 79.05,70.4783 C 82.2891,70.1054 85.4248,71.561 85.8786,70.2806 C 86.3458,68.9194 86.0763,60.3477 84.7375,59.0134 C 84.0861,58.3575 80.0967,56.9783 77.0239,55.5003 C 73.7983,53.9414 71.4172,52.7105 69.3597,53.5236 C 65.3569,55.1095 60.6577,64.1529 61.4035,67.1179 C 61.8617,68.9374 66.7361,75.2134 71.2914,81.112 C 74.1711,84.8228 76.04,88.5067 79.351,90.4564 C 84.1085,93.2553 92.7611,98.3318 99.1764,104.401 C 104.289,109.235 107.717,115.448 108.422,116.248 C 110.003,118.04 107.434,119.339 107.434,119.339 C 107.434,119.339 109.114,123.09 108.076,127.245 C 107.043,131.401 103.876,131.994 103.876,131.994 C 103.876,131.994 105.385,133.926 105.062,134.959 C 104.913,135.435 99.7065,136.815 95.6947,138.814 C 91.018,141.145 87.3791,144.097 86.0358,144.164 C 83.5335,144.29 80.6044,137.273 80.6044,137.273 C 80.6044,137.273 80.1282,139.555 79.1668,139.474 C 78.1964,139.398 77.8325,136.734 76.9385,138.14 C 76.0445,139.55 77.2934,144.73 75.6267,145.885 Z\" fill=\"#000\"/></svg>"
      ],
      "text/plain": [
       "<IPython.core.display.SVG object>"
      ]
     },
     "metadata": {},
     "output_type": "display_data"
    },
    {
     "name": "stdout",
     "output_type": "stream",
     "text": [
      "target: flamenco female dancer silhouette with raised right arm\n",
      "result: sunglasses\n"
     ]
    }
   ],
   "source": [
    "sample(c, model, test_dl, device=device, p_value=0.1)"
   ]
  },
  {
   "cell_type": "code",
   "execution_count": null,
   "id": "absolute-heating",
   "metadata": {},
   "outputs": [],
   "source": []
  }
 ],
 "metadata": {
  "kernelspec": {
   "display_name": "Python 3 (ipykernel)",
   "language": "python",
   "name": "python3"
  },
  "language_info": {
   "codemirror_mode": {
    "name": "ipython",
    "version": 3
   },
   "file_extension": ".py",
   "mimetype": "text/x-python",
   "name": "python",
   "nbconvert_exporter": "python",
   "pygments_lexer": "ipython3",
   "version": "3.9.10"
  }
 },
 "nbformat": 4,
 "nbformat_minor": 5
}
