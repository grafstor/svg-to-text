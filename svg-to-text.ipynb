{
 "cells": [
  {
   "cell_type": "markdown",
   "id": "intermediate-depression",
   "metadata": {},
   "source": [
    "<div><img src=\"blob/structure.jpg\" width=400px float=\"left\"/></div>\n",
    "\n",
    "# Svg to text with Transformer"
   ]
  },
  {
   "cell_type": "code",
   "execution_count": 1,
   "id": "postal-complement",
   "metadata": {},
   "outputs": [],
   "source": [
    "import io\n",
    "import os\n",
    "import math\n",
    "import numpy as np\n",
    "import random\n",
    "\n",
    "import matplotlib.pyplot as plt\n",
    "from IPython.display import clear_output\n",
    "from cairosvg import svg2png\n",
    "import svgwrite\n",
    "from PIL import Image\n",
    "\n",
    "import torch\n",
    "import torch.nn as nn\n",
    "import torch.optim as optim\n",
    "import torch.nn.functional as F\n",
    "from torch.utils.data import Dataset, DataLoader\n",
    "\n",
    "from nltk.tokenize import WordPunctTokenizer\n",
    "from subword_nmt.learn_bpe import learn_bpe\n",
    "from subword_nmt.apply_bpe import BPE\n",
    "\n",
    "from sklearn.model_selection import train_test_split\n",
    "\n",
    "import svg_converter as converter"
   ]
  },
  {
   "cell_type": "code",
   "execution_count": 2,
   "id": "committed-latter",
   "metadata": {},
   "outputs": [
    {
     "data": {
      "text/plain": [
       "device(type='cpu')"
      ]
     },
     "execution_count": 2,
     "metadata": {},
     "output_type": "execute_result"
    }
   ],
   "source": [
    "device = torch.device(\"cuda\" if torch.cuda.is_available() else \"cpu\")\n",
    "device"
   ]
  },
  {
   "cell_type": "code",
   "execution_count": 3,
   "id": "received-apartment",
   "metadata": {},
   "outputs": [],
   "source": [
    "tokenizer = WordPunctTokenizer()\n",
    "\n",
    "def tokenize(x):\n",
    "    return ' '.join(tokenizer.tokenize(x.lower()))"
   ]
  },
  {
   "cell_type": "code",
   "execution_count": 4,
   "id": "owned-welcome",
   "metadata": {},
   "outputs": [],
   "source": [
    "# fn_tok_path = 'dataset/filenames_tokenized.txt'\n",
    "\n",
    "# with open(fn_tok_path, 'w') as f:\n",
    "#     folder_path = 'dataset'\n",
    "#     filenames = []\n",
    "    \n",
    "#     for root, _, files in os.walk(folder_path):\n",
    "#         for file in files:\n",
    "#             filename, extension = os.path.splitext(file)\n",
    "#             if extension == '.svg':\n",
    "#                 filenames.append(filename)\n",
    "            \n",
    "#     for line in filenames:\n",
    "#         _, filename = line.strip().split('_')\n",
    "#         filename = filename.replace('-', ' ')\n",
    "#         f.write(tokenize(filename) + \"\\n\")"
   ]
  },
  {
   "cell_type": "code",
   "execution_count": 5,
   "id": "whole-shape",
   "metadata": {},
   "outputs": [],
   "source": [
    "# learn_bpe(open(fn_tok_path), open('bpe_rules.fnt', 'w'),  num_symbols=3000)"
   ]
  },
  {
   "cell_type": "code",
   "execution_count": 6,
   "id": "documented-background",
   "metadata": {},
   "outputs": [],
   "source": [
    "filenames_bpe = BPE(open('bpe_rules.fnt'))"
   ]
  },
  {
   "cell_type": "code",
   "execution_count": 7,
   "id": "placed-anderson",
   "metadata": {},
   "outputs": [],
   "source": [
    "def get_svg_paths(folders):\n",
    "    svg_paths = []\n",
    "\n",
    "    for i, folder in enumerate(folders):\n",
    "        files = [file for file in os.listdir(folder)]\n",
    "\n",
    "        for file in files:\n",
    "            svg_name = file[:-4] # del \".svg\"\n",
    "            svg_name = svg_name.strip().split('_')\n",
    "\n",
    "            if len(svg_name) > 1:\n",
    "                svg_name = svg_name[1]\n",
    "            else:\n",
    "                svg_name = svg_name[0]\n",
    "                \n",
    "            svg_name = svg_name.replace('-', ' ')\n",
    "            svg_name = tokenize(svg_name)\n",
    "            svg_name = filenames_bpe.process_line(svg_name)\n",
    "\n",
    "            svg_path = os.path.join(folder, file)\n",
    "\n",
    "            svg_paths.append([svg_name, svg_path])\n",
    "\n",
    "    return svg_paths"
   ]
  },
  {
   "cell_type": "code",
   "execution_count": 8,
   "id": "packed-diary",
   "metadata": {},
   "outputs": [],
   "source": [
    "dirname = 'dataset'\n",
    "folders = os.listdir(dirname)\n",
    "folders = [os.path.join(dirname, foldername) for foldername in folders if os.path.isdir(os.path.join(dirname, foldername))]\n",
    "\n",
    "all_svg_paths = np.array(get_svg_paths(folders[:50]))"
   ]
  },
  {
   "cell_type": "code",
   "execution_count": 9,
   "id": "sorted-crisis",
   "metadata": {},
   "outputs": [
    {
     "data": {
      "text/plain": [
       "(2928,\n",
       " array([['fre@@ e@@ dom', 'dataset/4111_womens-day-2/244552_freedom.svg'],\n",
       "        ['equ@@ ality gender',\n",
       "         'dataset/4111_womens-day-2/244545_equality-gender.svg'],\n",
       "        ['a@@ chi@@ e@@ ve@@ ment mountain',\n",
       "         'dataset/4111_womens-day-2/244542_achievement-mountain.svg'],\n",
       "        ['education col@@ le@@ ge',\n",
       "         'dataset/4111_womens-day-2/244551_education-college.svg'],\n",
       "        ['stop vi@@ o@@ l@@ ence woman',\n",
       "         'dataset/4111_womens-day-2/244556_stop-violence-woman.svg']],\n",
       "       dtype='<U123'))"
      ]
     },
     "execution_count": 9,
     "metadata": {},
     "output_type": "execute_result"
    }
   ],
   "source": [
    "len(all_svg_paths), all_svg_paths[:5]"
   ]
  },
  {
   "cell_type": "code",
   "execution_count": 10,
   "id": "biological-webcam",
   "metadata": {},
   "outputs": [],
   "source": [
    "train_paths, test_paths = train_test_split(\n",
    "    all_svg_paths,\n",
    "    test_size=0.2,\n",
    "    random_state=42,\n",
    ")"
   ]
  },
  {
   "cell_type": "code",
   "execution_count": 11,
   "id": "distant-technology",
   "metadata": {},
   "outputs": [
    {
     "data": {
      "text/plain": [
       "(2342,\n",
       " 586,\n",
       " array(['inbox with document',\n",
       "        'dataset/350_ios7-premium-fill-2/13445_inbox-with-document.svg'],\n",
       "       dtype='<U123'))"
      ]
     },
     "execution_count": 11,
     "metadata": {},
     "output_type": "execute_result"
    }
   ],
   "source": [
    "len(train_paths), len(test_paths), train_paths[0]"
   ]
  },
  {
   "cell_type": "code",
   "execution_count": 12,
   "id": "associate-violation",
   "metadata": {},
   "outputs": [],
   "source": [
    "class Vocab:\n",
    "    def __init__(self, tokens, bos=\"_BOS_\", eos=\"_EOS_\", unk='_UNK_'):\n",
    "        \"\"\"\n",
    "        A special class that converts lines of tokens into matrices and backwards\n",
    "        \"\"\"\n",
    "        assert all(tok in tokens for tok in (bos, eos, unk))\n",
    "        self.tokens = tokens\n",
    "        self.token_to_ix = {t:i for i, t in enumerate(tokens)}\n",
    "        self.bos, self.eos, self.unk = bos, eos, unk\n",
    "        self.bos_ix = self.token_to_ix[bos]\n",
    "        self.eos_ix = self.token_to_ix[eos]\n",
    "        self.unk_ix = self.token_to_ix[unk]\n",
    "\n",
    "    def __len__(self):\n",
    "        return len(self.tokens)\n",
    "\n",
    "    @staticmethod\n",
    "    def from_lines(lines, bos=\"_BOS_\", eos=\"_EOS_\", unk='_UNK_'):\n",
    "        flat_lines = '\\n'.join(list(lines)).split()\n",
    "        tokens = sorted(set(flat_lines))\n",
    "        tokens = [t for t in tokens if t not in (bos, eos, unk) and len(t)]\n",
    "        tokens = [bos, eos, unk] + tokens\n",
    "        return Vocab(tokens, bos, eos, unk)\n",
    "\n",
    "    def tokenize(self, string):\n",
    "        \"\"\"converts string to a list of tokens\"\"\"\n",
    "        tokens = [tok if tok in self.token_to_ix else self.unk\n",
    "                  for tok in string.split()]\n",
    "        return [self.bos] + tokens + [self.eos]\n",
    "\n",
    "    def to_matrix(self, lines, dtype=torch.long, max_len=None):\n",
    "        \"\"\"\n",
    "        convert variable length token sequences into  fixed size matrix\n",
    "        example usage:\n",
    "        >>>print(to_matrix(words[:3],source_to_ix))\n",
    "        [[15 22 21 28 27 13 -1 -1 -1 -1 -1]\n",
    "         [30 21 15 15 21 14 28 27 13 -1 -1]\n",
    "         [25 37 31 34 21 20 37 21 28 19 13]]\n",
    "        \"\"\"\n",
    "        lines = list(map(self.tokenize, lines))\n",
    "        max_len = max_len or max(map(len, lines))\n",
    "\n",
    "        matrix = torch.full((len(lines), max_len), self.eos_ix, dtype=dtype)\n",
    "        for i, seq in enumerate(lines):\n",
    "            row_ix = list(map(self.token_to_ix.get, seq))[:max_len]\n",
    "            matrix[i, :len(row_ix)] = torch.as_tensor(row_ix)\n",
    "\n",
    "        return matrix\n",
    "\n",
    "    def to_lines(self, matrix, crop=True):\n",
    "        \"\"\"\n",
    "        Convert matrix of token ids into strings\n",
    "        :param matrix: matrix of tokens of int32, shape=[batch,time]\n",
    "        :param crop: if True, crops BOS and EOS from line\n",
    "        :return:\n",
    "        \"\"\"\n",
    "        lines = []\n",
    "        for line_ix in map(list,matrix):\n",
    "            if crop:\n",
    "                if line_ix[0] == self.bos_ix:\n",
    "                    line_ix = line_ix[1:]\n",
    "                if self.eos_ix in line_ix:\n",
    "                    line_ix = line_ix[:line_ix.index(self.eos_ix)]\n",
    "            line = ' '.join(self.tokens[i] for i in line_ix)\n",
    "            lines.append(line)\n",
    "        return lines\n",
    "    \n",
    "    def compute_mask(self, input_ix):\n",
    "        \"\"\" compute a boolean mask that equals \"1\" until first EOS (including that EOS) \"\"\"\n",
    "        return F.pad(torch.cumsum(input_ix == self.eos_ix, dim=-1)[..., :-1] < 1, pad=(1, 0, 0, 0), value=True)"
   ]
  },
  {
   "cell_type": "code",
   "execution_count": 13,
   "id": "danish-fitness",
   "metadata": {},
   "outputs": [
    {
     "data": {
      "text/plain": [
       "1548"
      ]
     },
     "execution_count": 13,
     "metadata": {},
     "output_type": "execute_result"
    }
   ],
   "source": [
    "voc = Vocab.from_lines(all_svg_paths[:,0])\n",
    "len(voc)"
   ]
  },
  {
   "cell_type": "code",
   "execution_count": 14,
   "id": "legal-questionnaire",
   "metadata": {},
   "outputs": [
    {
     "name": "stdout",
     "output_type": "stream",
     "text": [
      "lines\n",
      "['cd', 'cd', 'at', 'sun']\n",
      "\n",
      "words to ids (0 = bos, 1 = eos):\n",
      "tensor([[   0,  232,    1],\n",
      "        [   0,  232,    1],\n",
      "        [   0,   78,    1],\n",
      "        [   0, 1325,    1]])\n",
      "\n",
      "back to words\n",
      "['cd', 'cd', 'at', 'sun']\n"
     ]
    }
   ],
   "source": [
    "batch_lines = sorted(train_paths[:,0], key=len)[0:4]\n",
    "batch_ids = voc.to_matrix(batch_lines)\n",
    "batch_lines_restored = voc.to_lines(batch_ids)\n",
    "\n",
    "print(\"lines\")\n",
    "print(batch_lines)\n",
    "print(\"\\nwords to ids (0 = bos, 1 = eos):\")\n",
    "print(batch_ids)\n",
    "print(\"\\nback to words\")\n",
    "print(batch_lines_restored)"
   ]
  },
  {
   "cell_type": "code",
   "execution_count": 15,
   "id": "incorporate-assumption",
   "metadata": {},
   "outputs": [
    {
     "data": {
      "image/png": "[encoded data removed]",
      "text/plain": [
       "<Figure size 864x288 with 1 Axes>"
      ]
     },
     "metadata": {
      "needs_background": "light"
     },
     "output_type": "display_data"
    }
   ],
   "source": [
    "plt.figure(figsize=[12, 4])\n",
    "plt.subplot(1, 2, 1)\n",
    "plt.title(\"source length\")\n",
    "plt.hist(list(map(len, map(str.split, train_paths[:,0]))), bins=20)\n",
    "plt.show()"
   ]
  },
  {
   "cell_type": "code",
   "execution_count": 16,
   "id": "indirect-danger",
   "metadata": {},
   "outputs": [],
   "source": [
    "def get_tgt_mask(size):\n",
    "    mask = torch.tril(torch.ones(size, size) == 1)\n",
    "    mask = mask.float()\n",
    "    mask = mask.masked_fill(mask == 0, float('-inf'))\n",
    "    mask = mask.masked_fill(mask == 1, float(0.0))\n",
    "    return mask\n",
    "\n",
    "def get_src_pad_mask(matrix, pad_token):\n",
    "    mask = torch.zeros(matrix.size(0), matrix.size(1))\n",
    "\n",
    "    pad_positions = (matrix == pad_token).all(dim=-1)\n",
    "    \n",
    "    pad_positions = torch.roll(pad_positions, shifts=1, dims=1) \n",
    "    pad_positions[:, 0] = 0\n",
    "    \n",
    "    mask[pad_positions] = 1\n",
    "    \n",
    "    return mask\n",
    "\n",
    "def show(vec, scale=150):\n",
    "    svg = c.to_svg(vec, scale=scale)\n",
    "    display(svg_to_pil(svg))\n",
    "\n",
    "def svg_to_pil(svg):\n",
    "    dwg = svgwrite.Drawing(\n",
    "        '',\n",
    "        profile='tiny',\n",
    "        fill_rule=\"evenodd\", \n",
    "        size=(f\"{svg['width']}px\", f\"{svg['height']}px\")\n",
    "    )\n",
    "\n",
    "    dwg.add(\n",
    "        dwg.path( d=svg['d'].d(),\n",
    "        fill=\"#000\")\n",
    "    )\n",
    "    svg_string = dwg.tostring()\n",
    "    png_data = svg2png(bytestring=svg_string.encode('utf-8'))\n",
    "    pil_image = Image.open(io.BytesIO(png_data)) \n",
    "    return pil_image"
   ]
  },
  {
   "cell_type": "code",
   "execution_count": 17,
   "id": "alternative-dressing",
   "metadata": {},
   "outputs": [],
   "source": [
    "class SvgDataset(Dataset):\n",
    "    def __init__(self, svg_paths, seq_len, device):\n",
    "        self.device = device\n",
    "\n",
    "        self.seq_len = seq_len\n",
    "\n",
    "        self.svg_paths = svg_paths\n",
    "\n",
    "        self.converter = converter.Converter(self.seq_len)\n",
    "\n",
    "    def __len__(self):\n",
    "        return len(self.svg_paths)\n",
    "\n",
    "    def load_svg(self, path):\n",
    "        try:\n",
    "            _, vector = self.converter.to_vector(self.converter.open(path), is_one_len=True)\n",
    "            return vector\n",
    "        \n",
    "        except Exception as e:\n",
    "#             print(e)\n",
    "            return None\n",
    "\n",
    "    def __getitem__(self, idx):\n",
    "\n",
    "        svg_name, svg_path = self.svg_paths[idx]\n",
    "        vector = self.load_svg(svg_path)\n",
    "\n",
    "        if vector:\n",
    "            vector = torch.tensor(vector)\n",
    "            return (\n",
    "              vector,\n",
    "              svg_name,\n",
    "            )\n",
    "        else:\n",
    "            while True:\n",
    "                svg_name, svg_path = random.choice(self.svg_paths)\n",
    "                vector = self.load_svg(svg_path)\n",
    "\n",
    "                if vector:\n",
    "                    vector = torch.tensor(vector)\n",
    "                    return (\n",
    "                      vector,\n",
    "                      svg_name,\n",
    "                    )"
   ]
  },
  {
   "cell_type": "code",
   "execution_count": 18,
   "id": "great-pressure",
   "metadata": {},
   "outputs": [],
   "source": [
    "class PositionalEncoding(nn.Module):\n",
    "    def __init__(self, dim, dropout_p, max_len):\n",
    "        super().__init__()\n",
    "        self.dropout = nn.Dropout(dropout_p)\n",
    "    \n",
    "        pos_encoding = torch.zeros(max_len, dim)\n",
    "        positions_list = torch.arange(0, max_len, dtype=torch.float).view(-1, 1) # 0, 1, 2, 3, 4, 5\n",
    "        division_term = torch.exp(torch.arange(0, dim, 2).float() * (-math.log(10000.0)) / dim) # 1000^(2i/dim_model)\n",
    "        \n",
    "        pos_encoding[:, 0::2] = torch.sin(positions_list * division_term)\n",
    "        pos_encoding[:, 1::2] = torch.cos(positions_list * division_term)\n",
    "        \n",
    "        pos_encoding = pos_encoding.unsqueeze(0).transpose(0, 1)\n",
    "        self.register_buffer(\"pos_encoding\",pos_encoding)\n",
    "        \n",
    "    def forward(self, token_embedding: torch.tensor) -> torch.tensor:\n",
    "        return self.dropout(token_embedding + self.pos_encoding[:token_embedding.size(0), :])\n",
    "\n",
    "    \n",
    "class Transformer(nn.Module):\n",
    "    def __init__(\n",
    "        self,\n",
    "        vocab_size,\n",
    "        dim,\n",
    "        n_heads,\n",
    "        n_encoder_layers,\n",
    "        n_decoder_layers,\n",
    "        dropout_p,\n",
    "    ):\n",
    "        super().__init__()\n",
    "\n",
    "        self.dim = dim\n",
    "        \n",
    "        self.src_encoder = nn.Linear(11, dim)\n",
    "        \n",
    "        self.positional_encoder = PositionalEncoding(\n",
    "            dim=dim, dropout_p=dropout_p, max_len=1000\n",
    "        )\n",
    "        \n",
    "        self.embedding = nn.Embedding(vocab_size, dim)\n",
    "        \n",
    "        self.transformer = nn.Transformer(\n",
    "            d_model=dim,\n",
    "            nhead=n_heads,\n",
    "            num_encoder_layers=n_encoder_layers,\n",
    "            num_decoder_layers=n_decoder_layers,\n",
    "            dropout=dropout_p,\n",
    "            batch_first=True\n",
    "        )\n",
    "        \n",
    "        self.out = nn.Linear(dim, vocab_size)\n",
    "        \n",
    "    def forward(self, src, tgt, tgt_mask=None, src_pad_mask=None, tgt_pad_mask=None):\n",
    "        \n",
    "        src = self.src_encoder(src)\n",
    "        tgt = self.embedding(tgt) * math.sqrt(self.dim)\n",
    "        \n",
    "        src = self.positional_encoder(src)\n",
    "        tgt = self.positional_encoder(tgt)\n",
    "        \n",
    "        transformer_out = self.transformer(\n",
    "            src, tgt, \n",
    "            tgt_mask=tgt_mask, \n",
    "            src_key_padding_mask=src_pad_mask, \n",
    "            tgt_key_padding_mask=tgt_pad_mask\n",
    "        )\n",
    "        \n",
    "        out = self.out(transformer_out)\n",
    "        \n",
    "        return out"
   ]
  },
  {
   "cell_type": "code",
   "execution_count": 19,
   "id": "outdoor-interest",
   "metadata": {},
   "outputs": [],
   "source": [
    "batch_size = 32\n",
    "seq_len = 256\n",
    "src_pad_token = torch.tensor([0.0000,  0.0000,  0.0000,  0.0000,  0.0000,  0.0000,  0.0000,\n",
    "           0.0000,  0.0000,  0.0000,  1.0000])\n",
    "\n",
    "c = converter.Converter(seq_len)\n",
    "\n",
    "train_dataset = SvgDataset(train_paths, seq_len=seq_len, device=device)\n",
    "test_dataset = SvgDataset(test_paths, seq_len=seq_len, device=device)\n",
    "\n",
    "train_dl = DataLoader(train_dataset, batch_size=batch_size, shuffle = True)\n",
    "test_dl = DataLoader(test_dataset, batch_size=batch_size, shuffle = True)"
   ]
  },
  {
   "cell_type": "code",
   "execution_count": 42,
   "id": "annoying-humanity",
   "metadata": {},
   "outputs": [
    {
     "data": {
      "image/png": "[encoded data removed]",
      "text/plain": [
       "<PIL.PngImagePlugin.PngImageFile image mode=RGBA size=126x150 at 0x7F6737D3DEE0>"
      ]
     },
     "metadata": {},
     "output_type": "display_data"
    },
    {
     "name": "stdout",
     "output_type": "stream",
     "text": [
      "letter\n"
     ]
    }
   ],
   "source": [
    "for vec, tgt in train_dl:\n",
    "    show(vec[0])\n",
    "    print(tgt[0])\n",
    "    break"
   ]
  },
  {
   "cell_type": "code",
   "execution_count": 43,
   "id": "successful-subsection",
   "metadata": {},
   "outputs": [],
   "source": [
    "vocab_size = len(voc)\n",
    "src_pad_token = torch.tensor([0.0000,  0.0000,  0.0000,  0.0000,  0.0000,  0.0000,  0.0000,\n",
    "           0.0000,  0.0000,  0.0000,  1.0000])\n",
    "\n",
    "model = Transformer(\n",
    "    vocab_size=vocab_size,\n",
    "    dim=32,\n",
    "    n_heads=8,\n",
    "    n_encoder_layers=2,\n",
    "    n_decoder_layers=2,\n",
    "    dropout_p=0.1\n",
    ").to(device)\n",
    "\n",
    "opt = torch.optim.Adam(model.parameters(), lr=3e-4)\n",
    "loss_fn = nn.CrossEntropyLoss().to(device)"
   ]
  },
  {
   "cell_type": "code",
   "execution_count": 45,
   "id": "crucial-providence",
   "metadata": {},
   "outputs": [],
   "source": [
    "step = -1\n",
    "metrics = {'train_loss': [], 'test_loss': []}\n",
    "save_path = \"checkpoints\"\n",
    "\n",
    "def plot_metrics(metrics):\n",
    "    plt.figure(figsize=(12,4))\n",
    "    for i, (name, history) in enumerate(sorted(metrics.items())):\n",
    "        plt.subplot(1, len(metrics), i + 1)\n",
    "        plt.title(name)\n",
    "        plt.plot(*zip(*history))\n",
    "        plt.grid()\n",
    "    plt.show()\n",
    "\n",
    "def load_checkpoint(save_path, name, version):\n",
    "    checkpoint = torch.load(f'{save_path}/checkpoint_{name}_{version}.pth')\n",
    "    \n",
    "    model.load_state_dict(checkpoint['model_state_dict'])\n",
    "    opt.load_state_dict(checkpoint['optimizer_state_dict'])\n",
    "    \n",
    "    step = checkpoint['step'] + 1\n",
    "    metrics = {'train_loss': [], 'test_loss': []}\n",
    "    \n",
    "    return step, metrics\n",
    "\n",
    "def save_checkpoint(save_path, name, version, model, opt, loss):\n",
    "    torch.save({\n",
    "      'step': step,\n",
    "      'model_state_dict': model.state_dict(),\n",
    "      'optimizer_state_dict': opt.state_dict(),\n",
    "      'loss': loss\n",
    "    }, f'{save_path}/checkpoint_{name}_{version}.pth')\n",
    "\n",
    "# step, metrics = load_checkpoint(save_path, 'epoch', 5_000)"
   ]
  },
  {
   "cell_type": "code",
   "execution_count": 46,
   "id": "numerous-biotechnology",
   "metadata": {
    "scrolled": true
   },
   "outputs": [
    {
     "name": "stdout",
     "output_type": "stream",
     "text": [
      "Epoch: 0, step: 40, loss: 5.101363182067871, test_loss: 4.67893648147583\n"
     ]
    },
    {
     "data": {
      "image/png": "[encoded data removed]",
      "text/plain": [
       "<Figure size 864x288 with 2 Axes>"
      ]
     },
     "metadata": {
      "needs_background": "light"
     },
     "output_type": "display_data"
    },
    {
     "ename": "KeyboardInterrupt",
     "evalue": "",
     "output_type": "error",
     "traceback": [
      "\u001b[0;31m---------------------------------------------------------------------------\u001b[0m",
      "\u001b[0;31mKeyboardInterrupt\u001b[0m                         Traceback (most recent call last)",
      "\u001b[0;32m<ipython-input-46-96a0bb34e2b9>\u001b[0m in \u001b[0;36m<module>\u001b[0;34m\u001b[0m\n\u001b[1;32m     15\u001b[0m         \u001b[0mtgt_mask\u001b[0m \u001b[0;34m=\u001b[0m \u001b[0mget_tgt_mask\u001b[0m\u001b[0;34m(\u001b[0m\u001b[0mtgt_input\u001b[0m\u001b[0;34m.\u001b[0m\u001b[0msize\u001b[0m\u001b[0;34m(\u001b[0m\u001b[0;36m1\u001b[0m\u001b[0;34m)\u001b[0m\u001b[0;34m)\u001b[0m\u001b[0;34m.\u001b[0m\u001b[0mto\u001b[0m\u001b[0;34m(\u001b[0m\u001b[0mdevice\u001b[0m\u001b[0;34m)\u001b[0m\u001b[0;34m\u001b[0m\u001b[0;34m\u001b[0m\u001b[0m\n\u001b[1;32m     16\u001b[0m \u001b[0;34m\u001b[0m\u001b[0m\n\u001b[0;32m---> 17\u001b[0;31m         out = model(vec, tgt_input,\n\u001b[0m\u001b[1;32m     18\u001b[0m                      \u001b[0mtgt_mask\u001b[0m\u001b[0;34m=\u001b[0m\u001b[0mtgt_mask\u001b[0m\u001b[0;34m,\u001b[0m\u001b[0;34m\u001b[0m\u001b[0;34m\u001b[0m\u001b[0m\n\u001b[1;32m     19\u001b[0m                      \u001b[0msrc_pad_mask\u001b[0m\u001b[0;34m=\u001b[0m\u001b[0msrc_pad_mask\u001b[0m\u001b[0;34m,\u001b[0m\u001b[0;34m\u001b[0m\u001b[0;34m\u001b[0m\u001b[0m\n",
      "\u001b[0;32m~/.local/lib/python3.9/site-packages/torch/nn/modules/module.py\u001b[0m in \u001b[0;36m_call_impl\u001b[0;34m(self, *input, **kwargs)\u001b[0m\n\u001b[1;32m   1128\u001b[0m         if not (self._backward_hooks or self._forward_hooks or self._forward_pre_hooks or _global_backward_hooks\n\u001b[1;32m   1129\u001b[0m                 or _global_forward_hooks or _global_forward_pre_hooks):\n\u001b[0;32m-> 1130\u001b[0;31m             \u001b[0;32mreturn\u001b[0m \u001b[0mforward_call\u001b[0m\u001b[0;34m(\u001b[0m\u001b[0;34m*\u001b[0m\u001b[0minput\u001b[0m\u001b[0;34m,\u001b[0m \u001b[0;34m**\u001b[0m\u001b[0mkwargs\u001b[0m\u001b[0;34m)\u001b[0m\u001b[0;34m\u001b[0m\u001b[0;34m\u001b[0m\u001b[0m\n\u001b[0m\u001b[1;32m   1131\u001b[0m         \u001b[0;31m# Do not call functions when jit is used\u001b[0m\u001b[0;34m\u001b[0m\u001b[0;34m\u001b[0m\u001b[0m\n\u001b[1;32m   1132\u001b[0m         \u001b[0mfull_backward_hooks\u001b[0m\u001b[0;34m,\u001b[0m \u001b[0mnon_full_backward_hooks\u001b[0m \u001b[0;34m=\u001b[0m \u001b[0;34m[\u001b[0m\u001b[0;34m]\u001b[0m\u001b[0;34m,\u001b[0m \u001b[0;34m[\u001b[0m\u001b[0;34m]\u001b[0m\u001b[0;34m\u001b[0m\u001b[0;34m\u001b[0m\u001b[0m\n",
      "\u001b[0;32m<ipython-input-18-c16683734d60>\u001b[0m in \u001b[0;36mforward\u001b[0;34m(self, src, tgt, tgt_mask, src_pad_mask, tgt_pad_mask)\u001b[0m\n\u001b[1;32m     59\u001b[0m         \u001b[0mtgt\u001b[0m \u001b[0;34m=\u001b[0m \u001b[0mself\u001b[0m\u001b[0;34m.\u001b[0m\u001b[0mpositional_encoder\u001b[0m\u001b[0;34m(\u001b[0m\u001b[0mtgt\u001b[0m\u001b[0;34m)\u001b[0m\u001b[0;34m\u001b[0m\u001b[0;34m\u001b[0m\u001b[0m\n\u001b[1;32m     60\u001b[0m \u001b[0;34m\u001b[0m\u001b[0m\n\u001b[0;32m---> 61\u001b[0;31m         transformer_out = self.transformer(\n\u001b[0m\u001b[1;32m     62\u001b[0m             \u001b[0msrc\u001b[0m\u001b[0;34m,\u001b[0m \u001b[0mtgt\u001b[0m\u001b[0;34m,\u001b[0m\u001b[0;34m\u001b[0m\u001b[0;34m\u001b[0m\u001b[0m\n\u001b[1;32m     63\u001b[0m             \u001b[0mtgt_mask\u001b[0m\u001b[0;34m=\u001b[0m\u001b[0mtgt_mask\u001b[0m\u001b[0;34m,\u001b[0m\u001b[0;34m\u001b[0m\u001b[0;34m\u001b[0m\u001b[0m\n",
      "\u001b[0;32m~/.local/lib/python3.9/site-packages/torch/nn/modules/module.py\u001b[0m in \u001b[0;36m_call_impl\u001b[0;34m(self, *input, **kwargs)\u001b[0m\n\u001b[1;32m   1128\u001b[0m         if not (self._backward_hooks or self._forward_hooks or self._forward_pre_hooks or _global_backward_hooks\n\u001b[1;32m   1129\u001b[0m                 or _global_forward_hooks or _global_forward_pre_hooks):\n\u001b[0;32m-> 1130\u001b[0;31m             \u001b[0;32mreturn\u001b[0m \u001b[0mforward_call\u001b[0m\u001b[0;34m(\u001b[0m\u001b[0;34m*\u001b[0m\u001b[0minput\u001b[0m\u001b[0;34m,\u001b[0m \u001b[0;34m**\u001b[0m\u001b[0mkwargs\u001b[0m\u001b[0;34m)\u001b[0m\u001b[0;34m\u001b[0m\u001b[0;34m\u001b[0m\u001b[0m\n\u001b[0m\u001b[1;32m   1131\u001b[0m         \u001b[0;31m# Do not call functions when jit is used\u001b[0m\u001b[0;34m\u001b[0m\u001b[0;34m\u001b[0m\u001b[0m\n\u001b[1;32m   1132\u001b[0m         \u001b[0mfull_backward_hooks\u001b[0m\u001b[0;34m,\u001b[0m \u001b[0mnon_full_backward_hooks\u001b[0m \u001b[0;34m=\u001b[0m \u001b[0;34m[\u001b[0m\u001b[0;34m]\u001b[0m\u001b[0;34m,\u001b[0m \u001b[0;34m[\u001b[0m\u001b[0;34m]\u001b[0m\u001b[0;34m\u001b[0m\u001b[0;34m\u001b[0m\u001b[0m\n",
      "\u001b[0;32m~/.local/lib/python3.9/site-packages/torch/nn/modules/transformer.py\u001b[0m in \u001b[0;36mforward\u001b[0;34m(self, src, tgt, src_mask, tgt_mask, memory_mask, src_key_padding_mask, tgt_key_padding_mask, memory_key_padding_mask)\u001b[0m\n\u001b[1;32m    143\u001b[0m             \u001b[0;32mraise\u001b[0m \u001b[0mRuntimeError\u001b[0m\u001b[0;34m(\u001b[0m\u001b[0;34m\"the feature number of src and tgt must be equal to d_model\"\u001b[0m\u001b[0;34m)\u001b[0m\u001b[0;34m\u001b[0m\u001b[0;34m\u001b[0m\u001b[0m\n\u001b[1;32m    144\u001b[0m \u001b[0;34m\u001b[0m\u001b[0m\n\u001b[0;32m--> 145\u001b[0;31m         \u001b[0mmemory\u001b[0m \u001b[0;34m=\u001b[0m \u001b[0mself\u001b[0m\u001b[0;34m.\u001b[0m\u001b[0mencoder\u001b[0m\u001b[0;34m(\u001b[0m\u001b[0msrc\u001b[0m\u001b[0;34m,\u001b[0m \u001b[0mmask\u001b[0m\u001b[0;34m=\u001b[0m\u001b[0msrc_mask\u001b[0m\u001b[0;34m,\u001b[0m \u001b[0msrc_key_padding_mask\u001b[0m\u001b[0;34m=\u001b[0m\u001b[0msrc_key_padding_mask\u001b[0m\u001b[0;34m)\u001b[0m\u001b[0;34m\u001b[0m\u001b[0;34m\u001b[0m\u001b[0m\n\u001b[0m\u001b[1;32m    146\u001b[0m         output = self.decoder(tgt, memory, tgt_mask=tgt_mask, memory_mask=memory_mask,\n\u001b[1;32m    147\u001b[0m                               \u001b[0mtgt_key_padding_mask\u001b[0m\u001b[0;34m=\u001b[0m\u001b[0mtgt_key_padding_mask\u001b[0m\u001b[0;34m,\u001b[0m\u001b[0;34m\u001b[0m\u001b[0;34m\u001b[0m\u001b[0m\n",
      "\u001b[0;32m~/.local/lib/python3.9/site-packages/torch/nn/modules/module.py\u001b[0m in \u001b[0;36m_call_impl\u001b[0;34m(self, *input, **kwargs)\u001b[0m\n\u001b[1;32m   1128\u001b[0m         if not (self._backward_hooks or self._forward_hooks or self._forward_pre_hooks or _global_backward_hooks\n\u001b[1;32m   1129\u001b[0m                 or _global_forward_hooks or _global_forward_pre_hooks):\n\u001b[0;32m-> 1130\u001b[0;31m             \u001b[0;32mreturn\u001b[0m \u001b[0mforward_call\u001b[0m\u001b[0;34m(\u001b[0m\u001b[0;34m*\u001b[0m\u001b[0minput\u001b[0m\u001b[0;34m,\u001b[0m \u001b[0;34m**\u001b[0m\u001b[0mkwargs\u001b[0m\u001b[0;34m)\u001b[0m\u001b[0;34m\u001b[0m\u001b[0;34m\u001b[0m\u001b[0m\n\u001b[0m\u001b[1;32m   1131\u001b[0m         \u001b[0;31m# Do not call functions when jit is used\u001b[0m\u001b[0;34m\u001b[0m\u001b[0;34m\u001b[0m\u001b[0m\n\u001b[1;32m   1132\u001b[0m         \u001b[0mfull_backward_hooks\u001b[0m\u001b[0;34m,\u001b[0m \u001b[0mnon_full_backward_hooks\u001b[0m \u001b[0;34m=\u001b[0m \u001b[0;34m[\u001b[0m\u001b[0;34m]\u001b[0m\u001b[0;34m,\u001b[0m \u001b[0;34m[\u001b[0m\u001b[0;34m]\u001b[0m\u001b[0;34m\u001b[0m\u001b[0;34m\u001b[0m\u001b[0m\n",
      "\u001b[0;32m~/.local/lib/python3.9/site-packages/torch/nn/modules/transformer.py\u001b[0m in \u001b[0;36mforward\u001b[0;34m(self, src, mask, src_key_padding_mask)\u001b[0m\n\u001b[1;32m    236\u001b[0m                 \u001b[0moutput\u001b[0m \u001b[0;34m=\u001b[0m \u001b[0mmod\u001b[0m\u001b[0;34m(\u001b[0m\u001b[0moutput\u001b[0m\u001b[0;34m,\u001b[0m \u001b[0msrc_mask\u001b[0m\u001b[0;34m=\u001b[0m\u001b[0mmask\u001b[0m\u001b[0;34m)\u001b[0m\u001b[0;34m\u001b[0m\u001b[0;34m\u001b[0m\u001b[0m\n\u001b[1;32m    237\u001b[0m             \u001b[0;32melse\u001b[0m\u001b[0;34m:\u001b[0m\u001b[0;34m\u001b[0m\u001b[0;34m\u001b[0m\u001b[0m\n\u001b[0;32m--> 238\u001b[0;31m                 \u001b[0moutput\u001b[0m \u001b[0;34m=\u001b[0m \u001b[0mmod\u001b[0m\u001b[0;34m(\u001b[0m\u001b[0moutput\u001b[0m\u001b[0;34m,\u001b[0m \u001b[0msrc_mask\u001b[0m\u001b[0;34m=\u001b[0m\u001b[0mmask\u001b[0m\u001b[0;34m,\u001b[0m \u001b[0msrc_key_padding_mask\u001b[0m\u001b[0;34m=\u001b[0m\u001b[0msrc_key_padding_mask\u001b[0m\u001b[0;34m)\u001b[0m\u001b[0;34m\u001b[0m\u001b[0;34m\u001b[0m\u001b[0m\n\u001b[0m\u001b[1;32m    239\u001b[0m \u001b[0;34m\u001b[0m\u001b[0m\n\u001b[1;32m    240\u001b[0m         \u001b[0;32mif\u001b[0m \u001b[0mconvert_to_nested\u001b[0m\u001b[0;34m:\u001b[0m\u001b[0;34m\u001b[0m\u001b[0;34m\u001b[0m\u001b[0m\n",
      "\u001b[0;32m~/.local/lib/python3.9/site-packages/torch/nn/modules/module.py\u001b[0m in \u001b[0;36m_call_impl\u001b[0;34m(self, *input, **kwargs)\u001b[0m\n\u001b[1;32m   1128\u001b[0m         if not (self._backward_hooks or self._forward_hooks or self._forward_pre_hooks or _global_backward_hooks\n\u001b[1;32m   1129\u001b[0m                 or _global_forward_hooks or _global_forward_pre_hooks):\n\u001b[0;32m-> 1130\u001b[0;31m             \u001b[0;32mreturn\u001b[0m \u001b[0mforward_call\u001b[0m\u001b[0;34m(\u001b[0m\u001b[0;34m*\u001b[0m\u001b[0minput\u001b[0m\u001b[0;34m,\u001b[0m \u001b[0;34m**\u001b[0m\u001b[0mkwargs\u001b[0m\u001b[0;34m)\u001b[0m\u001b[0;34m\u001b[0m\u001b[0;34m\u001b[0m\u001b[0m\n\u001b[0m\u001b[1;32m   1131\u001b[0m         \u001b[0;31m# Do not call functions when jit is used\u001b[0m\u001b[0;34m\u001b[0m\u001b[0;34m\u001b[0m\u001b[0m\n\u001b[1;32m   1132\u001b[0m         \u001b[0mfull_backward_hooks\u001b[0m\u001b[0;34m,\u001b[0m \u001b[0mnon_full_backward_hooks\u001b[0m \u001b[0;34m=\u001b[0m \u001b[0;34m[\u001b[0m\u001b[0;34m]\u001b[0m\u001b[0;34m,\u001b[0m \u001b[0;34m[\u001b[0m\u001b[0;34m]\u001b[0m\u001b[0;34m\u001b[0m\u001b[0;34m\u001b[0m\u001b[0m\n",
      "\u001b[0;32m~/.local/lib/python3.9/site-packages/torch/nn/modules/transformer.py\u001b[0m in \u001b[0;36mforward\u001b[0;34m(self, src, src_mask, src_key_padding_mask)\u001b[0m\n\u001b[1;32m    461\u001b[0m             \u001b[0mx\u001b[0m \u001b[0;34m=\u001b[0m \u001b[0mx\u001b[0m \u001b[0;34m+\u001b[0m \u001b[0mself\u001b[0m\u001b[0;34m.\u001b[0m\u001b[0m_ff_block\u001b[0m\u001b[0;34m(\u001b[0m\u001b[0mself\u001b[0m\u001b[0;34m.\u001b[0m\u001b[0mnorm2\u001b[0m\u001b[0;34m(\u001b[0m\u001b[0mx\u001b[0m\u001b[0;34m)\u001b[0m\u001b[0;34m)\u001b[0m\u001b[0;34m\u001b[0m\u001b[0;34m\u001b[0m\u001b[0m\n\u001b[1;32m    462\u001b[0m         \u001b[0;32melse\u001b[0m\u001b[0;34m:\u001b[0m\u001b[0;34m\u001b[0m\u001b[0;34m\u001b[0m\u001b[0m\n\u001b[0;32m--> 463\u001b[0;31m             \u001b[0mx\u001b[0m \u001b[0;34m=\u001b[0m \u001b[0mself\u001b[0m\u001b[0;34m.\u001b[0m\u001b[0mnorm1\u001b[0m\u001b[0;34m(\u001b[0m\u001b[0mx\u001b[0m \u001b[0;34m+\u001b[0m \u001b[0mself\u001b[0m\u001b[0;34m.\u001b[0m\u001b[0m_sa_block\u001b[0m\u001b[0;34m(\u001b[0m\u001b[0mx\u001b[0m\u001b[0;34m,\u001b[0m \u001b[0msrc_mask\u001b[0m\u001b[0;34m,\u001b[0m \u001b[0msrc_key_padding_mask\u001b[0m\u001b[0;34m)\u001b[0m\u001b[0;34m)\u001b[0m\u001b[0;34m\u001b[0m\u001b[0;34m\u001b[0m\u001b[0m\n\u001b[0m\u001b[1;32m    464\u001b[0m             \u001b[0mx\u001b[0m \u001b[0;34m=\u001b[0m \u001b[0mself\u001b[0m\u001b[0;34m.\u001b[0m\u001b[0mnorm2\u001b[0m\u001b[0;34m(\u001b[0m\u001b[0mx\u001b[0m \u001b[0;34m+\u001b[0m \u001b[0mself\u001b[0m\u001b[0;34m.\u001b[0m\u001b[0m_ff_block\u001b[0m\u001b[0;34m(\u001b[0m\u001b[0mx\u001b[0m\u001b[0;34m)\u001b[0m\u001b[0;34m)\u001b[0m\u001b[0;34m\u001b[0m\u001b[0;34m\u001b[0m\u001b[0m\n\u001b[1;32m    465\u001b[0m \u001b[0;34m\u001b[0m\u001b[0m\n",
      "\u001b[0;32m~/.local/lib/python3.9/site-packages/torch/nn/modules/transformer.py\u001b[0m in \u001b[0;36m_sa_block\u001b[0;34m(self, x, attn_mask, key_padding_mask)\u001b[0m\n\u001b[1;32m    469\u001b[0m     def _sa_block(self, x: Tensor,\n\u001b[1;32m    470\u001b[0m                   attn_mask: Optional[Tensor], key_padding_mask: Optional[Tensor]) -> Tensor:\n\u001b[0;32m--> 471\u001b[0;31m         x = self.self_attn(x, x, x,\n\u001b[0m\u001b[1;32m    472\u001b[0m                            \u001b[0mattn_mask\u001b[0m\u001b[0;34m=\u001b[0m\u001b[0mattn_mask\u001b[0m\u001b[0;34m,\u001b[0m\u001b[0;34m\u001b[0m\u001b[0;34m\u001b[0m\u001b[0m\n\u001b[1;32m    473\u001b[0m                            \u001b[0mkey_padding_mask\u001b[0m\u001b[0;34m=\u001b[0m\u001b[0mkey_padding_mask\u001b[0m\u001b[0;34m,\u001b[0m\u001b[0;34m\u001b[0m\u001b[0;34m\u001b[0m\u001b[0m\n",
      "\u001b[0;32m~/.local/lib/python3.9/site-packages/torch/nn/modules/module.py\u001b[0m in \u001b[0;36m_call_impl\u001b[0;34m(self, *input, **kwargs)\u001b[0m\n\u001b[1;32m   1128\u001b[0m         if not (self._backward_hooks or self._forward_hooks or self._forward_pre_hooks or _global_backward_hooks\n\u001b[1;32m   1129\u001b[0m                 or _global_forward_hooks or _global_forward_pre_hooks):\n\u001b[0;32m-> 1130\u001b[0;31m             \u001b[0;32mreturn\u001b[0m \u001b[0mforward_call\u001b[0m\u001b[0;34m(\u001b[0m\u001b[0;34m*\u001b[0m\u001b[0minput\u001b[0m\u001b[0;34m,\u001b[0m \u001b[0;34m**\u001b[0m\u001b[0mkwargs\u001b[0m\u001b[0;34m)\u001b[0m\u001b[0;34m\u001b[0m\u001b[0;34m\u001b[0m\u001b[0m\n\u001b[0m\u001b[1;32m   1131\u001b[0m         \u001b[0;31m# Do not call functions when jit is used\u001b[0m\u001b[0;34m\u001b[0m\u001b[0;34m\u001b[0m\u001b[0m\n\u001b[1;32m   1132\u001b[0m         \u001b[0mfull_backward_hooks\u001b[0m\u001b[0;34m,\u001b[0m \u001b[0mnon_full_backward_hooks\u001b[0m \u001b[0;34m=\u001b[0m \u001b[0;34m[\u001b[0m\u001b[0;34m]\u001b[0m\u001b[0;34m,\u001b[0m \u001b[0;34m[\u001b[0m\u001b[0;34m]\u001b[0m\u001b[0;34m\u001b[0m\u001b[0;34m\u001b[0m\u001b[0m\n",
      "\u001b[0;32m~/.local/lib/python3.9/site-packages/torch/nn/modules/activation.py\u001b[0m in \u001b[0;36mforward\u001b[0;34m(self, query, key, value, key_padding_mask, need_weights, attn_mask, average_attn_weights)\u001b[0m\n\u001b[1;32m   1151\u001b[0m                 v_proj_weight=self.v_proj_weight, average_attn_weights=average_attn_weights)\n\u001b[1;32m   1152\u001b[0m         \u001b[0;32melse\u001b[0m\u001b[0;34m:\u001b[0m\u001b[0;34m\u001b[0m\u001b[0;34m\u001b[0m\u001b[0m\n\u001b[0;32m-> 1153\u001b[0;31m             attn_output, attn_output_weights = F.multi_head_attention_forward(\n\u001b[0m\u001b[1;32m   1154\u001b[0m                 \u001b[0mquery\u001b[0m\u001b[0;34m,\u001b[0m \u001b[0mkey\u001b[0m\u001b[0;34m,\u001b[0m \u001b[0mvalue\u001b[0m\u001b[0;34m,\u001b[0m \u001b[0mself\u001b[0m\u001b[0;34m.\u001b[0m\u001b[0membed_dim\u001b[0m\u001b[0;34m,\u001b[0m \u001b[0mself\u001b[0m\u001b[0;34m.\u001b[0m\u001b[0mnum_heads\u001b[0m\u001b[0;34m,\u001b[0m\u001b[0;34m\u001b[0m\u001b[0;34m\u001b[0m\u001b[0m\n\u001b[1;32m   1155\u001b[0m                 \u001b[0mself\u001b[0m\u001b[0;34m.\u001b[0m\u001b[0min_proj_weight\u001b[0m\u001b[0;34m,\u001b[0m \u001b[0mself\u001b[0m\u001b[0;34m.\u001b[0m\u001b[0min_proj_bias\u001b[0m\u001b[0;34m,\u001b[0m\u001b[0;34m\u001b[0m\u001b[0;34m\u001b[0m\u001b[0m\n",
      "\u001b[0;32m~/.local/lib/python3.9/site-packages/torch/nn/functional.py\u001b[0m in \u001b[0;36mmulti_head_attention_forward\u001b[0;34m(query, key, value, embed_dim_to_check, num_heads, in_proj_weight, in_proj_bias, bias_k, bias_v, add_zero_attn, dropout_p, out_proj_weight, out_proj_bias, training, key_padding_mask, need_weights, attn_mask, use_separate_proj_weight, q_proj_weight, k_proj_weight, v_proj_weight, static_k, static_v, average_attn_weights)\u001b[0m\n\u001b[1;32m   5177\u001b[0m     \u001b[0;31m# (deep breath) calculate attention and out projection\u001b[0m\u001b[0;34m\u001b[0m\u001b[0;34m\u001b[0m\u001b[0m\n\u001b[1;32m   5178\u001b[0m     \u001b[0;31m#\u001b[0m\u001b[0;34m\u001b[0m\u001b[0;34m\u001b[0m\u001b[0m\n\u001b[0;32m-> 5179\u001b[0;31m     \u001b[0mattn_output\u001b[0m\u001b[0;34m,\u001b[0m \u001b[0mattn_output_weights\u001b[0m \u001b[0;34m=\u001b[0m \u001b[0m_scaled_dot_product_attention\u001b[0m\u001b[0;34m(\u001b[0m\u001b[0mq\u001b[0m\u001b[0;34m,\u001b[0m \u001b[0mk\u001b[0m\u001b[0;34m,\u001b[0m \u001b[0mv\u001b[0m\u001b[0;34m,\u001b[0m \u001b[0mattn_mask\u001b[0m\u001b[0;34m,\u001b[0m \u001b[0mdropout_p\u001b[0m\u001b[0;34m)\u001b[0m\u001b[0;34m\u001b[0m\u001b[0;34m\u001b[0m\u001b[0m\n\u001b[0m\u001b[1;32m   5180\u001b[0m     \u001b[0mattn_output\u001b[0m \u001b[0;34m=\u001b[0m \u001b[0mattn_output\u001b[0m\u001b[0;34m.\u001b[0m\u001b[0mtranspose\u001b[0m\u001b[0;34m(\u001b[0m\u001b[0;36m0\u001b[0m\u001b[0;34m,\u001b[0m \u001b[0;36m1\u001b[0m\u001b[0;34m)\u001b[0m\u001b[0;34m.\u001b[0m\u001b[0mcontiguous\u001b[0m\u001b[0;34m(\u001b[0m\u001b[0;34m)\u001b[0m\u001b[0;34m.\u001b[0m\u001b[0mview\u001b[0m\u001b[0;34m(\u001b[0m\u001b[0mtgt_len\u001b[0m \u001b[0;34m*\u001b[0m \u001b[0mbsz\u001b[0m\u001b[0;34m,\u001b[0m \u001b[0membed_dim\u001b[0m\u001b[0;34m)\u001b[0m\u001b[0;34m\u001b[0m\u001b[0;34m\u001b[0m\u001b[0m\n\u001b[1;32m   5181\u001b[0m     \u001b[0mattn_output\u001b[0m \u001b[0;34m=\u001b[0m \u001b[0mlinear\u001b[0m\u001b[0;34m(\u001b[0m\u001b[0mattn_output\u001b[0m\u001b[0;34m,\u001b[0m \u001b[0mout_proj_weight\u001b[0m\u001b[0;34m,\u001b[0m \u001b[0mout_proj_bias\u001b[0m\u001b[0;34m)\u001b[0m\u001b[0;34m\u001b[0m\u001b[0;34m\u001b[0m\u001b[0m\n",
      "\u001b[0;32m~/.local/lib/python3.9/site-packages/torch/nn/functional.py\u001b[0m in \u001b[0;36m_scaled_dot_product_attention\u001b[0;34m(q, k, v, attn_mask, dropout_p)\u001b[0m\n\u001b[1;32m   4856\u001b[0m     \u001b[0mattn\u001b[0m \u001b[0;34m=\u001b[0m \u001b[0msoftmax\u001b[0m\u001b[0;34m(\u001b[0m\u001b[0mattn\u001b[0m\u001b[0;34m,\u001b[0m \u001b[0mdim\u001b[0m\u001b[0;34m=\u001b[0m\u001b[0;34m-\u001b[0m\u001b[0;36m1\u001b[0m\u001b[0;34m)\u001b[0m\u001b[0;34m\u001b[0m\u001b[0;34m\u001b[0m\u001b[0m\n\u001b[1;32m   4857\u001b[0m     \u001b[0;32mif\u001b[0m \u001b[0mdropout_p\u001b[0m \u001b[0;34m>\u001b[0m \u001b[0;36m0.0\u001b[0m\u001b[0;34m:\u001b[0m\u001b[0;34m\u001b[0m\u001b[0;34m\u001b[0m\u001b[0m\n\u001b[0;32m-> 4858\u001b[0;31m         \u001b[0mattn\u001b[0m \u001b[0;34m=\u001b[0m \u001b[0mdropout\u001b[0m\u001b[0;34m(\u001b[0m\u001b[0mattn\u001b[0m\u001b[0;34m,\u001b[0m \u001b[0mp\u001b[0m\u001b[0;34m=\u001b[0m\u001b[0mdropout_p\u001b[0m\u001b[0;34m)\u001b[0m\u001b[0;34m\u001b[0m\u001b[0;34m\u001b[0m\u001b[0m\n\u001b[0m\u001b[1;32m   4859\u001b[0m     \u001b[0;31m# (B, Nt, Ns) x (B, Ns, E) -> (B, Nt, E)\u001b[0m\u001b[0;34m\u001b[0m\u001b[0;34m\u001b[0m\u001b[0m\n\u001b[1;32m   4860\u001b[0m     \u001b[0moutput\u001b[0m \u001b[0;34m=\u001b[0m \u001b[0mtorch\u001b[0m\u001b[0;34m.\u001b[0m\u001b[0mbmm\u001b[0m\u001b[0;34m(\u001b[0m\u001b[0mattn\u001b[0m\u001b[0;34m,\u001b[0m \u001b[0mv\u001b[0m\u001b[0;34m)\u001b[0m\u001b[0;34m\u001b[0m\u001b[0;34m\u001b[0m\u001b[0m\n",
      "\u001b[0;32m~/.local/lib/python3.9/site-packages/torch/nn/functional.py\u001b[0m in \u001b[0;36mdropout\u001b[0;34m(input, p, training, inplace)\u001b[0m\n\u001b[1;32m   1250\u001b[0m     \u001b[0;32mif\u001b[0m \u001b[0mp\u001b[0m \u001b[0;34m<\u001b[0m \u001b[0;36m0.0\u001b[0m \u001b[0;32mor\u001b[0m \u001b[0mp\u001b[0m \u001b[0;34m>\u001b[0m \u001b[0;36m1.0\u001b[0m\u001b[0;34m:\u001b[0m\u001b[0;34m\u001b[0m\u001b[0;34m\u001b[0m\u001b[0m\n\u001b[1;32m   1251\u001b[0m         \u001b[0;32mraise\u001b[0m \u001b[0mValueError\u001b[0m\u001b[0;34m(\u001b[0m\u001b[0;34m\"dropout probability has to be between 0 and 1, \"\u001b[0m \u001b[0;34m\"but got {}\"\u001b[0m\u001b[0;34m.\u001b[0m\u001b[0mformat\u001b[0m\u001b[0;34m(\u001b[0m\u001b[0mp\u001b[0m\u001b[0;34m)\u001b[0m\u001b[0;34m)\u001b[0m\u001b[0;34m\u001b[0m\u001b[0;34m\u001b[0m\u001b[0m\n\u001b[0;32m-> 1252\u001b[0;31m     \u001b[0;32mreturn\u001b[0m \u001b[0m_VF\u001b[0m\u001b[0;34m.\u001b[0m\u001b[0mdropout_\u001b[0m\u001b[0;34m(\u001b[0m\u001b[0minput\u001b[0m\u001b[0;34m,\u001b[0m \u001b[0mp\u001b[0m\u001b[0;34m,\u001b[0m \u001b[0mtraining\u001b[0m\u001b[0;34m)\u001b[0m \u001b[0;32mif\u001b[0m \u001b[0minplace\u001b[0m \u001b[0;32melse\u001b[0m \u001b[0m_VF\u001b[0m\u001b[0;34m.\u001b[0m\u001b[0mdropout\u001b[0m\u001b[0;34m(\u001b[0m\u001b[0minput\u001b[0m\u001b[0;34m,\u001b[0m \u001b[0mp\u001b[0m\u001b[0;34m,\u001b[0m \u001b[0mtraining\u001b[0m\u001b[0;34m)\u001b[0m\u001b[0;34m\u001b[0m\u001b[0;34m\u001b[0m\u001b[0m\n\u001b[0m\u001b[1;32m   1253\u001b[0m \u001b[0;34m\u001b[0m\u001b[0m\n\u001b[1;32m   1254\u001b[0m \u001b[0;34m\u001b[0m\u001b[0m\n",
      "\u001b[0;31mKeyboardInterrupt\u001b[0m: "
     ]
    }
   ],
   "source": [
    "for epoch in range(10_000):\n",
    "    for vec, tgt in train_dl:\n",
    "        model.train()\n",
    "        step += 1\n",
    "\n",
    "        vec = vec.to(device)\n",
    "        tgt = voc.to_matrix(tgt).to(device)\n",
    "        \n",
    "        tgt_input = tgt[:,:-1]\n",
    "        tgt_expected = tgt[:,1:]\n",
    "        \n",
    "        src_pad_mask = get_src_pad_mask(vec, src_pad_token)\n",
    "\n",
    "        tgt_pad_mask = ~voc.compute_mask(tgt_input)\n",
    "        tgt_mask = get_tgt_mask(tgt_input.size(1)).to(device)\n",
    "\n",
    "        out = model(vec, tgt_input,\n",
    "                     tgt_mask=tgt_mask,\n",
    "                     src_pad_mask=src_pad_mask,\n",
    "                     tgt_pad_mask=tgt_pad_mask)\n",
    "        \n",
    "        out = out.permute(0, 2, 1)\n",
    "\n",
    "        loss = loss_fn(out, tgt_expected)\n",
    "\n",
    "        opt.zero_grad()\n",
    "        loss.backward()\n",
    "        opt.step()\n",
    "\n",
    "        metrics['train_loss'].append((step, loss.item()))\n",
    "        \n",
    "        if step%1000 == 0:\n",
    "            save_checkpoint(save_path,\n",
    "                            'epoch',\n",
    "                            f'{step}',\n",
    "                            model,\n",
    "                            opt,\n",
    "                            loss.item())\n",
    "            \n",
    "        if step%20 == 0:\n",
    "            model.eval()\n",
    "            clear_output()\n",
    "\n",
    "            for vec, tgt in test_dl:\n",
    "                vec = vec.to(device)\n",
    "                tgt = voc.to_matrix(tgt).to(device)\n",
    "\n",
    "                tgt_input = tgt[:,:-1]\n",
    "                tgt_expected = tgt[:,1:]\n",
    "\n",
    "                src_pad_mask = get_src_pad_mask(vec, src_pad_token)\n",
    "\n",
    "                tgt_pad_mask = ~voc.compute_mask(tgt_input)\n",
    "                tgt_mask = get_tgt_mask(tgt_input.size(1)).to(device)\n",
    "\n",
    "                out = model(vec, tgt_input,\n",
    "                             tgt_mask=tgt_mask,\n",
    "                             src_pad_mask=src_pad_mask,\n",
    "                             tgt_pad_mask=tgt_pad_mask)\n",
    "                \n",
    "                out = out.permute(0, 2, 1)\n",
    "                \n",
    "\n",
    "                test_loss = loss_fn(out, tgt_expected)\n",
    "                \n",
    "                break\n",
    "\n",
    "\n",
    "            metrics['test_loss'].append((step, test_loss.item()))\n",
    "            \n",
    "            print(f'Epoch: {epoch}, step: {step}, loss: {loss.item()}, test_loss: {test_loss.item()}')\n",
    "            plot_metrics(metrics)"
   ]
  },
  {
   "cell_type": "code",
   "execution_count": 47,
   "id": "quick-mining",
   "metadata": {},
   "outputs": [],
   "source": [
    "def sample_top_p(probs, p):\n",
    "    probs_sort, probs_idx = torch.sort(probs, dim=-1, descending=True)\n",
    "    probs_sum = torch.cumsum(probs_sort, dim=-1)\n",
    "    mask = probs_sum - probs_sort > p\n",
    "    probs_sort[mask] = 0.0\n",
    "    probs_sort.div_(probs_sort.sum(dim=-1, keepdim=True))\n",
    "    next_token = torch.multinomial(probs_sort, num_samples=1)\n",
    "    next_token = torch.gather(probs_idx, -1, next_token)\n",
    "    return next_token\n",
    "\n",
    "def predict(model, input_sequence, voc, max_length=15):\n",
    "    model.eval()\n",
    "    \n",
    "    y_input = torch.tensor([[voc.bos_ix]], dtype=torch.long, device=device)\n",
    "\n",
    "    for _ in range(max_length):\n",
    "        tgt_mask = get_tgt_mask(y_input.size(1)).to(device)\n",
    "        pred = model(input_sequence, y_input, tgt_mask)\n",
    "        \n",
    "        pred = F.softmax(pred, dim=2)\n",
    "\n",
    "        sp = sample_top_p(pred[0][-1], 0.8)\n",
    "\n",
    "        next_item = sp.unsqueeze(0).to(device)\n",
    "\n",
    "        y_input = torch.cat((y_input, next_item), dim=1)\n",
    "\n",
    "        if next_item.view(-1).item() == voc.eos_ix:\n",
    "            break\n",
    "    \n",
    "    y_input = voc.to_lines(y_input)\n",
    "\n",
    "    return y_input\n",
    "\n",
    "def decode_bpe(encoded_sentence):\n",
    "    return encoded_sentence.replace(\"@@ \", \"\").replace(\"@@\", \"\").strip()"
   ]
  },
  {
   "cell_type": "code",
   "execution_count": 48,
   "id": "trying-childhood",
   "metadata": {},
   "outputs": [
    {
     "data": {
      "image/png": "[encoded data removed]",
      "text/plain": [
       "<PIL.PngImagePlugin.PngImageFile image mode=RGBA size=149x130 at 0x7F6737D5B2B0>"
      ]
     },
     "metadata": {},
     "output_type": "display_data"
    },
    {
     "name": "stdout",
     "output_type": "stream",
     "text": [
      "['ds rings off@@ mortarboard il@@ suitcase cros@@']\n",
      "ds rings offmortarboard ilsuitcase cros\n"
     ]
    },
    {
     "data": {
      "image/png": "[encoded data removed]",
      "text/plain": [
       "<PIL.PngImagePlugin.PngImageFile image mode=RGBA size=150x150 at 0x7F6738142520>"
      ]
     },
     "metadata": {},
     "output_type": "display_data"
    },
    {
     "name": "stdout",
     "output_type": "stream",
     "text": [
      "['ct temperature arm mall mo@@ met car art@@ scan ness brain she@@ hot in@@ lding']\n",
      "ct temperature arm mall momet car artscan ness brain shehot inlding\n"
     ]
    },
    {
     "data": {
      "image/png": "[encoded data removed]",
      "text/plain": [
       "<PIL.PngImagePlugin.PngImageFile image mode=RGBA size=150x108 at 0x7F6737DDFCA0>"
      ]
     },
     "metadata": {},
     "output_type": "display_data"
    },
    {
     "name": "stdout",
     "output_type": "stream",
     "text": [
      "['dro@@ cti@@ envelope and@@ dress beh@@ ray dropper scan mer@@ snow@@ ist fire@@ o@@']\n",
      "droctienvelope anddress behray dropper scan mersnowist fireo\n"
     ]
    },
    {
     "data": {
      "image/png": "[encoded data removed]",
      "text/plain": [
       "<PIL.PngImagePlugin.PngImageFile image mode=RGBA size=137x150 at 0x7F673820BCA0>"
      ]
     },
     "metadata": {},
     "output_type": "display_data"
    },
    {
     "name": "stdout",
     "output_type": "stream",
     "text": [
      "['sign@@ pic@@ ran@@ side pause ent equipment expand mountain document document gla@@ amusement o@@ connection']\n",
      "signpicranside pause ent equipment expand mountain document document glaamusement oconnection\n"
     ]
    },
    {
     "data": {
      "image/png": "[encoded data removed]",
      "text/plain": [
       "<PIL.PngImagePlugin.PngImageFile image mode=RGBA size=150x150 at 0x7F6737DDFCD0>"
      ]
     },
     "metadata": {},
     "output_type": "display_data"
    },
    {
     "name": "stdout",
     "output_type": "stream",
     "text": [
      "['ness soda se']\n",
      "ness soda se\n"
     ]
    },
    {
     "data": {
      "image/png": "[encoded data removed]",
      "text/plain": [
       "<PIL.PngImagePlugin.PngImageFile image mode=RGBA size=149x150 at 0x7F6798192E50>"
      ]
     },
     "metadata": {},
     "output_type": "display_data"
    },
    {
     "name": "stdout",
     "output_type": "stream",
     "text": [
      "['apart@@ red stand square graph art@@ mat@@ arrows mize ght@@ garden@@ music dro@@ pat@@ badge']\n",
      "apartred stand square graph artmatarrows mize ghtgardenmusic dropatbadge\n"
     ]
    },
    {
     "data": {
      "image/png": "[encoded data removed]",
      "text/plain": [
       "<PIL.PngImagePlugin.PngImageFile image mode=RGBA size=68x150 at 0x7F673814AA00>"
      ]
     },
     "metadata": {},
     "output_type": "display_data"
    },
    {
     "name": "stdout",
     "output_type": "stream",
     "text": [
      "['es gre@@ gam@@ fashion tre@@ tification ver@@ x@@ lder ju@@ angry ca@@ ray']\n",
      "es gregamfashion tretification verxlder juangry caray\n"
     ]
    },
    {
     "data": {
      "image/png": "[encoded data removed]",
      "text/plain": [
       "<PIL.PngImagePlugin.PngImageFile image mode=RGBA size=150x135 at 0x7F673820B8E0>"
      ]
     },
     "metadata": {},
     "output_type": "display_data"
    },
    {
     "name": "stdout",
     "output_type": "stream",
     "text": [
      "['ust']\n",
      "ust\n"
     ]
    },
    {
     "data": {
      "image/png": "[encoded data removed]",
      "text/plain": [
       "<PIL.PngImagePlugin.PngImageFile image mode=RGBA size=118x150 at 0x7F6732536520>"
      ]
     },
     "metadata": {},
     "output_type": "display_data"
    },
    {
     "name": "stdout",
     "output_type": "stream",
     "text": [
      "['ent to fro@@ comb eject sun en@@ bank un@@ piggy arrows bowling view dai@@ strip']\n",
      "ent to frocomb eject sun enbank unpiggy arrows bowling view daistrip\n"
     ]
    },
    {
     "data": {
      "image/png": "[encoded data removed]",
      "text/plain": [
       "<PIL.PngImagePlugin.PngImageFile image mode=RGBA size=150x97 at 0x7F6737D5B7F0>"
      ]
     },
     "metadata": {},
     "output_type": "display_data"
    },
    {
     "name": "stdout",
     "output_type": "stream",
     "text": [
      "['er@@ rose label l@@ temper@@ sco@@ expand outline dro@@ shuffle iti@@ but@@ buttons ki@@ youtube']\n",
      "errose label ltemperscoexpand outline droshuffle itibutbuttons kiyoutube\n"
     ]
    },
    {
     "data": {
      "image/png": "[encoded data removed]",
      "text/plain": [
       "<PIL.PngImagePlugin.PngImageFile image mode=RGBA size=150x145 at 0x7F6738142970>"
      ]
     },
     "metadata": {},
     "output_type": "display_data"
    },
    {
     "name": "stdout",
     "output_type": "stream",
     "text": [
      "['']\n",
      "\n"
     ]
    },
    {
     "data": {
      "image/png": "[encoded data removed]",
      "text/plain": [
       "<PIL.PngImagePlugin.PngImageFile image mode=RGBA size=149x121 at 0x7F6734274D00>"
      ]
     },
     "metadata": {},
     "output_type": "display_data"
    },
    {
     "name": "stdout",
     "output_type": "stream",
     "text": [
      "['ding flowers dress black']\n",
      "ding flowers dress black\n"
     ]
    },
    {
     "data": {
      "image/png": "[encoded data removed]",
      "text/plain": [
       "<PIL.PngImagePlugin.PngImageFile image mode=RGBA size=142x150 at 0x7F6732536490>"
      ]
     },
     "metadata": {},
     "output_type": "display_data"
    },
    {
     "name": "stdout",
     "output_type": "stream",
     "text": [
      "['pills board brow@@ clipboard power acce@@ apart@@ buildings instrument er@@ stick 3 brow@@ employe@@ ple']\n",
      "pills board browclipboard power acceapartbuildings instrument erstick 3 browemployeple\n"
     ]
    },
    {
     "data": {
      "image/png": "[encoded data removed]",
      "text/plain": [
       "<PIL.PngImagePlugin.PngImageFile image mode=RGBA size=150x149 at 0x7F6734274AF0>"
      ]
     },
     "metadata": {},
     "output_type": "display_data"
    },
    {
     "name": "stdout",
     "output_type": "stream",
     "text": [
      "['iling off@@ cookie ve@@ pin@@ ba@@ tho@@ log black headset fireworks two in@@ multi@@ ate']\n",
      "iling offcookie vepinbatholog black headset fireworks two inmultiate\n"
     ]
    },
    {
     "data": {
      "image/png": "[encoded data removed]",
      "text/plain": [
       "<PIL.PngImagePlugin.PngImageFile image mode=RGBA size=148x150 at 0x7F67381421C0>"
      ]
     },
     "metadata": {},
     "output_type": "display_data"
    },
    {
     "name": "stdout",
     "output_type": "stream",
     "text": [
      "['bed und@@ slee@@ ba@@ pil@@ man@@ de@@ li@@ tw@@ cat@@ ill@@ sa dre@@ sham@@ scar@@']\n",
      "bed undsleebapilmandelitwcatillsa dreshamscar\n"
     ]
    },
    {
     "data": {
      "image/png": "[encoded data removed]",
      "text/plain": [
       "<PIL.PngImagePlugin.PngImageFile image mode=RGBA size=149x116 at 0x7F6737DDF040>"
      ]
     },
     "metadata": {},
     "output_type": "display_data"
    },
    {
     "name": "stdout",
     "output_type": "stream",
     "text": [
      "['button r@@ mill ys@@ ated ness hours double thermometer status brain architecture']\n",
      "button rmill ysated ness hours double thermometer status brain architecture\n"
     ]
    },
    {
     "data": {
      "image/png": "[encoded data removed]",
      "text/plain": [
       "<PIL.PngImagePlugin.PngImageFile image mode=RGBA size=150x105 at 0x7F67381428B0>"
      ]
     },
     "metadata": {},
     "output_type": "display_data"
    },
    {
     "name": "stdout",
     "output_type": "stream",
     "text": [
      "['lin@@ ran@@ airplane ornament fro@@ ves cli@@ settings price twitter bone rain estate cro@@ onal']\n",
      "linranairplane ornament froves clisettings price twitter bone rain estate croonal\n"
     ]
    },
    {
     "data": {
      "image/png": "[encoded data removed]",
      "text/plain": [
       "<PIL.PngImagePlugin.PngImageFile image mode=RGBA size=150x150 at 0x7F6738142DF0>"
      ]
     },
     "metadata": {},
     "output_type": "display_data"
    },
    {
     "name": "stdout",
     "output_type": "stream",
     "text": [
      "['k@@ gam@@ the cutting mortarboard ition door center ds wind burger cctv candy equ@@ ap@@']\n",
      "kgamthe cutting mortarboard ition door center ds wind burger cctv candy equap\n"
     ]
    },
    {
     "data": {
      "image/png": "[encoded data removed]",
      "text/plain": [
       "<PIL.PngImagePlugin.PngImageFile image mode=RGBA size=150x85 at 0x7F6737D54CD0>"
      ]
     },
     "metadata": {},
     "output_type": "display_data"
    },
    {
     "name": "stdout",
     "output_type": "stream",
     "text": [
      "['ld@@ sh tal t@@ on@@ sand tho@@ spray end@@ tation download 3 the ski@@ garden@@']\n",
      "ldsh tal tonsand thospray endtation download 3 the skigarden\n"
     ]
    }
   ],
   "source": [
    "for vec, tgt in test_dl:\n",
    "    show(vec[:1][0])\n",
    "    result = predict(model, vec[:1], voc)\n",
    "    print(result)\n",
    "    result = decode_bpe(result[0])\n",
    "    print(result)\n"
   ]
  },
  {
   "cell_type": "code",
   "execution_count": null,
   "id": "stopped-faculty",
   "metadata": {},
   "outputs": [],
   "source": [
    "\n"
   ]
  },
  {
   "cell_type": "code",
   "execution_count": null,
   "id": "later-venezuela",
   "metadata": {},
   "outputs": [],
   "source": []
  },
  {
   "cell_type": "code",
   "execution_count": null,
   "id": "great-malta",
   "metadata": {},
   "outputs": [],
   "source": []
  }
 ],
 "metadata": {
  "kernelspec": {
   "display_name": "Python 3",
   "language": "python",
   "name": "python3"
  },
  "language_info": {
   "codemirror_mode": {
    "name": "ipython",
    "version": 3
   },
   "file_extension": ".py",
   "mimetype": "text/x-python",
   "name": "python",
   "nbconvert_exporter": "python",
   "pygments_lexer": "ipython3",
   "version": "3.9.7"
  }
 },
 "nbformat": 4,
 "nbformat_minor": 5
}
